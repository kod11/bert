{
  "nbformat": 4,
  "nbformat_minor": 0,
  "metadata": {
    "colab": {
      "name": "hillary stance all 3 labels.ipynb",
      "version": "0.3.2",
      "provenance": [],
      "collapsed_sections": [],
      "toc_visible": true,
      "include_colab_link": true
    },
    "kernelspec": {
      "name": "python3",
      "display_name": "Python 3"
    },
    "accelerator": "GPU"
  },
  "cells": [
    {
      "cell_type": "markdown",
      "metadata": {
        "id": "view-in-github",
        "colab_type": "text"
      },
      "source": [
        "<a href=\"https://colab.research.google.com/github/kod11/bert/blob/master/hillary_stance_all_3_labels.ipynb\" target=\"_parent\"><img src=\"https://colab.research.google.com/assets/colab-badge.svg\" alt=\"Open In Colab\"/></a>"
      ]
    },
    {
      "metadata": {
        "id": "j0a4mTk9o1Qg",
        "colab_type": "code",
        "colab": {}
      },
      "cell_type": "code",
      "source": [
        "# Copyright 2019 Google Inc.\n",
        "\n",
        "# Licensed under the Apache License, Version 2.0 (the \"License\");\n",
        "# you may not use this file except in compliance with the License.\n",
        "# You may obtain a copy of the License at\n",
        "\n",
        "#     http://www.apache.org/licenses/LICENSE-2.0\n",
        "\n",
        "# Unless required by applicable law or agreed to in writing, software\n",
        "# distributed under the License is distributed on an \"AS IS\" BASIS,\n",
        "# WITHOUT WARRANTIES OR CONDITIONS OF ANY KIND, either express or implied.\n",
        "# See the License for the specific language governing permissions and\n",
        "# limitations under the License."
      ],
      "execution_count": 0,
      "outputs": []
    },
    {
      "metadata": {
        "id": "dCpvgG0vwXAZ",
        "colab_type": "text"
      },
      "cell_type": "markdown",
      "source": [
        "#Predicting Movie Review Sentiment with BERT on TF Hub"
      ]
    },
    {
      "metadata": {
        "id": "xiYrZKaHwV81",
        "colab_type": "text"
      },
      "cell_type": "markdown",
      "source": [
        "If you’ve been following Natural Language Processing over the past year, you’ve probably heard of BERT: Bidirectional Encoder Representations from Transformers. It’s a neural network architecture designed by Google researchers that’s totally transformed what’s state-of-the-art for NLP tasks, like text classification, translation, summarization, and question answering.\n",
        "\n",
        "Now that BERT's been added to [TF Hub](https://www.tensorflow.org/hub) as a loadable module, it's easy(ish) to add into existing Tensorflow text pipelines. In an existing pipeline, BERT can replace text embedding layers like ELMO and GloVE. Alternatively, [finetuning](http://wiki.fast.ai/index.php/Fine_tuning) BERT can provide both an accuracy boost and faster training time in many cases.\n",
        "\n",
        "Here, we'll train a model to predict whether an IMDB movie review is positive or negative using BERT in Tensorflow with tf hub. Some code was adapted from [this colab notebook](https://colab.sandbox.google.com/github/tensorflow/tpu/blob/master/tools/colab/bert_finetuning_with_cloud_tpus.ipynb). Let's get started!\n",
        "\n",
        "EDIT: all 3 labels"
      ]
    },
    {
      "metadata": {
        "id": "hsZvic2YxnTz",
        "colab_type": "code",
        "colab": {}
      },
      "cell_type": "code",
      "source": [
        "from sklearn.model_selection import train_test_split\n",
        "import pandas as pd\n",
        "import tensorflow as tf\n",
        "import tensorflow_hub as hub\n",
        "from datetime import datetime"
      ],
      "execution_count": 0,
      "outputs": []
    },
    {
      "metadata": {
        "id": "cp5wfXDx5SPH",
        "colab_type": "text"
      },
      "cell_type": "markdown",
      "source": [
        "In addition to the standard libraries we imported above, we'll need to install BERT's python package."
      ]
    },
    {
      "metadata": {
        "id": "jviywGyWyKsA",
        "colab_type": "code",
        "outputId": "5b1f85ce-8ef4-46e8-92e9-2e2470318ac3",
        "colab": {
          "base_uri": "https://localhost:8080/",
          "height": 54
        }
      },
      "cell_type": "code",
      "source": [
        "!pip install bert-tensorflow"
      ],
      "execution_count": 39,
      "outputs": [
        {
          "output_type": "stream",
          "text": [
            "Requirement already satisfied: bert-tensorflow in /usr/local/lib/python3.6/dist-packages (1.0.1)\n",
            "Requirement already satisfied: six in /usr/local/lib/python3.6/dist-packages (from bert-tensorflow) (1.11.0)\n"
          ],
          "name": "stdout"
        }
      ]
    },
    {
      "metadata": {
        "id": "hhbGEfwgdEtw",
        "colab_type": "code",
        "colab": {}
      },
      "cell_type": "code",
      "source": [
        "import bert\n",
        "from bert import run_classifier\n",
        "from bert import optimization\n",
        "from bert import tokenization"
      ],
      "execution_count": 0,
      "outputs": []
    },
    {
      "metadata": {
        "id": "KVB3eOcjxxm1",
        "colab_type": "text"
      },
      "cell_type": "markdown",
      "source": [
        "Below, we'll set an output directory location to store our model output and checkpoints. This can be a local directory, in which case you'd set OUTPUT_DIR to the name of the directory you'd like to create. If you're running this code in Google's hosted Colab, the directory won't persist after the Colab session ends.\n",
        "\n",
        "Alternatively, if you're a GCP user, you can store output in a GCP bucket. To do that, set a directory name in OUTPUT_DIR and the name of the GCP bucket in the BUCKET field.\n",
        "\n",
        "Set DO_DELETE to rewrite the OUTPUT_DIR if it exists. Otherwise, Tensorflow will load existing model checkpoints from that directory (if they exist)."
      ]
    },
    {
      "metadata": {
        "id": "US_EAnICvP7f",
        "colab_type": "code",
        "outputId": "ad54b887-c59f-4bfe-d7ea-ead02ac37e32",
        "cellView": "form",
        "colab": {
          "base_uri": "https://localhost:8080/",
          "height": 35
        }
      },
      "cell_type": "code",
      "source": [
        "# Set the output directory for saving model file\n",
        "# Optionally, set a GCP bucket location\n",
        "\n",
        "OUTPUT_DIR = 'output_directory'#@param {type:\"string\"}\n",
        "#@markdown Whether or not to clear/delete the directory and create a new one\n",
        "DO_DELETE = True #@param {type:\"boolean\"}\n",
        "#@markdown Set USE_BUCKET and BUCKET if you want to (optionally) store model output on GCP bucket.\n",
        "USE_BUCKET = False #@param {type:\"boolean\"}\n",
        "BUCKET = 'BUCKET_NAME' #@param {type:\"string\"}\n",
        "\n",
        "if USE_BUCKET:\n",
        "  OUTPUT_DIR = 'gs://{}/{}'.format(BUCKET, OUTPUT_DIR)\n",
        "  from google.colab import auth\n",
        "  auth.authenticate_user()\n",
        "\n",
        "if DO_DELETE:\n",
        "  try:\n",
        "    tf.gfile.DeleteRecursively(OUTPUT_DIR)\n",
        "  except:\n",
        "    # Doesn't matter if the directory didn't exist\n",
        "    pass\n",
        "tf.gfile.MakeDirs(OUTPUT_DIR)\n",
        "print('***** Model output directory: {} *****'.format(OUTPUT_DIR))\n"
      ],
      "execution_count": 41,
      "outputs": [
        {
          "output_type": "stream",
          "text": [
            "***** Model output directory: output_directory *****\n"
          ],
          "name": "stdout"
        }
      ]
    },
    {
      "metadata": {
        "id": "pmFYvkylMwXn",
        "colab_type": "text"
      },
      "cell_type": "markdown",
      "source": [
        "#Data"
      ]
    },
    {
      "metadata": {
        "id": "MC_w8SRqN0fr",
        "colab_type": "text"
      },
      "cell_type": "markdown",
      "source": [
        "First, let's download the dataset, hosted by Stanford. The code below, which downloads, extracts, and imports the IMDB Large Movie Review Dataset, is borrowed from [this Tensorflow tutorial](https://www.tensorflow.org/hub/tutorials/text_classification_with_tf_hub)."
      ]
    },
    {
      "metadata": {
        "id": "fom_ff20gyy6",
        "colab_type": "code",
        "colab": {}
      },
      "cell_type": "code",
      "source": [
        "from tensorflow import keras\n",
        "import os\n",
        "import re\n",
        "BERT_CASE = \"uncased\"\n",
        "\n",
        "# Load all files from a directory in a DataFrame.\n",
        "def load_directory_data(directory):\n",
        "  data = {}\n",
        "  data[\"tweet\"] = []\n",
        "  data[\"stance\"] = []\n",
        "  for file_path in os.listdir(directory):\n",
        "    with tf.gfile.GFile(os.path.join(directory, file_path), \"r\") as f:\n",
        "      data[\"tweet\"].append(f.read())\n",
        "      data[\"stance\"].append(re.match(\"\\d+_(\\d+)\\.txt\", file_path).group(1))\n",
        "  return pd.DataFrame.from_dict(data)\n",
        "\n",
        "# Merge positive and negative examples, add a polarity column and shuffle.\n",
        "def load_dataset(directory):\n",
        "  #pos_df = load_directory_data(os.path.join(directory, \"pos\"))\n",
        "  #neg_df = load_directory_data(os.path.join(directory, \"neg\"))\n",
        "  #pos_df[\"polarity\"] = 1\n",
        "  #neg_df[\"polarity\"] = 0\n",
        "  return pd.concat([pos_df, neg_df]).sample(frac=1).reset_index(drop=True)\n",
        "\n",
        "#split the id row to get the clean ids\n",
        "def split_id_row(id):\n",
        "  elements = [re.split(':',e)[1] for e in id]\n",
        "  return elements\n",
        "  \n",
        "def download_and_load_datasets():\n",
        "  target = \"hillary\"\n",
        "  #train_df = load_dataset(\"content/hillaryTrain.tsv\")\n",
        "  #test_df = load_dataset(\"content/hillaryTest.tsv\")\n",
        "  #train_df = pd.read_csv(\"hillaryTrain.tsv\", sep=\"\\t\")\n",
        "  #test_df = pd.read_csv(\"hillaryTest.tsv\", sep=\"\\t\")\n",
        "  train_df = pd.read_csv(target+\"Train.tsv\", sep=\"\\t\",encoding='latin1')\n",
        "  test_df = pd.read_csv(target+\"Test.tsv\", sep=\"\\t\",encoding='latin1')\n",
        "  train_df.columns = [\"id\",\"target\",\"tweets\",\"stance\",\"againstwho\",\"sentiment\"]\n",
        "  test_df.columns = [\"id\",\"target\",\"tweets\",\"stance\",\"againstwho\",\"sentiment\"]\n",
        "  test_df.id = [re.split(':',e)[1] for e in test_df.id]\n",
        "  print(test_df)\n",
        "  #remove rows with no stance\n",
        "  #train_df = train_df[train_df.stance != \"NONE\"]\n",
        "  #test_df = test_df[test_df.stance != \"NONE\"]\n",
        "  #shuffle\n",
        "  train_df = train_df.sample(frac=1)\n",
        "  #test_df = test_df.sample(frac=1)\n",
        "  return train_df, test_df\n"
      ],
      "execution_count": 0,
      "outputs": []
    },
    {
      "metadata": {
        "id": "2abfwdn-g135",
        "colab_type": "code",
        "colab": {
          "base_uri": "https://localhost:8080/",
          "height": 3507
        },
        "outputId": "d948dcef-1541-40ea-b11f-69fd5903756c"
      },
      "cell_type": "code",
      "source": [
        "train, test = download_and_load_datasets()"
      ],
      "execution_count": 43,
      "outputs": [
        {
          "output_type": "stream",
          "text": [
            "        id           target  \\\n",
            "0    10676  Hillary Clinton   \n",
            "1    10677  Hillary Clinton   \n",
            "2    10678  Hillary Clinton   \n",
            "3    10679  Hillary Clinton   \n",
            "4    10680  Hillary Clinton   \n",
            "5    10681  Hillary Clinton   \n",
            "6    10682  Hillary Clinton   \n",
            "7    10683  Hillary Clinton   \n",
            "8    10684  Hillary Clinton   \n",
            "9    10685  Hillary Clinton   \n",
            "10   10686  Hillary Clinton   \n",
            "11   10687  Hillary Clinton   \n",
            "12   10688  Hillary Clinton   \n",
            "13   10689  Hillary Clinton   \n",
            "14   10690  Hillary Clinton   \n",
            "15   10691  Hillary Clinton   \n",
            "16   10692  Hillary Clinton   \n",
            "17   10693  Hillary Clinton   \n",
            "18   10694  Hillary Clinton   \n",
            "19   10695  Hillary Clinton   \n",
            "20   10696  Hillary Clinton   \n",
            "21   10697  Hillary Clinton   \n",
            "22   10698  Hillary Clinton   \n",
            "23   10699  Hillary Clinton   \n",
            "24   10700  Hillary Clinton   \n",
            "25   10701  Hillary Clinton   \n",
            "26   10702  Hillary Clinton   \n",
            "27   10703  Hillary Clinton   \n",
            "28   10704  Hillary Clinton   \n",
            "29   10705  Hillary Clinton   \n",
            "..     ...              ...   \n",
            "264  10940  Hillary Clinton   \n",
            "265  10941  Hillary Clinton   \n",
            "266  10942  Hillary Clinton   \n",
            "267  10943  Hillary Clinton   \n",
            "268  10944  Hillary Clinton   \n",
            "269  10945  Hillary Clinton   \n",
            "270  10946  Hillary Clinton   \n",
            "271  10947  Hillary Clinton   \n",
            "272  10948  Hillary Clinton   \n",
            "273  10949  Hillary Clinton   \n",
            "274  10950  Hillary Clinton   \n",
            "275  10951  Hillary Clinton   \n",
            "276  10952  Hillary Clinton   \n",
            "277  10953  Hillary Clinton   \n",
            "278  10954  Hillary Clinton   \n",
            "279  10955  Hillary Clinton   \n",
            "280  10956  Hillary Clinton   \n",
            "281  10957  Hillary Clinton   \n",
            "282  10958  Hillary Clinton   \n",
            "283  10959  Hillary Clinton   \n",
            "284  10960  Hillary Clinton   \n",
            "285  10961  Hillary Clinton   \n",
            "286  10962  Hillary Clinton   \n",
            "287  10963  Hillary Clinton   \n",
            "288  10964  Hillary Clinton   \n",
            "289  10965  Hillary Clinton   \n",
            "290  10966  Hillary Clinton   \n",
            "291  10967  Hillary Clinton   \n",
            "292  10968  Hillary Clinton   \n",
            "293  10969  Hillary Clinton   \n",
            "\n",
            "                                                tweets   stance againstwho  \\\n",
            "0    @JDSon78 @AndrewBroering AndrewWhyDoYouCareAbo...  AGAINST      OTHER   \n",
            "1    The white male vote is solidly GOP. The black ...  AGAINST      OTHER   \n",
            "2    @nyinvesting big banker buds need to ratchet u...  AGAINST     TARGET   \n",
            "3    @GOP Why should I believe you on this? The GOP...  AGAINST      OTHER   \n",
            "4    @RushetteNY @TwitchyTeam Hillary to press: \"Cu...  AGAINST     TARGET   \n",
            "5    @GovtsTheProblem This is what I see: Make way ...  AGAINST     TARGET   \n",
            "6    @CNNSotu @jaketapper - Can we get back to the ...  AGAINST      OTHER   \n",
            "7    @nytimes But throws a rope around reporters an...  AGAINST     TARGET   \n",
            "8    #IfIhadAdollarFor wondering, was I that stupid...  AGAINST      OTHER   \n",
            "9    @BeladonnaRogers @Chairmnoomowmow The complian...  AGAINST      OTHER   \n",
            "10   The #HillaryCampaignSong Top 20 will be reveal...  AGAINST      OTHER   \n",
            "11   @HillaryforNH will u rope off the people too H...  AGAINST     TARGET   \n",
            "12   .@mite72 @PatVPeters NEITHER ONE!!!! Just maki...  AGAINST      OTHER   \n",
            "13   @LVNancy @incessantpatrio @bcwilliams92 Yes! #...  AGAINST     TARGET   \n",
            "14   @WoodenThreat @incessantpatrio @bcwilliams92 t...  AGAINST     TARGET   \n",
            "15   Does #hillaryclinton lie and engage in cover-u...  AGAINST      OTHER   \n",
            "16   I find allowing the deaths of Americans in Ben...  AGAINST      OTHER   \n",
            "17   @Conservativeind @cannoneerfour Lets hope!  Sh...  AGAINST     NO ONE   \n",
            "18   @DaGodfather907 @NahBabyNah If Jebb is our can...  AGAINST     TARGET   \n",
            "19   The ropes might keep people back now Hillary b...  AGAINST      OTHER   \n",
            "20   RT @harrisongolden: \"So Clinton-esque,\" Brit H...  AGAINST     TARGET   \n",
            "21   I think marriage is as it has always been, bet...  AGAINST     TARGET   \n",
            "22   @HillaryClinton Pin the tail on the DONKEY!  T...  AGAINST     TARGET   \n",
            "23   @HillarityPress @Amedicinewoman 1.Food: #Bengh...  AGAINST     TARGET   \n",
            "24   I'm 72 yrs old and ever since I was 6 yrs old ...  AGAINST      OTHER   \n",
            "25   What Are We Believing in?  BELIEVE IN VICTORY....  AGAINST     TARGET   \n",
            "26   The federal government did not create the stat...  AGAINST     NO ONE   \n",
            "27   @tracieeeeee @Irishsmiles1966 @Chloecat317 @we...  AGAINST     TARGET   \n",
            "28   Congratulations to our Women Soccer Team for j...  AGAINST      OTHER   \n",
            "29   Team USA  showed the world what American women...  AGAINST     TARGET   \n",
            "..                                                 ...      ...        ...   \n",
            "264  One wonders, if your Government ignores the la...  AGAINST     TARGET   \n",
            "265  It just depends on what the  definition of the...  AGAINST      OTHER   \n",
            "266  Spitting on clergy.  Burning the American flag...  AGAINST     TARGET   \n",
            "267  @donnabrazile @DougHeye So this woman does one...  AGAINST      OTHER   \n",
            "268  @MarkBratlien Hi Mark, thank you so much for y...     NONE      OTHER   \n",
            "269  @szabosolicitors Thanks for the follow counsel...     NONE      OTHER   \n",
            "270  @jjauthor Janie, I am honored to be followed b...     NONE      OTHER   \n",
            "271  @FaithWarJournal Thank You for the follow, may...     NONE      OTHER   \n",
            "272  @lylafmills Simple. A revolution Two Independe...  AGAINST      OTHER   \n",
            "273  So over 20 million government employees got th...  AGAINST     TARGET   \n",
            "274  The rebel flag flew off the pole & pulled trig...     NONE      OTHER   \n",
            "275  @TheAtlantic cause  #Hillary Clinton is a LYIN...  AGAINST     TARGET   \n",
            "276  @billodoux Thanks for the follow, that his by ...     NONE      OTHER   \n",
            "277  Proud of @HillaryClinton for supporting strong...    FAVOR     TARGET   \n",
            "278  So @HillaryClinton received a Subpoena to Test...  AGAINST     TARGET   \n",
            "279  I'm conservative but I must admit I'd rather s...  AGAINST     TARGET   \n",
            "280  @Braidleigh 2016 is the due year for possible ...     NONE      OTHER   \n",
            "281  @SaysMissy HRC takes us Americans for mindless...  AGAINST      OTHER   \n",
            "282  @BadgerGeno @kreichert27 @jackbahlman Too busy...     NONE      OTHER   \n",
            "283  Chelsea and her bitch mother #HillaryClinton s...  AGAINST     TARGET   \n",
            "284  Wouldn't be surprise that it comes to light th...  AGAINST     TARGET   \n",
            "285  Wouldn't be surprise that it comes to light th...  AGAINST     TARGET   \n",
            "286  The blacks cant admit that O is a failure. No,...     NONE      OTHER   \n",
            "287  <<I'm just going to be my own little self and ...     NONE     NO ONE   \n",
            "288  I think that everything she says is a lie.   I...  AGAINST     TARGET   \n",
            "289  .@HillaryClinton Looking 4ward 2 hearing your ...    FAVOR     TARGET   \n",
            "290  @mataharikrishna I'm loving it too! Draw that ...     NONE      OTHER   \n",
            "291  @finneyk Can't stand @msnbc anymore, but hope ...    FAVOR     TARGET   \n",
            "292  Hillary can't create jobs! Last time she had a...  AGAINST     TARGET   \n",
            "293  It's amazing to me how if you want a secure bo...     NONE      OTHER   \n",
            "\n",
            "    sentiment  \n",
            "0    NEGATIVE  \n",
            "1    NEGATIVE  \n",
            "2    NEGATIVE  \n",
            "3    NEGATIVE  \n",
            "4    NEGATIVE  \n",
            "5    NEGATIVE  \n",
            "6    NEGATIVE  \n",
            "7    NEGATIVE  \n",
            "8    NEGATIVE  \n",
            "9    NEGATIVE  \n",
            "10   POSITIVE  \n",
            "11   NEGATIVE  \n",
            "12   POSITIVE  \n",
            "13   NEGATIVE  \n",
            "14   NEGATIVE  \n",
            "15   NEGATIVE  \n",
            "16   NEGATIVE  \n",
            "17   NEGATIVE  \n",
            "18   NEGATIVE  \n",
            "19   NEGATIVE  \n",
            "20   NEGATIVE  \n",
            "21   NEGATIVE  \n",
            "22   NEGATIVE  \n",
            "23   NEGATIVE  \n",
            "24   POSITIVE  \n",
            "25   POSITIVE  \n",
            "26   POSITIVE  \n",
            "27   POSITIVE  \n",
            "28   POSITIVE  \n",
            "29   POSITIVE  \n",
            "..        ...  \n",
            "264  NEGATIVE  \n",
            "265   NEITHER  \n",
            "266  NEGATIVE  \n",
            "267  NEGATIVE  \n",
            "268  POSITIVE  \n",
            "269  POSITIVE  \n",
            "270  POSITIVE  \n",
            "271  POSITIVE  \n",
            "272  POSITIVE  \n",
            "273  NEGATIVE  \n",
            "274  NEGATIVE  \n",
            "275  NEGATIVE  \n",
            "276  POSITIVE  \n",
            "277  POSITIVE  \n",
            "278  NEGATIVE  \n",
            "279  NEGATIVE  \n",
            "280  POSITIVE  \n",
            "281  NEGATIVE  \n",
            "282  POSITIVE  \n",
            "283  NEGATIVE  \n",
            "284  NEGATIVE  \n",
            "285  NEGATIVE  \n",
            "286  NEGATIVE  \n",
            "287   NEITHER  \n",
            "288  NEGATIVE  \n",
            "289  POSITIVE  \n",
            "290  POSITIVE  \n",
            "291  POSITIVE  \n",
            "292  NEGATIVE  \n",
            "293  NEGATIVE  \n",
            "\n",
            "[294 rows x 6 columns]\n"
          ],
          "name": "stdout"
        }
      ]
    },
    {
      "metadata": {
        "id": "XA8WHJgzhIZf",
        "colab_type": "text"
      },
      "cell_type": "markdown",
      "source": [
        "To keep training fast, we'll take a sample of 5000 train and test examples, respectively."
      ]
    },
    {
      "metadata": {
        "id": "lw_F488eixTV",
        "colab_type": "code",
        "colab": {}
      },
      "cell_type": "code",
      "source": [
        "#train = train.sample(5000)\n",
        "#test = test.sample(5000)"
      ],
      "execution_count": 0,
      "outputs": []
    },
    {
      "metadata": {
        "id": "prRQM8pDi8xI",
        "colab_type": "code",
        "outputId": "242ecfce-0213-425c-b320-279333ee8ca8",
        "colab": {
          "base_uri": "https://localhost:8080/",
          "height": 11735
        }
      },
      "cell_type": "code",
      "source": [
        "train.columns\n",
        "test.columns\n",
        "print(train.to_string())"
      ],
      "execution_count": 45,
      "outputs": [
        {
          "output_type": "stream",
          "text": [
            "            id           target                                             tweets   stance againstwho sentiment\n",
            "68   1643:1742  Hillary Clinton  marijuana? marijuaage equality?? coincidence i...     NONE      OTHER  NEGATIVE\n",
            "489  2065:2164  Hillary Clinton  @HillaryClinton will be the nominee for the De...  AGAINST      OTHER  POSITIVE\n",
            "620  2196:2295  Hillary Clinton  Hilly & Barry's Bloody Benghazi Bamboozle #Hil...  AGAINST     TARGET  NEGATIVE\n",
            "456  2032:2131  Hillary Clinton  How anyone can believe a single word that come...  AGAINST      OTHER  NEGATIVE\n",
            "357  1933:2032  Hillary Clinton  Dick Morris: @HillaryClinton is \"fundamentally...  AGAINST     TARGET  NEGATIVE\n",
            "117  1692:1791  Hillary Clinton  @NatureGuy101 @MaryMorientes   Support encoura...    FAVOR     TARGET  POSITIVE\n",
            "40   1615:1714  Hillary Clinton  @thehill @evanperez are you kidding me...leave...    FAVOR     TARGET  NEGATIVE\n",
            "88   1663:1762  Hillary Clinton  Gov. Chafee, why are you trying to make fetch ...     NONE      OTHER  NEGATIVE\n",
            "33   1608:1707  Hillary Clinton  This is not her first time at the rodeo!  @Hil...    FAVOR     TARGET  POSITIVE\n",
            "205  1781:1880  Hillary Clinton  Hilary has lied, deleted Benghazi emails, and ...  AGAINST     TARGET  NEGATIVE\n",
            "84   1659:1758  Hillary Clinton             I'm going to apply for the Intern job      NONE     NO ONE  POSITIVE\n",
            "594  2170:2269  Hillary Clinton  @JOEL5H @wonderfullone @Bipartisanism I hear t...  AGAINST     TARGET  POSITIVE\n",
            "610  2186:2285  Hillary Clinton  YAAAS, Hillary! @TsarRhys wins best dressed he...  AGAINST      OTHER  POSITIVE\n",
            "107  1682:1781  Hillary Clinton  I'm thinking #Hillary throws #Chelsea under th...  AGAINST     TARGET  NEGATIVE\n",
            "474  2050:2149  Hillary Clinton  Hillary's campaign raised $45 million  91% of ...  AGAINST     TARGET  POSITIVE\n",
            "223  1799:1898  Hillary Clinton  @LeighStorz @jstines3 Totally agree, Hillary i...  AGAINST     TARGET  NEGATIVE\n",
            "308  1884:1983  Hillary Clinton  I am just full of myself tonight  #tofunny #fu...     NONE      OTHER  POSITIVE\n",
            "545  2121:2220  Hillary Clinton  @chicagotribune #ayyylmao do #Democrats & othe...  AGAINST     TARGET  NEGATIVE\n",
            "379  1955:2054  Hillary Clinton  I guarantee Hillary could care less about blac...  AGAINST     TARGET  NEGATIVE\n",
            "41   1616:1715  Hillary Clinton  Congratulations @HillaryClinton on entering th...    FAVOR     TARGET  POSITIVE\n",
            "377  1953:2052  Hillary Clinton  @voxdotcom   #wgn #WGNTV - now mentions ROMNEY...     NONE     NO ONE  NEGATIVE\n",
            "508  2084:2183  Hillary Clinton  @AutumnNAlston @JonathanDKF @_sarah_babb_ @McC...  AGAINST      OTHER  POSITIVE\n",
            "86   1661:1760  Hillary Clinton  @46drhouse - Be interesting to see how Hillary...  AGAINST     TARGET  NEGATIVE\n",
            "264  1840:1939  Hillary Clinton  I called everyone I knew and raised $17,000 fr...     NONE      OTHER  NEGATIVE\n",
            "498  2074:2173  Hillary Clinton  Take it easy Ed, #BernieSanders is a side show...  AGAINST      OTHER  NEGATIVE\n",
            "451  2027:2126  Hillary Clinton  @liars_never_win @HillaryClinton shhh, go get ...  AGAINST     TARGET  NEGATIVE\n",
            "453  2029:2128  Hillary Clinton  #Christie2016 you can't claim #Bridgegate wasn...  AGAINST      OTHER  NEGATIVE\n",
            "153  1728:1827  Hillary Clinton  Hillary Clinton vs. Bernie Sanders primary wil...    FAVOR     TARGET  NEGATIVE\n",
            "258  1834:1933  Hillary Clinton  @gerfingerpoken2 he made a careless mistake, s...  AGAINST     TARGET  NEGATIVE\n",
            "228  1804:1903  Hillary Clinton  Donald Trump is a joke. His a simpleminded idi...     NONE      OTHER  NEGATIVE\n",
            "341  1917:2016  Hillary Clinton  I hate Hillary Clinton and Obama, please go di...  AGAINST     TARGET  NEGATIVE\n",
            "295  1871:1970  Hillary Clinton  @megynkelly anytime a liberal throws around wo...     NONE      OTHER  NEGATIVE\n",
            "296  1872:1971  Hillary Clinton  @BuffaloBill71 @AramisFraino @pamnsc  Thank yo...     NONE      OTHER  POSITIVE\n",
            "463  2039:2138  Hillary Clinton  So you're used to the @AP calling for your app...  AGAINST     TARGET  NEGATIVE\n",
            "261  1837:1936  Hillary Clinton  My liberty depends on you being free too. Pres...     NONE      OTHER  POSITIVE\n",
            "189  1765:1864  Hillary Clinton  @jstines3 @WoodenThreat Open mouth, reveal hea...  AGAINST     TARGET  NEGATIVE\n",
            "596  2172:2271  Hillary Clinton  Great comments by @MittRomney about pathologic...  AGAINST     TARGET  POSITIVE\n",
            "225  1801:1900  Hillary Clinton  @FoxNews report shows U.S. State Department ca...  AGAINST     TARGET  NEGATIVE\n",
            "262  1838:1937  Hillary Clinton  @NRO Does @johnpodesta have any grasp on reali...     NONE      OTHER  NEGATIVE\n",
            "159  1735:1834  Hillary Clinton  @Norsu2 secret Clinton docs? gee WHAT a surpri...  AGAINST     TARGET  NEGATIVE\n",
            "51   1626:1725  Hillary Clinton  Apparently, putting cocaine in someone's butth...     NONE     NO ONE  NEGATIVE\n",
            "578  2154:2253  Hillary Clinton  @oreillyfactor Who gives a rate ass what a Old...     NONE      OTHER  NEGATIVE\n",
            "443  2019:2118  Hillary Clinton  #BENGHAZI WAIT DID I SAY \"THANK GOD?\" VOTERS? ...  AGAINST      OTHER  NEGATIVE\n",
            "470  2046:2145  Hillary Clinton  Now that #Hillary is raising money like an inc...  AGAINST     TARGET  NEGATIVE\n",
            "553  2129:2228  Hillary Clinton  @Babbsgirl2 \"@HillaryClinton can't even manage...  AGAINST     TARGET  NEGATIVE\n",
            "2    1577:1676  Hillary Clinton  @StateDept @AmbCathyRussell @AdamSmith_USA @Hi...    FAVOR     TARGET  POSITIVE\n",
            "621  2197:2296  Hillary Clinton  @NumbersMuncher @HillaryClinton She's the anim...  AGAINST     TARGET  NEGATIVE\n",
            "547  2123:2222  Hillary Clinton  @Network_Citizen @ProudInfidel33 @YoungBLKRepu...  AGAINST     TARGET  NEGATIVE\n",
            "202  1778:1877  Hillary Clinton  Laughing at the Republican Party. The BEST the...    FAVOR     TARGET  NEGATIVE\n",
            "215  1791:1890  Hillary Clinton  @HillaryClinton literally the greatest video I...    FAVOR     TARGET  POSITIVE\n",
            "376  1952:2051  Hillary Clinton  Never vote for @RickSantorum \"for the survival...     NONE      OTHER  NEGATIVE\n",
            "420  1996:2095  Hillary Clinton  @CorrectRecord is quite obsessed with emails a...  AGAINST     TARGET  NEGATIVE\n",
            "598  2174:2273  Hillary Clinton  @realDonaldTrump is the only honest voice of t...  AGAINST     TARGET  POSITIVE\n",
            "101  1676:1775  Hillary Clinton  I'd love for some reporter to ask, \"Sec Clinto...  AGAINST     TARGET  NEGATIVE\n",
            "613  2189:2288  Hillary Clinton  Why does the \" shit barometer \" always rise wh...  AGAINST     TARGET  NEGATIVE\n",
            "119  1694:1793  Hillary Clinton  Before leaving my dad's I took the liberty in ...    FAVOR     NO ONE  POSITIVE\n",
            "622  2198:2297  Hillary Clinton  @redsteeze:  Broke, as in Dead broke\" Elitist ...  AGAINST     TARGET  NEGATIVE\n",
            "407  1983:2082  Hillary Clinton  @marcorubio will not let our enemies take adva...  AGAINST     TARGET  POSITIVE\n",
            "522  2098:2197  Hillary Clinton  It's great that @JebBush supports GMO crops. I...  AGAINST      OTHER  POSITIVE\n",
            "59   1634:1733  Hillary Clinton  @JSavoly @tedcruz Here ya go teddy boy..the wo...     NONE      OTHER  NEGATIVE\n",
            "493  2069:2168  Hillary Clinton  LOOKING FORWARD TO #CUBA EXPANDING MAJOR EXPOR...  AGAINST     TARGET  POSITIVE\n",
            "611  2187:2286  Hillary Clinton  The Dukes of Hazzard has been on tv for 36 yea...  AGAINST      OTHER  NEGATIVE\n",
            "177  1753:1852  Hillary Clinton  @JohnKerry @BALWANIKAPIL @HillaryClinton @Stat...  AGAINST     TARGET  NEGATIVE\n",
            "482  2058:2157  Hillary Clinton  .@FoxNews @brithume ok.. So where are these em...  AGAINST     TARGET  NEGATIVE\n",
            "540  2116:2215  Hillary Clinton  Was asked by @HillaryClinton to help with her ...    FAVOR     TARGET  POSITIVE\n",
            "151  1726:1825  Hillary Clinton  I think I am going to vote for Monica Lewinsky...    FAVOR     TARGET  NEGATIVE\n",
            "291  1867:1966  Hillary Clinton  Let's bring prosperity to the line workers & t...    FAVOR     TARGET  POSITIVE\n",
            "476  2052:2151  Hillary Clinton  .@NewtGingrich on @HillaryClinton: \"She's very...  AGAINST     TARGET  POSITIVE\n",
            "597  2173:2272  Hillary Clinton  I wish Bernie's fans would stop screaming. #Be...  AGAINST      OTHER  NEGATIVE\n",
            "249  1825:1924  Hillary Clinton  Thank you @HillaryClinton for your support of ...    FAVOR     TARGET  POSITIVE\n",
            "551  2127:2226  Hillary Clinton  @RedStateJake \"@HillaryClinton can't even mana...  AGAINST     TARGET  NEGATIVE\n",
            "239  1815:1914  Hillary Clinton  I'm in a better place now that I got some coff...     NONE      OTHER  POSITIVE\n",
            "454  2030:2129  Hillary Clinton  @Debber66 @andersonDrLJA She will be a  #Cente...  AGAINST      OTHER  NEGATIVE\n",
            "365  1941:2040  Hillary Clinton  @dhz26 I love a good sale. Money well spent. 2...     NONE      OTHER  POSITIVE\n",
            "230  1806:1905  Hillary Clinton  @HillaryClinton said #AllLivesMatter just like...  AGAINST     TARGET  NEGATIVE\n",
            "27   1602:1701  Hillary Clinton  @HillaryClinton is at the top, and has spent h...  AGAINST     TARGET  NEGATIVE\n",
            "344  1920:2019  Hillary Clinton  @lbush34 @HillaryClinton just defending my gir...    FAVOR     TARGET  POSITIVE\n",
            "110  1685:1784  Hillary Clinton  In case of Emergency, Push THIS BUTTON to scru...     NONE     NO ONE   NEITHER\n",
            "348  1924:2023  Hillary Clinton  @LibtardLimbaugh @Mex38Tex @NRO Thanks so much...     NONE     NO ONE  POSITIVE\n",
            "605  2181:2280  Hillary Clinton  @greta What #Bernie2016 has done is work for D...  AGAINST      OTHER  POSITIVE\n",
            "192  1768:1867  Hillary Clinton  #HillaryClinton is hiring #Monsanto lawyers to...  AGAINST     TARGET  NEGATIVE\n",
            "521  2097:2196  Hillary Clinton  It's what's best for business and presidential...  AGAINST      OTHER  POSITIVE\n",
            "299  1875:1974  Hillary Clinton  SLOWLY SLOWLY THE DEBT CRISIS WILL IMPLODE NAT...     NONE      OTHER  NEGATIVE\n",
            "602  2178:2277  Hillary Clinton  @clantro @jjauthor @CarmineZozzora  Why not, t...  AGAINST      OTHER  NEGATIVE\n",
            "370  1946:2045  Hillary Clinton  Night, sleep tight, don't let Hillary bite. sa...  AGAINST     TARGET  NEGATIVE\n",
            "618  2194:2293  Hillary Clinton  I support Bernie on account USA needs a new di...  AGAINST     TARGET  POSITIVE\n",
            "63   1638:1737  Hillary Clinton  @senna1 @KirillWasHere how many men are gettin...     NONE      OTHER  NEGATIVE\n",
            "563  2139:2238  Hillary Clinton  @politico  \"@HillaryClinton can't even manage ...  AGAINST     TARGET  NEGATIVE\n",
            "149  1724:1823  Hillary Clinton  @HillaryClinton Did your rich Saudi donors, wh...  AGAINST     TARGET  NEGATIVE\n",
            "28   1603:1702  Hillary Clinton  Problem with #libertarian is it's not even a d...     NONE      OTHER  NEGATIVE\n",
            "197  1773:1872  Hillary Clinton  It's good that after 30 years in public servic...  AGAINST     TARGET  NEGATIVE\n",
            "535  2111:2210  Hillary Clinton  EVERYDAY AMERICANS AND THEIR FAMILIES NEED A C...    FAVOR     TARGET  POSITIVE\n",
            "100  1675:1774  Hillary Clinton  Nothing says \"I'm Every Woman\" like 10 Democra...  AGAINST     TARGET  NEGATIVE\n",
            "534  2110:2209  Hillary Clinton  #HILLARY has been lying for so long that her f...  AGAINST     TARGET  NEGATIVE\n",
            "31   1606:1705  Hillary Clinton  So when all you brave patriots stop Hillary, w...    FAVOR     TARGET  NEGATIVE\n",
            "26   1601:1700  Hillary Clinton  Lol why do so many people around here hate Hil...    FAVOR     TARGET  NEGATIVE\n",
            "284  1860:1959  Hillary Clinton  Sen. Kaine (D-VA) on #SCOTUSMarriage: \"What a ...     NONE      OTHER  POSITIVE\n",
            "269  1845:1944  Hillary Clinton  @thegirlwithfood though. But there are people ...     NONE      OTHER  NEGATIVE\n",
            "204  1780:1879  Hillary Clinton  Just met an awesome supporter on the CX bus! H...    FAVOR     TARGET  POSITIVE\n",
            "93   1668:1767  Hillary Clinton  @FoundersGirl @Artist_Angie I want the first f...  AGAINST     TARGET  POSITIVE\n",
            "298  1874:1973  Hillary Clinton  @realDonaldTrump WHY IS IT THAT YOUR CLOTHING ...     NONE      OTHER  NEGATIVE\n",
            "213  1789:1888  Hillary Clinton  Excited to be working with some great #Fellows...     NONE      OTHER  POSITIVE\n",
            "60   1635:1734  Hillary Clinton        @JusticeWillett at least he has a platform      NONE      OTHER  POSITIVE\n",
            "321  1897:1996  Hillary Clinton  @HillaryClinton Where are the #LGBT pride cond...  AGAINST     TARGET  NEGATIVE\n",
            "238  1814:1913  Hillary Clinton  My vote is definitely for Hillary. I don't wan...    FAVOR     TARGET   NEITHER\n",
            "130  1705:1804  Hillary Clinton  Obama:  climate change or bush?  Who to blame....  AGAINST     TARGET  NEGATIVE\n",
            "0    1575:1674  Hillary Clinton  @Chris_1791 @newsbusters 2 years ago #Hillary ...  AGAINST     TARGET  NEGATIVE\n",
            "574  2150:2249  Hillary Clinton  #Putin, #NothingMoreAmericanThan voting for a ...  AGAINST     TARGET  NEGATIVE\n",
            "163  1739:1838  Hillary Clinton  .@GoldenTalon @johnmanko @CassandraRules  On t...    FAVOR     TARGET  NEGATIVE\n",
            "25   1600:1699  Hillary Clinton  Does Hillary really need to run this country? ...  AGAINST     TARGET  NEGATIVE\n",
            "375  1951:2050  Hillary Clinton  @awj9009 not at all I think the statute of lim...     NONE      OTHER   NEITHER\n",
            "631  2207:2306  Hillary Clinton  @nytimes was that \"awkwardness\" or \"awfulness\"...  AGAINST      OTHER  NEGATIVE\n",
            "483  2059:2158  Hillary Clinton  I dreamt about Hilary Clinton last night. Does...  AGAINST     TARGET  NEGATIVE\n",
            "589  2165:2264  Hillary Clinton  #SOCIALMEDIA is NOT for #sociopaths & #psychop...     NONE      OTHER  NEGATIVE\n",
            "595  2171:2270  Hillary Clinton  At least the few mistakes made by @GOP candida...  AGAINST     TARGET  NEGATIVE\n",
            "227  1803:1902  Hillary Clinton  I really need my new @HillaryClinton shirt to ...    FAVOR     TARGET  POSITIVE\n",
            "145  1720:1819  Hillary Clinton  297 days until I can register to vote!!1 year ...    FAVOR     TARGET  POSITIVE\n",
            "82   1657:1756  Hillary Clinton  @AlyssSmithh There she is pant suite Hillary t...  AGAINST     TARGET  NEGATIVE\n",
            "585  2161:2260  Hillary Clinton  Norman Hsu illegally donated $850,000 to @Hill...  AGAINST     TARGET  NEGATIVE\n",
            "114  1689:1788  Hillary Clinton        I bet Leslie Knope would be so happy about     FAVOR     TARGET  POSITIVE\n",
            "301  1877:1976  Hillary Clinton  @HRCSnowShovel it must be hard work burying th...  AGAINST     TARGET  NEGATIVE\n",
            "57   1632:1731  Hillary Clinton  @ProBirdRights: I do a stump speech. It on the...     NONE     NO ONE   NEITHER\n",
            "326  1902:2001  Hillary Clinton       @gerfingerpoken @jjauthor one can only hope      NONE     NO ONE  POSITIVE\n",
            "496  2072:2171  Hillary Clinton  @jhewitt1280 @SpeakerBoehner @HouseBenghazi @T...  AGAINST      OTHER  NEGATIVE\n",
            "612  2188:2287  Hillary Clinton  .@HillaryClinton The spatula seems appropriate...  AGAINST      OTHER  NEGATIVE\n",
            "143  1718:1817  Hillary Clinton  @HillaryClinton Says the millionaire politicia...  AGAINST     TARGET  NEGATIVE\n",
            "277  1853:1952  Hillary Clinton  Moving forward, our next focus should be makin...     NONE      OTHER  POSITIVE\n",
            "44   1619:1718  Hillary Clinton  I want to go back in time to when men and wome...     NONE      OTHER  NEGATIVE\n",
            "267  1843:1942  Hillary Clinton  @politico Remember when millions of GWBush's e...     NONE      OTHER  NEGATIVE\n",
            "561  2137:2236  Hillary Clinton  @oreillyfactor \"@HillaryClinton can't even man...  AGAINST     TARGET  NEGATIVE\n",
            "465  2041:2140  Hillary Clinton  It's more than mistakes...with #HillaryClinton...  AGAINST     TARGET  NEGATIVE\n",
            "332  1908:2007  Hillary Clinton  One of Hillary Clinton's biggest idols is Marg...  AGAINST     TARGET  NEGATIVE\n",
            "30   1605:1704  Hillary Clinton           Hillary Clinton for Ambassador to ISIS.   AGAINST     TARGET  NEGATIVE\n",
            "146  1721:1820  Hillary Clinton  THEYRE NOT \"THUGS\"  YOU #TEAPARTY RACISTS THEY...     NONE      OTHER  NEGATIVE\n",
            "472  2048:2147  Hillary Clinton  Free market capitalism is America's best frien...  AGAINST      OTHER  POSITIVE\n",
            "150  1725:1824  Hillary Clinton  Also, I finally moved to @FDCITY today! Will b...     NONE      OTHER  POSITIVE\n",
            "45   1620:1719  Hillary Clinton  RT @hale_razor:#HillaryAccomplishments 1 of se...  AGAINST     TARGET  NEGATIVE\n",
            "340  1916:2015  Hillary Clinton           @koolkat14215 Haha, I LOVE your header!      NONE      OTHER  POSITIVE\n",
            "459  2035:2134  Hillary Clinton  The owner of Univisin, donated as much as $25 ...  AGAINST     TARGET  NEGATIVE\n",
            "538  2114:2213  Hillary Clinton  #CPC thinks they can run antisocial personal a...     NONE      OTHER  NEGATIVE\n",
            "411  1987:2086  Hillary Clinton  @HillaryClinton > since trickle down economics...  AGAINST     TARGET  NEGATIVE\n",
            "386  1962:2061  Hillary Clinton  Do you know what would REALLY PISS .@HillaryCl...  AGAINST     TARGET  NEGATIVE\n",
            "424  2000:2099  Hillary Clinton  @FoxNews we just have to hang in there long en...  AGAINST      OTHER  NEGATIVE\n",
            "635  2211:2310  Hillary Clinton  If you cant dazzle them with brilliance, baffl...  AGAINST      OTHER  NEGATIVE\n",
            "209  1785:1884  Hillary Clinton  @jilevin @strumpetcity Yes. You make me proud....     NONE      OTHER  POSITIVE\n",
            "555  2131:2230  Hillary Clinton  @weknowwhatsbest \"@HillaryClinton can't even m...  AGAINST     TARGET  NEGATIVE\n",
            "185  1761:1860  Hillary Clinton  As late as 2013 #HillaryClinton opposed marria...  AGAINST     TARGET  NEGATIVE\n",
            "131  1706:1805  Hillary Clinton  Wasn't the original #ScoobyVan also full of un...  AGAINST     TARGET  NEGATIVE\n",
            "579  2155:2254  Hillary Clinton  So excited to hear @HillaryClinton speak here ...    FAVOR     TARGET  POSITIVE\n",
            "509  2085:2184  Hillary Clinton  @hughhewitt like I tweeted you way back when, ...  AGAINST      OTHER  NEGATIVE\n",
            "214  1790:1889  Hillary Clinton  Federal gov't social spending 61% of budget. F...     NONE      OTHER  NEGATIVE\n",
            "378  1954:2053  Hillary Clinton          @BDabs888 let's go shoot your now today.      NONE     NO ONE  NEGATIVE\n",
            "632  2208:2307  Hillary Clinton  Today's number is 8! That's how many years old...  AGAINST      OTHER  POSITIVE\n",
            "512  2088:2187  Hillary Clinton  @RobBently @JonahNRO @BernieSanders Hillary ca...  AGAINST      OTHER  NEGATIVE\n",
            "539  2115:2214  Hillary Clinton  @CBSThisMorning Bernie Sanders had record crow...     NONE      OTHER   NEITHER\n",
            "552  2128:2227  Hillary Clinton  @gerfingerpoken Why is this woman like teflon?...  AGAINST     TARGET  NEGATIVE\n",
            "499  2075:2174  Hillary Clinton  The Kool-Aid drinking leftanistas continue to ...  AGAINST      OTHER  NEGATIVE\n",
            "351  1927:2026  Hillary Clinton  @Reince Facts confirm what we knew. Used serve...  AGAINST     TARGET  NEGATIVE\n",
            "372  1948:2047  Hillary Clinton  Why is HRC so popular?  This deceptive sociali...  AGAINST     TARGET  NEGATIVE\n",
            "350  1926:2025  Hillary Clinton  @JebBush Here are my thoughts on the ruling: k...     NONE      OTHER  NEGATIVE\n",
            "136  1711:1810  Hillary Clinton  The only thing that I would pay money for is t...  AGAINST     TARGET  NEGATIVE\n",
            "148  1723:1822  Hillary Clinton  @HillaryClinton loving the new colorful profil...    FAVOR     TARGET  POSITIVE\n",
            "444  2020:2119  Hillary Clinton  @pikester45 Exactly what I don't want to see h...  AGAINST      OTHER  NEGATIVE\n",
            "452  2028:2127  Hillary Clinton  @FoxNews @GovChristie @HillaryClinton Actually...  AGAINST      OTHER  NEGATIVE\n",
            "586  2162:2261  Hillary Clinton  @kryptickaos_ I would have to agree, but I wou...     NONE      OTHER   NEITHER\n",
            "79   1654:1753  Hillary Clinton  @WhiteHouse @BarackObama @HillaryforIA @Barack...    FAVOR     TARGET  POSITIVE\n",
            "116  1691:1790  Hillary Clinton  @readyforHRC   Support encourage #HillaryClint...    FAVOR     TARGET  POSITIVE\n",
            "450  2026:2125  Hillary Clinton  How can we expect u to make good financial dec...  AGAINST      OTHER  NEGATIVE\n",
            "401  1977:2076  Hillary Clinton  Apparently, @BernieSanders fans don't like to ...    FAVOR     TARGET  NEGATIVE\n",
            "448  2024:2123  Hillary Clinton  The guy in the multicolored shirt looks chi as...  AGAINST     TARGET  POSITIVE\n",
            "349  1925:2024  Hillary Clinton  I got it! I got it!   A Hillary accomplishment...  AGAINST     TARGET  NEGATIVE\n",
            "486  2062:2161  Hillary Clinton      Dude, why can't Hillary run a fax machine?     AGAINST     TARGET  NEGATIVE\n",
            "367  1943:2042  Hillary Clinton  Bernie or Hillary? Prefer Bernie but Hillary f...    FAVOR     TARGET  POSITIVE\n",
            "388  1964:2063  Hillary Clinton  Bad punning gets worse, not better, over time....     NONE      OTHER  NEGATIVE\n",
            "165  1741:1840  Hillary Clinton  @Slate This is why Rand Paul will never be POT...     NONE      OTHER  NEGATIVE\n",
            "479  2055:2154  Hillary Clinton  @docdebags @awelab1956 @BuzzFeedAndrew @BuzzFe...  AGAINST      OTHER  NEGATIVE\n",
            "113  1688:1787  Hillary Clinton  @readyforHRC @HillaryClinton  Support encourag...    FAVOR     TARGET  POSITIVE\n",
            "234  1810:1909  Hillary Clinton  @clairecmc @RosieGray is that why she and @Cli...  AGAINST     TARGET  NEGATIVE\n",
            "524  2100:2199  Hillary Clinton  If you need me I'll be screaming like a little...  AGAINST     TARGET  NEGATIVE\n",
            "263  1839:1938  Hillary Clinton  @JewboyDonny oh I know he won't he effed himse...     NONE      OTHER  NEGATIVE\n",
            "121  1696:1795  Hillary Clinton  RT .@ChuckNellis  .@HillaryClinton name change...  AGAINST     TARGET  NEGATIVE\n",
            "73   1648:1747  Hillary Clinton  Much like you good people I forgot about my #l...     NONE      OTHER  POSITIVE\n",
            "495  2071:2170  Hillary Clinton  #AskPOTUS Would you fire the #GOP congress for...  AGAINST      OTHER  NEGATIVE\n",
            "186  1762:1861  Hillary Clinton  @thehill all the more reason to vote #Democrat...    FAVOR      OTHER  POSITIVE\n",
            "546  2122:2221  Hillary Clinton  @betheljd Thanks for the follow David, may God...     NONE      OTHER  POSITIVE\n",
            "147  1722:1821  Hillary Clinton  Hillary will get past the primaries cause Dem ...  AGAINST     TARGET  NEGATIVE\n",
            "432  2008:2107  Hillary Clinton  U Missouri at KC got Chelsea caus Hils cost to...  AGAINST      OTHER  NEGATIVE\n",
            "53   1628:1727  Hillary Clinton  Chipotle employees shouldn't complain Hillary ...  AGAINST     TARGET  NEGATIVE\n",
            "428  2004:2103  Hillary Clinton  Great day in Emmetsburg meeting with #HillaryC...  AGAINST     TARGET  POSITIVE\n",
            "242  1818:1917  Hillary Clinton  @GideonHenry First SCOTUS reaffirms Obamacare,...     NONE      OTHER  NEGATIVE\n",
            "425  2001:2100  Hillary Clinton  #AskBobby would you blame an obscure film make...  AGAINST     TARGET  NEGATIVE\n",
            "441  2017:2116  Hillary Clinton  @megynkelly Hahahaha combed through emails!!! ...  AGAINST     TARGET  NEGATIVE\n",
            "179  1755:1854  Hillary Clinton  RT @FutureTXLeader: Are y'all at #UTEP ready f...     NONE      OTHER  POSITIVE\n",
            "387  1963:2062  Hillary Clinton  Is there a Govt restart button? Someone needs ...     NONE      OTHER  NEGATIVE\n",
            "393  1969:2068  Hillary Clinton  It's Monday night,do you know where your Hilla...    FAVOR     TARGET  POSITIVE\n",
            "252  1828:1927  Hillary Clinton  @CBSThisMorning Emails missing and incomplete?...  AGAINST     TARGET  NEGATIVE\n",
            "322  1898:1997  Hillary Clinton  Fox News predicting 3 way marriage-gee we have...     NONE      OTHER  NEGATIVE\n",
            "516  2092:2191  Hillary Clinton  Kind of scares me that there are still thousan...  AGAINST     TARGET  NEGATIVE\n",
            "287  1863:1962  Hillary Clinton  You're a idiot if you vote for Hillary, her an...  AGAINST     TARGET  NEGATIVE\n",
            "201  1777:1876  Hillary Clinton  #ThingsYouDontSayAsAPolitician  I don't feel n...     NONE      OTHER  NEGATIVE\n",
            "404  1980:2079  Hillary Clinton  I think it's funny people think Bernie can tak...    FAVOR     TARGET  NEGATIVE\n",
            "49   1624:1723  Hillary Clinton  Hillary's campaign events are scripted dog & p...  AGAINST     TARGET  NEGATIVE\n",
            "190  1766:1865  Hillary Clinton  I'm still so happy my voter ID came in the mail       NONE      OTHER  POSITIVE\n",
            "335  1911:2010  Hillary Clinton  I need @JamesCarville & @HillaryClinton to sto...    FAVOR     TARGET   NEITHER\n",
            "95   1670:1769  Hillary Clinton  How much was Monica getting paid when Bill's b...  AGAINST      OTHER  NEGATIVE\n",
            "560  2136:2235  Hillary Clinton  @politico @anniekarni \"@HillaryClinton can't e...  AGAINST     TARGET  NEGATIVE\n",
            "164  1740:1839  Hillary Clinton  Whoever is up now let it be known that support...  AGAINST      OTHER  POSITIVE\n",
            "274  1850:1949  Hillary Clinton  @occupycorruptDC she ain't no ways tired of be...     NONE      OTHER  NEGATIVE\n",
            "50   1625:1724  Hillary Clinton  Yes, do tell US, name one of her accomplishments   AGAINST     TARGET  NEGATIVE\n",
            "324  1900:1999  Hillary Clinton  Madam President Clinton; you have all the gays...    FAVOR     TARGET  POSITIVE\n",
            "580  2156:2255  Hillary Clinton  #HillaryInNH is like Adolph Hitler in a Synago...  AGAINST     TARGET  NEGATIVE\n",
            "83   1658:1757  Hillary Clinton  @HillaryClinton will pick @SenWarren for VP -M...    FAVOR     TARGET  POSITIVE\n",
            "8    1583:1682  Hillary Clinton  @HuffPostPol If @HillaryClinton can do half of...    FAVOR     TARGET  NEGATIVE\n",
            "373  1949:2048  Hillary Clinton  2016 is going to be a great year. Rush Limbaug...     NONE      OTHER  NEGATIVE\n",
            "137  1712:1811  Hillary Clinton  Hillary Clinton keeps sending me emails, and w...  AGAINST     TARGET  NEGATIVE\n",
            "573  2149:2248  Hillary Clinton  #Putin, #NothingMoreAmericanThan voting based ...  AGAINST     TARGET  NEGATIVE\n",
            "92   1667:1766  Hillary Clinton    #hillaryclinton is a champion of data removal.   AGAINST     TARGET  NEGATIVE\n",
            "316  1892:1991  Hillary Clinton  WHO'S READY FOR A DAY OF ACTION?! I know I am!...     NONE     NO ONE  POSITIVE\n",
            "634  2210:2309  Hillary Clinton  Grateful for the chance to tell the world abou...  AGAINST      OTHER  POSITIVE\n",
            "312  1888:1987  Hillary Clinton  @HillaryClinton You Flip/Flopped on the Gay ma...  AGAINST     TARGET  NEGATIVE\n",
            "542  2118:2217  Hillary Clinton  Pundits say Jim Webb facing uphill battle with...  AGAINST     TARGET  NEGATIVE\n",
            "67   1642:1741  Hillary Clinton  3. Fixing America's political system by gettin...     NONE      OTHER  POSITIVE\n",
            "17   1592:1691  Hillary Clinton  Only in a SEXIST AS FUK world would we questio...    FAVOR     TARGET  NEGATIVE\n",
            "353  1929:2028  Hillary Clinton  Hillary Clinton might end up having my vote. S...    FAVOR     TARGET  POSITIVE\n",
            "494  2070:2169  Hillary Clinton  @POTUS I want you to President for a 3rd term!...  AGAINST     TARGET  POSITIVE\n",
            "628  2204:2303  Hillary Clinton  /#Leftest #Hippocratic #Domecrats won't vote f...  AGAINST     TARGET  NEGATIVE\n",
            "6    1581:1680  Hillary Clinton  Would you wanna be in a long term relationship...  AGAINST     TARGET  NEGATIVE\n",
            "619  2195:2294  Hillary Clinton  @HillaryClinton Your treatment of the press, A...  AGAINST     TARGET  NEGATIVE\n",
            "520  2096:2195  Hillary Clinton       @maddow I love Bern, but it's not his time!   AGAINST      OTHER   NEITHER\n",
            "399  1975:2074  Hillary Clinton  @HillaryClinton Yes! I am chipping in 5$ becau...    FAVOR     TARGET  POSITIVE\n",
            "250  1826:1925  Hillary Clinton  A Black President,Healthcare 4 all, Marriage E...    FAVOR     TARGET  POSITIVE\n",
            "120  1695:1794  Hillary Clinton  #HillarysAccomplishments Being a total cluster...  AGAINST     TARGET  NEGATIVE\n",
            "615  2191:2290  Hillary Clinton  @vendettajane Thanks for the follow, may God b...  AGAINST      OTHER  POSITIVE\n",
            "549  2125:2224  Hillary Clinton  @WoodenThreat @ProudInfidel33 \"@HillaryClinton...  AGAINST     TARGET  NEGATIVE\n",
            "507  2083:2182  Hillary Clinton  @TODAYshow @ChrisChristie is not qualified b/c...  AGAINST     TARGET  NEGATIVE\n",
            "369  1945:2044  Hillary Clinton         @WNTonight i love bernie because he ain't      NONE      OTHER  POSITIVE\n",
            "527  2103:2202  Hillary Clinton  Those aren't pantsuits. They are camouflage ou...  AGAINST      OTHER  POSITIVE\n",
            "257  1833:1932  Hillary Clinton  @pamnsc @TRPhrophet @RamblingMother Thank you ...     NONE      OTHER  POSITIVE\n",
            "532  2108:2207  Hillary Clinton  @JW4Hillary @MrDane1982 I choose \"it takes a v...  AGAINST     TARGET  POSITIVE\n",
            "23   1598:1697  Hillary Clinton  .@EthanObama I know - it's just going to be a ...     NONE     NO ONE  NEGATIVE\n",
            "533  2109:2208  Hillary Clinton  @mizerello @meetthepress at least he didn't lo...  AGAINST     TARGET  NEGATIVE\n",
            "75   1650:1749  Hillary Clinton  If Hillary will lock Americans in classrooms d...  AGAINST     TARGET  NEGATIVE\n",
            "339  1915:2014  Hillary Clinton  When you fav supports the wrong candidate  (@l...     NONE      OTHER  NEGATIVE\n",
            "280  1856:1955  Hillary Clinton  Let's make Secretary Clinton, President Clinto...    FAVOR     TARGET  POSITIVE\n",
            "294  1870:1969  Hillary Clinton  Amazing turnout @TheCenterLV . Emotional crowd...     NONE      OTHER  POSITIVE\n",
            "39   1614:1713  Hillary Clinton       I just want my dog to stop eating the trash      NONE      OTHER  NEGATIVE\n",
            "81   1656:1755  Hillary Clinton  @HillaryClinton The deceit hand? Thats a hand ...  AGAINST     TARGET  NEGATIVE\n",
            "318  1894:1993  Hillary Clinton  96 commit cards collected for Hillary in Green...    FAVOR     TARGET  POSITIVE\n",
            "559  2135:2234  Hillary Clinton       @Shy_Buffy welcome little sister! Love you!      NONE      OTHER  POSITIVE\n",
            "76   1651:1750  Hillary Clinton  #WhyImNotVotingForHillary she calls education ...  AGAINST     TARGET  NEGATIVE\n",
            "315  1891:1990  Hillary Clinton  @LaureneDiCillo @NBCNews @dl34l And why are ma...  AGAINST     TARGET  NEGATIVE\n",
            "501  2077:2176  Hillary Clinton  #KCA #VoteJKT48ID RfWheels3015: davidjones720 ...  AGAINST     TARGET  NEGATIVE\n",
            "11   1586:1685  Hillary Clinton  If I run for office this will be my original l...  AGAINST     TARGET   NEITHER\n",
            "94   1669:1768  Hillary Clinton  Saudi Arabia imprisons & flogs rape victims. \"...  AGAINST     TARGET  NEGATIVE\n",
            "241  1817:1916  Hillary Clinton  @tedcruz won't be there. I'm supporting @Hilla...    FAVOR     TARGET  POSITIVE\n",
            "400  1976:2075  Hillary Clinton  @AndreaTantaros @3coffeesplez WTF? This just k...     NONE      OTHER  NEGATIVE\n",
            "633  2209:2308  Hillary Clinton  @JessieJaneDuff Results matter. U may feel les...  AGAINST      OTHER  NEGATIVE\n",
            "266  1842:1941  Hillary Clinton  #WonderWoman movie, #TheMuppets TV show, #Star...     NONE      OTHER   NEITHER\n",
            "46   1621:1720  Hillary Clinton          How can she live with herself? #Benghazi   AGAINST     TARGET  NEGATIVE\n",
            "492  2068:2167  Hillary Clinton  My birthday is on July 24th, if anyone needs a...  AGAINST      OTHER   NEITHER\n",
            "14   1589:1688  Hillary Clinton  @NACLA @BrasilWire SOS OBAMA Who?? @BarackObam...     NONE      OTHER  NEGATIVE\n",
            "19   1594:1693  Hillary Clinton  @ReformedBroker \"to da honies gittin money pla...     NONE      OTHER  NEGATIVE\n",
            "328  1904:2003  Hillary Clinton  Gay marriage is a minor setback for Fox News. ...     NONE      OTHER  NEGATIVE\n",
            "303  1879:1978  Hillary Clinton  @JebBush you are set to lose if ur campaign is...     NONE      OTHER  NEGATIVE\n",
            "513  2089:2188  Hillary Clinton  Bill Clinton Decided against taking out Bin La...  AGAINST     TARGET  NEGATIVE\n",
            "10   1585:1684  Hillary Clinton  Didn't realize Bob Dole was mentioned in Tupac...     NONE     NO ONE   NEITHER\n",
            "471  2047:2146  Hillary Clinton  All Americans have value to our society, it's ...  AGAINST      OTHER  POSITIVE\n",
            "222  1798:1897  Hillary Clinton  #CarlyFiorina on #hannity, very impressive. A ...  AGAINST     TARGET  POSITIVE\n",
            "176  1752:1851  Hillary Clinton  A body-cam on every cop, private servers for C...     NONE      OTHER  NEGATIVE\n",
            "24   1599:1698  Hillary Clinton  Technically, a president with raging hormones ...  AGAINST     TARGET  NEGATIVE\n",
            "446  2022:2121  Hillary Clinton  @HlLLARY @ToniforAsm Hillary for Prez = Obama'...  AGAINST      OTHER  NEGATIVE\n",
            "172  1748:1847  Hillary Clinton  @HillaryClinton  A Rainbow logo? Did u know on...  AGAINST     TARGET  NEGATIVE\n",
            "345  1921:2020  Hillary Clinton  @larryelder The more Republicans  talk about s...     NONE      OTHER  NEGATIVE\n",
            "170  1746:1845  Hillary Clinton  Don't get it twisted. A major presidential can...  AGAINST     TARGET  NEGATIVE\n",
            "435  2011:2110  Hillary Clinton  @PhxKen Shocked she didn't burst into flames! ...  AGAINST      OTHER  NEGATIVE\n",
            "248  1824:1923  Hillary Clinton  #Obama is riding high!! #ObamaCare #LoveWins #...     NONE      OTHER  POSITIVE\n",
            "279  1855:1954  Hillary Clinton  @JerseyKidPicks thank you sir. It's an honor t...     NONE      OTHER  POSITIVE\n",
            "584  2160:2259  Hillary Clinton  Clinton entitlement is the proverbial American...  AGAINST     TARGET  NEGATIVE\n",
            "397  1973:2072  Hillary Clinton  #DemocRAT2014Slogans: \"Why work? When you can ...  AGAINST      OTHER  NEGATIVE\n",
            "590  2166:2265  Hillary Clinton  @ZekeJMiller @BretBaier @danmericaCNN  How cou...  AGAINST     TARGET  NEGATIVE\n",
            "519  2095:2194  Hillary Clinton           BIG BOOTY BITCHES BIG BIG BOOTY BITCHES   AGAINST      OTHER  NEGATIVE\n",
            "607  2183:2282  Hillary Clinton  Do we breathe & live or ignore & collectively ...  AGAINST      OTHER  NEGATIVE\n",
            "408  1984:2083  Hillary Clinton  Just think how many emails Hillary Clinton can...  AGAINST     TARGET  NEGATIVE\n",
            "187  1763:1862  Hillary Clinton  RT @Glenn_Hegar: Follow if you stand against H...  AGAINST     TARGET  POSITIVE\n",
            "34   1609:1708  Hillary Clinton  @lajouetreine @KarrattiPaul I'm not a Genitalian      NONE     NO ONE  NEGATIVE\n",
            "433  2009:2108  Hillary Clinton  @GovChristie can't even run NJ and wants to be...  AGAINST     TARGET  NEGATIVE\n",
            "174  1750:1849  Hillary Clinton  @Anomaly100 I'm confident that will piss off a...     NONE      OTHER  NEGATIVE\n",
            "484  2060:2159  Hillary Clinton  @CoachDLG515 @Retired36 I'm glad that you will...  AGAINST     TARGET  POSITIVE\n",
            "111  1686:1785  Hillary Clinton  Great to see my mentor @RepSusanDavis at #DCin...    FAVOR     TARGET  POSITIVE\n",
            "292  1868:1967  Hillary Clinton  You cant fix stupid, might not be able to vote...     NONE      OTHER  NEGATIVE\n",
            "98   1673:1772  Hillary Clinton  Breaking News: #Hillary trades campaign bus fo...  AGAINST     TARGET  NEGATIVE\n",
            "359  1935:2034  Hillary Clinton  @CidEloisa @DiggingLamb Thank you so much for ...     NONE     NO ONE  POSITIVE\n",
            "481  2057:2156  Hillary Clinton  of lear jets and fax machines...LOL @HillaryCl...  AGAINST     TARGET  NEGATIVE\n",
            "141  1716:1815  Hillary Clinton  Wow RT \"@greta Baltimore Orioles to play tomor...     NONE      OTHER  NEGATIVE\n",
            "468  2044:2143  Hillary Clinton  @HillaryClinton you have my support. (Now lets...  AGAINST     TARGET  POSITIVE\n",
            "133  1708:1807  Hillary Clinton  Students of #BaylorUniversity are y'all ready ...  AGAINST      OTHER  POSITIVE\n",
            "457  2033:2132  Hillary Clinton  RT @Waitingforahero: 2nd tweet-#POTUS2016 cand...  AGAINST      OTHER  NEGATIVE\n",
            "409  1985:2084  Hillary Clinton  The kind of Gov that Liberals promise you can ...  AGAINST     TARGET  POSITIVE\n",
            "438  2014:2113  Hillary Clinton  Republican donors have numerous candidates to ...  AGAINST     TARGET  NEGATIVE\n",
            "528  2104:2203  Hillary Clinton  Just ordered my Chillary Clinton Koozies. Gott...  AGAINST     TARGET  POSITIVE\n",
            "246  1822:1921  Hillary Clinton  @vacanti @samglover Maybe a woman should be Pr...    FAVOR      OTHER  POSITIVE\n",
            "58   1633:1732  Hillary Clinton  I'd still rather have Aaron Hernandez as Presi...  AGAINST     TARGET   NEITHER\n",
            "231  1807:1906  Hillary Clinton  #HillaryDebateQuestion So you profess admirati...  AGAINST     TARGET  NEGATIVE\n",
            "636  2212:2311  Hillary Clinton  @akawhit1 ITS TIME TO ROPE OFF KILLARY @FoxNew...  AGAINST     TARGET  NEGATIVE\n",
            "245  1821:1920  Hillary Clinton  @TODAYshow Hillary's emails missing and incomp...  AGAINST     TARGET  NEGATIVE\n",
            "413  1989:2088  Hillary Clinton  It's official. Every single #GOP member is now...  AGAINST      OTHER  NEGATIVE\n",
            "575  2151:2250  Hillary Clinton  2 people that are surprising? Trump &Fiorina. ...     NONE      OTHER  POSITIVE\n",
            "342  1918:2017  Hillary Clinton  @Raging_D_RTR @CrimsonHotMess I'm for CHANGE a...     NONE      OTHER  POSITIVE\n",
            "20   1595:1694  Hillary Clinton  Forgive #CherylRios of her stupid comments abo...     NONE      OTHER  NEGATIVE\n",
            "569  2145:2244  Hillary Clinton  @RAM0018 @joanwalsh @Salon @BreeNewsome @chris...     NONE      OTHER  NEGATIVE\n",
            "571  2147:2246  Hillary Clinton  @awadgolf @Crossbearer1956 @ScottSaxman1 This ...  AGAINST     TARGET  NEGATIVE\n",
            "272  1848:1947  Hillary Clinton  @tedcruz @IamTheWindowMan  GET OUT OF MY STATE...     NONE      OTHER  NEGATIVE\n",
            "461  2037:2136  Hillary Clinton  .@davelevinthal Operating a shredder, now @hil...  AGAINST      OTHER  NEGATIVE\n",
            "625  2201:2300  Hillary Clinton  @PoliticalShort She would have to have a consc...  AGAINST      OTHER  NEGATIVE\n",
            "541  2117:2216  Hillary Clinton  @HillaryforIA come on, Iowa! For better USA an...    FAVOR     TARGET  POSITIVE\n",
            "616  2192:2291  Hillary Clinton  @MyOTRadventure Compassion the new frontier Hi...  AGAINST      OTHER  NEGATIVE\n",
            "169  1745:1844  Hillary Clinton  YES! Community policing is answer to rebuildin...     NONE      OTHER  POSITIVE\n",
            "423  1999:2098  Hillary Clinton  #AskBobby Do you think #HillaryClinton has tur...  AGAINST     TARGET  NEGATIVE\n",
            "550  2126:2225  Hillary Clinton  @kin2souls @sunbeltgirl @ChristiChat \"@Hillary...  AGAINST     TARGET  NEGATIVE\n",
            "437  2013:2112  Hillary Clinton  @robin45208 @C4Constitution Thank you so much ...  AGAINST      OTHER  POSITIVE\n",
            "290  1866:1965  Hillary Clinton  My mom just told me she and my aunt want to vo...    FAVOR     TARGET  POSITIVE\n",
            "593  2169:2268  Hillary Clinton  Hopefully Hillary Clinton gets cancer and dies...  AGAINST     TARGET  NEGATIVE\n",
            "286  1862:1961  Hillary Clinton  Hillary flew on private jet to speak to speak ...  AGAINST     TARGET  NEGATIVE\n",
            "600  2176:2275  Hillary Clinton  @roughcountry451 @vendettajane Fortunately Bry...  AGAINST      OTHER  NEGATIVE\n",
            "601  2177:2276  Hillary Clinton  @anthonyweiner super out of touch and stupid. ...  AGAINST      OTHER  NEGATIVE\n",
            "363  1939:2038  Hillary Clinton  Can't wait to get my #YaaasHillary shirt!  @Hi...    FAVOR     TARGET  POSITIVE\n",
            "623  2199:2298  Hillary Clinton  @redsteeze @maggieNYT By that time the guy wit...  AGAINST     TARGET  NEGATIVE\n",
            "224  1800:1899  Hillary Clinton  This Friday is, officially, Political Incorrec...     NONE      OTHER  NEGATIVE\n",
            "329  1905:2004  Hillary Clinton  @HillaryClinton So what's your goal for settin...  AGAINST     TARGET  NEGATIVE\n",
            "118  1693:1792  Hillary Clinton  @rebeccalipson  #freedom_justice_equality_educ...     NONE      OTHER  POSITIVE\n",
            "617  2193:2292  Hillary Clinton  Since #SNL ain't that funny anymore please @Jo...  AGAINST      OTHER  NEGATIVE\n",
            "115  1690:1789  Hillary Clinton  Also the $400,000 \"speaking fees\" #Hillary too...  AGAINST     TARGET  NEGATIVE\n",
            "42   1617:1716  Hillary Clinton  @HillaryClinton had more twitter followers the...    FAVOR     TARGET  POSITIVE\n",
            "198  1774:1873  Hillary Clinton  We're out here in G-town, and where are you  #...     NONE     NO ONE   NEITHER\n",
            "87   1662:1761  Hillary Clinton  .@HillaryClinton What's the ambient temperatur...  AGAINST     TARGET  NEGATIVE\n",
            "447  2023:2122  Hillary Clinton  @businessinsider One thing that's painful is t...  AGAINST      OTHER  NEGATIVE\n",
            "442  2018:2117  Hillary Clinton  Loved talking with Yvette today about educatio...  AGAINST      OTHER  POSITIVE\n",
            "556  2132:2231  Hillary Clinton  @randyprine @fabiaceae They know they're going...    FAVOR     TARGET  NEGATIVE\n",
            "402  1978:2077  Hillary Clinton  Fantastic Emmet County Dem meeting tonight in ...    FAVOR     TARGET  POSITIVE\n",
            "55   1630:1729  Hillary Clinton  Sending u gay bear love from Chicago @HillaryC...    FAVOR     TARGET  POSITIVE\n",
            "16   1591:1690  Hillary Clinton  RT @NicolaSturgeon: \"It's official: Hillary's ...    FAVOR     TARGET  POSITIVE\n",
            "35   1610:1709  Hillary Clinton  Wondering what the NEXT idiotic GOP smear agai...    FAVOR     TARGET  NEGATIVE\n",
            "178  1754:1853  Hillary Clinton                 @VRWCTexan WOW, she's one to talk   AGAINST     TARGET  NEGATIVE\n",
            "278  1854:1953  Hillary Clinton  Let's shatter the glass ceiling! - @GerryConno...     NONE      OTHER  POSITIVE\n",
            "255  1831:1930  Hillary Clinton  Do America a favor, If you feel you must vote ...  AGAINST     TARGET  NEGATIVE\n",
            "554  2130:2229  Hillary Clinton  @ResistTyranny \"@HillaryClinton can't even man...  AGAINST     TARGET  NEGATIVE\n",
            "500  2076:2175  Hillary Clinton  Trump's inauguration speech (God Forbid)!!.......  AGAINST      OTHER  NEGATIVE\n",
            "21   1596:1695  Hillary Clinton  Low key it would be interesting to have a fema...    FAVOR     TARGET  POSITIVE\n",
            "566  2142:2241  Hillary Clinton  So thankful for all of the volunteers who join...     NONE      OTHER  POSITIVE\n",
            "103  1678:1777  Hillary Clinton  .@CaptYonah @thehill Fine; unethical or illega...     NONE      OTHER  NEGATIVE\n",
            "156  1732:1831  Hillary Clinton  It's time that we move from good words 2 good ...    FAVOR     TARGET  POSITIVE\n",
            "462  2038:2137  Hillary Clinton     @theblaze gee,  what a busy schedule she had.   AGAINST      OTHER   NEITHER\n",
            "288  1864:1963  Hillary Clinton  Despite today's ruling, our struggle to end LG...    FAVOR     TARGET  POSITIVE\n",
            "69   1644:1743  Hillary Clinton  @KoriWasinger @JButtawipo she also voted for t...  AGAINST     TARGET  NEGATIVE\n",
            "108  1683:1782  Hillary Clinton  @FoxNews #HappeningNow optics problem? No the ...  AGAINST     TARGET  NEGATIVE\n",
            "366  1942:2041  Hillary Clinton  H stands for Holding Back e-mails belonging to...  AGAINST     TARGET  NEGATIVE\n",
            "455  2031:2130  Hillary Clinton  @HillaryforNV @MissLynnetteH 2 hours left, let...  AGAINST     TARGET  POSITIVE\n",
            "361  1937:2036  Hillary Clinton  @moser_kristen  I love how you pay more attent...     NONE      OTHER  NEGATIVE\n",
            "346  1922:2021  Hillary Clinton  The only Intelligent Choice for USA is Hillary...    FAVOR     TARGET  POSITIVE\n",
            "173  1749:1848  Hillary Clinton  Saw a bit of @HillaryClinton 's speech & I was...    FAVOR     TARGET  POSITIVE\n",
            "138  1713:1812  Hillary Clinton  @HillaryClinton @BarackObama The whole #world ...    FAVOR     TARGET  POSITIVE\n",
            "276  1852:1951  Hillary Clinton  @HillaryClinton Pretty sure you're gonna lose ...  AGAINST     TARGET  NEGATIVE\n",
            "139  1714:1813  Hillary Clinton  Denial. It works for Hillary, why not the Mayo...  AGAINST     TARGET  NEGATIVE\n",
            "383  1959:2058  Hillary Clinton  Remember back when #CrackerBarrel gave in 2 #P...     NONE      OTHER  NEGATIVE\n",
            "485  2061:2160  Hillary Clinton  #Obama administration lies again.. Knew of #Hi...  AGAINST     TARGET  NEGATIVE\n",
            "337  1913:2012  Hillary Clinton  HillaryClinton Next up for legalization: Your ...  AGAINST     TARGET  NEGATIVE\n",
            "544  2120:2219  Hillary Clinton  @AnitaFinlay @politico Hillary's doing the rig...    FAVOR     TARGET  POSITIVE\n",
            "406  1982:2081  Hillary Clinton  @PhilGlutting @megadreamin Thank you so much f...  AGAINST      OTHER  POSITIVE\n",
            "142  1717:1816  Hillary Clinton  Spoke to @HillaryClinton today in NYC. Wow! So...    FAVOR     TARGET  POSITIVE\n",
            "548  2124:2223  Hillary Clinton  @sunbeltgirl @9975Ts @bobwilsonn \"@HillaryClin...  AGAINST     TARGET  NEGATIVE\n",
            "334  1910:2009  Hillary Clinton  @GREG61032 @CarmineZozzora @Ash_Bell__  perfec...     NONE      OTHER  NEGATIVE\n",
            "244  1820:1919  Hillary Clinton  My sexy daddy Obama had two wins this week. Ha...     NONE      OTHER  POSITIVE\n",
            "416  1992:2091  Hillary Clinton  It is offensive when the mexican flag flies on...  AGAINST      OTHER  NEGATIVE\n",
            "61   1636:1735  Hillary Clinton  Because I'm against common core, common crooks...  AGAINST     TARGET  NEGATIVE\n",
            "380  1956:2055  Hillary Clinton  Hillary LIES, yet people still desire her as t...  AGAINST     TARGET  NEGATIVE\n",
            "270  1846:1945  Hillary Clinton  RT @ZerlinaMaxwell: Huge cheer for universal c...     NONE      OTHER  POSITIVE\n",
            "434  2010:2109  Hillary Clinton  RT @HillaryHaikus: #Ready because one day girl...  AGAINST     TARGET  POSITIVE\n",
            "160  1736:1835  Hillary Clinton  Too far @realDonaldTrump. That's just too fuck...     NONE      OTHER  NEGATIVE\n",
            "193  1769:1868  Hillary Clinton  @marymorientes Love it. It happens in my world...     NONE      OTHER  POSITIVE\n",
            "7    1582:1681  Hillary Clinton  Bill Clinton just wants to be the first dude t...     NONE      OTHER  NEGATIVE\n",
            "417  1993:2092  Hillary Clinton  Can anyone name the jobs #HillaryClinton has b...  AGAINST     TARGET  NEGATIVE\n",
            "415  1991:2090  Hillary Clinton  Hillary claims to be a \"champion\" of the middl...  AGAINST     TARGET  NEGATIVE\n",
            "188  1764:1863  Hillary Clinton          I can vote in 2016 after all ayyyyyyyyyy      NONE      OTHER  POSITIVE\n",
            "392  1968:2067  Hillary Clinton  Don't you someday want to see a well qualified...    FAVOR     TARGET  POSITIVE\n",
            "132  1707:1806  Hillary Clinton  In 2013 Clinton Foundation collected $140M and...  AGAINST     TARGET  NEGATIVE\n",
            "216  1792:1891  Hillary Clinton  @washingtonpost sir sory mae bi bharat mool ka...     NONE      OTHER   NEITHER\n",
            "530  2106:2205  Hillary Clinton  @realDonaldTrump not good when only @AnnCoulte...  AGAINST      OTHER  NEGATIVE\n",
            "510  2086:2185  Hillary Clinton  @msnbc @Lawrence @JoeBiden @SenSanders  we lov...  AGAINST      OTHER  NEGATIVE\n",
            "5    1580:1679  Hillary Clinton  Human rights are women's rights and women's ri...    FAVOR     TARGET  POSITIVE\n",
            "281  1857:1956  Hillary Clinton  I think I'll take @JebBush over @BobbyJindal n...     NONE      OTHER  NEGATIVE\n",
            "175  1751:1850  Hillary Clinton  @Upworthy @HillaryClinton It should be illegal...    FAVOR     TARGET  NEGATIVE\n",
            "154  1730:1829  Hillary Clinton  Too many women in too many countries speak the...    FAVOR     TARGET  POSITIVE\n",
            "260  1836:1935  Hillary Clinton  @PolitiBunny @Seja75 @hubbit @HillaryClinton I...  AGAINST     TARGET  POSITIVE\n",
            "183  1759:1858  Hillary Clinton  @zacharyebell Thank you 4the follow. God bless...     NONE     NO ONE  POSITIVE\n",
            "195  1771:1870  Hillary Clinton  RT @putterrod: @IngrahamAngle Republicans ever...  AGAINST     TARGET  NEGATIVE\n",
            "630  2206:2305  Hillary Clinton  @Babbsgirl2 @DrMartyFox She is as bad or worse...  AGAINST     TARGET  NEGATIVE\n",
            "152  1727:1826  Hillary Clinton  And the working american tax payer keeps on pa...  AGAINST     TARGET  NEGATIVE\n",
            "123  1698:1797  Hillary Clinton  take faith that almost every political entity ...  AGAINST      OTHER  NEGATIVE\n",
            "336  1912:2011  Hillary Clinton   @nytimes this will cost them the 2016 election.      NONE      OTHER  NEGATIVE\n",
            "562  2138:2237  Hillary Clinton  @FoxNews  \"@HillaryClinton can't even manage @...  AGAINST     TARGET  NEGATIVE\n",
            "572  2148:2247  Hillary Clinton  @foxnewspolitics NOT EVEN A LITTLE BIT!!! #Nob...     NONE      OTHER  NEGATIVE\n",
            "54   1629:1728  Hillary Clinton  @Bluesaloon Women are not a demographic, we ar...     NONE     NO ONE  NEGATIVE\n",
            "74   1649:1748  Hillary Clinton  @RandPaul @HillaryClinton you could never drea...    FAVOR     TARGET  NEGATIVE\n",
            "431  2007:2106  Hillary Clinton  @Jami_USA I'm just hoping we don't have to res...  AGAINST     TARGET  NEGATIVE\n",
            "473  2049:2148  Hillary Clinton  Thank you for your kind RTs and FAVs @pamnsc !...  AGAINST     TARGET  POSITIVE\n",
            "162  1738:1837  Hillary Clinton  @thehill #MamaHillary is making the case here ...    FAVOR     TARGET  POSITIVE\n",
            "302  1878:1977  Hillary Clinton  #HillaryClinton We've all been waiting for you...    FAVOR     TARGET  NEGATIVE\n",
            "385  1961:2060  Hillary Clinton  Last week = Life (Obamacare, gay marriage)  To...     NONE      OTHER  NEGATIVE\n",
            "362  1938:2037  Hillary Clinton  & I bet that @HillaryClinton is thee best choi...    FAVOR     TARGET  POSITIVE\n",
            "477  2053:2152  Hillary Clinton  @WashTimes @BretBaier Why is there no outrage ...  AGAINST      OTHER  NEGATIVE\n",
            "464  2040:2139  Hillary Clinton  White, middle-aged men did a pretty good job l...  AGAINST     TARGET  NEGATIVE\n",
            "356  1932:2031  Hillary Clinton  @ghostseven77 WE HAVE A TROLL ! #morningjoe #u...     NONE     NO ONE  NEGATIVE\n",
            "609  2185:2284  Hillary Clinton  @HillaryClinton I wish u were in Benghazi inst...  AGAINST     TARGET  NEGATIVE\n",
            "128  1703:1802  Hillary Clinton  I'm 19 years old and care about politics and e...     NONE      OTHER  NEGATIVE\n",
            "217  1793:1892  Hillary Clinton  @ChelseaClinton's mom has got it going on! #PO...    FAVOR     TARGET  POSITIVE\n",
            "503  2079:2178  Hillary Clinton  Obama give Americans OVERTIME Pay! Republicans...  AGAINST      OTHER  NEGATIVE\n",
            "311  1887:1986  Hillary Clinton  @HillaryClinton I'd ask #HillaryClinton to sto...  AGAINST     TARGET  NEGATIVE\n",
            "458  2034:2133  Hillary Clinton  @HillaryIn2016 hey I just checked your blog. K...  AGAINST     TARGET  POSITIVE\n",
            "583  2159:2258  Hillary Clinton  Didn't think about that. Don't think I'd ever ...     NONE      OTHER  NEGATIVE\n",
            "305  1881:1980  Hillary Clinton  My dad told me he's voting for Hillary. I'm so...    FAVOR     TARGET  POSITIVE\n",
            "32   1607:1706  Hillary Clinton  I'm a woman. Can I be President? @StopHillaryPAC   AGAINST     TARGET  NEGATIVE\n",
            "364  1940:2039  Hillary Clinton  @realDonaldTrump @WhoopiGoldberg @Univision #V...    FAVOR     TARGET  NEGATIVE\n",
            "427  2003:2102  Hillary Clinton  @asphaultangel13 Afterall, they're just a poor...  AGAINST     TARGET  NEGATIVE\n",
            "300  1876:1975  Hillary Clinton  #AmericaDeadBrokeSLOWLY SLOWLY China wants the...     NONE      OTHER  NEGATIVE\n",
            "354  1930:2029  Hillary Clinton  Apple and Walmart = MADE IN CHINA Why does our...     NONE      OTHER  NEGATIVE\n",
            "568  2144:2243  Hillary Clinton  @FrankCraig: @skzdalimit if you're the best yo...     NONE      OTHER  NEGATIVE\n",
            "514  2090:2189  Hillary Clinton  @politico   YAWNzzzzzzzzzzzzzz could keep the ...  AGAINST      OTHER  NEGATIVE\n",
            "445  2021:2120  Hillary Clinton  @Lawrence @TheLastWord There is no enthusiasm ...  AGAINST     TARGET  NEGATIVE\n",
            "265  1841:1940  Hillary Clinton  Great that @HillaryClinton attended #ClementaP...    FAVOR     TARGET  POSITIVE\n",
            "64   1639:1738  Hillary Clinton  You can't grow an economy from the bottom up. ...  AGAINST     TARGET  NEGATIVE\n",
            "62   1637:1736  Hillary Clinton  I would LMAO if some negro Democrat decides to...  AGAINST     TARGET  NEGATIVE\n",
            "22   1597:1696  Hillary Clinton  @seanhannity we lost 4,000 of our Military boy...  AGAINST      OTHER  NEGATIVE\n",
            "525  2101:2200  Hillary Clinton  The biggest dumps of bad info is b4 a holiday ...  AGAINST     TARGET  NEGATIVE\n",
            "497  2073:2172  Hillary Clinton  hey \"transparent\" @HillaryClinton so...who is ...  AGAINST     TARGET  NEGATIVE\n",
            "449  2025:2124  Hillary Clinton  Insurgent. What will happen if Hillary becomes...  AGAINST     TARGET  NEGATIVE\n",
            "12   1587:1686  Hillary Clinton  I will be there when your little tree has run ...     NONE      OTHER  NEGATIVE\n",
            "56   1631:1730  Hillary Clinton  I love the smell of Hillary in the morning. It...  AGAINST     TARGET  NEGATIVE\n",
            "592  2168:2267  Hillary Clinton  @DemocratGuide @Reuters bur #Hlllary just rais...  AGAINST      OTHER  POSITIVE\n",
            "333  1909:2008  Hillary Clinton  @foxnation That should have been done BEFORE s...  AGAINST     TARGET  NEGATIVE\n",
            "43   1618:1717  Hillary Clinton  #HillaryClinton has yet to release @ClintonFdn...  AGAINST     TARGET  NEGATIVE\n",
            "48   1623:1722  Hillary Clinton  Hillary needs to go to a Sheetz gas station af...  AGAINST     TARGET  NEGATIVE\n",
            "576  2152:2251  Hillary Clinton  So we're to believe that \"Santa\" is a hairstyl...     NONE      OTHER  NEGATIVE\n",
            "506  2082:2181  Hillary Clinton  Overheard at the Davenport open house: \"Oh, I ...  AGAINST     TARGET   NEITHER\n",
            "358  1934:2033  Hillary Clinton  @WestonMartinez @crazytas62 Cruz needs to auto...     NONE      OTHER   NEITHER\n",
            "422  1998:2097  Hillary Clinton  @HillaryClinton Hahahaha how much are you goin...  AGAINST     TARGET  NEGATIVE\n",
            "395  1971:2070  Hillary Clinton  Our Queen City is currently infested w/ out-of...  AGAINST     TARGET  NEGATIVE\n",
            "391  1967:2066  Hillary Clinton  @GOP Of course @HillaryClinton is silent. That...  AGAINST     TARGET  NEGATIVE\n",
            "236  1812:1911  Hillary Clinton  @Molls30 @HillaryClinton I love it! One of our...  AGAINST     TARGET  POSITIVE\n",
            "181  1757:1856  Hillary Clinton  RT @FutureTXLeader: Who in #CorpusChristi is r...  AGAINST     TARGET  POSITIVE\n",
            "436  2012:2111  Hillary Clinton  so @AdamParkhomenko met @oliviawilde . there a...  AGAINST      OTHER  POSITIVE\n",
            "171  1747:1846  Hillary Clinton  'Hillary-speak' campaign rhetoric is going to ...  AGAINST     TARGET  NEGATIVE\n",
            "233  1809:1908  Hillary Clinton  Y did #randpaul take donations from a #WhiteSu...     NONE      OTHER  NEGATIVE\n",
            "531  2107:2206  Hillary Clinton  Hillary must have been at the Navy Yard, under...  AGAINST      OTHER  NEGATIVE\n",
            "219  1795:1894  Hillary Clinton  Would that the rest of #us were able to escape...  AGAINST     TARGET  NEGATIVE\n",
            "565  2141:2240  Hillary Clinton  @TIMENOUT  \"@HillaryClinton can't even manage ...  AGAINST     TARGET  NEGATIVE\n",
            "122  1697:1796  Hillary Clinton  Hillary is on her way to #Baltimore to be thei...    FAVOR     TARGET  NEGATIVE\n",
            "4    1579:1678  Hillary Clinton  Although I certainly have disagreements, after...  AGAINST     TARGET   NEITHER\n",
            "273  1849:1948  Hillary Clinton  Whatever is the GOP going to do now with both ...     NONE      OTHER  NEGATIVE\n",
            "439  2015:2114  Hillary Clinton  Can @DavidCornDC help Cuckold Conservatives wi...  AGAINST     TARGET  POSITIVE\n",
            "289  1865:1964  Hillary Clinton  @Jeanelynn Thank you so much for the follow an...     NONE      OTHER  POSITIVE\n",
            "1    1576:1675  Hillary Clinton  @dnewhauser take that, Marco Rubio. @GOP canno...     NONE      OTHER  NEGATIVE\n",
            "570  2146:2245  Hillary Clinton  @popcornreel @joanwalsh @SenSanders @BernieSan...     NONE      OTHER  NEGATIVE\n",
            "96   1671:1770  Hillary Clinton  Go watch America: Imagine A World Without Her....     NONE      OTHER  POSITIVE\n",
            "221  1797:1896  Hillary Clinton  Hilliary: I provided all work related emails  ...  AGAINST     TARGET  NEGATIVE\n",
            "237  1813:1912  Hillary Clinton  @HillaryClinton Did you feel same about #BillC...  AGAINST     TARGET  NEGATIVE\n",
            "47   1622:1721  Hillary Clinton  Marriage equality a constitutional right! Woot...    FAVOR     TARGET  POSITIVE\n",
            "71   1646:1745  Hillary Clinton  RT @MaxTollensJr: One-percenter lied about bei...     NONE      OTHER  NEGATIVE\n",
            "168  1744:1843  Hillary Clinton  A proper introduction of Hillary Clinton shoul...  AGAINST     TARGET  NEGATIVE\n",
            "134  1709:1808  Hillary Clinton  @ChelseaClinton @HRC Do you stand for #BillCli...  AGAINST     TARGET  NEGATIVE\n",
            "414  1990:2089  Hillary Clinton  So glad @ChrisChristie has announced his candi...  AGAINST      OTHER  NEGATIVE\n",
            "38   1613:1712  Hillary Clinton  .@gailtalk @trscoop Of course it was. She'll b...  AGAINST     TARGET  NEGATIVE\n",
            "626  2202:2301  Hillary Clinton  @theblaze  Heaven forbid anyone invade the spa...  AGAINST      OTHER  NEGATIVE\n",
            "410  1986:2085  Hillary Clinton  @TIMENOUT Is there anything about the Clintons...  AGAINST     TARGET  NEGATIVE\n",
            "210  1786:1885  Hillary Clinton  @GOP Obamacare stays and the Confederate flag ...     NONE      OTHER  NEGATIVE\n",
            "475  2051:2150  Hillary Clinton  Win with the Blacks. Put some of your focus on...  AGAINST     TARGET  NEGATIVE\n",
            "504  2080:2179  Hillary Clinton  Make sure to make it to the Brew House in Pell...  AGAINST     TARGET  POSITIVE\n",
            "126  1701:1800  Hillary Clinton  @HillaryClinton #freedom_justice_equality_educ...    FAVOR     TARGET  POSITIVE\n",
            "89   1664:1763  Hillary Clinton  #everydaysexism Only > @ATikSalt < may say wha...     NONE      OTHER  NEGATIVE\n",
            "338  1914:2013  Hillary Clinton  @HillaryClinton Will #pervert #BillClinton be ...  AGAINST     TARGET  NEGATIVE\n",
            "155  1731:1830  Hillary Clinton  Always aim high,work hard, & care deeply about...    FAVOR     TARGET  POSITIVE\n",
            "543  2119:2218  Hillary Clinton  Exciting to hear more about our Fellows all ac...     NONE      OTHER  POSITIVE\n",
            "167  1743:1842  Hillary Clinton  If you're not watching @HillaryClinton's speec...    FAVOR     TARGET  POSITIVE\n",
            "182  1758:1857  Hillary Clinton  I've been doing my reading and I do have to to...    FAVOR     TARGET  POSITIVE\n",
            "581  2157:2256  Hillary Clinton  @Ered604 welcome 2 Twitter~PROUD to be #UNITEB...     NONE      OTHER  POSITIVE\n",
            "275  1851:1950  Hillary Clinton  I AM A CROOK...and I like it, like it, yes I d...  AGAINST     TARGET  NEGATIVE\n",
            "180  1756:1855  Hillary Clinton  RT @FutureTXLeader: Are y'all #TexasTech #RedR...  AGAINST      OTHER  POSITIVE\n",
            "405  1981:2080  Hillary Clinton  As much as @BernieSanders's poll numbers have ...    FAVOR     TARGET  POSITIVE\n",
            "588  2164:2263  Hillary Clinton  Fabulous @HillaryClinton ! You hit on every su...    FAVOR     TARGET  POSITIVE\n",
            "577  2153:2252  Hillary Clinton  Jimmy Fallon music playing. Thank you .... #Do...     NONE      OTHER  NEGATIVE\n",
            "606  2182:2281  Hillary Clinton  @TrucksHorsesDog  #CommonCore , another brilli...  AGAINST      OTHER  NEGATIVE\n",
            "253  1829:1928  Hillary Clinton  Who's monica Lewinsky's favorite football play...  AGAINST      OTHER  NEGATIVE\n",
            "144  1719:1818  Hillary Clinton  #BernieSanders is running for president, don't...  AGAINST      OTHER  NEGATIVE\n",
            "418  1994:2093  Hillary Clinton  @LeahR77 @DrMartyFox > With continued #Obama's...  AGAINST     TARGET  NEGATIVE\n",
            "394  1970:2069  Hillary Clinton  Casually hangin' with @HillaryClinton on a con...    FAVOR     TARGET  POSITIVE\n",
            "320  1896:1995  Hillary Clinton  Save an intern.... Keep Bill & Hillary out of ...  AGAINST     TARGET  NEGATIVE\n",
            "368  1944:2043  Hillary Clinton  #HillaryClinton might want to book smaller ven...  AGAINST     TARGET  NEGATIVE\n",
            "323  1899:1998  Hillary Clinton  @philadper2014 @LouiseKatina Hillary's New Cam...  AGAINST     TARGET  NEGATIVE\n",
            "355  1931:2030  Hillary Clinton  if Hillary wins the election there's a chance ...  AGAINST     TARGET  NEGATIVE\n",
            "325  1901:2000  Hillary Clinton  @debaterlife took me a minute to realize where...     NONE     NO ONE   NEITHER\n",
            "389  1965:2064  Hillary Clinton  #Putin, the last thing the US needs right now ...  AGAINST     TARGET  NEGATIVE\n",
            "396  1972:2071  Hillary Clinton  Gwen being a good leader and training a new vo...    FAVOR     TARGET  POSITIVE\n",
            "490  2066:2165  Hillary Clinton  @RNRNewYork in her #Emails @HillaryClinton sai...  AGAINST      OTHER  NEGATIVE\n",
            "306  1882:1981  Hillary Clinton  @dedicated_to_it i think the main problem is h...     NONE      OTHER  NEGATIVE\n",
            "517  2093:2192  Hillary Clinton  #TheDonald can't keep a beauty pageant afloat ...  AGAINST     TARGET  NEGATIVE\n",
            "232  1808:1907  Hillary Clinton               RT @mcirelli92: Hillary for the win     FAVOR     TARGET  POSITIVE\n",
            "466  2042:2141  Hillary Clinton  Hillary can't use a fucking fax machine but yo...  AGAINST     TARGET  NEGATIVE\n",
            "112  1687:1786  Hillary Clinton  @BarackObama #Love_peace and peaceful coexiste...     NONE      OTHER  POSITIVE\n",
            "124  1699:1798  Hillary Clinton  You don't have to be a lawyer to know the Clin...  AGAINST     TARGET  NEGATIVE\n",
            "297  1873:1972  Hillary Clinton  @therealjenappel IM HIGH ON HASHTAGS RIGHT NOW...     NONE      OTHER  POSITIVE\n",
            "271  1847:1946  Hillary Clinton  Hillary: stop pretending you were supporting t...  AGAINST     TARGET  NEGATIVE\n",
            "208  1784:1883  Hillary Clinton  Thanks @izzybugatti for participating! WE are ...     NONE      OTHER  POSITIVE\n",
            "282  1858:1957  Hillary Clinton  @kimkennedy4 thats why they still have no voti...     NONE      OTHER  NEGATIVE\n",
            "478  2054:2153  Hillary Clinton  I'm really excited for 2016 after finding out ...  AGAINST      OTHER  POSITIVE\n",
            "91   1666:1765  Hillary Clinton  Everything abt @HillaryClinton is BOGUS. Her i...  AGAINST     TARGET  NEGATIVE\n",
            "203  1779:1878  Hillary Clinton  @Temp15544 @icedecay @BrooklynJuggler @classic...     NONE      OTHER   NEITHER\n",
            "614  2190:2289  Hillary Clinton  @Ba68scgal The guy w/ the #Benghazi sign has g...  AGAINST     TARGET  POSITIVE\n",
            "80   1655:1754  Hillary Clinton  @HillaryClinton Especially the paid union lack...  AGAINST     TARGET  NEGATIVE\n",
            "505  2081:2180  Hillary Clinton  #Univision ignores Latino candidate Marco Rubi...  AGAINST     TARGET  NEGATIVE\n",
            "398  1974:2073  Hillary Clinton               @HillaryClinton Yes I can and will.     FAVOR     TARGET  POSITIVE\n",
            "440  2016:2115  Hillary Clinton  Chris Christie for President? HAHAHAHAHA!  I d...  AGAINST     TARGET  NEGATIVE\n",
            "97   1672:1771  Hillary Clinton  I suspect Hillary's Scooby Doo tour is being u...  AGAINST     TARGET  NEGATIVE\n",
            "331  1907:2006  Hillary Clinton  @LindaSuhler and the sheeple will still vote f...  AGAINST      OTHER  NEGATIVE\n",
            "374  1950:2049  Hillary Clinton  @HillaryClinton R U desperate or what? 3rd Hil...  AGAINST     TARGET  NEGATIVE\n",
            "480  2056:2155  Hillary Clinton  .@DavidLimbaugh - agree put it back.. But I ha...  AGAINST     TARGET  NEGATIVE\n",
            "403  1979:2078  Hillary Clinton  Gay Rights are Human Rights, and Human Rights ...    FAVOR     TARGET  POSITIVE\n",
            "327  1903:2002  Hillary Clinton  @ReCorwin She didn't even answer with a comple...     NONE      OTHER  NEGATIVE\n",
            "371  1947:2046  Hillary Clinton  @foxandfriends How could we support it if it w...  AGAINST     TARGET  NEGATIVE\n",
            "536  2112:2211  Hillary Clinton  #INeedMeninist because @HillaryClinton is runn...  AGAINST      OTHER  NEGATIVE\n",
            "557  2133:2232  Hillary Clinton  @realDonaldTrump \"@HillaryClinton can't even m...  AGAINST     TARGET  NEGATIVE\n",
            "629  2205:2304  Hillary Clinton  Support #independent #BernieSanders because he...  AGAINST      OTHER  POSITIVE\n",
            "211  1787:1886  Hillary Clinton  Come visit me at the Jefferson County Fair! Re...     NONE     NO ONE  POSITIVE\n",
            "127  1702:1801  Hillary Clinton  So @ClintonFdn, I believe Andrew Fastow beat y...  AGAINST     TARGET  NEGATIVE\n",
            "343  1919:2018  Hillary Clinton  .@Theblacksphere #Hillary took a #Hypocritical...  AGAINST     TARGET  NEGATIVE\n",
            "37   1612:1711  Hillary Clinton  Do we call Bill Mr President...the first 1st m...    FAVOR     TARGET  POSITIVE\n",
            "129  1704:1803  Hillary Clinton  @HillaryClinton I notice that you didn't conde...  AGAINST     TARGET  NEGATIVE\n",
            "491  2067:2166  Hillary Clinton  @DrMartyFox @BossHoggUSMC @JohnFromCranber @se...  AGAINST      OTHER  NEGATIVE\n",
            "529  2105:2204  Hillary Clinton  We can't expect change if we continue to vote ...  AGAINST     TARGET  NEGATIVE\n",
            "381  1957:2056  Hillary Clinton  @17leete17 hahaha. He is some kind of special....    FAVOR     TARGET  NEGATIVE\n",
            "105  1680:1779  Hillary Clinton  @LifeNewsHQ tolerance at its best! Do as I say...     NONE      OTHER  NEGATIVE\n",
            "285  1861:1960  Hillary Clinton  I am having a really tough time seeing any lea...     NONE      OTHER  NEGATIVE\n",
            "52   1627:1726  Hillary Clinton  Why is Hillary lying AGAIN about something new...  AGAINST     TARGET  NEGATIVE\n",
            "256  1832:1931  Hillary Clinton  Getting another @HillaryClinton bumper sticker...    FAVOR     TARGET  POSITIVE\n",
            "65   1640:1739  Hillary Clinton  @HillaryClinton Stop raising taxes and let peo...  AGAINST     TARGET  NEGATIVE\n",
            "254  1830:1929  Hillary Clinton  SCOTUS dealt a blow to Hillary Clintons last c...  AGAINST     TARGET  NEGATIVE\n",
            "78   1653:1752  Hillary Clinton  @Jeff_Nichols_82 @HillaryforIA #freedom_justic...    FAVOR     TARGET  POSITIVE\n",
            "106  1681:1780  Hillary Clinton  @Chris_1791 @TruthRevolt That doesn't leave mu...     NONE     NO ONE  NEGATIVE\n",
            "429  2005:2104  Hillary Clinton  Is a Eric Holder making 7 figures in the finan...  AGAINST      OTHER  NEGATIVE\n",
            "515  2091:2190  Hillary Clinton  The Democrats are not creating Al QAEDA, they ...  AGAINST      OTHER  NEGATIVE\n",
            "599  2175:2274  Hillary Clinton  @frodofied SO? THt will NEVER erase their supp...  AGAINST      OTHER  NEGATIVE\n",
            "421  1997:2096  Hillary Clinton  @Logan_RTW I agree with her previous stance; a...  AGAINST     TARGET  POSITIVE\n",
            "13   1588:1687  Hillary Clinton  crazy to think next up for the Oval Office is ...  AGAINST     TARGET  NEGATIVE\n",
            "99   1674:1773  Hillary Clinton  @SoCaliMilitia1 @CzarofFreedom  That God for g...  AGAINST     TARGET  NEGATIVE\n",
            "15   1590:1689  Hillary Clinton  @CheekyGent @ChuckCJohnson Hey Hillary is on h...  AGAINST     TARGET  NEGATIVE\n",
            "591  2167:2266  Hillary Clinton  @RedHatGeek Hillary's nose from lying is now b...  AGAINST     TARGET  NEGATIVE\n",
            "523  2099:2198  Hillary Clinton  Folks, this is what happens when Liberals are ...  AGAINST     TARGET  NEGATIVE\n",
            "161  1737:1836  Hillary Clinton  Hillary Clinton makes Nixon look like an amate...  AGAINST     TARGET  NEGATIVE\n",
            "191  1767:1866  Hillary Clinton  Great convo last night w/ @schoolbus_soul & @z...     NONE      OTHER  POSITIVE\n",
            "310  1886:1985  Hillary Clinton  @ARForHillary @HillaryClinton @HillaryIn2016 S...    FAVOR     TARGET  POSITIVE\n",
            "608  2184:2283  Hillary Clinton  She's NOT a WOMAN, she's a POLITICIAN. #WhyImN...  AGAINST     TARGET  NEGATIVE\n",
            "212  1788:1887  Hillary Clinton  I'm proud to announce I support #HillaryClinto...    FAVOR     TARGET  POSITIVE\n",
            "158  1734:1833  Hillary Clinton       How many poor kids could $2.5 billion feed?      NONE      OTHER  NEGATIVE\n",
            "502  2078:2177  Hillary Clinton  @HillaryClinton is opening 10 more offices in ...  AGAINST     TARGET  POSITIVE\n",
            "603  2179:2278  Hillary Clinton  over the river and through the woods, and UP W...  AGAINST     TARGET  POSITIVE\n",
            "140  1715:1814  Hillary Clinton  Join the Twitter movement! RT or fav for a men...     NONE     NO ONE  POSITIVE\n",
            "558  2134:2233  Hillary Clinton  If you support @HillaryClinton you are support...  AGAINST     TARGET  NEGATIVE\n",
            "226  1802:1901  Hillary Clinton  @Callisto1947 @texasman2008 @AmyMek Hillary's ...  AGAINST     TARGET  NEGATIVE\n",
            "587  2163:2262  Hillary Clinton  @HillaryClinton lied about the cost of the gal...  AGAINST     TARGET  NEGATIVE\n",
            "220  1796:1895  Hillary Clinton  @HillaryClinton Awesome video!  Vote for Chels...    FAVOR     TARGET  POSITIVE\n",
            "229  1805:1904  Hillary Clinton  @HillaryClinton @ca_hillary stand on the right...    FAVOR     TARGET   NEITHER\n",
            "390  1966:2065  Hillary Clinton  Hillary's New Campaign slogan is:  HILLARY - N...  AGAINST     TARGET  NEGATIVE\n",
            "184  1760:1859  Hillary Clinton  @BarackObama thanks for selling out all the wo...     NONE      OTHER  NEGATIVE\n",
            "627  2203:2302  Hillary Clinton  @TarekFatah @anniekarni And Abedin's penumbra,...  AGAINST     TARGET  POSITIVE\n",
            "125  1700:1799  Hillary Clinton  @Xxoax @HillaryClinton @MaryMorientes   @Barac...    FAVOR     TARGET  POSITIVE\n",
            "72   1647:1746  Hillary Clinton  @SLessard 100% agree. We need a woman like Hil...    FAVOR     TARGET  POSITIVE\n",
            "330  1906:2005  Hillary Clinton  Thanks @Chefs4Hillary for amazing noms for can...    FAVOR     TARGET  POSITIVE\n",
            "259  1835:1934  Hillary Clinton  Very excited to hear Sen. Klobuchar speak today!      NONE      OTHER  POSITIVE\n",
            "487  2063:2162  Hillary Clinton  @jimlibertarian @peddoc63 @Callisto1947 @Maydn...  AGAINST     TARGET  POSITIVE\n",
            "382  1958:2057  Hillary Clinton  @realDonaldTrump @MalachiNorris lol!!!!  That ...     NONE      OTHER  POSITIVE\n",
            "207  1783:1882  Hillary Clinton  In high school, decided to be the first woman ...     NONE      OTHER  NEGATIVE\n",
            "235  1811:1910  Hillary Clinton  @petefrt this is how GOP needs to be handling ...  AGAINST     TARGET  POSITIVE\n",
            "419  1995:2094  Hillary Clinton  @johnpodesta @HillaryClinton awesome every tru...  AGAINST      OTHER  POSITIVE\n",
            "109  1684:1783  Hillary Clinton  @HillaryClinton You can run but you ca't hide....  AGAINST     TARGET  NEGATIVE\n",
            "104  1679:1778  Hillary Clinton  @ConservatveGurl those of us that also have a ...  AGAINST     TARGET  NEGATIVE\n",
            "347  1923:2022  Hillary Clinton  @fuzislippers @KLSouth @gdebenedetti Yeah, she...  AGAINST     TARGET  NEGATIVE\n",
            "518  2094:2193  Hillary Clinton  You know emailgate must be going nowhere when ...  AGAINST     TARGET  NEGATIVE\n",
            "384  1960:2059  Hillary Clinton  Will the media ever get real with Hillary? #20...  AGAINST     TARGET  NEGATIVE\n",
            "309  1885:1984  Hillary Clinton  If I ever meet Hillary Clinton I will have die...    FAVOR     TARGET  POSITIVE\n",
            "243  1819:1918  Hillary Clinton  What a huge win for America! Today is absolute...     NONE      OTHER  POSITIVE\n",
            "283  1859:1958  Hillary Clinton  @LaneLewis Thanks for the follow! #TheHRCSuper...     NONE     NO ONE  POSITIVE\n",
            "467  2043:2142  Hillary Clinton  @gerfingerpoken2 #hillary is most likely a fel...  AGAINST      OTHER  NEGATIVE\n",
            "469  2045:2144  Hillary Clinton  #Hillary's still very weak among grassroots - ...  AGAINST      OTHER  NEGATIVE\n",
            "90   1665:1764  Hillary Clinton  @tjhansen @owillis serious, if trump runs you'...     NONE     NO ONE  NEGATIVE\n",
            "251  1827:1926  Hillary Clinton  RT @muradguderian: Democrats are Red, Obama is...  AGAINST     TARGET  NEGATIVE\n",
            "360  1936:2035  Hillary Clinton  My how times have changed: @MartinOMalley has ...     NONE      OTHER   NEITHER\n",
            "9    1584:1683  Hillary Clinton  I've made my decision, to the shock of no one ...     NONE     NO ONE  NEGATIVE\n",
            "199  1775:1874  Hillary Clinton  @jstines3 @bcwilliams92 #Stephens begged for h...  AGAINST     TARGET  NEGATIVE\n",
            "70   1645:1744  Hillary Clinton                      Ding Dong ____ _____ __ ____      NONE     NO ONE   NEITHER\n",
            "200  1776:1875  Hillary Clinton  RT @spanglishpop: Thanks @GOP keep sending in ...     NONE      OTHER  NEGATIVE\n",
            "526  2102:2201  Hillary Clinton  Leader of free world. Global navigating. Inter...  AGAINST     TARGET  POSITIVE\n",
            "268  1844:1943  Hillary Clinton  #LoveWins on the day I get my Hillary gear! #Y...    FAVOR     TARGET  POSITIVE\n",
            "412  1988:2087  Hillary Clinton  @petefrt That woman is so corrupt she can't ev...  AGAINST      OTHER  NEGATIVE\n",
            "304  1880:1979  Hillary Clinton  I always joke about anything political bc if I...     NONE     NO ONE  NEGATIVE\n",
            "564  2140:2239  Hillary Clinton  Another #Hillary supporter committed to caucus...    FAVOR     TARGET  POSITIVE\n",
            "319  1895:1994  Hillary Clinton  Headed to Chester, SC for a big hillary canvas...    FAVOR     TARGET  POSITIVE\n",
            "206  1782:1881  Hillary Clinton  Hillary has lied, deleted Benghazi emails, and...  AGAINST     TARGET  NEGATIVE\n",
            "624  2200:2299  Hillary Clinton  @adamplevy @maggieNYT @danmericaCNN The people...  AGAINST     TARGET  NEGATIVE\n",
            "36   1611:1710  Hillary Clinton  Hillary is killing it so far on the trail. She...    FAVOR     TARGET  POSITIVE\n",
            "77   1652:1751  Hillary Clinton  @bristola48 @AlciniaH @Mahogany1992 @stphil @M...     NONE     NO ONE  NEGATIVE\n",
            "537  2113:2212  Hillary Clinton  Cruz-- Perry 2016 @tedcruz @GovernorPerry It's...  AGAINST      OTHER  POSITIVE\n",
            "567  2143:2242  Hillary Clinton  The most revealing part about Hillary's releas...  AGAINST     TARGET  NEGATIVE\n",
            "240  1816:1915  Hillary Clinton  @SCOTUS_Scalia Right. Words no longer have mea...  AGAINST      OTHER  NEGATIVE\n",
            "426  2002:2101  Hillary Clinton  I feel confident that @HillaryClinton will win...  AGAINST      OTHER  POSITIVE\n",
            "604  2180:2279  Hillary Clinton  I am a big HILLARY Clinton supporter. My plan ...  AGAINST     TARGET  POSITIVE\n",
            "582  2158:2257  Hillary Clinton  Volunteer with  your local campaign this weeke...    FAVOR     TARGET  POSITIVE\n",
            "488  2064:2163  Hillary Clinton  If a man demanded staff to get him an ice tea ...  AGAINST     TARGET  NEGATIVE\n",
            "307  1883:1982  Hillary Clinton  Well Strung is what should happed the next tim...  AGAINST     TARGET  NEGATIVE\n",
            "166  1742:1841  Hillary Clinton  @_Poli_Ana_ No, she's got the #BlackLivesMatte...  AGAINST     TARGET  NEGATIVE\n",
            "157  1733:1832  Hillary Clinton  @TheDemocrats @DNCWomen I'm down to help for 2...    FAVOR     TARGET  POSITIVE\n",
            "317  1893:1992  Hillary Clinton  @DRUDGE_REPORT We haven't even had the electio...     NONE     NO ONE  NEGATIVE\n",
            "218  1794:1893  Hillary Clinton  America needs a champion!-H  No thanks,@Hillar...  AGAINST     TARGET  NEGATIVE\n",
            "3    1578:1677  Hillary Clinton  Lets remember #dickcheney is an unindicted war...     NONE      OTHER  NEGATIVE\n",
            "135  1710:1809  Hillary Clinton  Hey #TexasState #Bobcats I hope y'all are read...     NONE      OTHER  POSITIVE\n",
            "352  1928:2027  Hillary Clinton  Republican candidates continuing to spread hat...    FAVOR     TARGET  NEGATIVE\n",
            "102  1677:1776  Hillary Clinton           Very simple: the Clinton's are corrupt.   AGAINST     TARGET  NEGATIVE\n",
            "18   1593:1692  Hillary Clinton  @ChrisChristie couldn't run his way out of a p...    FAVOR     TARGET  NEGATIVE\n",
            "460  2036:2135  Hillary Clinton  Hillary had just enough time to doctor her ema...  AGAINST     TARGET  NEGATIVE\n",
            "66   1641:1740  Hillary Clinton  @theblaze If you think Hillary isn't taking fo...  AGAINST     TARGET  NEGATIVE\n",
            "511  2087:2186  Hillary Clinton  HER NAME IS RIO AND SHE DANCES IN THE SANAAAAA...  AGAINST      OTHER  POSITIVE\n",
            "313  1889:1988  Hillary Clinton  @HillaryClinton More lies and hypocrisy. As se...  AGAINST     TARGET  NEGATIVE\n",
            "85   1660:1759  Hillary Clinton  @TX_1 @politicalmath Then you know how slipper...     NONE      OTHER  NEGATIVE\n",
            "293  1869:1968  Hillary Clinton  If I get killed. Thank @realDonaldTrump . I wa...     NONE      OTHER  NEGATIVE\n",
            "430  2006:2105  Hillary Clinton  Fashion News: Hillary has a new clothing line ...  AGAINST      OTHER  NEGATIVE\n",
            "196  1772:1871  Hillary Clinton  This weekend is the Hillary For America Weeken...    FAVOR     TARGET  POSITIVE\n",
            "194  1770:1869  Hillary Clinton               @Froquesha u get me that book yea?       NONE     NO ONE   NEITHER\n",
            "247  1823:1922  Hillary Clinton  Today LOVE won and Hate was defeated. #Morning...     NONE      OTHER  POSITIVE\n",
            "314  1890:1989  Hillary Clinton  @HillaryClinton You have proven your dishonest...  AGAINST     TARGET  NEGATIVE\n",
            "29   1604:1703  Hillary Clinton  @HillaryClinton i am portuguese and i support ...    FAVOR     TARGET  POSITIVE\n"
          ],
          "name": "stdout"
        }
      ]
    },
    {
      "metadata": {
        "id": "sfRnHSz3iSXz",
        "colab_type": "text"
      },
      "cell_type": "markdown",
      "source": [
        "For us, our input data is the 'sentence' column and our label is the 'polarity' column (0, 1 for negative and positive, respecitvely)"
      ]
    },
    {
      "metadata": {
        "id": "IuMOGwFui4it",
        "colab_type": "code",
        "colab": {}
      },
      "cell_type": "code",
      "source": [
        "DATA_COLUMN = 'tweets'\n",
        "LABEL_COLUMN = 'stance'\n",
        "ID_COLUMN = 'id'\n",
        "# label_list is the list of labels, i.e. True, False or 0, 1 or 'dog', 'cat'\n",
        "label_list = [\"FAVOR\",\"AGAINST\", \"NONE\"]"
      ],
      "execution_count": 0,
      "outputs": []
    },
    {
      "metadata": {
        "id": "V399W0rqNJ-Z",
        "colab_type": "text"
      },
      "cell_type": "markdown",
      "source": [
        "#Data Preprocessing\n",
        "We'll need to transform our data into a format BERT understands. This involves two steps. First, we create  `InputExample`'s using the constructor provided in the BERT library.\n",
        "\n",
        "- `text_a` is the text we want to classify, which in this case, is the `Request` field in our Dataframe. \n",
        "- `text_b` is used if we're training a model to understand the relationship between sentences (i.e. is `text_b` a translation of `text_a`? Is `text_b` an answer to the question asked by `text_a`?). This doesn't apply to our task, so we can leave `text_b` blank.\n",
        "- `label` is the label for our example, i.e. True, False"
      ]
    },
    {
      "metadata": {
        "id": "p9gEt5SmM6i6",
        "colab_type": "code",
        "colab": {}
      },
      "cell_type": "code",
      "source": [
        "# Use the InputExample class from BERT's run_classifier code to create examples from the data\n",
        "train_InputExamples = train.apply(lambda x: bert.run_classifier.InputExample(guid=None, # Globally unique ID for bookkeeping, unused in this example\n",
        "                                                                   text_a = x[DATA_COLUMN], \n",
        "                                                                   text_b = None, \n",
        "                                                                   label = x[LABEL_COLUMN]), axis = 1)\n",
        "\n",
        "test_InputExamples = test.apply(lambda x: bert.run_classifier.InputExample(guid=x[ID_COLUMN], \n",
        "                                                                   text_a = x[DATA_COLUMN], \n",
        "                                                                   text_b = None, \n",
        "                                                                   label = x[LABEL_COLUMN]), axis = 1)"
      ],
      "execution_count": 0,
      "outputs": []
    },
    {
      "metadata": {
        "id": "SCZWZtKxObjh",
        "colab_type": "text"
      },
      "cell_type": "markdown",
      "source": [
        "Next, we need to preprocess our data so that it matches the data BERT was trained on. For this, we'll need to do a couple of things (but don't worry--this is also included in the Python library):\n",
        "\n",
        "\n",
        "1. Lowercase our text (if we're using a BERT lowercase model)\n",
        "2. Tokenize it (i.e. \"sally says hi\" -> [\"sally\", \"says\", \"hi\"])\n",
        "3. Break words into WordPieces (i.e. \"calling\" -> [\"call\", \"##ing\"])\n",
        "4. Map our words to indexes using a vocab file that BERT provides\n",
        "5. Add special \"CLS\" and \"SEP\" tokens (see the [readme](https://github.com/google-research/bert))\n",
        "6. Append \"index\" and \"segment\" tokens to each input (see the [BERT paper](https://arxiv.org/pdf/1810.04805.pdf))\n",
        "\n",
        "Happily, we don't have to worry about most of these details.\n",
        "\n",
        "\n"
      ]
    },
    {
      "metadata": {
        "id": "qMWiDtpyQSoU",
        "colab_type": "text"
      },
      "cell_type": "markdown",
      "source": [
        "To start, we'll need to load a vocabulary file and lowercasing information directly from the BERT tf hub module:"
      ]
    },
    {
      "metadata": {
        "id": "IhJSe0QHNG7U",
        "colab_type": "code",
        "outputId": "3d053457-1417-4a13-c393-d21b7a60be4c",
        "colab": {
          "base_uri": "https://localhost:8080/",
          "height": 54
        }
      },
      "cell_type": "code",
      "source": [
        "# This is a path to an uncased (all lowercase) version of BERT\n",
        "BERT_MODEL_HUB = \"https://tfhub.dev/google/bert_\"+BERT_CASE+\"_L-12_H-768_A-12/1\"\n",
        "\n",
        "def create_tokenizer_from_hub_module():\n",
        "  \"\"\"Get the vocab file and casing info from the Hub module.\"\"\"\n",
        "  with tf.Graph().as_default():\n",
        "    bert_module = hub.Module(BERT_MODEL_HUB)\n",
        "    tokenization_info = bert_module(signature=\"tokenization_info\", as_dict=True)\n",
        "    with tf.Session() as sess:\n",
        "      vocab_file, do_lower_case = sess.run([tokenization_info[\"vocab_file\"],\n",
        "                                            tokenization_info[\"do_lower_case\"]])\n",
        "      \n",
        "  return bert.tokenization.FullTokenizer(\n",
        "      vocab_file=vocab_file, do_lower_case=do_lower_case)\n",
        "\n",
        "tokenizer = create_tokenizer_from_hub_module()"
      ],
      "execution_count": 48,
      "outputs": [
        {
          "output_type": "stream",
          "text": [
            "INFO:tensorflow:Saver not created because there are no variables in the graph to restore\n"
          ],
          "name": "stdout"
        },
        {
          "output_type": "stream",
          "text": [
            "I0319 11:27:06.415161 139823961655168 saver.py:1483] Saver not created because there are no variables in the graph to restore\n"
          ],
          "name": "stderr"
        }
      ]
    },
    {
      "metadata": {
        "id": "z4oFkhpZBDKm",
        "colab_type": "text"
      },
      "cell_type": "markdown",
      "source": [
        "Great--we just learned that the BERT model we're using expects lowercase data (that's what stored in tokenization_info[\"do_lower_case\"]) and we also loaded BERT's vocab file. We also created a tokenizer, which breaks words into word pieces:"
      ]
    },
    {
      "metadata": {
        "id": "dsBo6RCtQmwx",
        "colab_type": "code",
        "outputId": "1dcf3eb4-9413-4646-ecc9-ccd1f3d579d6",
        "colab": {
          "base_uri": "https://localhost:8080/",
          "height": 35
        }
      },
      "cell_type": "code",
      "source": [
        "tokenizer.tokenize(\"Hillary Clinton is a big fat hag\")"
      ],
      "execution_count": 49,
      "outputs": [
        {
          "output_type": "execute_result",
          "data": {
            "text/plain": [
              "['hillary', 'clinton', 'is', 'a', 'big', 'fat', 'ha', '##g']"
            ]
          },
          "metadata": {
            "tags": []
          },
          "execution_count": 49
        }
      ]
    },
    {
      "metadata": {
        "id": "0OEzfFIt6GIc",
        "colab_type": "text"
      },
      "cell_type": "markdown",
      "source": [
        "Using our tokenizer, we'll call `run_classifier.convert_examples_to_features` on our InputExamples to convert them into features BERT understands."
      ]
    },
    {
      "metadata": {
        "id": "LL5W8gEGRTAf",
        "colab_type": "code",
        "outputId": "1edd578c-4f06-4d4c-8b0a-fb6cb269751c",
        "colab": {
          "base_uri": "https://localhost:8080/",
          "height": 2682
        }
      },
      "cell_type": "code",
      "source": [
        "# We'll set sequences to be at most 128 tokens long.\n",
        "MAX_SEQ_LENGTH = 128\n",
        "# Convert our train and test features to InputFeatures that BERT understands.\n",
        "train_features = bert.run_classifier.convert_examples_to_features(train_InputExamples, label_list, MAX_SEQ_LENGTH, tokenizer)\n",
        "test_features = bert.run_classifier.convert_examples_to_features(test_InputExamples, label_list, MAX_SEQ_LENGTH, tokenizer)"
      ],
      "execution_count": 50,
      "outputs": [
        {
          "output_type": "stream",
          "text": [
            "INFO:tensorflow:Writing example 0 of 637\n"
          ],
          "name": "stdout"
        },
        {
          "output_type": "stream",
          "text": [
            "I0319 11:27:07.080463 139823961655168 run_classifier.py:774] Writing example 0 of 637\n"
          ],
          "name": "stderr"
        },
        {
          "output_type": "stream",
          "text": [
            "INFO:tensorflow:*** Example ***\n"
          ],
          "name": "stdout"
        },
        {
          "output_type": "stream",
          "text": [
            "I0319 11:27:07.085315 139823961655168 run_classifier.py:461] *** Example ***\n"
          ],
          "name": "stderr"
        },
        {
          "output_type": "stream",
          "text": [
            "INFO:tensorflow:guid: None\n"
          ],
          "name": "stdout"
        },
        {
          "output_type": "stream",
          "text": [
            "I0319 11:27:07.088952 139823961655168 run_classifier.py:462] guid: None\n"
          ],
          "name": "stderr"
        },
        {
          "output_type": "stream",
          "text": [
            "INFO:tensorflow:tokens: [CLS] marijuana ? mari ##ju ##aa ##ge equality ? ? coincidence i think not ! ! 11 ! [SEP]\n"
          ],
          "name": "stdout"
        },
        {
          "output_type": "stream",
          "text": [
            "I0319 11:27:07.092368 139823961655168 run_classifier.py:464] tokens: [CLS] marijuana ? mari ##ju ##aa ##ge equality ? ? coincidence i think not ! ! 11 ! [SEP]\n"
          ],
          "name": "stderr"
        },
        {
          "output_type": "stream",
          "text": [
            "INFO:tensorflow:input_ids: 101 16204 1029 16266 9103 11057 3351 9945 1029 1029 16507 1045 2228 2025 999 999 2340 999 102 0 0 0 0 0 0 0 0 0 0 0 0 0 0 0 0 0 0 0 0 0 0 0 0 0 0 0 0 0 0 0 0 0 0 0 0 0 0 0 0 0 0 0 0 0 0 0 0 0 0 0 0 0 0 0 0 0 0 0 0 0 0 0 0 0 0 0 0 0 0 0 0 0 0 0 0 0 0 0 0 0 0 0 0 0 0 0 0 0 0 0 0 0 0 0 0 0 0 0 0 0 0 0 0 0 0 0 0 0\n"
          ],
          "name": "stdout"
        },
        {
          "output_type": "stream",
          "text": [
            "I0319 11:27:07.094817 139823961655168 run_classifier.py:465] input_ids: 101 16204 1029 16266 9103 11057 3351 9945 1029 1029 16507 1045 2228 2025 999 999 2340 999 102 0 0 0 0 0 0 0 0 0 0 0 0 0 0 0 0 0 0 0 0 0 0 0 0 0 0 0 0 0 0 0 0 0 0 0 0 0 0 0 0 0 0 0 0 0 0 0 0 0 0 0 0 0 0 0 0 0 0 0 0 0 0 0 0 0 0 0 0 0 0 0 0 0 0 0 0 0 0 0 0 0 0 0 0 0 0 0 0 0 0 0 0 0 0 0 0 0 0 0 0 0 0 0 0 0 0 0 0 0\n"
          ],
          "name": "stderr"
        },
        {
          "output_type": "stream",
          "text": [
            "INFO:tensorflow:input_mask: 1 1 1 1 1 1 1 1 1 1 1 1 1 1 1 1 1 1 1 0 0 0 0 0 0 0 0 0 0 0 0 0 0 0 0 0 0 0 0 0 0 0 0 0 0 0 0 0 0 0 0 0 0 0 0 0 0 0 0 0 0 0 0 0 0 0 0 0 0 0 0 0 0 0 0 0 0 0 0 0 0 0 0 0 0 0 0 0 0 0 0 0 0 0 0 0 0 0 0 0 0 0 0 0 0 0 0 0 0 0 0 0 0 0 0 0 0 0 0 0 0 0 0 0 0 0 0 0\n"
          ],
          "name": "stdout"
        },
        {
          "output_type": "stream",
          "text": [
            "I0319 11:27:07.097559 139823961655168 run_classifier.py:466] input_mask: 1 1 1 1 1 1 1 1 1 1 1 1 1 1 1 1 1 1 1 0 0 0 0 0 0 0 0 0 0 0 0 0 0 0 0 0 0 0 0 0 0 0 0 0 0 0 0 0 0 0 0 0 0 0 0 0 0 0 0 0 0 0 0 0 0 0 0 0 0 0 0 0 0 0 0 0 0 0 0 0 0 0 0 0 0 0 0 0 0 0 0 0 0 0 0 0 0 0 0 0 0 0 0 0 0 0 0 0 0 0 0 0 0 0 0 0 0 0 0 0 0 0 0 0 0 0 0 0\n"
          ],
          "name": "stderr"
        },
        {
          "output_type": "stream",
          "text": [
            "INFO:tensorflow:segment_ids: 0 0 0 0 0 0 0 0 0 0 0 0 0 0 0 0 0 0 0 0 0 0 0 0 0 0 0 0 0 0 0 0 0 0 0 0 0 0 0 0 0 0 0 0 0 0 0 0 0 0 0 0 0 0 0 0 0 0 0 0 0 0 0 0 0 0 0 0 0 0 0 0 0 0 0 0 0 0 0 0 0 0 0 0 0 0 0 0 0 0 0 0 0 0 0 0 0 0 0 0 0 0 0 0 0 0 0 0 0 0 0 0 0 0 0 0 0 0 0 0 0 0 0 0 0 0 0 0\n"
          ],
          "name": "stdout"
        },
        {
          "output_type": "stream",
          "text": [
            "I0319 11:27:07.100196 139823961655168 run_classifier.py:467] segment_ids: 0 0 0 0 0 0 0 0 0 0 0 0 0 0 0 0 0 0 0 0 0 0 0 0 0 0 0 0 0 0 0 0 0 0 0 0 0 0 0 0 0 0 0 0 0 0 0 0 0 0 0 0 0 0 0 0 0 0 0 0 0 0 0 0 0 0 0 0 0 0 0 0 0 0 0 0 0 0 0 0 0 0 0 0 0 0 0 0 0 0 0 0 0 0 0 0 0 0 0 0 0 0 0 0 0 0 0 0 0 0 0 0 0 0 0 0 0 0 0 0 0 0 0 0 0 0 0 0\n"
          ],
          "name": "stderr"
        },
        {
          "output_type": "stream",
          "text": [
            "INFO:tensorflow:label: NONE (id = 2)\n"
          ],
          "name": "stdout"
        },
        {
          "output_type": "stream",
          "text": [
            "I0319 11:27:07.102838 139823961655168 run_classifier.py:468] label: NONE (id = 2)\n"
          ],
          "name": "stderr"
        },
        {
          "output_type": "stream",
          "text": [
            "INFO:tensorflow:*** Example ***\n"
          ],
          "name": "stdout"
        },
        {
          "output_type": "stream",
          "text": [
            "I0319 11:27:07.106488 139823961655168 run_classifier.py:461] *** Example ***\n"
          ],
          "name": "stderr"
        },
        {
          "output_type": "stream",
          "text": [
            "INFO:tensorflow:guid: None\n"
          ],
          "name": "stdout"
        },
        {
          "output_type": "stream",
          "text": [
            "I0319 11:27:07.109223 139823961655168 run_classifier.py:462] guid: None\n"
          ],
          "name": "stderr"
        },
        {
          "output_type": "stream",
          "text": [
            "INFO:tensorflow:tokens: [CLS] @ hillary ##cl ##inton will be the nominee for the democratic party . period . and she ' s gonna win the presidency too . # sorry ##ber ##nie [SEP]\n"
          ],
          "name": "stdout"
        },
        {
          "output_type": "stream",
          "text": [
            "I0319 11:27:07.111837 139823961655168 run_classifier.py:464] tokens: [CLS] @ hillary ##cl ##inton will be the nominee for the democratic party . period . and she ' s gonna win the presidency too . # sorry ##ber ##nie [SEP]\n"
          ],
          "name": "stderr"
        },
        {
          "output_type": "stream",
          "text": [
            "INFO:tensorflow:input_ids: 101 1030 18520 20464 27028 2097 2022 1996 9773 2005 1996 3537 2283 1012 2558 1012 1998 2016 1005 1055 6069 2663 1996 8798 2205 1012 1001 3374 5677 8034 102 0 0 0 0 0 0 0 0 0 0 0 0 0 0 0 0 0 0 0 0 0 0 0 0 0 0 0 0 0 0 0 0 0 0 0 0 0 0 0 0 0 0 0 0 0 0 0 0 0 0 0 0 0 0 0 0 0 0 0 0 0 0 0 0 0 0 0 0 0 0 0 0 0 0 0 0 0 0 0 0 0 0 0 0 0 0 0 0 0 0 0 0 0 0 0 0 0\n"
          ],
          "name": "stdout"
        },
        {
          "output_type": "stream",
          "text": [
            "I0319 11:27:07.114425 139823961655168 run_classifier.py:465] input_ids: 101 1030 18520 20464 27028 2097 2022 1996 9773 2005 1996 3537 2283 1012 2558 1012 1998 2016 1005 1055 6069 2663 1996 8798 2205 1012 1001 3374 5677 8034 102 0 0 0 0 0 0 0 0 0 0 0 0 0 0 0 0 0 0 0 0 0 0 0 0 0 0 0 0 0 0 0 0 0 0 0 0 0 0 0 0 0 0 0 0 0 0 0 0 0 0 0 0 0 0 0 0 0 0 0 0 0 0 0 0 0 0 0 0 0 0 0 0 0 0 0 0 0 0 0 0 0 0 0 0 0 0 0 0 0 0 0 0 0 0 0 0 0\n"
          ],
          "name": "stderr"
        },
        {
          "output_type": "stream",
          "text": [
            "INFO:tensorflow:input_mask: 1 1 1 1 1 1 1 1 1 1 1 1 1 1 1 1 1 1 1 1 1 1 1 1 1 1 1 1 1 1 1 0 0 0 0 0 0 0 0 0 0 0 0 0 0 0 0 0 0 0 0 0 0 0 0 0 0 0 0 0 0 0 0 0 0 0 0 0 0 0 0 0 0 0 0 0 0 0 0 0 0 0 0 0 0 0 0 0 0 0 0 0 0 0 0 0 0 0 0 0 0 0 0 0 0 0 0 0 0 0 0 0 0 0 0 0 0 0 0 0 0 0 0 0 0 0 0 0\n"
          ],
          "name": "stdout"
        },
        {
          "output_type": "stream",
          "text": [
            "I0319 11:27:07.117154 139823961655168 run_classifier.py:466] input_mask: 1 1 1 1 1 1 1 1 1 1 1 1 1 1 1 1 1 1 1 1 1 1 1 1 1 1 1 1 1 1 1 0 0 0 0 0 0 0 0 0 0 0 0 0 0 0 0 0 0 0 0 0 0 0 0 0 0 0 0 0 0 0 0 0 0 0 0 0 0 0 0 0 0 0 0 0 0 0 0 0 0 0 0 0 0 0 0 0 0 0 0 0 0 0 0 0 0 0 0 0 0 0 0 0 0 0 0 0 0 0 0 0 0 0 0 0 0 0 0 0 0 0 0 0 0 0 0 0\n"
          ],
          "name": "stderr"
        },
        {
          "output_type": "stream",
          "text": [
            "INFO:tensorflow:segment_ids: 0 0 0 0 0 0 0 0 0 0 0 0 0 0 0 0 0 0 0 0 0 0 0 0 0 0 0 0 0 0 0 0 0 0 0 0 0 0 0 0 0 0 0 0 0 0 0 0 0 0 0 0 0 0 0 0 0 0 0 0 0 0 0 0 0 0 0 0 0 0 0 0 0 0 0 0 0 0 0 0 0 0 0 0 0 0 0 0 0 0 0 0 0 0 0 0 0 0 0 0 0 0 0 0 0 0 0 0 0 0 0 0 0 0 0 0 0 0 0 0 0 0 0 0 0 0 0 0\n"
          ],
          "name": "stdout"
        },
        {
          "output_type": "stream",
          "text": [
            "I0319 11:27:07.119772 139823961655168 run_classifier.py:467] segment_ids: 0 0 0 0 0 0 0 0 0 0 0 0 0 0 0 0 0 0 0 0 0 0 0 0 0 0 0 0 0 0 0 0 0 0 0 0 0 0 0 0 0 0 0 0 0 0 0 0 0 0 0 0 0 0 0 0 0 0 0 0 0 0 0 0 0 0 0 0 0 0 0 0 0 0 0 0 0 0 0 0 0 0 0 0 0 0 0 0 0 0 0 0 0 0 0 0 0 0 0 0 0 0 0 0 0 0 0 0 0 0 0 0 0 0 0 0 0 0 0 0 0 0 0 0 0 0 0 0\n"
          ],
          "name": "stderr"
        },
        {
          "output_type": "stream",
          "text": [
            "INFO:tensorflow:label: AGAINST (id = 1)\n"
          ],
          "name": "stdout"
        },
        {
          "output_type": "stream",
          "text": [
            "I0319 11:27:07.122191 139823961655168 run_classifier.py:468] label: AGAINST (id = 1)\n"
          ],
          "name": "stderr"
        },
        {
          "output_type": "stream",
          "text": [
            "INFO:tensorflow:*** Example ***\n"
          ],
          "name": "stdout"
        },
        {
          "output_type": "stream",
          "text": [
            "I0319 11:27:07.125357 139823961655168 run_classifier.py:461] *** Example ***\n"
          ],
          "name": "stderr"
        },
        {
          "output_type": "stream",
          "text": [
            "INFO:tensorflow:guid: None\n"
          ],
          "name": "stdout"
        },
        {
          "output_type": "stream",
          "text": [
            "I0319 11:27:07.127726 139823961655168 run_classifier.py:462] guid: None\n"
          ],
          "name": "stderr"
        },
        {
          "output_type": "stream",
          "text": [
            "INFO:tensorflow:tokens: [CLS] hilly & barry ' s bloody ben ##gh ##azi bamboo ##zle # hillary ##ice ##cre ##am ##fl ##av ##ors # tc ##ot # wake ##up ##ame ##rica [SEP]\n"
          ],
          "name": "stdout"
        },
        {
          "output_type": "stream",
          "text": [
            "I0319 11:27:07.130137 139823961655168 run_classifier.py:464] tokens: [CLS] hilly & barry ' s bloody ben ##gh ##azi bamboo ##zle # hillary ##ice ##cre ##am ##fl ##av ##ors # tc ##ot # wake ##up ##ame ##rica [SEP]\n"
          ],
          "name": "stderr"
        },
        {
          "output_type": "stream",
          "text": [
            "INFO:tensorflow:input_ids: 101 22800 1004 6287 1005 1055 6703 3841 5603 16103 15216 29247 1001 18520 6610 16748 3286 10258 11431 5668 1001 22975 4140 1001 5256 6279 14074 14735 102 0 0 0 0 0 0 0 0 0 0 0 0 0 0 0 0 0 0 0 0 0 0 0 0 0 0 0 0 0 0 0 0 0 0 0 0 0 0 0 0 0 0 0 0 0 0 0 0 0 0 0 0 0 0 0 0 0 0 0 0 0 0 0 0 0 0 0 0 0 0 0 0 0 0 0 0 0 0 0 0 0 0 0 0 0 0 0 0 0 0 0 0 0 0 0 0 0 0 0\n"
          ],
          "name": "stdout"
        },
        {
          "output_type": "stream",
          "text": [
            "I0319 11:27:07.132567 139823961655168 run_classifier.py:465] input_ids: 101 22800 1004 6287 1005 1055 6703 3841 5603 16103 15216 29247 1001 18520 6610 16748 3286 10258 11431 5668 1001 22975 4140 1001 5256 6279 14074 14735 102 0 0 0 0 0 0 0 0 0 0 0 0 0 0 0 0 0 0 0 0 0 0 0 0 0 0 0 0 0 0 0 0 0 0 0 0 0 0 0 0 0 0 0 0 0 0 0 0 0 0 0 0 0 0 0 0 0 0 0 0 0 0 0 0 0 0 0 0 0 0 0 0 0 0 0 0 0 0 0 0 0 0 0 0 0 0 0 0 0 0 0 0 0 0 0 0 0 0 0\n"
          ],
          "name": "stderr"
        },
        {
          "output_type": "stream",
          "text": [
            "INFO:tensorflow:input_mask: 1 1 1 1 1 1 1 1 1 1 1 1 1 1 1 1 1 1 1 1 1 1 1 1 1 1 1 1 1 0 0 0 0 0 0 0 0 0 0 0 0 0 0 0 0 0 0 0 0 0 0 0 0 0 0 0 0 0 0 0 0 0 0 0 0 0 0 0 0 0 0 0 0 0 0 0 0 0 0 0 0 0 0 0 0 0 0 0 0 0 0 0 0 0 0 0 0 0 0 0 0 0 0 0 0 0 0 0 0 0 0 0 0 0 0 0 0 0 0 0 0 0 0 0 0 0 0 0\n"
          ],
          "name": "stdout"
        },
        {
          "output_type": "stream",
          "text": [
            "I0319 11:27:07.135039 139823961655168 run_classifier.py:466] input_mask: 1 1 1 1 1 1 1 1 1 1 1 1 1 1 1 1 1 1 1 1 1 1 1 1 1 1 1 1 1 0 0 0 0 0 0 0 0 0 0 0 0 0 0 0 0 0 0 0 0 0 0 0 0 0 0 0 0 0 0 0 0 0 0 0 0 0 0 0 0 0 0 0 0 0 0 0 0 0 0 0 0 0 0 0 0 0 0 0 0 0 0 0 0 0 0 0 0 0 0 0 0 0 0 0 0 0 0 0 0 0 0 0 0 0 0 0 0 0 0 0 0 0 0 0 0 0 0 0\n"
          ],
          "name": "stderr"
        },
        {
          "output_type": "stream",
          "text": [
            "INFO:tensorflow:segment_ids: 0 0 0 0 0 0 0 0 0 0 0 0 0 0 0 0 0 0 0 0 0 0 0 0 0 0 0 0 0 0 0 0 0 0 0 0 0 0 0 0 0 0 0 0 0 0 0 0 0 0 0 0 0 0 0 0 0 0 0 0 0 0 0 0 0 0 0 0 0 0 0 0 0 0 0 0 0 0 0 0 0 0 0 0 0 0 0 0 0 0 0 0 0 0 0 0 0 0 0 0 0 0 0 0 0 0 0 0 0 0 0 0 0 0 0 0 0 0 0 0 0 0 0 0 0 0 0 0\n"
          ],
          "name": "stdout"
        },
        {
          "output_type": "stream",
          "text": [
            "I0319 11:27:07.137504 139823961655168 run_classifier.py:467] segment_ids: 0 0 0 0 0 0 0 0 0 0 0 0 0 0 0 0 0 0 0 0 0 0 0 0 0 0 0 0 0 0 0 0 0 0 0 0 0 0 0 0 0 0 0 0 0 0 0 0 0 0 0 0 0 0 0 0 0 0 0 0 0 0 0 0 0 0 0 0 0 0 0 0 0 0 0 0 0 0 0 0 0 0 0 0 0 0 0 0 0 0 0 0 0 0 0 0 0 0 0 0 0 0 0 0 0 0 0 0 0 0 0 0 0 0 0 0 0 0 0 0 0 0 0 0 0 0 0 0\n"
          ],
          "name": "stderr"
        },
        {
          "output_type": "stream",
          "text": [
            "INFO:tensorflow:label: AGAINST (id = 1)\n"
          ],
          "name": "stdout"
        },
        {
          "output_type": "stream",
          "text": [
            "I0319 11:27:07.139880 139823961655168 run_classifier.py:468] label: AGAINST (id = 1)\n"
          ],
          "name": "stderr"
        },
        {
          "output_type": "stream",
          "text": [
            "INFO:tensorflow:*** Example ***\n"
          ],
          "name": "stdout"
        },
        {
          "output_type": "stream",
          "text": [
            "I0319 11:27:07.142984 139823961655168 run_classifier.py:461] *** Example ***\n"
          ],
          "name": "stderr"
        },
        {
          "output_type": "stream",
          "text": [
            "INFO:tensorflow:guid: None\n"
          ],
          "name": "stdout"
        },
        {
          "output_type": "stream",
          "text": [
            "I0319 11:27:07.145413 139823961655168 run_classifier.py:462] guid: None\n"
          ],
          "name": "stderr"
        },
        {
          "output_type": "stream",
          "text": [
            "INFO:tensorflow:tokens: [CLS] how anyone can believe a single word that comes out of that woman ' s mouth is beyond me . . . [SEP]\n"
          ],
          "name": "stdout"
        },
        {
          "output_type": "stream",
          "text": [
            "I0319 11:27:07.147730 139823961655168 run_classifier.py:464] tokens: [CLS] how anyone can believe a single word that comes out of that woman ' s mouth is beyond me . . . [SEP]\n"
          ],
          "name": "stderr"
        },
        {
          "output_type": "stream",
          "text": [
            "INFO:tensorflow:input_ids: 101 2129 3087 2064 2903 1037 2309 2773 2008 3310 2041 1997 2008 2450 1005 1055 2677 2003 3458 2033 1012 1012 1012 102 0 0 0 0 0 0 0 0 0 0 0 0 0 0 0 0 0 0 0 0 0 0 0 0 0 0 0 0 0 0 0 0 0 0 0 0 0 0 0 0 0 0 0 0 0 0 0 0 0 0 0 0 0 0 0 0 0 0 0 0 0 0 0 0 0 0 0 0 0 0 0 0 0 0 0 0 0 0 0 0 0 0 0 0 0 0 0 0 0 0 0 0 0 0 0 0 0 0 0 0 0 0 0 0\n"
          ],
          "name": "stdout"
        },
        {
          "output_type": "stream",
          "text": [
            "I0319 11:27:07.150485 139823961655168 run_classifier.py:465] input_ids: 101 2129 3087 2064 2903 1037 2309 2773 2008 3310 2041 1997 2008 2450 1005 1055 2677 2003 3458 2033 1012 1012 1012 102 0 0 0 0 0 0 0 0 0 0 0 0 0 0 0 0 0 0 0 0 0 0 0 0 0 0 0 0 0 0 0 0 0 0 0 0 0 0 0 0 0 0 0 0 0 0 0 0 0 0 0 0 0 0 0 0 0 0 0 0 0 0 0 0 0 0 0 0 0 0 0 0 0 0 0 0 0 0 0 0 0 0 0 0 0 0 0 0 0 0 0 0 0 0 0 0 0 0 0 0 0 0 0 0\n"
          ],
          "name": "stderr"
        },
        {
          "output_type": "stream",
          "text": [
            "INFO:tensorflow:input_mask: 1 1 1 1 1 1 1 1 1 1 1 1 1 1 1 1 1 1 1 1 1 1 1 1 0 0 0 0 0 0 0 0 0 0 0 0 0 0 0 0 0 0 0 0 0 0 0 0 0 0 0 0 0 0 0 0 0 0 0 0 0 0 0 0 0 0 0 0 0 0 0 0 0 0 0 0 0 0 0 0 0 0 0 0 0 0 0 0 0 0 0 0 0 0 0 0 0 0 0 0 0 0 0 0 0 0 0 0 0 0 0 0 0 0 0 0 0 0 0 0 0 0 0 0 0 0 0 0\n"
          ],
          "name": "stdout"
        },
        {
          "output_type": "stream",
          "text": [
            "I0319 11:27:07.152803 139823961655168 run_classifier.py:466] input_mask: 1 1 1 1 1 1 1 1 1 1 1 1 1 1 1 1 1 1 1 1 1 1 1 1 0 0 0 0 0 0 0 0 0 0 0 0 0 0 0 0 0 0 0 0 0 0 0 0 0 0 0 0 0 0 0 0 0 0 0 0 0 0 0 0 0 0 0 0 0 0 0 0 0 0 0 0 0 0 0 0 0 0 0 0 0 0 0 0 0 0 0 0 0 0 0 0 0 0 0 0 0 0 0 0 0 0 0 0 0 0 0 0 0 0 0 0 0 0 0 0 0 0 0 0 0 0 0 0\n"
          ],
          "name": "stderr"
        },
        {
          "output_type": "stream",
          "text": [
            "INFO:tensorflow:segment_ids: 0 0 0 0 0 0 0 0 0 0 0 0 0 0 0 0 0 0 0 0 0 0 0 0 0 0 0 0 0 0 0 0 0 0 0 0 0 0 0 0 0 0 0 0 0 0 0 0 0 0 0 0 0 0 0 0 0 0 0 0 0 0 0 0 0 0 0 0 0 0 0 0 0 0 0 0 0 0 0 0 0 0 0 0 0 0 0 0 0 0 0 0 0 0 0 0 0 0 0 0 0 0 0 0 0 0 0 0 0 0 0 0 0 0 0 0 0 0 0 0 0 0 0 0 0 0 0 0\n"
          ],
          "name": "stdout"
        },
        {
          "output_type": "stream",
          "text": [
            "I0319 11:27:07.155237 139823961655168 run_classifier.py:467] segment_ids: 0 0 0 0 0 0 0 0 0 0 0 0 0 0 0 0 0 0 0 0 0 0 0 0 0 0 0 0 0 0 0 0 0 0 0 0 0 0 0 0 0 0 0 0 0 0 0 0 0 0 0 0 0 0 0 0 0 0 0 0 0 0 0 0 0 0 0 0 0 0 0 0 0 0 0 0 0 0 0 0 0 0 0 0 0 0 0 0 0 0 0 0 0 0 0 0 0 0 0 0 0 0 0 0 0 0 0 0 0 0 0 0 0 0 0 0 0 0 0 0 0 0 0 0 0 0 0 0\n"
          ],
          "name": "stderr"
        },
        {
          "output_type": "stream",
          "text": [
            "INFO:tensorflow:label: AGAINST (id = 1)\n"
          ],
          "name": "stdout"
        },
        {
          "output_type": "stream",
          "text": [
            "I0319 11:27:07.157615 139823961655168 run_classifier.py:468] label: AGAINST (id = 1)\n"
          ],
          "name": "stderr"
        },
        {
          "output_type": "stream",
          "text": [
            "INFO:tensorflow:*** Example ***\n"
          ],
          "name": "stdout"
        },
        {
          "output_type": "stream",
          "text": [
            "I0319 11:27:07.162140 139823961655168 run_classifier.py:461] *** Example ***\n"
          ],
          "name": "stderr"
        },
        {
          "output_type": "stream",
          "text": [
            "INFO:tensorflow:guid: None\n"
          ],
          "name": "stdout"
        },
        {
          "output_type": "stream",
          "text": [
            "I0319 11:27:07.164563 139823961655168 run_classifier.py:462] guid: None\n"
          ],
          "name": "stderr"
        },
        {
          "output_type": "stream",
          "text": [
            "INFO:tensorflow:tokens: [CLS] dick morris : @ hillary ##cl ##inton is \" fundamentally corrupt \" . he should know ! # cop ##oli ##tics # wc ##s ##15 [SEP]\n"
          ],
          "name": "stdout"
        },
        {
          "output_type": "stream",
          "text": [
            "I0319 11:27:07.166970 139823961655168 run_classifier.py:464] tokens: [CLS] dick morris : @ hillary ##cl ##inton is \" fundamentally corrupt \" . he should know ! # cop ##oli ##tics # wc ##s ##15 [SEP]\n"
          ],
          "name": "stderr"
        },
        {
          "output_type": "stream",
          "text": [
            "INFO:tensorflow:input_ids: 101 5980 6384 1024 1030 18520 20464 27028 2003 1000 24670 13593 1000 1012 2002 2323 2113 999 1001 8872 10893 14606 1001 15868 2015 16068 102 0 0 0 0 0 0 0 0 0 0 0 0 0 0 0 0 0 0 0 0 0 0 0 0 0 0 0 0 0 0 0 0 0 0 0 0 0 0 0 0 0 0 0 0 0 0 0 0 0 0 0 0 0 0 0 0 0 0 0 0 0 0 0 0 0 0 0 0 0 0 0 0 0 0 0 0 0 0 0 0 0 0 0 0 0 0 0 0 0 0 0 0 0 0 0 0 0 0 0 0 0\n"
          ],
          "name": "stdout"
        },
        {
          "output_type": "stream",
          "text": [
            "I0319 11:27:07.169342 139823961655168 run_classifier.py:465] input_ids: 101 5980 6384 1024 1030 18520 20464 27028 2003 1000 24670 13593 1000 1012 2002 2323 2113 999 1001 8872 10893 14606 1001 15868 2015 16068 102 0 0 0 0 0 0 0 0 0 0 0 0 0 0 0 0 0 0 0 0 0 0 0 0 0 0 0 0 0 0 0 0 0 0 0 0 0 0 0 0 0 0 0 0 0 0 0 0 0 0 0 0 0 0 0 0 0 0 0 0 0 0 0 0 0 0 0 0 0 0 0 0 0 0 0 0 0 0 0 0 0 0 0 0 0 0 0 0 0 0 0 0 0 0 0 0 0 0 0 0 0\n"
          ],
          "name": "stderr"
        },
        {
          "output_type": "stream",
          "text": [
            "INFO:tensorflow:input_mask: 1 1 1 1 1 1 1 1 1 1 1 1 1 1 1 1 1 1 1 1 1 1 1 1 1 1 1 0 0 0 0 0 0 0 0 0 0 0 0 0 0 0 0 0 0 0 0 0 0 0 0 0 0 0 0 0 0 0 0 0 0 0 0 0 0 0 0 0 0 0 0 0 0 0 0 0 0 0 0 0 0 0 0 0 0 0 0 0 0 0 0 0 0 0 0 0 0 0 0 0 0 0 0 0 0 0 0 0 0 0 0 0 0 0 0 0 0 0 0 0 0 0 0 0 0 0 0 0\n"
          ],
          "name": "stdout"
        },
        {
          "output_type": "stream",
          "text": [
            "I0319 11:27:07.171637 139823961655168 run_classifier.py:466] input_mask: 1 1 1 1 1 1 1 1 1 1 1 1 1 1 1 1 1 1 1 1 1 1 1 1 1 1 1 0 0 0 0 0 0 0 0 0 0 0 0 0 0 0 0 0 0 0 0 0 0 0 0 0 0 0 0 0 0 0 0 0 0 0 0 0 0 0 0 0 0 0 0 0 0 0 0 0 0 0 0 0 0 0 0 0 0 0 0 0 0 0 0 0 0 0 0 0 0 0 0 0 0 0 0 0 0 0 0 0 0 0 0 0 0 0 0 0 0 0 0 0 0 0 0 0 0 0 0 0\n"
          ],
          "name": "stderr"
        },
        {
          "output_type": "stream",
          "text": [
            "INFO:tensorflow:segment_ids: 0 0 0 0 0 0 0 0 0 0 0 0 0 0 0 0 0 0 0 0 0 0 0 0 0 0 0 0 0 0 0 0 0 0 0 0 0 0 0 0 0 0 0 0 0 0 0 0 0 0 0 0 0 0 0 0 0 0 0 0 0 0 0 0 0 0 0 0 0 0 0 0 0 0 0 0 0 0 0 0 0 0 0 0 0 0 0 0 0 0 0 0 0 0 0 0 0 0 0 0 0 0 0 0 0 0 0 0 0 0 0 0 0 0 0 0 0 0 0 0 0 0 0 0 0 0 0 0\n"
          ],
          "name": "stdout"
        },
        {
          "output_type": "stream",
          "text": [
            "I0319 11:27:07.173666 139823961655168 run_classifier.py:467] segment_ids: 0 0 0 0 0 0 0 0 0 0 0 0 0 0 0 0 0 0 0 0 0 0 0 0 0 0 0 0 0 0 0 0 0 0 0 0 0 0 0 0 0 0 0 0 0 0 0 0 0 0 0 0 0 0 0 0 0 0 0 0 0 0 0 0 0 0 0 0 0 0 0 0 0 0 0 0 0 0 0 0 0 0 0 0 0 0 0 0 0 0 0 0 0 0 0 0 0 0 0 0 0 0 0 0 0 0 0 0 0 0 0 0 0 0 0 0 0 0 0 0 0 0 0 0 0 0 0 0\n"
          ],
          "name": "stderr"
        },
        {
          "output_type": "stream",
          "text": [
            "INFO:tensorflow:label: AGAINST (id = 1)\n"
          ],
          "name": "stdout"
        },
        {
          "output_type": "stream",
          "text": [
            "I0319 11:27:07.176672 139823961655168 run_classifier.py:468] label: AGAINST (id = 1)\n"
          ],
          "name": "stderr"
        },
        {
          "output_type": "stream",
          "text": [
            "INFO:tensorflow:Writing example 0 of 294\n"
          ],
          "name": "stdout"
        },
        {
          "output_type": "stream",
          "text": [
            "I0319 11:27:07.667038 139823961655168 run_classifier.py:774] Writing example 0 of 294\n"
          ],
          "name": "stderr"
        },
        {
          "output_type": "stream",
          "text": [
            "INFO:tensorflow:*** Example ***\n"
          ],
          "name": "stdout"
        },
        {
          "output_type": "stream",
          "text": [
            "I0319 11:27:07.671277 139823961655168 run_classifier.py:461] *** Example ***\n"
          ],
          "name": "stderr"
        },
        {
          "output_type": "stream",
          "text": [
            "INFO:tensorflow:guid: 10676\n"
          ],
          "name": "stdout"
        },
        {
          "output_type": "stream",
          "text": [
            "I0319 11:27:07.675172 139823961655168 run_classifier.py:462] guid: 10676\n"
          ],
          "name": "stderr"
        },
        {
          "output_type": "stream",
          "text": [
            "INFO:tensorflow:tokens: [CLS] @ jd ##son ##7 ##8 @ andrew ##bro ##ering andrew ##w ##hy ##do ##you ##care ##ab ##out ##w ##hat ##ith ##ink ? i didn ##ot ##real ##ize ##tha ##ti ##was ##thi ##si ##mp ##ort ##ant . sir ##t ##wee ##t andrew ##isa ##pa ##id ##tro ##ll [SEP]\n"
          ],
          "name": "stdout"
        },
        {
          "output_type": "stream",
          "text": [
            "I0319 11:27:07.678176 139823961655168 run_classifier.py:464] tokens: [CLS] @ jd ##son ##7 ##8 @ andrew ##bro ##ering andrew ##w ##hy ##do ##you ##care ##ab ##out ##w ##hat ##ith ##ink ? i didn ##ot ##real ##ize ##tha ##ti ##was ##thi ##si ##mp ##ort ##ant . sir ##t ##wee ##t andrew ##isa ##pa ##id ##tro ##ll [SEP]\n"
          ],
          "name": "stderr"
        },
        {
          "output_type": "stream",
          "text": [
            "INFO:tensorflow:input_ids: 101 1030 26219 3385 2581 2620 1030 4080 12618 7999 4080 2860 10536 3527 29337 16302 7875 5833 2860 12707 8939 19839 1029 1045 2134 4140 22852 4697 8322 3775 17311 15222 5332 8737 11589 4630 1012 2909 2102 28394 2102 4080 14268 4502 3593 13181 3363 102 0 0 0 0 0 0 0 0 0 0 0 0 0 0 0 0 0 0 0 0 0 0 0 0 0 0 0 0 0 0 0 0 0 0 0 0 0 0 0 0 0 0 0 0 0 0 0 0 0 0 0 0 0 0 0 0 0 0 0 0 0 0 0 0 0 0 0 0 0 0 0 0 0 0 0 0 0 0 0 0\n"
          ],
          "name": "stdout"
        },
        {
          "output_type": "stream",
          "text": [
            "I0319 11:27:07.682425 139823961655168 run_classifier.py:465] input_ids: 101 1030 26219 3385 2581 2620 1030 4080 12618 7999 4080 2860 10536 3527 29337 16302 7875 5833 2860 12707 8939 19839 1029 1045 2134 4140 22852 4697 8322 3775 17311 15222 5332 8737 11589 4630 1012 2909 2102 28394 2102 4080 14268 4502 3593 13181 3363 102 0 0 0 0 0 0 0 0 0 0 0 0 0 0 0 0 0 0 0 0 0 0 0 0 0 0 0 0 0 0 0 0 0 0 0 0 0 0 0 0 0 0 0 0 0 0 0 0 0 0 0 0 0 0 0 0 0 0 0 0 0 0 0 0 0 0 0 0 0 0 0 0 0 0 0 0 0 0 0 0\n"
          ],
          "name": "stderr"
        },
        {
          "output_type": "stream",
          "text": [
            "INFO:tensorflow:input_mask: 1 1 1 1 1 1 1 1 1 1 1 1 1 1 1 1 1 1 1 1 1 1 1 1 1 1 1 1 1 1 1 1 1 1 1 1 1 1 1 1 1 1 1 1 1 1 1 1 0 0 0 0 0 0 0 0 0 0 0 0 0 0 0 0 0 0 0 0 0 0 0 0 0 0 0 0 0 0 0 0 0 0 0 0 0 0 0 0 0 0 0 0 0 0 0 0 0 0 0 0 0 0 0 0 0 0 0 0 0 0 0 0 0 0 0 0 0 0 0 0 0 0 0 0 0 0 0 0\n"
          ],
          "name": "stdout"
        },
        {
          "output_type": "stream",
          "text": [
            "I0319 11:27:07.686954 139823961655168 run_classifier.py:466] input_mask: 1 1 1 1 1 1 1 1 1 1 1 1 1 1 1 1 1 1 1 1 1 1 1 1 1 1 1 1 1 1 1 1 1 1 1 1 1 1 1 1 1 1 1 1 1 1 1 1 0 0 0 0 0 0 0 0 0 0 0 0 0 0 0 0 0 0 0 0 0 0 0 0 0 0 0 0 0 0 0 0 0 0 0 0 0 0 0 0 0 0 0 0 0 0 0 0 0 0 0 0 0 0 0 0 0 0 0 0 0 0 0 0 0 0 0 0 0 0 0 0 0 0 0 0 0 0 0 0\n"
          ],
          "name": "stderr"
        },
        {
          "output_type": "stream",
          "text": [
            "INFO:tensorflow:segment_ids: 0 0 0 0 0 0 0 0 0 0 0 0 0 0 0 0 0 0 0 0 0 0 0 0 0 0 0 0 0 0 0 0 0 0 0 0 0 0 0 0 0 0 0 0 0 0 0 0 0 0 0 0 0 0 0 0 0 0 0 0 0 0 0 0 0 0 0 0 0 0 0 0 0 0 0 0 0 0 0 0 0 0 0 0 0 0 0 0 0 0 0 0 0 0 0 0 0 0 0 0 0 0 0 0 0 0 0 0 0 0 0 0 0 0 0 0 0 0 0 0 0 0 0 0 0 0 0 0\n"
          ],
          "name": "stdout"
        },
        {
          "output_type": "stream",
          "text": [
            "I0319 11:27:07.690719 139823961655168 run_classifier.py:467] segment_ids: 0 0 0 0 0 0 0 0 0 0 0 0 0 0 0 0 0 0 0 0 0 0 0 0 0 0 0 0 0 0 0 0 0 0 0 0 0 0 0 0 0 0 0 0 0 0 0 0 0 0 0 0 0 0 0 0 0 0 0 0 0 0 0 0 0 0 0 0 0 0 0 0 0 0 0 0 0 0 0 0 0 0 0 0 0 0 0 0 0 0 0 0 0 0 0 0 0 0 0 0 0 0 0 0 0 0 0 0 0 0 0 0 0 0 0 0 0 0 0 0 0 0 0 0 0 0 0 0\n"
          ],
          "name": "stderr"
        },
        {
          "output_type": "stream",
          "text": [
            "INFO:tensorflow:label: AGAINST (id = 1)\n"
          ],
          "name": "stdout"
        },
        {
          "output_type": "stream",
          "text": [
            "I0319 11:27:07.694503 139823961655168 run_classifier.py:468] label: AGAINST (id = 1)\n"
          ],
          "name": "stderr"
        },
        {
          "output_type": "stream",
          "text": [
            "INFO:tensorflow:*** Example ***\n"
          ],
          "name": "stdout"
        },
        {
          "output_type": "stream",
          "text": [
            "I0319 11:27:07.703368 139823961655168 run_classifier.py:461] *** Example ***\n"
          ],
          "name": "stderr"
        },
        {
          "output_type": "stream",
          "text": [
            "INFO:tensorflow:guid: 10677\n"
          ],
          "name": "stdout"
        },
        {
          "output_type": "stream",
          "text": [
            "I0319 11:27:07.706024 139823961655168 run_classifier.py:462] guid: 10677\n"
          ],
          "name": "stderr"
        },
        {
          "output_type": "stream",
          "text": [
            "INFO:tensorflow:tokens: [CLS] the white male vote is solid ##ly go ##p . the black vote is solid ##ly dem . that leaves white females and brown pp ##l . # feel ##the ##ber ##n [SEP]\n"
          ],
          "name": "stdout"
        },
        {
          "output_type": "stream",
          "text": [
            "I0319 11:27:07.710390 139823961655168 run_classifier.py:464] tokens: [CLS] the white male vote is solid ##ly go ##p . the black vote is solid ##ly dem . that leaves white females and brown pp ##l . # feel ##the ##ber ##n [SEP]\n"
          ],
          "name": "stderr"
        },
        {
          "output_type": "stream",
          "text": [
            "INFO:tensorflow:input_ids: 101 1996 2317 3287 3789 2003 5024 2135 2175 2361 1012 1996 2304 3789 2003 5024 2135 17183 1012 2008 3727 2317 3801 1998 2829 4903 2140 1012 1001 2514 10760 5677 2078 102 0 0 0 0 0 0 0 0 0 0 0 0 0 0 0 0 0 0 0 0 0 0 0 0 0 0 0 0 0 0 0 0 0 0 0 0 0 0 0 0 0 0 0 0 0 0 0 0 0 0 0 0 0 0 0 0 0 0 0 0 0 0 0 0 0 0 0 0 0 0 0 0 0 0 0 0 0 0 0 0 0 0 0 0 0 0 0 0 0 0 0 0 0 0\n"
          ],
          "name": "stdout"
        },
        {
          "output_type": "stream",
          "text": [
            "I0319 11:27:07.715074 139823961655168 run_classifier.py:465] input_ids: 101 1996 2317 3287 3789 2003 5024 2135 2175 2361 1012 1996 2304 3789 2003 5024 2135 17183 1012 2008 3727 2317 3801 1998 2829 4903 2140 1012 1001 2514 10760 5677 2078 102 0 0 0 0 0 0 0 0 0 0 0 0 0 0 0 0 0 0 0 0 0 0 0 0 0 0 0 0 0 0 0 0 0 0 0 0 0 0 0 0 0 0 0 0 0 0 0 0 0 0 0 0 0 0 0 0 0 0 0 0 0 0 0 0 0 0 0 0 0 0 0 0 0 0 0 0 0 0 0 0 0 0 0 0 0 0 0 0 0 0 0 0 0 0\n"
          ],
          "name": "stderr"
        },
        {
          "output_type": "stream",
          "text": [
            "INFO:tensorflow:input_mask: 1 1 1 1 1 1 1 1 1 1 1 1 1 1 1 1 1 1 1 1 1 1 1 1 1 1 1 1 1 1 1 1 1 1 0 0 0 0 0 0 0 0 0 0 0 0 0 0 0 0 0 0 0 0 0 0 0 0 0 0 0 0 0 0 0 0 0 0 0 0 0 0 0 0 0 0 0 0 0 0 0 0 0 0 0 0 0 0 0 0 0 0 0 0 0 0 0 0 0 0 0 0 0 0 0 0 0 0 0 0 0 0 0 0 0 0 0 0 0 0 0 0 0 0 0 0 0 0\n"
          ],
          "name": "stdout"
        },
        {
          "output_type": "stream",
          "text": [
            "I0319 11:27:07.719353 139823961655168 run_classifier.py:466] input_mask: 1 1 1 1 1 1 1 1 1 1 1 1 1 1 1 1 1 1 1 1 1 1 1 1 1 1 1 1 1 1 1 1 1 1 0 0 0 0 0 0 0 0 0 0 0 0 0 0 0 0 0 0 0 0 0 0 0 0 0 0 0 0 0 0 0 0 0 0 0 0 0 0 0 0 0 0 0 0 0 0 0 0 0 0 0 0 0 0 0 0 0 0 0 0 0 0 0 0 0 0 0 0 0 0 0 0 0 0 0 0 0 0 0 0 0 0 0 0 0 0 0 0 0 0 0 0 0 0\n"
          ],
          "name": "stderr"
        },
        {
          "output_type": "stream",
          "text": [
            "INFO:tensorflow:segment_ids: 0 0 0 0 0 0 0 0 0 0 0 0 0 0 0 0 0 0 0 0 0 0 0 0 0 0 0 0 0 0 0 0 0 0 0 0 0 0 0 0 0 0 0 0 0 0 0 0 0 0 0 0 0 0 0 0 0 0 0 0 0 0 0 0 0 0 0 0 0 0 0 0 0 0 0 0 0 0 0 0 0 0 0 0 0 0 0 0 0 0 0 0 0 0 0 0 0 0 0 0 0 0 0 0 0 0 0 0 0 0 0 0 0 0 0 0 0 0 0 0 0 0 0 0 0 0 0 0\n"
          ],
          "name": "stdout"
        },
        {
          "output_type": "stream",
          "text": [
            "I0319 11:27:07.722743 139823961655168 run_classifier.py:467] segment_ids: 0 0 0 0 0 0 0 0 0 0 0 0 0 0 0 0 0 0 0 0 0 0 0 0 0 0 0 0 0 0 0 0 0 0 0 0 0 0 0 0 0 0 0 0 0 0 0 0 0 0 0 0 0 0 0 0 0 0 0 0 0 0 0 0 0 0 0 0 0 0 0 0 0 0 0 0 0 0 0 0 0 0 0 0 0 0 0 0 0 0 0 0 0 0 0 0 0 0 0 0 0 0 0 0 0 0 0 0 0 0 0 0 0 0 0 0 0 0 0 0 0 0 0 0 0 0 0 0\n"
          ],
          "name": "stderr"
        },
        {
          "output_type": "stream",
          "text": [
            "INFO:tensorflow:label: AGAINST (id = 1)\n"
          ],
          "name": "stdout"
        },
        {
          "output_type": "stream",
          "text": [
            "I0319 11:27:07.727013 139823961655168 run_classifier.py:468] label: AGAINST (id = 1)\n"
          ],
          "name": "stderr"
        },
        {
          "output_type": "stream",
          "text": [
            "INFO:tensorflow:*** Example ***\n"
          ],
          "name": "stdout"
        },
        {
          "output_type": "stream",
          "text": [
            "I0319 11:27:07.732005 139823961655168 run_classifier.py:461] *** Example ***\n"
          ],
          "name": "stderr"
        },
        {
          "output_type": "stream",
          "text": [
            "INFO:tensorflow:guid: 10678\n"
          ],
          "name": "stdout"
        },
        {
          "output_type": "stream",
          "text": [
            "I0319 11:27:07.736786 139823961655168 run_classifier.py:462] guid: 10678\n"
          ],
          "name": "stderr"
        },
        {
          "output_type": "stream",
          "text": [
            "INFO:tensorflow:tokens: [CLS] @ ny ##in ##ves ##ting big banker buds need to rat ##chet up their \" hillary cares about the little people \" propaganda [SEP]\n"
          ],
          "name": "stdout"
        },
        {
          "output_type": "stream",
          "text": [
            "I0319 11:27:07.739924 139823961655168 run_classifier.py:464] tokens: [CLS] @ ny ##in ##ves ##ting big banker buds need to rat ##chet up their \" hillary cares about the little people \" propaganda [SEP]\n"
          ],
          "name": "stderr"
        },
        {
          "output_type": "stream",
          "text": [
            "INFO:tensorflow:input_ids: 101 1030 6396 2378 6961 3436 2502 13448 26734 2342 2000 9350 20318 2039 2037 1000 18520 14977 2055 1996 2210 2111 1000 10398 102 0 0 0 0 0 0 0 0 0 0 0 0 0 0 0 0 0 0 0 0 0 0 0 0 0 0 0 0 0 0 0 0 0 0 0 0 0 0 0 0 0 0 0 0 0 0 0 0 0 0 0 0 0 0 0 0 0 0 0 0 0 0 0 0 0 0 0 0 0 0 0 0 0 0 0 0 0 0 0 0 0 0 0 0 0 0 0 0 0 0 0 0 0 0 0 0 0 0 0 0 0 0 0\n"
          ],
          "name": "stdout"
        },
        {
          "output_type": "stream",
          "text": [
            "I0319 11:27:07.745399 139823961655168 run_classifier.py:465] input_ids: 101 1030 6396 2378 6961 3436 2502 13448 26734 2342 2000 9350 20318 2039 2037 1000 18520 14977 2055 1996 2210 2111 1000 10398 102 0 0 0 0 0 0 0 0 0 0 0 0 0 0 0 0 0 0 0 0 0 0 0 0 0 0 0 0 0 0 0 0 0 0 0 0 0 0 0 0 0 0 0 0 0 0 0 0 0 0 0 0 0 0 0 0 0 0 0 0 0 0 0 0 0 0 0 0 0 0 0 0 0 0 0 0 0 0 0 0 0 0 0 0 0 0 0 0 0 0 0 0 0 0 0 0 0 0 0 0 0 0 0\n"
          ],
          "name": "stderr"
        },
        {
          "output_type": "stream",
          "text": [
            "INFO:tensorflow:input_mask: 1 1 1 1 1 1 1 1 1 1 1 1 1 1 1 1 1 1 1 1 1 1 1 1 1 0 0 0 0 0 0 0 0 0 0 0 0 0 0 0 0 0 0 0 0 0 0 0 0 0 0 0 0 0 0 0 0 0 0 0 0 0 0 0 0 0 0 0 0 0 0 0 0 0 0 0 0 0 0 0 0 0 0 0 0 0 0 0 0 0 0 0 0 0 0 0 0 0 0 0 0 0 0 0 0 0 0 0 0 0 0 0 0 0 0 0 0 0 0 0 0 0 0 0 0 0 0 0\n"
          ],
          "name": "stdout"
        },
        {
          "output_type": "stream",
          "text": [
            "I0319 11:27:07.749266 139823961655168 run_classifier.py:466] input_mask: 1 1 1 1 1 1 1 1 1 1 1 1 1 1 1 1 1 1 1 1 1 1 1 1 1 0 0 0 0 0 0 0 0 0 0 0 0 0 0 0 0 0 0 0 0 0 0 0 0 0 0 0 0 0 0 0 0 0 0 0 0 0 0 0 0 0 0 0 0 0 0 0 0 0 0 0 0 0 0 0 0 0 0 0 0 0 0 0 0 0 0 0 0 0 0 0 0 0 0 0 0 0 0 0 0 0 0 0 0 0 0 0 0 0 0 0 0 0 0 0 0 0 0 0 0 0 0 0\n"
          ],
          "name": "stderr"
        },
        {
          "output_type": "stream",
          "text": [
            "INFO:tensorflow:segment_ids: 0 0 0 0 0 0 0 0 0 0 0 0 0 0 0 0 0 0 0 0 0 0 0 0 0 0 0 0 0 0 0 0 0 0 0 0 0 0 0 0 0 0 0 0 0 0 0 0 0 0 0 0 0 0 0 0 0 0 0 0 0 0 0 0 0 0 0 0 0 0 0 0 0 0 0 0 0 0 0 0 0 0 0 0 0 0 0 0 0 0 0 0 0 0 0 0 0 0 0 0 0 0 0 0 0 0 0 0 0 0 0 0 0 0 0 0 0 0 0 0 0 0 0 0 0 0 0 0\n"
          ],
          "name": "stdout"
        },
        {
          "output_type": "stream",
          "text": [
            "I0319 11:27:07.752757 139823961655168 run_classifier.py:467] segment_ids: 0 0 0 0 0 0 0 0 0 0 0 0 0 0 0 0 0 0 0 0 0 0 0 0 0 0 0 0 0 0 0 0 0 0 0 0 0 0 0 0 0 0 0 0 0 0 0 0 0 0 0 0 0 0 0 0 0 0 0 0 0 0 0 0 0 0 0 0 0 0 0 0 0 0 0 0 0 0 0 0 0 0 0 0 0 0 0 0 0 0 0 0 0 0 0 0 0 0 0 0 0 0 0 0 0 0 0 0 0 0 0 0 0 0 0 0 0 0 0 0 0 0 0 0 0 0 0 0\n"
          ],
          "name": "stderr"
        },
        {
          "output_type": "stream",
          "text": [
            "INFO:tensorflow:label: AGAINST (id = 1)\n"
          ],
          "name": "stdout"
        },
        {
          "output_type": "stream",
          "text": [
            "I0319 11:27:07.756477 139823961655168 run_classifier.py:468] label: AGAINST (id = 1)\n"
          ],
          "name": "stderr"
        },
        {
          "output_type": "stream",
          "text": [
            "INFO:tensorflow:*** Example ***\n"
          ],
          "name": "stdout"
        },
        {
          "output_type": "stream",
          "text": [
            "I0319 11:27:07.761116 139823961655168 run_classifier.py:461] *** Example ***\n"
          ],
          "name": "stderr"
        },
        {
          "output_type": "stream",
          "text": [
            "INFO:tensorflow:guid: 10679\n"
          ],
          "name": "stdout"
        },
        {
          "output_type": "stream",
          "text": [
            "I0319 11:27:07.765353 139823961655168 run_classifier.py:462] guid: 10679\n"
          ],
          "name": "stderr"
        },
        {
          "output_type": "stream",
          "text": [
            "INFO:tensorflow:tokens: [CLS] @ go ##p why should i believe you on this ? the go ##p leaders in congress won ' t fight obama now ! ! ! # tc ##ot [SEP]\n"
          ],
          "name": "stdout"
        },
        {
          "output_type": "stream",
          "text": [
            "I0319 11:27:07.768479 139823961655168 run_classifier.py:464] tokens: [CLS] @ go ##p why should i believe you on this ? the go ##p leaders in congress won ' t fight obama now ! ! ! # tc ##ot [SEP]\n"
          ],
          "name": "stderr"
        },
        {
          "output_type": "stream",
          "text": [
            "INFO:tensorflow:input_ids: 101 1030 2175 2361 2339 2323 1045 2903 2017 2006 2023 1029 1996 2175 2361 4177 1999 3519 2180 1005 1056 2954 8112 2085 999 999 999 1001 22975 4140 102 0 0 0 0 0 0 0 0 0 0 0 0 0 0 0 0 0 0 0 0 0 0 0 0 0 0 0 0 0 0 0 0 0 0 0 0 0 0 0 0 0 0 0 0 0 0 0 0 0 0 0 0 0 0 0 0 0 0 0 0 0 0 0 0 0 0 0 0 0 0 0 0 0 0 0 0 0 0 0 0 0 0 0 0 0 0 0 0 0 0 0 0 0 0 0 0 0\n"
          ],
          "name": "stdout"
        },
        {
          "output_type": "stream",
          "text": [
            "I0319 11:27:07.771730 139823961655168 run_classifier.py:465] input_ids: 101 1030 2175 2361 2339 2323 1045 2903 2017 2006 2023 1029 1996 2175 2361 4177 1999 3519 2180 1005 1056 2954 8112 2085 999 999 999 1001 22975 4140 102 0 0 0 0 0 0 0 0 0 0 0 0 0 0 0 0 0 0 0 0 0 0 0 0 0 0 0 0 0 0 0 0 0 0 0 0 0 0 0 0 0 0 0 0 0 0 0 0 0 0 0 0 0 0 0 0 0 0 0 0 0 0 0 0 0 0 0 0 0 0 0 0 0 0 0 0 0 0 0 0 0 0 0 0 0 0 0 0 0 0 0 0 0 0 0 0 0\n"
          ],
          "name": "stderr"
        },
        {
          "output_type": "stream",
          "text": [
            "INFO:tensorflow:input_mask: 1 1 1 1 1 1 1 1 1 1 1 1 1 1 1 1 1 1 1 1 1 1 1 1 1 1 1 1 1 1 1 0 0 0 0 0 0 0 0 0 0 0 0 0 0 0 0 0 0 0 0 0 0 0 0 0 0 0 0 0 0 0 0 0 0 0 0 0 0 0 0 0 0 0 0 0 0 0 0 0 0 0 0 0 0 0 0 0 0 0 0 0 0 0 0 0 0 0 0 0 0 0 0 0 0 0 0 0 0 0 0 0 0 0 0 0 0 0 0 0 0 0 0 0 0 0 0 0\n"
          ],
          "name": "stdout"
        },
        {
          "output_type": "stream",
          "text": [
            "I0319 11:27:07.774557 139823961655168 run_classifier.py:466] input_mask: 1 1 1 1 1 1 1 1 1 1 1 1 1 1 1 1 1 1 1 1 1 1 1 1 1 1 1 1 1 1 1 0 0 0 0 0 0 0 0 0 0 0 0 0 0 0 0 0 0 0 0 0 0 0 0 0 0 0 0 0 0 0 0 0 0 0 0 0 0 0 0 0 0 0 0 0 0 0 0 0 0 0 0 0 0 0 0 0 0 0 0 0 0 0 0 0 0 0 0 0 0 0 0 0 0 0 0 0 0 0 0 0 0 0 0 0 0 0 0 0 0 0 0 0 0 0 0 0\n"
          ],
          "name": "stderr"
        },
        {
          "output_type": "stream",
          "text": [
            "INFO:tensorflow:segment_ids: 0 0 0 0 0 0 0 0 0 0 0 0 0 0 0 0 0 0 0 0 0 0 0 0 0 0 0 0 0 0 0 0 0 0 0 0 0 0 0 0 0 0 0 0 0 0 0 0 0 0 0 0 0 0 0 0 0 0 0 0 0 0 0 0 0 0 0 0 0 0 0 0 0 0 0 0 0 0 0 0 0 0 0 0 0 0 0 0 0 0 0 0 0 0 0 0 0 0 0 0 0 0 0 0 0 0 0 0 0 0 0 0 0 0 0 0 0 0 0 0 0 0 0 0 0 0 0 0\n"
          ],
          "name": "stdout"
        },
        {
          "output_type": "stream",
          "text": [
            "I0319 11:27:07.778321 139823961655168 run_classifier.py:467] segment_ids: 0 0 0 0 0 0 0 0 0 0 0 0 0 0 0 0 0 0 0 0 0 0 0 0 0 0 0 0 0 0 0 0 0 0 0 0 0 0 0 0 0 0 0 0 0 0 0 0 0 0 0 0 0 0 0 0 0 0 0 0 0 0 0 0 0 0 0 0 0 0 0 0 0 0 0 0 0 0 0 0 0 0 0 0 0 0 0 0 0 0 0 0 0 0 0 0 0 0 0 0 0 0 0 0 0 0 0 0 0 0 0 0 0 0 0 0 0 0 0 0 0 0 0 0 0 0 0 0\n"
          ],
          "name": "stderr"
        },
        {
          "output_type": "stream",
          "text": [
            "INFO:tensorflow:label: AGAINST (id = 1)\n"
          ],
          "name": "stdout"
        },
        {
          "output_type": "stream",
          "text": [
            "I0319 11:27:07.782002 139823961655168 run_classifier.py:468] label: AGAINST (id = 1)\n"
          ],
          "name": "stderr"
        },
        {
          "output_type": "stream",
          "text": [
            "INFO:tensorflow:*** Example ***\n"
          ],
          "name": "stdout"
        },
        {
          "output_type": "stream",
          "text": [
            "I0319 11:27:07.786876 139823961655168 run_classifier.py:461] *** Example ***\n"
          ],
          "name": "stderr"
        },
        {
          "output_type": "stream",
          "text": [
            "INFO:tensorflow:guid: 10680\n"
          ],
          "name": "stdout"
        },
        {
          "output_type": "stream",
          "text": [
            "I0319 11:27:07.791017 139823961655168 run_classifier.py:462] guid: 10680\n"
          ],
          "name": "stderr"
        },
        {
          "output_type": "stream",
          "text": [
            "INFO:tensorflow:tokens: [CLS] @ rush ##ette ##ny @ twitch ##yte ##am hillary to press : \" curt ##sy while you ' re thinking what to say , it saves time \" # through ##the ##lo ##oki ##ng ##glass [SEP]\n"
          ],
          "name": "stdout"
        },
        {
          "output_type": "stream",
          "text": [
            "I0319 11:27:07.794645 139823961655168 run_classifier.py:464] tokens: [CLS] @ rush ##ette ##ny @ twitch ##yte ##am hillary to press : \" curt ##sy while you ' re thinking what to say , it saves time \" # through ##the ##lo ##oki ##ng ##glass [SEP]\n"
          ],
          "name": "stderr"
        },
        {
          "output_type": "stream",
          "text": [
            "INFO:tensorflow:input_ids: 101 1030 5481 7585 4890 1030 19435 17250 3286 18520 2000 2811 1024 1000 20099 6508 2096 2017 1005 2128 3241 2054 2000 2360 1010 2009 13169 2051 1000 1001 2083 10760 4135 23212 3070 15621 102 0 0 0 0 0 0 0 0 0 0 0 0 0 0 0 0 0 0 0 0 0 0 0 0 0 0 0 0 0 0 0 0 0 0 0 0 0 0 0 0 0 0 0 0 0 0 0 0 0 0 0 0 0 0 0 0 0 0 0 0 0 0 0 0 0 0 0 0 0 0 0 0 0 0 0 0 0 0 0 0 0 0 0 0 0 0 0 0 0 0 0\n"
          ],
          "name": "stdout"
        },
        {
          "output_type": "stream",
          "text": [
            "I0319 11:27:07.798377 139823961655168 run_classifier.py:465] input_ids: 101 1030 5481 7585 4890 1030 19435 17250 3286 18520 2000 2811 1024 1000 20099 6508 2096 2017 1005 2128 3241 2054 2000 2360 1010 2009 13169 2051 1000 1001 2083 10760 4135 23212 3070 15621 102 0 0 0 0 0 0 0 0 0 0 0 0 0 0 0 0 0 0 0 0 0 0 0 0 0 0 0 0 0 0 0 0 0 0 0 0 0 0 0 0 0 0 0 0 0 0 0 0 0 0 0 0 0 0 0 0 0 0 0 0 0 0 0 0 0 0 0 0 0 0 0 0 0 0 0 0 0 0 0 0 0 0 0 0 0 0 0 0 0 0 0\n"
          ],
          "name": "stderr"
        },
        {
          "output_type": "stream",
          "text": [
            "INFO:tensorflow:input_mask: 1 1 1 1 1 1 1 1 1 1 1 1 1 1 1 1 1 1 1 1 1 1 1 1 1 1 1 1 1 1 1 1 1 1 1 1 1 0 0 0 0 0 0 0 0 0 0 0 0 0 0 0 0 0 0 0 0 0 0 0 0 0 0 0 0 0 0 0 0 0 0 0 0 0 0 0 0 0 0 0 0 0 0 0 0 0 0 0 0 0 0 0 0 0 0 0 0 0 0 0 0 0 0 0 0 0 0 0 0 0 0 0 0 0 0 0 0 0 0 0 0 0 0 0 0 0 0 0\n"
          ],
          "name": "stdout"
        },
        {
          "output_type": "stream",
          "text": [
            "I0319 11:27:07.802562 139823961655168 run_classifier.py:466] input_mask: 1 1 1 1 1 1 1 1 1 1 1 1 1 1 1 1 1 1 1 1 1 1 1 1 1 1 1 1 1 1 1 1 1 1 1 1 1 0 0 0 0 0 0 0 0 0 0 0 0 0 0 0 0 0 0 0 0 0 0 0 0 0 0 0 0 0 0 0 0 0 0 0 0 0 0 0 0 0 0 0 0 0 0 0 0 0 0 0 0 0 0 0 0 0 0 0 0 0 0 0 0 0 0 0 0 0 0 0 0 0 0 0 0 0 0 0 0 0 0 0 0 0 0 0 0 0 0 0\n"
          ],
          "name": "stderr"
        },
        {
          "output_type": "stream",
          "text": [
            "INFO:tensorflow:segment_ids: 0 0 0 0 0 0 0 0 0 0 0 0 0 0 0 0 0 0 0 0 0 0 0 0 0 0 0 0 0 0 0 0 0 0 0 0 0 0 0 0 0 0 0 0 0 0 0 0 0 0 0 0 0 0 0 0 0 0 0 0 0 0 0 0 0 0 0 0 0 0 0 0 0 0 0 0 0 0 0 0 0 0 0 0 0 0 0 0 0 0 0 0 0 0 0 0 0 0 0 0 0 0 0 0 0 0 0 0 0 0 0 0 0 0 0 0 0 0 0 0 0 0 0 0 0 0 0 0\n"
          ],
          "name": "stdout"
        },
        {
          "output_type": "stream",
          "text": [
            "I0319 11:27:07.806481 139823961655168 run_classifier.py:467] segment_ids: 0 0 0 0 0 0 0 0 0 0 0 0 0 0 0 0 0 0 0 0 0 0 0 0 0 0 0 0 0 0 0 0 0 0 0 0 0 0 0 0 0 0 0 0 0 0 0 0 0 0 0 0 0 0 0 0 0 0 0 0 0 0 0 0 0 0 0 0 0 0 0 0 0 0 0 0 0 0 0 0 0 0 0 0 0 0 0 0 0 0 0 0 0 0 0 0 0 0 0 0 0 0 0 0 0 0 0 0 0 0 0 0 0 0 0 0 0 0 0 0 0 0 0 0 0 0 0 0\n"
          ],
          "name": "stderr"
        },
        {
          "output_type": "stream",
          "text": [
            "INFO:tensorflow:label: AGAINST (id = 1)\n"
          ],
          "name": "stdout"
        },
        {
          "output_type": "stream",
          "text": [
            "I0319 11:27:07.810227 139823961655168 run_classifier.py:468] label: AGAINST (id = 1)\n"
          ],
          "name": "stderr"
        }
      ]
    },
    {
      "metadata": {
        "id": "ccp5trMwRtmr",
        "colab_type": "text"
      },
      "cell_type": "markdown",
      "source": [
        "#Creating a model\n",
        "\n",
        "Now that we've prepared our data, let's focus on building a model. `create_model` does just this below. First, it loads the BERT tf hub module again (this time to extract the computation graph). Next, it creates a single new layer that will be trained to adapt BERT to our sentiment task (i.e. classifying whether a movie review is positive or negative). This strategy of using a mostly trained model is called [fine-tuning](http://wiki.fast.ai/index.php/Fine_tuning)."
      ]
    },
    {
      "metadata": {
        "id": "6o2a5ZIvRcJq",
        "colab_type": "code",
        "colab": {}
      },
      "cell_type": "code",
      "source": [
        "def create_model(is_predicting, input_ids, input_mask, segment_ids, labels,\n",
        "                 num_labels):\n",
        "  \"\"\"Creates a classification model.\"\"\"\n",
        "\n",
        "  bert_module = hub.Module(\n",
        "      BERT_MODEL_HUB,\n",
        "      trainable=True)\n",
        "  bert_inputs = dict(\n",
        "      input_ids=input_ids,\n",
        "      input_mask=input_mask,\n",
        "      segment_ids=segment_ids)\n",
        "  bert_outputs = bert_module(\n",
        "      inputs=bert_inputs,\n",
        "      signature=\"tokens\",\n",
        "      as_dict=True)\n",
        "\n",
        "  # Use \"pooled_output\" for classification tasks on an entire sentence.\n",
        "  # Use \"sequence_outputs\" for token-level output.\n",
        "  output_layer = bert_outputs[\"pooled_output\"]\n",
        "\n",
        "  hidden_size = output_layer.shape[-1].value\n",
        "\n",
        "  # Create our own layer to tune for politeness data.\n",
        "  output_weights = tf.get_variable(\n",
        "      \"output_weights\", [num_labels, hidden_size],\n",
        "      initializer=tf.truncated_normal_initializer(stddev=0.02))\n",
        "\n",
        "  output_bias = tf.get_variable(\n",
        "      \"output_bias\", [num_labels], initializer=tf.zeros_initializer())\n",
        "\n",
        "  with tf.variable_scope(\"loss\"):\n",
        "\n",
        "    # Dropout helps prevent overfitting\n",
        "    output_layer = tf.nn.dropout(output_layer, keep_prob=0.9)\n",
        "\n",
        "    logits = tf.matmul(output_layer, output_weights, transpose_b=True)\n",
        "    logits = tf.nn.bias_add(logits, output_bias)\n",
        "    log_probs = tf.nn.log_softmax(logits, axis=-1)\n",
        "\n",
        "    # Convert labels into one-hot encoding\n",
        "    one_hot_labels = tf.one_hot(labels, depth=num_labels, dtype=tf.float32)\n",
        "\n",
        "    predicted_labels = tf.squeeze(tf.argmax(log_probs, axis=-1, output_type=tf.int32))\n",
        "    # If we're predicting, we want predicted labels and the probabiltiies.\n",
        "    if is_predicting:\n",
        "      return (predicted_labels, log_probs)\n",
        "\n",
        "    # If we're train/eval, compute loss between predicted and actual label\n",
        "    per_example_loss = -tf.reduce_sum(one_hot_labels * log_probs, axis=-1)\n",
        "    loss = tf.reduce_mean(per_example_loss)\n",
        "    return (loss, predicted_labels, log_probs)\n"
      ],
      "execution_count": 0,
      "outputs": []
    },
    {
      "metadata": {
        "id": "qpE0ZIDOCQzE",
        "colab_type": "text"
      },
      "cell_type": "markdown",
      "source": [
        "Next we'll wrap our model function in a `model_fn_builder` function that adapts our model to work for training, evaluation, and prediction."
      ]
    },
    {
      "metadata": {
        "id": "FnH-AnOQ9KKW",
        "colab_type": "code",
        "colab": {}
      },
      "cell_type": "code",
      "source": [
        "# model_fn_builder actually creates our model function\n",
        "# using the passed parameters for num_labels, learning_rate, etc.\n",
        "def model_fn_builder(num_labels, learning_rate, num_train_steps,\n",
        "                     num_warmup_steps):\n",
        "  \"\"\"Returns `model_fn` closure for TPUEstimator.\"\"\"\n",
        "  def model_fn(features, labels, mode, params):  # pylint: disable=unused-argument\n",
        "    \"\"\"The `model_fn` for TPUEstimator.\"\"\"\n",
        "\n",
        "    input_ids = features[\"input_ids\"]\n",
        "    input_mask = features[\"input_mask\"]\n",
        "    segment_ids = features[\"segment_ids\"]\n",
        "    label_ids = features[\"label_ids\"]\n",
        "\n",
        "    is_predicting = (mode == tf.estimator.ModeKeys.PREDICT)\n",
        "    \n",
        "    # TRAIN and EVAL\n",
        "    if not is_predicting:\n",
        "\n",
        "      (loss, predicted_labels, log_probs) = create_model(\n",
        "        is_predicting, input_ids, input_mask, segment_ids, label_ids, num_labels)\n",
        "\n",
        "      train_op = bert.optimization.create_optimizer(\n",
        "          loss, learning_rate, num_train_steps, num_warmup_steps, use_tpu=False)\n",
        "\n",
        "      # Calculate evaluation metrics. \n",
        "      def metric_fn(label_ids, predicted_labels):\n",
        "        accuracy = tf.metrics.accuracy(label_ids, predicted_labels)\n",
        "        '''f1_score = tf.contrib.metrics.f1_score(\n",
        "            label_ids,\n",
        "            predicted_labels)\n",
        "        auc = tf.metrics.auc(\n",
        "            label_ids,\n",
        "            predicted_labels)\n",
        "        recall = tf.metrics.recall(\n",
        "            label_ids,\n",
        "            predicted_labels)\n",
        "        precision = tf.metrics.precision(\n",
        "            label_ids,\n",
        "            predicted_labels) \n",
        "        true_pos = tf.metrics.true_positives(\n",
        "            label_ids,\n",
        "            predicted_labels)\n",
        "        true_neg = tf.metrics.true_negatives(\n",
        "            label_ids,\n",
        "            predicted_labels)   \n",
        "        false_pos = tf.metrics.false_positives(\n",
        "            label_ids,\n",
        "            predicted_labels)  \n",
        "        false_neg = tf.metrics.false_negatives(\n",
        "            label_ids,\n",
        "            predicted_labels)'''\n",
        "        return {\"eval_accuracy\": accuracy}\n",
        "      \n",
        "            \n",
        "      \n",
        "      #try to only consider labels for and against\n",
        "      eval_metrics = metric_fn(label_ids, predicted_labels)\n",
        "\n",
        "      if mode == tf.estimator.ModeKeys.TRAIN:\n",
        "        return tf.estimator.EstimatorSpec(mode=mode,\n",
        "          loss=loss,\n",
        "          train_op=train_op)\n",
        "      else:\n",
        "          return tf.estimator.EstimatorSpec(mode=mode,\n",
        "            loss=loss,\n",
        "            eval_metric_ops=eval_metrics)\n",
        "    else:\n",
        "      (predicted_labels, log_probs) = create_model(\n",
        "        is_predicting, input_ids, input_mask, segment_ids, label_ids, num_labels)\n",
        "\n",
        "      predictions = {\n",
        "          'probabilities': log_probs,\n",
        "          'labels': predicted_labels\n",
        "      }\n",
        "      return tf.estimator.EstimatorSpec(mode, predictions=predictions)\n",
        "\n",
        "  # Return the actual model function in the closure\n",
        "  return model_fn\n"
      ],
      "execution_count": 0,
      "outputs": []
    },
    {
      "metadata": {
        "id": "OjwJ4bTeWXD8",
        "colab_type": "code",
        "colab": {}
      },
      "cell_type": "code",
      "source": [
        "# Compute train and warmup steps from batch size\n",
        "# These hyperparameters are copied from this colab notebook (https://colab.sandbox.google.com/github/tensorflow/tpu/blob/master/tools/colab/bert_finetuning_with_cloud_tpus.ipynb)\n",
        "BATCH_SIZE = 32\n",
        "LEARNING_RATE = 2e-5\n",
        "NUM_TRAIN_EPOCHS = 3.0\n",
        "# Warmup is a period of time where hte learning rate \n",
        "# is small and gradually increases--usually helps training.\n",
        "WARMUP_PROPORTION = 0.1\n",
        "# Model configs\n",
        "SAVE_CHECKPOINTS_STEPS = 500\n",
        "SAVE_SUMMARY_STEPS = 100"
      ],
      "execution_count": 0,
      "outputs": []
    },
    {
      "metadata": {
        "id": "emHf9GhfWBZ_",
        "colab_type": "code",
        "colab": {}
      },
      "cell_type": "code",
      "source": [
        "# Compute # train and warmup steps from batch size\n",
        "num_train_steps = int(len(train_features) / BATCH_SIZE * NUM_TRAIN_EPOCHS)\n",
        "num_warmup_steps = int(num_train_steps * WARMUP_PROPORTION)"
      ],
      "execution_count": 0,
      "outputs": []
    },
    {
      "metadata": {
        "id": "oEJldMr3WYZa",
        "colab_type": "code",
        "colab": {}
      },
      "cell_type": "code",
      "source": [
        "# Specify outpit directory and number of checkpoint steps to save\n",
        "run_config = tf.estimator.RunConfig(\n",
        "    model_dir=OUTPUT_DIR,\n",
        "    save_summary_steps=SAVE_SUMMARY_STEPS,\n",
        "    save_checkpoints_steps=SAVE_CHECKPOINTS_STEPS)"
      ],
      "execution_count": 0,
      "outputs": []
    },
    {
      "metadata": {
        "id": "q_WebpS1X97v",
        "colab_type": "code",
        "outputId": "ba9059fc-298b-4986-d07d-f0d103f5155f",
        "colab": {
          "base_uri": "https://localhost:8080/",
          "height": 294
        }
      },
      "cell_type": "code",
      "source": [
        "model_fn = model_fn_builder(\n",
        "  num_labels=len(label_list),\n",
        "  learning_rate=LEARNING_RATE,\n",
        "  num_train_steps=num_train_steps,\n",
        "  num_warmup_steps=num_warmup_steps)\n",
        "\n",
        "estimator = tf.estimator.Estimator(\n",
        "  model_fn=model_fn,\n",
        "  config=run_config,\n",
        "  params={\"batch_size\": BATCH_SIZE})\n"
      ],
      "execution_count": 56,
      "outputs": [
        {
          "output_type": "stream",
          "text": [
            "INFO:tensorflow:Using config: {'_model_dir': 'output_directory', '_tf_random_seed': None, '_save_summary_steps': 100, '_save_checkpoints_steps': 500, '_save_checkpoints_secs': None, '_session_config': allow_soft_placement: true\n",
            "graph_options {\n",
            "  rewrite_options {\n",
            "    meta_optimizer_iterations: ONE\n",
            "  }\n",
            "}\n",
            ", '_keep_checkpoint_max': 5, '_keep_checkpoint_every_n_hours': 10000, '_log_step_count_steps': 100, '_train_distribute': None, '_device_fn': None, '_protocol': None, '_eval_distribute': None, '_experimental_distribute': None, '_service': None, '_cluster_spec': <tensorflow.python.training.server_lib.ClusterSpec object at 0x7f2ade1fc898>, '_task_type': 'worker', '_task_id': 0, '_global_id_in_cluster': 0, '_master': '', '_evaluation_master': '', '_is_chief': True, '_num_ps_replicas': 0, '_num_worker_replicas': 1}\n"
          ],
          "name": "stdout"
        },
        {
          "output_type": "stream",
          "text": [
            "I0319 11:27:08.278253 139823961655168 estimator.py:201] Using config: {'_model_dir': 'output_directory', '_tf_random_seed': None, '_save_summary_steps': 100, '_save_checkpoints_steps': 500, '_save_checkpoints_secs': None, '_session_config': allow_soft_placement: true\n",
            "graph_options {\n",
            "  rewrite_options {\n",
            "    meta_optimizer_iterations: ONE\n",
            "  }\n",
            "}\n",
            ", '_keep_checkpoint_max': 5, '_keep_checkpoint_every_n_hours': 10000, '_log_step_count_steps': 100, '_train_distribute': None, '_device_fn': None, '_protocol': None, '_eval_distribute': None, '_experimental_distribute': None, '_service': None, '_cluster_spec': <tensorflow.python.training.server_lib.ClusterSpec object at 0x7f2ade1fc898>, '_task_type': 'worker', '_task_id': 0, '_global_id_in_cluster': 0, '_master': '', '_evaluation_master': '', '_is_chief': True, '_num_ps_replicas': 0, '_num_worker_replicas': 1}\n"
          ],
          "name": "stderr"
        }
      ]
    },
    {
      "metadata": {
        "id": "NOO3RfG1DYLo",
        "colab_type": "text"
      },
      "cell_type": "markdown",
      "source": [
        "Next we create an input builder function that takes our training feature set (`train_features`) and produces a generator. This is a pretty standard design pattern for working with Tensorflow [Estimators](https://www.tensorflow.org/guide/estimators)."
      ]
    },
    {
      "metadata": {
        "id": "1Pv2bAlOX_-K",
        "colab_type": "code",
        "colab": {}
      },
      "cell_type": "code",
      "source": [
        "# Create an input function for training. drop_remainder = True for using TPUs.\n",
        "train_input_fn = bert.run_classifier.input_fn_builder(\n",
        "    features=train_features,\n",
        "    seq_length=MAX_SEQ_LENGTH,\n",
        "    is_training=True,\n",
        "    drop_remainder=False)"
      ],
      "execution_count": 0,
      "outputs": []
    },
    {
      "metadata": {
        "id": "t6Nukby2EB6-",
        "colab_type": "text"
      },
      "cell_type": "markdown",
      "source": [
        "Now we train our model! For me, using a Colab notebook running on Google's GPUs, my training time was about 14 minutes."
      ]
    },
    {
      "metadata": {
        "id": "nucD4gluYJmK",
        "colab_type": "code",
        "outputId": "2a163504-017c-404c-f59d-45475feb06d1",
        "colab": {
          "base_uri": "https://localhost:8080/",
          "height": 515
        }
      },
      "cell_type": "code",
      "source": [
        "print(f'Beginning Training!')\n",
        "current_time = datetime.now()\n",
        "estimator.train(input_fn=train_input_fn, max_steps=num_train_steps)\n",
        "print(\"Training took time \", datetime.now() - current_time)"
      ],
      "execution_count": 58,
      "outputs": [
        {
          "output_type": "stream",
          "text": [
            "Beginning Training!\n",
            "INFO:tensorflow:Calling model_fn.\n"
          ],
          "name": "stdout"
        },
        {
          "output_type": "stream",
          "text": [
            "I0319 11:27:08.830127 139823961655168 estimator.py:1111] Calling model_fn.\n"
          ],
          "name": "stderr"
        },
        {
          "output_type": "stream",
          "text": [
            "INFO:tensorflow:Saver not created because there are no variables in the graph to restore\n"
          ],
          "name": "stdout"
        },
        {
          "output_type": "stream",
          "text": [
            "I0319 11:27:12.645106 139823961655168 saver.py:1483] Saver not created because there are no variables in the graph to restore\n",
            "/usr/local/lib/python3.6/dist-packages/tensorflow/python/ops/gradients_impl.py:110: UserWarning: Converting sparse IndexedSlices to a dense Tensor of unknown shape. This may consume a large amount of memory.\n",
            "  \"Converting sparse IndexedSlices to a dense Tensor of unknown shape. \"\n"
          ],
          "name": "stderr"
        },
        {
          "output_type": "stream",
          "text": [
            "INFO:tensorflow:Done calling model_fn.\n"
          ],
          "name": "stdout"
        },
        {
          "output_type": "stream",
          "text": [
            "I0319 11:27:24.066751 139823961655168 estimator.py:1113] Done calling model_fn.\n"
          ],
          "name": "stderr"
        },
        {
          "output_type": "stream",
          "text": [
            "INFO:tensorflow:Create CheckpointSaverHook.\n"
          ],
          "name": "stdout"
        },
        {
          "output_type": "stream",
          "text": [
            "I0319 11:27:24.079625 139823961655168 basic_session_run_hooks.py:527] Create CheckpointSaverHook.\n"
          ],
          "name": "stderr"
        },
        {
          "output_type": "stream",
          "text": [
            "INFO:tensorflow:Graph was finalized.\n"
          ],
          "name": "stdout"
        },
        {
          "output_type": "stream",
          "text": [
            "I0319 11:27:26.291028 139823961655168 monitored_session.py:222] Graph was finalized.\n"
          ],
          "name": "stderr"
        },
        {
          "output_type": "stream",
          "text": [
            "INFO:tensorflow:Running local_init_op.\n"
          ],
          "name": "stdout"
        },
        {
          "output_type": "stream",
          "text": [
            "I0319 11:27:31.498679 139823961655168 session_manager.py:491] Running local_init_op.\n"
          ],
          "name": "stderr"
        },
        {
          "output_type": "stream",
          "text": [
            "INFO:tensorflow:Done running local_init_op.\n"
          ],
          "name": "stdout"
        },
        {
          "output_type": "stream",
          "text": [
            "I0319 11:27:31.780450 139823961655168 session_manager.py:493] Done running local_init_op.\n"
          ],
          "name": "stderr"
        },
        {
          "output_type": "stream",
          "text": [
            "INFO:tensorflow:Saving checkpoints for 0 into output_directory/model.ckpt.\n"
          ],
          "name": "stdout"
        },
        {
          "output_type": "stream",
          "text": [
            "I0319 11:27:42.073662 139823961655168 basic_session_run_hooks.py:594] Saving checkpoints for 0 into output_directory/model.ckpt.\n"
          ],
          "name": "stderr"
        },
        {
          "output_type": "stream",
          "text": [
            "INFO:tensorflow:loss = 1.1186547, step = 0\n"
          ],
          "name": "stdout"
        },
        {
          "output_type": "stream",
          "text": [
            "I0319 11:27:59.143070 139823961655168 basic_session_run_hooks.py:249] loss = 1.1186547, step = 0\n"
          ],
          "name": "stderr"
        },
        {
          "output_type": "stream",
          "text": [
            "INFO:tensorflow:Saving checkpoints for 59 into output_directory/model.ckpt.\n"
          ],
          "name": "stdout"
        },
        {
          "output_type": "stream",
          "text": [
            "I0319 11:29:33.149887 139823961655168 basic_session_run_hooks.py:594] Saving checkpoints for 59 into output_directory/model.ckpt.\n"
          ],
          "name": "stderr"
        },
        {
          "output_type": "stream",
          "text": [
            "INFO:tensorflow:Loss for final step: 0.24594301.\n"
          ],
          "name": "stdout"
        },
        {
          "output_type": "stream",
          "text": [
            "I0319 11:29:42.704812 139823961655168 estimator.py:359] Loss for final step: 0.24594301.\n"
          ],
          "name": "stderr"
        },
        {
          "output_type": "stream",
          "text": [
            "Training took time  0:02:34.398665\n"
          ],
          "name": "stdout"
        }
      ]
    },
    {
      "metadata": {
        "id": "CmbLTVniARy3",
        "colab_type": "text"
      },
      "cell_type": "markdown",
      "source": [
        "Now let's use our test data to see how well our model did:"
      ]
    },
    {
      "metadata": {
        "id": "JIhejfpyJ8Bx",
        "colab_type": "code",
        "colab": {}
      },
      "cell_type": "code",
      "source": [
        "test_input_fn = run_classifier.input_fn_builder(\n",
        "    features=test_features,\n",
        "    seq_length=MAX_SEQ_LENGTH,\n",
        "    is_training=False,\n",
        "    drop_remainder=False)"
      ],
      "execution_count": 0,
      "outputs": []
    },
    {
      "metadata": {
        "id": "PPVEXhNjYXC-",
        "colab_type": "code",
        "outputId": "4353150e-c38b-4a61-cf26-0b289362bff4",
        "colab": {
          "base_uri": "https://localhost:8080/",
          "height": 496
        }
      },
      "cell_type": "code",
      "source": [
        "estimator.evaluate(input_fn=test_input_fn, steps=None)"
      ],
      "execution_count": 60,
      "outputs": [
        {
          "output_type": "stream",
          "text": [
            "INFO:tensorflow:Calling model_fn.\n"
          ],
          "name": "stdout"
        },
        {
          "output_type": "stream",
          "text": [
            "I0319 11:29:43.094405 139823961655168 estimator.py:1111] Calling model_fn.\n"
          ],
          "name": "stderr"
        },
        {
          "output_type": "stream",
          "text": [
            "INFO:tensorflow:Saver not created because there are no variables in the graph to restore\n"
          ],
          "name": "stdout"
        },
        {
          "output_type": "stream",
          "text": [
            "I0319 11:29:47.389819 139823961655168 saver.py:1483] Saver not created because there are no variables in the graph to restore\n",
            "/usr/local/lib/python3.6/dist-packages/tensorflow/python/ops/gradients_impl.py:110: UserWarning: Converting sparse IndexedSlices to a dense Tensor of unknown shape. This may consume a large amount of memory.\n",
            "  \"Converting sparse IndexedSlices to a dense Tensor of unknown shape. \"\n"
          ],
          "name": "stderr"
        },
        {
          "output_type": "stream",
          "text": [
            "INFO:tensorflow:Done calling model_fn.\n"
          ],
          "name": "stdout"
        },
        {
          "output_type": "stream",
          "text": [
            "I0319 11:29:58.950342 139823961655168 estimator.py:1113] Done calling model_fn.\n"
          ],
          "name": "stderr"
        },
        {
          "output_type": "stream",
          "text": [
            "INFO:tensorflow:Starting evaluation at 2019-03-19T11:29:58Z\n"
          ],
          "name": "stdout"
        },
        {
          "output_type": "stream",
          "text": [
            "I0319 11:29:58.984103 139823961655168 evaluation.py:257] Starting evaluation at 2019-03-19T11:29:58Z\n"
          ],
          "name": "stderr"
        },
        {
          "output_type": "stream",
          "text": [
            "INFO:tensorflow:Graph was finalized.\n"
          ],
          "name": "stdout"
        },
        {
          "output_type": "stream",
          "text": [
            "I0319 11:30:00.942346 139823961655168 monitored_session.py:222] Graph was finalized.\n"
          ],
          "name": "stderr"
        },
        {
          "output_type": "stream",
          "text": [
            "INFO:tensorflow:Restoring parameters from output_directory/model.ckpt-59\n"
          ],
          "name": "stdout"
        },
        {
          "output_type": "stream",
          "text": [
            "I0319 11:30:00.954650 139823961655168 saver.py:1270] Restoring parameters from output_directory/model.ckpt-59\n"
          ],
          "name": "stderr"
        },
        {
          "output_type": "stream",
          "text": [
            "INFO:tensorflow:Running local_init_op.\n"
          ],
          "name": "stdout"
        },
        {
          "output_type": "stream",
          "text": [
            "I0319 11:30:03.372358 139823961655168 session_manager.py:491] Running local_init_op.\n"
          ],
          "name": "stderr"
        },
        {
          "output_type": "stream",
          "text": [
            "INFO:tensorflow:Done running local_init_op.\n"
          ],
          "name": "stdout"
        },
        {
          "output_type": "stream",
          "text": [
            "I0319 11:30:03.631359 139823961655168 session_manager.py:493] Done running local_init_op.\n"
          ],
          "name": "stderr"
        },
        {
          "output_type": "stream",
          "text": [
            "INFO:tensorflow:Finished evaluation at 2019-03-19-11:30:10\n"
          ],
          "name": "stdout"
        },
        {
          "output_type": "stream",
          "text": [
            "I0319 11:30:10.032144 139823961655168 evaluation.py:277] Finished evaluation at 2019-03-19-11:30:10\n"
          ],
          "name": "stderr"
        },
        {
          "output_type": "stream",
          "text": [
            "INFO:tensorflow:Saving dict for global step 59: eval_accuracy = 0.70408165, global_step = 59, loss = 0.70109594\n"
          ],
          "name": "stdout"
        },
        {
          "output_type": "stream",
          "text": [
            "I0319 11:30:10.035103 139823961655168 estimator.py:1979] Saving dict for global step 59: eval_accuracy = 0.70408165, global_step = 59, loss = 0.70109594\n"
          ],
          "name": "stderr"
        },
        {
          "output_type": "stream",
          "text": [
            "INFO:tensorflow:Saving 'checkpoint_path' summary for global step 59: output_directory/model.ckpt-59\n"
          ],
          "name": "stdout"
        },
        {
          "output_type": "stream",
          "text": [
            "I0319 11:30:10.040964 139823961655168 estimator.py:2039] Saving 'checkpoint_path' summary for global step 59: output_directory/model.ckpt-59\n"
          ],
          "name": "stderr"
        },
        {
          "output_type": "execute_result",
          "data": {
            "text/plain": [
              "{'eval_accuracy': 0.70408165, 'global_step': 59, 'loss': 0.70109594}"
            ]
          },
          "metadata": {
            "tags": []
          },
          "execution_count": 60
        }
      ]
    },
    {
      "metadata": {
        "id": "ueKsULteiz1B",
        "colab_type": "text"
      },
      "cell_type": "markdown",
      "source": [
        "Now let's write code to make predictions on new sentences:"
      ]
    },
    {
      "metadata": {
        "id": "OsrbTD2EJTVl",
        "colab_type": "code",
        "colab": {}
      },
      "cell_type": "code",
      "source": [
        "def getPrediction(in_sentences):\n",
        "  labels = [\"FAVOR\",\"AGAINST\", \"NONE\"]\n",
        "  input_examples = [run_classifier.InputExample(guid=\"\", text_a = x, text_b = None, label = \"NONE\") for x in in_sentences] # here, \"\" is just a dummy label\n",
        "  input_features = run_classifier.convert_examples_to_features(input_examples, label_list, MAX_SEQ_LENGTH, tokenizer)\n",
        "  predict_input_fn = run_classifier.input_fn_builder(features=input_features, seq_length=MAX_SEQ_LENGTH, is_training=False, drop_remainder=False)\n",
        "  predictions = estimator.predict(predict_input_fn)\n",
        "  return [(sentence, prediction['probabilities'], labels[prediction['labels']]) for sentence, prediction in zip(in_sentences, predictions)]"
      ],
      "execution_count": 0,
      "outputs": []
    },
    {
      "metadata": {
        "id": "-XkAoKSlR8Ad",
        "colab_type": "text"
      },
      "cell_type": "markdown",
      "source": [
        "Want to print the test results in a format that can be evaluated by the .pearl script supplied by semeval competition"
      ]
    },
    {
      "metadata": {
        "id": "LZewaHdRR4Fe",
        "colab_type": "code",
        "colab": {}
      },
      "cell_type": "code",
      "source": [
        "def printTestDataForCompScript():\n",
        "  labels = [\"FAVOR\",\"AGAINST\", \"NONE\"]\n",
        "  predictions = estimator.predict(test_input_fn)\n",
        "  #print(test.tweets)\n",
        "  pred = [(testId,testTarget,sentence, prediction['probabilities'], labels[prediction['labels']]) for sentence,testId,testTarget, prediction in zip(test.tweets,test.id,test.target, predictions)]\n",
        "  return(pred)"
      ],
      "execution_count": 0,
      "outputs": []
    },
    {
      "metadata": {
        "id": "-thbodgih_VJ",
        "colab_type": "code",
        "colab": {}
      },
      "cell_type": "code",
      "source": [
        "pred_sentences = [\n",
        "  \"our country is ready for a female prez, not ever hillary\",\n",
        "  \"my vote is for hillary\",\n",
        "  \"where are the emails hillary?\",\n",
        "  \"she is a fraud\",\n",
        "  \"retribution for benghazi\",\n",
        "  \"#hillaryclinton have you ever told the truth?\",\n",
        "  \"million bogus followers on twitter #hillaryclinton\",\n",
        "  \"I like my hamburgers rare\"\n",
        "]"
      ],
      "execution_count": 0,
      "outputs": []
    },
    {
      "metadata": {
        "id": "QrZmvZySKQTm",
        "colab_type": "code",
        "outputId": "4646aa8a-a5de-45ea-c446-5a3b31a558d9",
        "colab": {
          "base_uri": "https://localhost:8080/",
          "height": 274
        }
      },
      "cell_type": "code",
      "source": [
        "#predictions = getPrediction(pred_sentences)\n",
        "predictions = printTestDataForCompScript()"
      ],
      "execution_count": 64,
      "outputs": [
        {
          "output_type": "stream",
          "text": [
            "INFO:tensorflow:Calling model_fn.\n"
          ],
          "name": "stdout"
        },
        {
          "output_type": "stream",
          "text": [
            "I0319 11:30:10.323535 139823961655168 estimator.py:1111] Calling model_fn.\n"
          ],
          "name": "stderr"
        },
        {
          "output_type": "stream",
          "text": [
            "INFO:tensorflow:Saver not created because there are no variables in the graph to restore\n"
          ],
          "name": "stdout"
        },
        {
          "output_type": "stream",
          "text": [
            "I0319 11:30:14.513635 139823961655168 saver.py:1483] Saver not created because there are no variables in the graph to restore\n"
          ],
          "name": "stderr"
        },
        {
          "output_type": "stream",
          "text": [
            "INFO:tensorflow:Done calling model_fn.\n"
          ],
          "name": "stdout"
        },
        {
          "output_type": "stream",
          "text": [
            "I0319 11:30:14.768410 139823961655168 estimator.py:1113] Done calling model_fn.\n"
          ],
          "name": "stderr"
        },
        {
          "output_type": "stream",
          "text": [
            "INFO:tensorflow:Graph was finalized.\n"
          ],
          "name": "stdout"
        },
        {
          "output_type": "stream",
          "text": [
            "I0319 11:30:15.646814 139823961655168 monitored_session.py:222] Graph was finalized.\n"
          ],
          "name": "stderr"
        },
        {
          "output_type": "stream",
          "text": [
            "INFO:tensorflow:Restoring parameters from output_directory/model.ckpt-59\n"
          ],
          "name": "stdout"
        },
        {
          "output_type": "stream",
          "text": [
            "I0319 11:30:15.660292 139823961655168 saver.py:1270] Restoring parameters from output_directory/model.ckpt-59\n"
          ],
          "name": "stderr"
        },
        {
          "output_type": "stream",
          "text": [
            "INFO:tensorflow:Running local_init_op.\n"
          ],
          "name": "stdout"
        },
        {
          "output_type": "stream",
          "text": [
            "I0319 11:30:16.514425 139823961655168 session_manager.py:491] Running local_init_op.\n"
          ],
          "name": "stderr"
        },
        {
          "output_type": "stream",
          "text": [
            "INFO:tensorflow:Done running local_init_op.\n"
          ],
          "name": "stdout"
        },
        {
          "output_type": "stream",
          "text": [
            "I0319 11:30:16.605342 139823961655168 session_manager.py:493] Done running local_init_op.\n"
          ],
          "name": "stderr"
        }
      ]
    },
    {
      "metadata": {
        "id": "MXkRiEBUqN3n",
        "colab_type": "text"
      },
      "cell_type": "markdown",
      "source": [
        "Voila! We have a sentiment classifier!"
      ]
    },
    {
      "metadata": {
        "id": "ERkTE8-7oQLZ",
        "colab_type": "code",
        "outputId": "bb925763-57df-42e5-85ee-8d999df830a5",
        "colab": {
          "base_uri": "https://localhost:8080/",
          "height": 5417
        }
      },
      "cell_type": "code",
      "source": [
        "for x in predictions:\n",
        "  print(x[0] + \"\\t\" + x[1] + \"\\t\" + x[2] + \"\\t\" + x[4])"
      ],
      "execution_count": 65,
      "outputs": [
        {
          "output_type": "stream",
          "text": [
            "10676\tHillary Clinton\t@JDSon78 @AndrewBroering AndrewWhyDoYouCareAboutWhatIThink? I DidNotRealizeThatIWasThisImportant. SirTweet AndrewIsAPaidTroll \tAGAINST\n",
            "10677\tHillary Clinton\tThe white male vote is solidly GOP. The black vote is solidly DEM.  That leaves white females and brown ppl. #FeelTheBern \tAGAINST\n",
            "10678\tHillary Clinton\t@nyinvesting big banker buds need to ratchet up their \"Hillary cares about the little people\" propaganda  \tAGAINST\n",
            "10679\tHillary Clinton\t@GOP Why should I believe you on this? The GOP leaders in congress won't fight Obama now!!! #tcot \tAGAINST\n",
            "10680\tHillary Clinton\t@RushetteNY @TwitchyTeam Hillary to press: \"Curtsy while you're thinking what to say, it saves time\" #throughthelookingglass  \tAGAINST\n",
            "10681\tHillary Clinton\t@GovtsTheProblem This is what I see: Make way 4 ur queen peasants! Don'ttouch or talk 2 her U filth! #NoHillary2016 #Benghazi  \tAGAINST\n",
            "10682\tHillary Clinton\t@CNNSotu @jaketapper - Can we get back to the issues? That's what #Bernie2016 wants to talk about. Not about \tAGAINST\n",
            "10683\tHillary Clinton\t@nytimes But throws a rope around reporters and free speech.  #HillaryInNH \tAGAINST\n",
            "10684\tHillary Clinton\t#IfIhadAdollarFor wondering, was I that stupid when I was a #Democrats? #Obama #2A #NoAmnesty #WakeUpAmerica \tAGAINST\n",
            "10685\tHillary Clinton\t@BeladonnaRogers @Chairmnoomowmow The compliant media allowed themeselves to b herded by a couple of strands of rope? Good sheep! \tAGAINST\n",
            "10686\tHillary Clinton\tThe #HillaryCampaignSong Top 20 will be revealed (and voting will resume) Monday morning at 10am PT! \tAGAINST\n",
            "10687\tHillary Clinton\t@HillaryforNH will u rope off the people too Hillary swine?  #uppers #uniteblue \tAGAINST\n",
            "10688\tHillary Clinton\t.@mite72 @PatVPeters NEITHER ONE!!!! Just making a funny! \tNONE\n",
            "10689\tHillary Clinton\t@LVNancy @incessantpatrio @bcwilliams92 Yes! #SoMuchUgly in #HillaryClinton, Hollow Acts Are Infamous! #WhyImNotVotingForHillary \tAGAINST\n",
            "10690\tHillary Clinton\t@WoodenThreat @incessantpatrio @bcwilliams92 that was fun, but it wont be if we have another FAKE #POTUS #WhyImNotVotingForHillary \tNONE\n",
            "10691\tHillary Clinton\tDoes #hillaryclinton lie and engage in cover-ups to do damage to the country or does she do it out of habit?  #tcot #uniteblue \tAGAINST\n",
            "10692\tHillary Clinton\tI find allowing the deaths of Americans in Benghazi to be more offensive than the name Redskins. #Benghazi #redskins \tAGAINST\n",
            "10693\tHillary Clinton\t@Conservativeind @cannoneerfour Lets hope!  She's a killer, liar and a coward! #WakeUpAmerica #MakeAmericaGreatAgain \tAGAINST\n",
            "10694\tHillary Clinton\t@DaGodfather907 @NahBabyNah If Jebb is our candidate, we will hand Hillary the keys to 1600?Penn Ave. #WakeUpAmerica \tAGAINST\n",
            "10695\tHillary Clinton\tThe ropes might keep people back now Hillary but You WILL answer to americans come debate time you coward. #tcot #RedNationRising \tAGAINST\n",
            "10696\tHillary Clinton\tRT @harrisongolden: \"So Clinton-esque,\" Brit Hume said of Hillary's email controversy. \"You never quite get the whole truth.\"> \tAGAINST\n",
            "10697\tHillary Clinton\tI think marriage is as it has always been, between a man and a woman. - @HillaryClinton  #MarriageEquaility #justsaying \tFAVOR\n",
            "10698\tHillary Clinton\t@HillaryClinton Pin the tail on the DONKEY!  That means you Hilldawg.  #BernieSanders  #Jeb2016 #Cruz2016 #Election2016  #Rubio \tAGAINST\n",
            "10699\tHillary Clinton\t@HillarityPress @Amedicinewoman 1.Food: #Benghazi 4 NeverAteAgain 2.Weather: #Benghazi WasFireHot 3.Pets: #Benghazi 4PetsMissThem \tAGAINST\n",
            "10700\tHillary Clinton\tI'm 72 yrs old and ever since I was 6 yrs old I wanted to live long enough to see a woman President - Jim from Monticello, IA \tAGAINST\n",
            "10701\tHillary Clinton\tWhat Are We Believing in?  BELIEVE IN VICTORY. Go for  #VICTORY2016  \tNONE\n",
            "10702\tHillary Clinton\tThe federal government did not create the states, the states created the federal government. Ronald Reagan #Federalism \tAGAINST\n",
            "10703\tHillary Clinton\t@tracieeeeee @Irishsmiles1966 @Chloecat317 @weknowwhatsbest THINK POSITIVELY! #OiP #Cruz2016 #MakeDCListen #NoRINOs #NoLibProgs \tAGAINST\n",
            "10704\tHillary Clinton\tCongratulations to our Women Soccer Team for just winning the World Cup against Japan 5-2, women rule ! #freeallfour \tNONE\n",
            "10705\tHillary Clinton\tTeam USA  showed the world what American women are capable of! Is Hillary next? #WWC2015 \tAGAINST\n",
            "10706\tHillary Clinton\t@HillaryClinton: Here's to fearless women chasing their goals. Congratulations, Team #USA! H \tFAVOR\n",
            "10707\tHillary Clinton\t@deeceejazz Do we really want to know what's under those pantsuits? Besides the black heart of evil. \tNONE\n",
            "10708\tHillary Clinton\t@HillaryClinton FUCK OFF CROTCH ROT BITCH  WE ALL KNOW WHAT YOU THINK ABOUT WOMEN AND RAPED GIRLS #HILLARYCLINTON #USA \tAGAINST\n",
            "10709\tHillary Clinton\tBeware of #Kochtrolls bashing our candidates. I will not bash #Hillary. She's my plan B, for gosh sakes. #Bernie2016 \tAGAINST\n",
            "10710\tHillary Clinton\t@Breaking911 Probably she made a promise to support gun rights to one citizen, while promising to ban guns to the other \tAGAINST\n",
            "10711\tHillary Clinton\t@nolyklibs Awww does #Killary think posing for that pic will make her look like a real human? @jlconnell66 #Benghazi #Shillary \tAGAINST\n",
            "10712\tHillary Clinton\t@danmericaCNN @GenGSPatton @danamericaIt looked like they were the ones tying the knots. @jlconnell66 #Killary \tAGAINST\n",
            "10713\tHillary Clinton\tRT @hamackey: RT @SlyDude3677: @msnbc  Republican Menu...pic.twitter.com/z4PH6VTJFl  \tAGAINST\n",
            "10714\tHillary Clinton\tThe press needs to get out of the way so the peasants can get a glimpse of her Highness. #morningjoe  \tAGAINST\n",
            "10715\tHillary Clinton\t@HillaryClinton had a duty to preserve ESI Now it's someone's duty to prosecute & sanction her Apparently \"duty\" is irrelevant \tAGAINST\n",
            "10716\tHillary Clinton\t@dougshelton749 @realDonaldTrump  #HRC would be an even bigger threat to America than #Obummer.   #WakeUpAmerica \tAGAINST\n",
            "10717\tHillary Clinton\t@AppSame: Queen @HillaryClinton Was asked What she thought about @realDonaldTrump comments on illegals She Said LET ME EAT PIE \tAGAINST\n",
            "10718\tHillary Clinton\t@dougshelton749   Let's hope her campaign unravels before Dec.  We can't have this liar as next President.  \tAGAINST\n",
            "10719\tHillary Clinton\t@dougshelton749  If @realDonaldTrump finds evidence, he will expose #HRC as the horrible candidate she is.  \tAGAINST\n",
            "10720\tHillary Clinton\t@dougshelton749 @realDonaldTrump  I'd be happy if that scandal brings her down.  There will be others...  \tAGAINST\n",
            "10721\tHillary Clinton\tRT @CattyHipster: Live today like it's your last day. But pay bills and dress appropriately just in case it isn't. #420 \tNONE\n",
            "10722\tHillary Clinton\t@TheJackOBrien @instapundit BOOM! I believe the 6th 'reporter' from the left has forgotten her mittens. #MediaStiffArmed \tAGAINST\n",
            "10723\tHillary Clinton\tThat's true, as long as one works hard, has a record of accomplishment and deserves it. @HillaryClinton NOT \tFAVOR\n",
            "10724\tHillary Clinton\tAKA Depends Day \"It all depends\" and Owebama's positions make you fill your Depends. @jjauthor @weknowwhatsbest \tAGAINST\n",
            "10725\tHillary Clinton\t#HillaryClinton wants to be elected (thinks she's entitled)to WORK 4 the PEOPLE, & yet, she wants nothing to do with them!#peons \tAGAINST\n",
            "10726\tHillary Clinton\t@WashTimes This is indefensible! One of the dumbest things I have ever seen a campaign do. Even the left was outraged by this.  \tAGAINST\n",
            "10727\tHillary Clinton\t@thehill Who's in charge of Hillary's campaign? Please get it under control and on message. #smh \tAGAINST\n",
            "10728\tHillary Clinton\t@tiffiwestcott  I got mine and I love it. \tNONE\n",
            "10729\tHillary Clinton\tEducation should not be a debt sentence! -Former State Representative Patricia Harper  #FellowsIA \tAGAINST\n",
            "10730\tHillary Clinton\tHillary Clinton is a devious & deceitful career politician. She is the Richard Nixon of our time. \tAGAINST\n",
            "10731\tHillary Clinton\tHRC is a war monger, every bit as bad as any Republican in the race, and probably worse than some. \tAGAINST\n",
            "10732\tHillary Clinton\tIt's interesting how many liberals are so brainwashed and anxious to mindlessly support a woman who isn't even liberal \tAGAINST\n",
            "10733\tHillary Clinton\tThe young Skinheads from yesterday's Aryan Nations has grown up to become the Tea Party of today. Same exact doctrine @msnbc  \tAGAINST\n",
            "10734\tHillary Clinton\tIf it's been 80+ days since you've done an interview,  can we assume you're not really running for president? \tAGAINST\n",
            "10735\tHillary Clinton\t@peddoc63 @Fr3333dom Seems the way we're going. Lord, I hope Bilderbergs don't pay for Hitlery like they did O. \tAGAINST\n",
            "10736\tHillary Clinton\tI dislike our idiots as much as I dislike theirs. \tNONE\n",
            "10737\tHillary Clinton\tTake care of your finances. Spend sensibly. Save for a rainy day. Live within your means. Resist greed. #Greece \tNONE\n",
            "10738\tHillary Clinton\t@politicalmath @BoboFromTexas doesn't matter. Nobody cares if the Clintons make mistakes as long as the checks keep coming. \tAGAINST\n",
            "10739\tHillary Clinton\tI don't know how well a socialist is gonna play with southern democrats. #BernieSanders \tAGAINST\n",
            "10740\tHillary Clinton\t@Slate @pinkbunny70 Buh-bye, Bernie. I agree w/most of your platform, but your gun stance is unacceptable. #ENDTHENRA \tAGAINST\n",
            "10741\tHillary Clinton\tBarrack Obama doesn't care about his own town! Where do you live? Think he cares about you?   #TheFive #NoSanctuaryCities #2A \tAGAINST\n",
            "10742\tHillary Clinton\tThe recent comments of #HillaryClinton sounded like it was #Netanyahu speaking. Doesn't bode well. \tAGAINST\n",
            "10743\tHillary Clinton\tThere's a special place in hell for those who complain more about Hillary than the scum we're fighting. #Obama \tAGAINST\n",
            "10744\tHillary Clinton\t@PantanoLaw Thanks for the follow, may God bless you and your family.  #freeallfour \tNONE\n",
            "10745\tHillary Clinton\tDana made this shirt w/ lots of #glitter! #awesome #decoration \tAGAINST\n",
            "10746\tHillary Clinton\t@Camilian1Sabel Amen to that, everybody has to pay their way, no welfare either.  #freeallfour \tNONE\n",
            "10747\tHillary Clinton\tWait...... you said \"BILL COSBY?\"  Oh, I'm sorry, I thought you said \"BILL CLINTON!\"  #uniteblue #ReadyForHillary \tAGAINST\n",
            "10748\tHillary Clinton\tRhodham Hood: It takes a village to  community organize wealth redistribution Obama-style.   \tAGAINST\n",
            "10749\tHillary Clinton\tI just don't think we need an old white guy in the #WH - Who would his #VP be? voting for \tAGAINST\n",
            "10750\tHillary Clinton\tSO ANYWAYS WHAT DID HE SAY? ANYTHING ABOUT VOTING FOR ME? #OBAMA #ISIS #ISIL \tAGAINST\n",
            "10751\tHillary Clinton\tWHAT IS \"THE THREAD OF VIOLIN EXTREMISM?\" #OBAMA #ISIS #ISIL #tcot #Elocution \tAGAINST\n",
            "10752\tHillary Clinton\tRight now every liberal in America is feeling hopeful. We have GREAT Prez candidates. #UniteBlue #FeelTheBern \tFAVOR\n",
            "10753\tHillary Clinton\t@TGowdySC Your committee has NOTHING!, 4 other committees found NOTHING! UR wasting our money on a witch hunt. #HillaryClinton \tAGAINST\n",
            "10754\tHillary Clinton\t@Reince This is very credible! Good work! America is desperately in need of good leadership. #VoteGOP #NoHillary \tAGAINST\n",
            "10755\tHillary Clinton\t@AdamSmith_USA Nice video. GOOD Luck WITH it. \tNONE\n",
            "10756\tHillary Clinton\t@HillaryClinton @HillaryforNH hope to see her in NC soon \tFAVOR\n",
            "10757\tHillary Clinton\tI'm going to miss the 5pm interview so I'm depending on you all to live tweet it. Haha \tNONE\n",
            "10758\tHillary Clinton\tWhile I like Bernie as much as the next liberal, if we nominate him we could actually lose to some RWNJ \tAGAINST\n",
            "10759\tHillary Clinton\tWondering if my Hilary 2016 sticker will affect my popularity at the shooting range... #firstdate \tNONE\n",
            "10760\tHillary Clinton\t@AdamSmith_USA because clearly @HillaryClinton is a champion for us all. \tFAVOR\n",
            "10761\tHillary Clinton\t@SenSanders bashes Obama job numbers.Calling it a lie. #istandwithPresidentObama #VoteBlue2016 #HillaryClinton #Democrats \tAGAINST\n",
            "10762\tHillary Clinton\tjust saw ad about @marcorubio being tough on #iran it made my brain hurt #Election2016 #politics \tAGAINST\n",
            "10763\tHillary Clinton\t@MarkSoveign won't happen again. Hillary's coattails will help all democrats. Take back senate, Keep WH! Make history again! \tAGAINST\n",
            "10764\tHillary Clinton\t@HillaryClinton now can add #ropegate to her long list of \"accomplishments #hillaryforprison2016 #entertainment \tAGAINST\n",
            "10765\tHillary Clinton\tTea Party Nation, Tea Party group listed by Southern Poverty Law Center as hate group. The Tea Party is The NEW Aryan Nations \tAGAINST\n",
            "10766\tHillary Clinton\tIt's time that we move from good words to good works, from sound bites to sound solutions.--@HillaryClinton #ReadyForHillary \tFAVOR\n",
            "10767\tHillary Clinton\t.@politicoroger It is 2015. You and the other high minded media are not more important than then story. Have a seat. \tNONE\n",
            "10768\tHillary Clinton\t@irritatedwoman She lied under oath before, why trust her to speak the truth now? \tAGAINST\n",
            "10769\tHillary Clinton\tTrue Christians follow Mathew, Mark, Luke and John. GOP-Tea Party anti-Christians follow Hannity Limbaugh, O'Reilly and Palin \tAGAINST\n",
            "10770\tHillary Clinton\t@HillaryClinton the @DalaiLama speaks of women in leadership roles bringing about a more compassionate world. #potus \tAGAINST\n",
            "10771\tHillary Clinton\t@HillaryforNV Many thanks for the follow! \tFAVOR\n",
            "10772\tHillary Clinton\t@gabriellahope_ @HillaryClinton Does the general public trust her enough to be President? Don't think so. \tAGAINST\n",
            "10773\tHillary Clinton\tBased on the long lines, I thought it was free burrito day at Pancheros but it was actually Hillary! #ReadyForHillary \tAGAINST\n",
            "10774\tHillary Clinton\tI've been called many things, quitter is not one of them -@HillaryClinton in Iowa City Public Library #HillaryforIA \tAGAINST\n",
            "10775\tHillary Clinton\t@HillaryClinton condemns anti-Israel boycotts as 'counter-productive' \tAGAINST\n",
            "10776\tHillary Clinton\tHave full faith in @HillaryClinton's campaign. #strategy #politics \tFAVOR\n",
            "10777\tHillary Clinton\tAmazing, inspiring speech&question session in Iowa City from @HillaryClinton .Her answers on education&health care were clear. \tFAVOR\n",
            "10778\tHillary Clinton\t@OutnumberedFNC: Hillary chooses Brianna Keilar for her first interview. What can we expect? \tAGAINST\n",
            "10779\tHillary Clinton\tAnyone who knows or whiteness bigotry & does nothing is just as guilty 4 not doing anything morningjoe #UniteBIue \tNONE\n",
            "10780\tHillary Clinton\t@trayNTP Why doesn't he run as a Socialist? Then he can hit Obama anytime he wants. Otherwise, it's just not done. #Bernie \tAGAINST\n",
            "10781\tHillary Clinton\t@OutnumberedFNC: Hillary chooses Brianna Keilar for her first interview. What can we expect? Disgusting slobbering over her. \tAGAINST\n",
            "10782\tHillary Clinton\tMy whole day is revolving around @HillaryClinton 's interview with @brikeilarcnn on @CNN and I'm okay with that! \tAGAINST\n",
            "10783\tHillary Clinton\t@LeighAnnKopans can I get your pattern for this cross stitch? I want to make my own! #pride \tNONE\n",
            "10784\tHillary Clinton\tHillary Clinton Accomplishment of the Day: extended full military health benefits to reservists and National Guard members. \tAGAINST\n",
            "10785\tHillary Clinton\tIf @HillaryClinton becomes president I'm not leaving the country I will just go \"undocumented. \tAGAINST\n",
            "10786\tHillary Clinton\t7 years ago this month #POTUS released his groundbreaking First Americans tribal policy platform. You're up #Election2016 \tAGAINST\n",
            "10787\tHillary Clinton\t@kwrcrow Probably for the same reason bho has not ...& @SpeakerBoehner is one of them @GOP @HouseGOP @seanhannity  #StopBush \tAGAINST\n",
            "10788\tHillary Clinton\t#HillaryClinton just cannot accept the fact that #America does not like her. #HillaryonCNN #BernieSanders \tAGAINST\n",
            "10789\tHillary Clinton\t@HillaryClinton is plain amazing, humble, smart and confident! Let's get it Mrs. President! #HillaryClinton \tFAVOR\n",
            "10790\tHillary Clinton\t@thehill Great now Hillary knows how the american people feel about the majority of politicians including her \tAGAINST\n",
            "10791\tHillary Clinton\tShe's smarter and works harder . Empty accusations,inferences,gossip and rumors are rubbish. \tAGAINST\n",
            "10792\tHillary Clinton\t@MedvedSHOW   wow.  So shrill. Hating Hillary as badly as you hate homeless, transgenders, and people who ride trains \tAGAINST\n",
            "10793\tHillary Clinton\t@kasie I do! And I had an invitation to their beta test before they even officially launched. #HillaryLies \tFAVOR\n",
            "10794\tHillary Clinton\t@CNN @jimsciutto Good i'view #Brianna. #Hillary NOT responsible 4 slander/libel-lies r indefensible. WILL be next #POTUS. \tAGAINST\n",
            "10795\tHillary Clinton\tEither way, @HillaryClinton rises above the media chatter every time. That's one reason why I admire and respect her so much. \tFAVOR\n",
            "10796\tHillary Clinton\t@TwitchyTeam ...and then she'll turn around and treat them like dogs. #RopeLine #SitUbuSitGoodDog \tAGAINST\n",
            "10797\tHillary Clinton\tObama is 'opportunist,' Hillary Clinton no different just 'more militant' - Chomsky #TruthBeTold #notmypresident \tAGAINST\n",
            "10798\tHillary Clinton\t@USATODAY @HillaryClinton how about finding her a #pathtoJAIL #DONOTPASSGO do collect any Any more of #WeThePeople s \tAGAINST\n",
            "10799\tHillary Clinton\t@AC360 of course she is disappointed. Hillary only approves of lying to Americans. #WakeUpAmerica #pjnet \tAGAINST\n",
            "10800\tHillary Clinton\tTrying 2 unfollow every twit who isn't going 2 vote if their candidate doesn't make it to the general.  #FeelTheBern   #SCOTUS \tAGAINST\n",
            "10801\tHillary Clinton\tROFLMAO! 2012 @GOP couldnt kiss enough of #DonaldTrump ass! Now GOP cant run fast enough. #tcot #uniteblue #Bernie2016 \tAGAINST\n",
            "10802\tHillary Clinton\t@HillaryClinton made me proud today!  Nothing like reinforcing what I already knew!  \tFAVOR\n",
            "10803\tHillary Clinton\t@N_Fatale @bayareahausfrau ILLEGAL IMMIGRATION IS GOOD FOR THE ECONOMY AND GOOD FOR OUR CHILDREN #tcot \tNONE\n",
            "10804\tHillary Clinton\t@HillaryClinton great job on @CNN interview today.  Fuck stupid MSM. Go \tAGAINST\n",
            "10805\tHillary Clinton\tHillary upset GOP candidates didn't respond to Trump's illegal imm comments immediately-yet we're still waiting for her emails. \tAGAINST\n",
            "10806\tHillary Clinton\t@HillaryClinton Many of us r near ruin! #SaveTheMiddleClass #PresidentHillaryClinton #StopOutSourcing \tAGAINST\n",
            "10807\tHillary Clinton\tAmerica has no tolerance for cheaters and liars in the White House. #NoBillary #Women4GOP #PresidentialElection2016 \tAGAINST\n",
            "10808\tHillary Clinton\t@HillaryClinton Will #BillClinton assault #MonicaLewinsky on her birthday? #liberals #HillaryClinton \tAGAINST\n",
            "10809\tHillary Clinton\tIf Hillary wins next year it'll be the first time two presidents have had sex with each other \tAGAINST\n",
            "10810\tHillary Clinton\tPresident Jimmy Carter:  There's no doubt Hillary will get the nomination. And when she does I'll be happy to support her \tFAVOR\n",
            "10811\tHillary Clinton\t@StarCoreOne02 @DrMartyFox Is it still 1992? We must be watching Back To The Future 10.0 \tNONE\n",
            "10812\tHillary Clinton\t.@thehill umm.  Yyyeaaaaah. Sure they do. \tNONE\n",
            "10813\tHillary Clinton\t@JedediahBila u must be counting the lies like sheep ..... \tNONE\n",
            "10814\tHillary Clinton\tTechnology has exposed more bad politicians than bad cops....Where Is Our Server Hillary? #CNN \tAGAINST\n",
            "10815\tHillary Clinton\tFree and Equal in dignity and rights. \tNONE\n",
            "10816\tHillary Clinton\t@CheerUpKaci @tmacGA70 It's the Clinton history of scandalous behavior.  #Integrity knows no sex. #HillaryonCNN \tAGAINST\n",
            "10817\tHillary Clinton\tEntire campaign platform for @HillaryClinton seems to be... \"I'm Hillary Clinton\".  #norecord #nosubstance #tcot #PJNET \tAGAINST\n",
            "10818\tHillary Clinton\tImagine @JoeBiden runs for POTUS. Without a doubt a strong & popularly likable candidate against the Clinton. ------- \tAGAINST\n",
            "10819\tHillary Clinton\tA lot of #GOPHaters for #Hillary - so funny because she is beating them all at 40% \tAGAINST\n",
            "10820\tHillary Clinton\tSUCCESS:  @HillaryClinton said she's receiving a constant barrage of attacks from \"the Right.\"  Great job, guys. Keep it up! \tAGAINST\n",
            "10821\tHillary Clinton\tDo you Progressives know how dangerously close you are to suppressing free speech? Stop it.   #inners  #readyforhillary \tAGAINST\n",
            "10822\tHillary Clinton\t#Democrats and #Obama reduce OUR Army by 40,000   MEANWHILE   Has increased IRS to 100,000  #HillaryClinton #Hillary \tAGAINST\n",
            "10823\tHillary Clinton\t@CNNPolitics @PoliticalAnt @moody this is beautiful #oops \tAGAINST\n",
            "10824\tHillary Clinton\t#NoHillary2016 & her #PredatorRat, too. MT \"@steve0423: We need to get these stickers up nationwide! #tcot #RedNationRising \tAGAINST\n",
            "10825\tHillary Clinton\t@forewit @HillaryClinton is a degenerate liar who will do, say, cheat, delete, anything to get another squat at 1600 Penn Ave. \tAGAINST\n",
            "10826\tHillary Clinton\t@Reince Hardly a hard-hitting interview like with GOP candidates. Did CNN preclear its questions with her campaign in advance?? \tAGAINST\n",
            "10827\tHillary Clinton\tDemocrats want power for themselves. Republicans will give YOU the power! #Election2016 \tAGAINST\n",
            "10828\tHillary Clinton\tDad while watching the news:  Politics is just show business for ugly people #HowAboutNo \tNONE\n",
            "10829\tHillary Clinton\t.@thedailybeast such a waste of space #CrackingCeilings \tNONE\n",
            "10830\tHillary Clinton\t@KrownRoyaleNY @jjauthor Bad for her is good for the U.S. @jlconnell66 #Killary \tAGAINST\n",
            "10831\tHillary Clinton\tRT @JohnFugelsang: They should just make the GOP primaries a reality game show called \"Who Wants To Get Beat Up By A Girl? \tAGAINST\n",
            "10832\tHillary Clinton\t@csham21 @EstadodeSats Thank you so much for supportive #Freedom4Cuba RTs! #WakeUpAmerica #Cuba #TodosMarchamos \tNONE\n",
            "10833\tHillary Clinton\tCan't #UniteBlue, RT LindaSuhler: Hillary:People Trust Me, Blames 'Constant Barrage of Attacks' By the Right #delusional #WakeUpA... \tAGAINST\n",
            "10834\tHillary Clinton\t@M_E_Adams if a Demonrat were to win I'd prefer Sanders over Killary. \tAGAINST\n",
            "10835\tHillary Clinton\t@jschau11 wow!!! i can halp too!! #OBAMASUCKS #BLOWUPISIS #NOIRS #NOSHARIAUSA #NOAMNESTY #DAMNTHAT140  #USARULES...#ILOVETHIS #(:) \tAGAINST\n",
            "10836\tHillary Clinton\t#WhatILearnedToday @HillaryClinton already admitted to having at least 2 devices, more lies, it never stops \tAGAINST\n",
            "10837\tHillary Clinton\t@DesireeAaron @HillaryClinton  Sheets Clinton Ya got to love it #HillaryonCNN #HillaryClinton \tFAVOR\n",
            "10838\tHillary Clinton\t.@jaketapper The way @HillaryClinton keeps lying I swear her father's real last name is Geppetto. #TCOT #WakeUpAmerica \tAGAINST\n",
            "10839\tHillary Clinton\tIt's a beautiful day for phone banking at the Hill House on 1529 Richland Street! Join us tonight at 6PM! @HillaryforSC \tFAVOR\n",
            "10840\tHillary Clinton\t@ahbrees @TODAYshow  Attack? More like the daily liberal media defend Hillary and her lies!! \tAGAINST\n",
            "10841\tHillary Clinton\t@DeatonCAPT Simple. Govt benefits. Surprised it's only 42%. Must be some dependents who want off welfare. \tAGAINST\n",
            "10842\tHillary Clinton\t@stylistkavin Amazing how much they sound like Republicans! ; ) #ITrustHillary \tAGAINST\n",
            "10843\tHillary Clinton\t@pdg811 Didn't realize I was in a Republican echo chamber of faux scandals! Ask Gowdy to #Releasethetranscript  #ITrustHillary \tAGAINST\n",
            "10844\tHillary Clinton\tHillary Clinton has amassed $329 million in her career (3 of her top 5 donors are Citigroup, Goldman & JP Morgan). #Bernie2016 \tAGAINST\n",
            "10845\tHillary Clinton\t#HillaryonCNN   The wicked person flees when no one is chasing them - Proverbs  \tAGAINST\n",
            "10846\tHillary Clinton\t@Scott_R_Ellis the reason she struggles to appear genuine is she is not a genuine person. Actions speak louder than words.  \tAGAINST\n",
            "10847\tHillary Clinton\t@Levee_Breaks  The stench of low tide.is lasting NO! ===> \tNONE\n",
            "10848\tHillary Clinton\t@CNNPolitics @JDiamond1 that's so ridiculous to treat people like that. They are doing their jobs. \tAGAINST\n",
            "10849\tHillary Clinton\tHilarity of the day: Hillary said she went 'above and beyond' in transparency. Really? What about the 30k deleted emails? \tAGAINST\n",
            "10850\tHillary Clinton\t@HillaryClinton Wow, #HillaryClinton looks very fat in that pants suit. #liberals #tlot #Democrats \tAGAINST\n",
            "10851\tHillary Clinton\t@HillaryClinton interview was ridiculous!! She's such a liar! \tAGAINST\n",
            "10852\tHillary Clinton\tEvery time the republicans move to the middle, the liberals move the middle further to the left. \tAGAINST\n",
            "10853\tHillary Clinton\t.@HillaryClinton blames her lack of trust among the populace on @GOP, forgetting that she's a lying, conniving, murderous, cheat. \tAGAINST\n",
            "10854\tHillary Clinton\tHillary has sacrificed more Ambassadors, told more lies, hid and destroyed more evidence... The beat goes on,,, @McSadie \tAGAINST\n",
            "10855\tHillary Clinton\t@thehill : Women deserve a better candidate for the HIGH HONOR if first woman President: We ALL do! #WhyI'mNotVotingForHillary \tFAVOR\n",
            "10856\tHillary Clinton\tA circus Act such as Donald Trump is short term entertainment. Soon to be canceled. \tAGAINST\n",
            "10857\tHillary Clinton\t@churstauthor Thanks for the follow Charles, may God bless you and your family !  #freeallfour \tNONE\n",
            "10858\tHillary Clinton\t@alison_rambles @RickCanton @ResistTyranny @RotNScoundrel @LeahR77 @LeahRBoss @RedStateJake  Because I have Grand Children!  \tAGAINST\n",
            "10859\tHillary Clinton\tIf it weren't for her marriage, Hillary would unknown. Thanks a lot, Bill.  RT @MangyLover #HIllaryClinton #WeDontTrustYouHillary \tAGAINST\n",
            "10860\tHillary Clinton\t@TajMagruder  Facetious much? Had me going there. \tNONE\n",
            "10861\tHillary Clinton\t@realDonaldTrump has my vote! The truth will set you free and we need transparency in Washington now more than ever! \tNONE\n",
            "10862\tHillary Clinton\t.@HillaryClinton is a liar & corrupt.  Period. End of story.  #criminal #liar #hillaryforprison #uppers #tcot \tAGAINST\n",
            "10863\tHillary Clinton\tRepublicans in the White House will make America great again! #Trump #educateyourself #boycottlibralmedia \tAGAINST\n",
            "10864\tHillary Clinton\t@AndreaTantaros Clinton privilege transcends white privilege, rock star privilege, NFL privilege & intergalactic alien privilege. \tAGAINST\n",
            "10865\tHillary Clinton\tHillary has learned The Blame Game well from Obama - she blames GOP for everything! \tAGAINST\n",
            "10866\tHillary Clinton\twhen i get married to my partner i want @HillaryClinton to be my maid of honor!  #govote #girlpower #lovewins \tFAVOR\n",
            "10867\tHillary Clinton\tHey!!! If anyone wants to help with the Hillary camp at Charlotte pride, let me know!!! #nc #pride #lgbt \tFAVOR\n",
            "10868\tHillary Clinton\tAre we so desperate in this country to seriously consider a 60+ woman as president? \tAGAINST\n",
            "10869\tHillary Clinton\t@JOEROWE409 @ScotsFyre Hillaey Clinton can't help but lie...it's who she really is. \tAGAINST\n",
            "10870\tHillary Clinton\tHillary \"We came, we saw, he [Gaddaffi] died\" psychopath Clinton. #HillaryonCNN #Nothanks \tAGAINST\n",
            "10871\tHillary Clinton\tIt bugs me when some people seek to invalidate centrist Democrats. I prefer a bigger tent. \tAGAINST\n",
            "10872\tHillary Clinton\tJoin the Hillary team now and come to the Jefferson County phone bank tomorrow from 6-8 at Bliss Studio in Fairfield! \tFAVOR\n",
            "10873\tHillary Clinton\tMining is where all the money is but our \"Leader\" says otherwise #ArrestObama #RedNationRising #OperationBendOver #NoSanctuary \tAGAINST\n",
            "10874\tHillary Clinton\tI wish #OliviaPope could run @HillaryClinton 's campaign... #Scandal #livisreal \tAGAINST\n",
            "10875\tHillary Clinton\tLiberal's, why ARE you so intolerant?!? Why were your parents so intolerant? And their parents? #UniteBlue \tAGAINST\n",
            "10876\tHillary Clinton\t@CNN One would hope everyone would be fired up over such a blatant lie \tNONE\n",
            "10877\tHillary Clinton\tHillary gave her first big interview. Did she talk about the issues? Did she rally the left? Nope. Total dud. #Bernie2016 \tAGAINST\n",
            "10878\tHillary Clinton\t#Clintonemails are just a prelude of what her presidency could be if elected, a myrad of scandals @GOP @FloridaGOP @marcorubio \tAGAINST\n",
            "10879\tHillary Clinton\t@CNN and CNN proved they are not a legitimate news organization by not calling her out about all her lies. #JournalismIsDead \tAGAINST\n",
            "10880\tHillary Clinton\tWe stand with the great #Baltimore mayor! Fire all the Crooks in Uniform! @MayorSRB #FreddieGray #hannity @donlemon #BlueWall \tAGAINST\n",
            "10881\tHillary Clinton\tHRC is delusional in addition to being a pathological liar.  1%er to the extreme.  \tNONE\n",
            "10882\tHillary Clinton\tThis is the 3rd time in U.S. that Republicans has a vacuum of presidential leadership. \tAGAINST\n",
            "10883\tHillary Clinton\t'Hilary is not electable' then you stand no chance @realDonaldTrump #carnivalbarker \tAGAINST\n",
            "10884\tHillary Clinton\tIf Hillary Clinton is elected president in 2016, this nation will surely experience unprecedented destruction. \tAGAINST\n",
            "10885\tHillary Clinton\t@HillaryClinton : \"Change religious beliefs\" to accommodate the violence of abortion?! #WhyI'mNotVotingForHillary \tAGAINST\n",
            "10886\tHillary Clinton\tVoting Republican in 2016 gets you so much more than a free cellphone! #Election2016 \tAGAINST\n",
            "10887\tHillary Clinton\t@HillaryClinton had a Legal obligation to prevent the destruction (preserve) Gov't & related documents (email). She didn't. \tAGAINST\n",
            "10888\tHillary Clinton\t@3_Card_Monty : I believe the title would be \"First Lord\". Let THAT sink in!! #PJNET \tNONE\n",
            "10889\tHillary Clinton\t@Independent Maybe it's his last name? Or maybe he's a bonafide racist with a militia membership. Lol. #Tattoos \tNONE\n",
            "10890\tHillary Clinton\tYou know, when you talk bad about Hillary, in a sense, you're talking bad about me. \tAGAINST\n",
            "10891\tHillary Clinton\tI will give the Jewish state all the support to vanquish Hamas & if that means killing 200,000 Gazans, than so be it. - \tNONE\n",
            "10892\tHillary Clinton\tWhy did you lie about the #Benghazi subpoena? @HillaryClinton  No wonder no one trusts you.  \tAGAINST\n",
            "10893\tHillary Clinton\t@JoanOfArgghh I won't use the c-word, so I'll just say that everything Clinton does is a \"cunning stunt\". #HillaryonCNN \tAGAINST\n",
            "10894\tHillary Clinton\tControlling #illegalimmigration is Now Racist According to @ChrisCuomo #NewDayCNN  Let's Bash #Trump ALL Day AGAIN #morningjoe \tNONE\n",
            "10895\tHillary Clinton\tVow today to fight the #FirstFamilyOfCorruption .@billclinton  .@hillaryclinton & keep her out of office #independents #tcot \tAGAINST\n",
            "10896\tHillary Clinton\tDuring ClintonNo.1 prez stint all we heard was 'right wing conspiracy' -it's starting again \tAGAINST\n",
            "10897\tHillary Clinton\tJeb Bush says Americans should work longer hours. I'll do just that... TO ELECT HILLARY CLINTON! \tFAVOR\n",
            "10898\tHillary Clinton\t@AC360 asked @realDonaldTrump the tough questions.  Too bad @CNN didn't ask @HillaryClinton the tough questions.  \tAGAINST\n",
            "10899\tHillary Clinton\t@HillaryClinton : Women deserve a better candidate for the HIGH HONOR of first woman President. We ALL do! \tFAVOR\n",
            "10900\tHillary Clinton\t@HillaryNews #GoKatie Ted you're not going to be President! #HillaryAllTheWay #GayMarriageisLegal #LGBT #GLAAD #PFLAG  \tAGAINST\n",
            "10901\tHillary Clinton\tI stand with @HillaryClinton I know she is for women, poor,children, middle class and GUN CONTROL. \tAGAINST\n",
            "10902\tHillary Clinton\t@NoahCRothman \"Everything I did was permitted.\" -HRC. \"If God is dead, all things are permitted\" -Dostoyevsky.  #tcot \tNONE\n",
            "10903\tHillary Clinton\t#EpicLiberalFail Hilary lied about Banghazi and is caught on audio biahahaha #p2 #uniteblue #libcrib #libtards \tAGAINST\n",
            "10904\tHillary Clinton\tEnjoyed @jamiaw article on feminism + @hillaryclinton.We are building campaign that engages ppl through an intersectional lens \tAGAINST\n",
            "10905\tHillary Clinton\tGW Bush gives $100K speech to wounded vets...then sells uranium to Russia. Oh wait. \tAGAINST\n",
            "10906\tHillary Clinton\t@_Holly_Renee I want to fav this tweet....cause it's hilarious. But I give no support to #HillaryClinton \tAGAINST\n",
            "10907\tHillary Clinton\tGOP Busted Trey Gowdy proved their #Benghazi hearings are politically motivated when he leaked documents to the press  \tAGAINST\n",
            "10908\tHillary Clinton\t@Chairmnoomowmow @DrMartyFox I'm on team \"Anyone other than Hillary \tAGAINST\n",
            "10909\tHillary Clinton\t@HillaryClinton Are those women #BillClinton's next targets for assault? #MonicaLewinsky #WarOnWomen #HillaryClinton #tlot \tAGAINST\n",
            "10910\tHillary Clinton\tTrey Gowdy proved their #Benghazi hearings are politically motivated when he leaked documents to the press   \tAGAINST\n",
            "10911\tHillary Clinton\tyou can't bitch at me for donating to Dems.  Only way to get business done with them is to grease the skids #bribe #paytoplay \tAGAINST\n",
            "10912\tHillary Clinton\tPeople should and do trust me.  -woman who also denied getting a subpoena Trey Gowdy served her before she deleted emails \tAGAINST\n",
            "10913\tHillary Clinton\t@iaaronmitch Right now I think we're all sending special thanks to Donald Trump. \tNONE\n",
            "10914\tHillary Clinton\t@peddoc63 @steph93065 @ChrisHollyMusic she's needs an Orange pantsuit! Permanently! #hillaryforprison #wakeupamerica #pjnet \tAGAINST\n",
            "10915\tHillary Clinton\they @HillaryClinton when you LIED about the lack of a subpoena...you REALLY thought you wouldn't get caught? #LIAR #Corruptocrat \tAGAINST\n",
            "10916\tHillary Clinton\t@HillaryClinton lies just for the fun of it, its CRAZY!!!!! #NoHillary #WhyImNotVotingForHillary \tAGAINST\n",
            "10917\tHillary Clinton\t@murphymike @blakehounshell @ScottFConroy let's see jebs emails from 2000 when he helped his idiot brother steal the presidency \tAGAINST\n",
            "10918\tHillary Clinton\tI BLOCKED 2 Liberals Today!..A Very Good Thursday! #GODBLESSTHEUSA #HardCoreAmericanConservative #2A #NRA #ArticleV  #NoMoreBushes \tAGAINST\n",
            "10919\tHillary Clinton\t@rhhhhh380 What we need to do is support all Republicans and criticize the opposition. \tAGAINST\n",
            "10920\tHillary Clinton\t@JessicaAndSandr I have 2 words for u  #Benghazi  #whitewater. She's morally questionable. We as women should demand better \tAGAINST\n",
            "10921\tHillary Clinton\t@Westxgal @irisflower33: This money will buy the Anti-American Libs including \tAGAINST\n",
            "10922\tHillary Clinton\t@HillaryClinton Hillary is a Directioner! This is awesome! :-) They need to sing at your Inauguration! \tFAVOR\n",
            "10923\tHillary Clinton\tOk now Latino are deciding who is going to be president of the US #Jeb2016 #DonaldTrump #Sanders2016 # \tAGAINST\n",
            "10924\tHillary Clinton\tOnly @theDemocrats want #crimigrants running amok in U.S. Cities.   #CancerIsProgressive \tAGAINST\n",
            "10925\tHillary Clinton\t@LeahR77 @HillaryClinton the unethical lying granny strikes again.  No charisma, no character, no accomplishments, no warmth \tAGAINST\n",
            "10926\tHillary Clinton\tHey Hillary Clinton...How's things working out on #Servergate? Bury enough evidence yet?    #tcot \tAGAINST\n",
            "10927\tHillary Clinton\tDidn't take long for Clinton lackey @PaulBegala to play the \"crazy\" card. So predictable \tAGAINST\n",
            "10928\tHillary Clinton\tI dont understand the people that bash Donald Trump but take Hillary Clinton seriously \tAGAINST\n",
            "10929\tHillary Clinton\tDid you hear the answer Hillary gave to a reporter when they asked a question?!?   Neither have I.  \tAGAINST\n",
            "10930\tHillary Clinton\tHillarity claims no subpoenas, get put in her place with photographic evidence... So trustworthy... #WhatILearnedToday \tAGAINST\n",
            "10931\tHillary Clinton\tHillary has flipped yet again, and is now pro-sanctuary cities. \tAGAINST\n",
            "10932\tHillary Clinton\tHillary says people should and do trust her, phew wee I am glad she finally got that issue behind her. \tAGAINST\n",
            "10933\tHillary Clinton\t@LMdonney @HillaryClinton Thank you Carol 4your support and work in pursuit of electing @HillaryClinton POTUS.  #ITrustHillary \tFAVOR\n",
            "10934\tHillary Clinton\tPondering why virtually all of my female friends, regardless of party, say they find Hillary annoying. \tAGAINST\n",
            "10935\tHillary Clinton\t@HillaryClinton @TheDemocrats How many Xanax does this wretched bitch need to sleep at night? \tAGAINST\n",
            "10936\tHillary Clinton\tHillary Clinton is the only one who can turn this country around we don't need another man in the office. #endsexism \tAGAINST\n",
            "10937\tHillary Clinton\tRepublican on facebook said :If it comes down to a choice between Donald Trump and Hillary,  I'm not voting! \tAGAINST\n",
            "10938\tHillary Clinton\tAt the end of the day, support the candidate w/best chance of beating the progressive democrat.  Don't stay home.  #UniteRight \tAGAINST\n",
            "10939\tHillary Clinton\t@sgtis0905 @UnPoliticalPrty Never forget @emaleroland #Benghazi Shackle the criminal element \tAGAINST\n",
            "10940\tHillary Clinton\tOne wonders, if your Government ignores the law, the rest of us can too right?  Just say no to  \tAGAINST\n",
            "10941\tHillary Clinton\tIt just depends on what the  definition of the word \"subponea\" is...  #subponea \tAGAINST\n",
            "10942\tHillary Clinton\tSpitting on clergy.  Burning the American flag.  Shaming American ideology.  It's Obama's America, and @HillaryClinton loves it.   \tAGAINST\n",
            "10943\tHillary Clinton\t@donnabrazile @DougHeye So this woman does one thing to help. She's GOP - she's, ultimately, the enemy - don't doubt it \tAGAINST\n",
            "10944\tHillary Clinton\t@MarkBratlien Hi Mark, thank you so much for your follow, may God bless you and yours.  #freeallfour \tNONE\n",
            "10945\tHillary Clinton\t@szabosolicitors Thanks for the follow counselor, may God bless you and your family !  #freeallfour \tNONE\n",
            "10946\tHillary Clinton\t@jjauthor Janie, I am honored to be followed by you, thank you and God bless you.  #freeallfour \tNONE\n",
            "10947\tHillary Clinton\t@FaithWarJournal Thank You for the follow, may God bless you all !  #freeallfour \tNONE\n",
            "10948\tHillary Clinton\t@lylafmills Simple. A revolution Two Independence Days And a clean slate. #2ndamendment #REMEMBERBENGHAZI2016 #PATRIOTSWILLRISE \tAGAINST\n",
            "10949\tHillary Clinton\tSo over 20 million government employees got their private info stolen. Has anyone checked @HillaryClinton server?  #2016 #Fail \tAGAINST\n",
            "10950\tHillary Clinton\tThe rebel flag flew off the pole & pulled trigger on gun that fired by itself  liberal dementia growing  daily #2a #rebelflag \tNONE\n",
            "10951\tHillary Clinton\t@TheAtlantic cause  #Hillary Clinton is a LYING THEIVING CUNT  \tAGAINST\n",
            "10952\tHillary Clinton\t@billodoux Thanks for the follow, that his by far the cutest avatar I have seen, God bless you all ! #freealfour \tNONE\n",
            "10953\tHillary Clinton\tProud of @HillaryClinton for supporting stronger gun control measures. #ReadyForHillary \tFAVOR\n",
            "10954\tHillary Clinton\tSo @HillaryClinton received a Subpoena to Testify & She ignored it! Is Hillary above The Law Now?  \tAGAINST\n",
            "10955\tHillary Clinton\tI'm conservative but I must admit I'd rather see @SenSanders as president than Mrs. Clinton. #stillvotingGOP #politics \tAGAINST\n",
            "10956\tHillary Clinton\t@Braidleigh 2016 is the due year for possible revolution.  The water has yet to boil over. #BetOnRed #PatriotsWillRise \tAGAINST\n",
            "10957\tHillary Clinton\t@SaysMissy HRC takes us Americans for mindless fools!! How insulting! #PJNET #OiP \tNONE\n",
            "10958\tHillary Clinton\t@BadgerGeno @kreichert27 @jackbahlman Too busy protesting :) #LoveForAll #BackdoorBadgers \tAGAINST\n",
            "10959\tHillary Clinton\tChelsea and her bitch mother #HillaryClinton should of committed suicide and spare the world of their hideous pasty face \tAGAINST\n",
            "10960\tHillary Clinton\tWouldn't be surprise that it comes to light that Chelsea's husband cheats on her. #HillaryClinton \tAGAINST\n",
            "10961\tHillary Clinton\tWouldn't be surprise that it comes to light that Chelsea's husband cheats on her like her Bill did on Hillary. #HillaryClinton \tAGAINST\n",
            "10962\tHillary Clinton\tThe blacks cant admit that O is a failure. No, we dont need another affirmative action president #Obama #communism \tAGAINST\n",
            "10963\tHillary Clinton\t<<I'm just going to be my own little self and kind of keep going along and saying what I believe in!!1!! >> #tcot \tNONE\n",
            "10964\tHillary Clinton\tI think that everything she says is a lie.   I mean EVERYTHING.   I don't even think her name is Hillary.  #WakeUpAmerica \tAGAINST\n",
            "10965\tHillary Clinton\t.@HillaryClinton Looking 4ward 2 hearing your Economic Agenda on Monday July13. WOW a candidate talking Specifics & not Rhetoric! \tAGAINST\n",
            "10966\tHillary Clinton\t@mataharikrishna I'm loving it too! Draw that contrast!!! \tNONE\n",
            "10967\tHillary Clinton\t@finneyk Can't stand @msnbc anymore, but hope @HillaryClinton will go on the @maddow Show! This needs to happen!! \tAGAINST\n",
            "10968\tHillary Clinton\tHillary can't create jobs! Last time she had a job to do, she outsourced it to Monica Lewinsky. \tAGAINST\n",
            "10969\tHillary Clinton\tIt's amazing to me how if you want a secure border & a legal process to immigration that makes sense, it means you are racist. \tNONE\n"
          ],
          "name": "stdout"
        }
      ]
    }
  ]
}