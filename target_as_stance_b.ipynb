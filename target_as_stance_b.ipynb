{
  "nbformat": 4,
  "nbformat_minor": 0,
  "metadata": {
    "colab": {
      "name": "target as stance b.ipynb",
      "version": "0.3.2",
      "provenance": [],
      "collapsed_sections": [],
      "toc_visible": true,
      "include_colab_link": true
    },
    "kernelspec": {
      "name": "python3",
      "display_name": "Python 3"
    },
    "accelerator": "GPU"
  },
  "cells": [
    {
      "cell_type": "markdown",
      "metadata": {
        "id": "view-in-github",
        "colab_type": "text"
      },
      "source": [
        "<a href=\"https://colab.research.google.com/github/kod11/bert/blob/master/target_as_stance_b.ipynb\" target=\"_parent\"><img src=\"https://colab.research.google.com/assets/colab-badge.svg\" alt=\"Open In Colab\"/></a>"
      ]
    },
    {
      "metadata": {
        "id": "j0a4mTk9o1Qg",
        "colab_type": "code",
        "colab": {}
      },
      "cell_type": "code",
      "source": [
        "# Copyright 2019 Google Inc.\n",
        "\n",
        "# Licensed under the Apache License, Version 2.0 (the \"License\");\n",
        "# you may not use this file except in compliance with the License.\n",
        "# You may obtain a copy of the License at\n",
        "\n",
        "#     http://www.apache.org/licenses/LICENSE-2.0\n",
        "\n",
        "# Unless required by applicable law or agreed to in writing, software\n",
        "# distributed under the License is distributed on an \"AS IS\" BASIS,\n",
        "# WITHOUT WARRANTIES OR CONDITIONS OF ANY KIND, either express or implied.\n",
        "# See the License for the specific language governing permissions and\n",
        "# limitations under the License."
      ],
      "execution_count": 0,
      "outputs": []
    },
    {
      "metadata": {
        "id": "dCpvgG0vwXAZ",
        "colab_type": "text"
      },
      "cell_type": "markdown",
      "source": [
        "#Predicting Movie Review Sentiment with BERT on TF Hub"
      ]
    },
    {
      "metadata": {
        "id": "xiYrZKaHwV81",
        "colab_type": "text"
      },
      "cell_type": "markdown",
      "source": [
        "If you’ve been following Natural Language Processing over the past year, you’ve probably heard of BERT: Bidirectional Encoder Representations from Transformers. It’s a neural network architecture designed by Google researchers that’s totally transformed what’s state-of-the-art for NLP tasks, like text classification, translation, summarization, and question answering.\n",
        "\n",
        "Now that BERT's been added to [TF Hub](https://www.tensorflow.org/hub) as a loadable module, it's easy(ish) to add into existing Tensorflow text pipelines. In an existing pipeline, BERT can replace text embedding layers like ELMO and GloVE. Alternatively, [finetuning](http://wiki.fast.ai/index.php/Fine_tuning) BERT can provide both an accuracy boost and faster training time in many cases.\n",
        "\n",
        "Here, we'll train a model to predict whether an IMDB movie review is positive or negative using BERT in Tensorflow with tf hub. Some code was adapted from [this colab notebook](https://colab.sandbox.google.com/github/tensorflow/tpu/blob/master/tools/colab/bert_finetuning_with_cloud_tpus.ipynb). Let's get started!\n",
        "\n",
        "EDIT: all 3 labels"
      ]
    },
    {
      "metadata": {
        "id": "hsZvic2YxnTz",
        "colab_type": "code",
        "colab": {
          "base_uri": "https://localhost:8080/",
          "height": 54
        },
        "outputId": "2f9ac79c-f967-4ad9-81d2-bf1b21c7a11b"
      },
      "cell_type": "code",
      "source": [
        "from sklearn.model_selection import train_test_split\n",
        "import pandas as pd\n",
        "import tensorflow as tf\n",
        "import tensorflow_hub as hub\n",
        "from datetime import datetime"
      ],
      "execution_count": 2,
      "outputs": [
        {
          "output_type": "stream",
          "text": [
            "WARNING: Logging before flag parsing goes to stderr.\n",
            "W0319 13:28:56.674965 140377472046976 __init__.py:56] Some hub symbols are not available because TensorFlow version is less than 1.14\n"
          ],
          "name": "stderr"
        }
      ]
    },
    {
      "metadata": {
        "id": "cp5wfXDx5SPH",
        "colab_type": "text"
      },
      "cell_type": "markdown",
      "source": [
        "In addition to the standard libraries we imported above, we'll need to install BERT's python package."
      ]
    },
    {
      "metadata": {
        "id": "jviywGyWyKsA",
        "colab_type": "code",
        "outputId": "094ed187-0eb6-4e6f-a3b6-fcea6711c88d",
        "colab": {
          "base_uri": "https://localhost:8080/",
          "height": 54
        }
      },
      "cell_type": "code",
      "source": [
        "!pip install bert-tensorflow"
      ],
      "execution_count": 3,
      "outputs": [
        {
          "output_type": "stream",
          "text": [
            "Requirement already satisfied: bert-tensorflow in /usr/local/lib/python3.6/dist-packages (1.0.1)\n",
            "Requirement already satisfied: six in /usr/local/lib/python3.6/dist-packages (from bert-tensorflow) (1.11.0)\n"
          ],
          "name": "stdout"
        }
      ]
    },
    {
      "metadata": {
        "id": "hhbGEfwgdEtw",
        "colab_type": "code",
        "colab": {}
      },
      "cell_type": "code",
      "source": [
        "import bert\n",
        "from bert import run_classifier\n",
        "from bert import optimization\n",
        "from bert import tokenization"
      ],
      "execution_count": 0,
      "outputs": []
    },
    {
      "metadata": {
        "id": "KVB3eOcjxxm1",
        "colab_type": "text"
      },
      "cell_type": "markdown",
      "source": [
        "Below, we'll set an output directory location to store our model output and checkpoints. This can be a local directory, in which case you'd set OUTPUT_DIR to the name of the directory you'd like to create. If you're running this code in Google's hosted Colab, the directory won't persist after the Colab session ends.\n",
        "\n",
        "Alternatively, if you're a GCP user, you can store output in a GCP bucket. To do that, set a directory name in OUTPUT_DIR and the name of the GCP bucket in the BUCKET field.\n",
        "\n",
        "Set DO_DELETE to rewrite the OUTPUT_DIR if it exists. Otherwise, Tensorflow will load existing model checkpoints from that directory (if they exist)."
      ]
    },
    {
      "metadata": {
        "id": "US_EAnICvP7f",
        "colab_type": "code",
        "outputId": "2d8a6db4-c16c-410e-9718-36fa0f4591c2",
        "cellView": "form",
        "colab": {
          "base_uri": "https://localhost:8080/",
          "height": 35
        }
      },
      "cell_type": "code",
      "source": [
        "# Set the output directory for saving model file\n",
        "# Optionally, set a GCP bucket location\n",
        "\n",
        "OUTPUT_DIR = 'output_directory'#@param {type:\"string\"}\n",
        "#@markdown Whether or not to clear/delete the directory and create a new one\n",
        "DO_DELETE = True #@param {type:\"boolean\"}\n",
        "#@markdown Set USE_BUCKET and BUCKET if you want to (optionally) store model output on GCP bucket.\n",
        "USE_BUCKET = False #@param {type:\"boolean\"}\n",
        "BUCKET = 'BUCKET_NAME' #@param {type:\"string\"}\n",
        "\n",
        "if USE_BUCKET:\n",
        "  OUTPUT_DIR = 'gs://{}/{}'.format(BUCKET, OUTPUT_DIR)\n",
        "  from google.colab import auth\n",
        "  auth.authenticate_user()\n",
        "\n",
        "if DO_DELETE:\n",
        "  try:\n",
        "    tf.gfile.DeleteRecursively(OUTPUT_DIR)\n",
        "  except:\n",
        "    # Doesn't matter if the directory didn't exist\n",
        "    pass\n",
        "tf.gfile.MakeDirs(OUTPUT_DIR)\n",
        "print('***** Model output directory: {} *****'.format(OUTPUT_DIR))\n"
      ],
      "execution_count": 5,
      "outputs": [
        {
          "output_type": "stream",
          "text": [
            "***** Model output directory: output_directory *****\n"
          ],
          "name": "stdout"
        }
      ]
    },
    {
      "metadata": {
        "id": "pmFYvkylMwXn",
        "colab_type": "text"
      },
      "cell_type": "markdown",
      "source": [
        "#Data"
      ]
    },
    {
      "metadata": {
        "id": "MC_w8SRqN0fr",
        "colab_type": "text"
      },
      "cell_type": "markdown",
      "source": [
        "First, let's download the dataset, hosted by Stanford. The code below, which downloads, extracts, and imports the IMDB Large Movie Review Dataset, is borrowed from [this Tensorflow tutorial](https://www.tensorflow.org/hub/tutorials/text_classification_with_tf_hub)."
      ]
    },
    {
      "metadata": {
        "id": "fom_ff20gyy6",
        "colab_type": "code",
        "colab": {}
      },
      "cell_type": "code",
      "source": [
        "from tensorflow import keras\n",
        "import os\n",
        "import re\n",
        "BERT_CASE = \"uncased\"\n",
        "\n",
        "# Load all files from a directory in a DataFrame.\n",
        "def load_directory_data(directory):\n",
        "  data = {}\n",
        "  data[\"tweet\"] = []\n",
        "  data[\"stance\"] = []\n",
        "  for file_path in os.listdir(directory):\n",
        "    with tf.gfile.GFile(os.path.join(directory, file_path), \"r\") as f:\n",
        "      data[\"tweet\"].append(f.read())\n",
        "      data[\"stance\"].append(re.match(\"\\d+_(\\d+)\\.txt\", file_path).group(1))\n",
        "  return pd.DataFrame.from_dict(data)\n",
        "\n",
        "# Merge positive and negative examples, add a polarity column and shuffle.\n",
        "def load_dataset(directory):\n",
        "  #pos_df = load_directory_data(os.path.join(directory, \"pos\"))\n",
        "  #neg_df = load_directory_data(os.path.join(directory, \"neg\"))\n",
        "  #pos_df[\"polarity\"] = 1\n",
        "  #neg_df[\"polarity\"] = 0\n",
        "  return pd.concat([pos_df, neg_df]).sample(frac=1).reset_index(drop=True)\n",
        "\n",
        "# Download and process the dataset files.\n",
        "#def download_and_load_datasets(force_download=False):\n",
        "  #dataset = tf.keras.utils.get_file(\n",
        "      #fname=\"aclImdb.tar.gz\", \n",
        "      #origin=\"http://ai.stanford.edu/~amaas/data/sentiment/aclImdb_v1.tar.gz\", \n",
        "      #extract=True)\n",
        "def download_and_load_datasets():\n",
        "  #train_df = load_dataset(\"content/hillaryTrain.tsv\")\n",
        "  #test_df = load_dataset(\"content/hillaryTest.tsv\")\n",
        "  #train_df = pd.read_csv(\"hillaryTrain.tsv\", sep=\"\\t\")\n",
        "  #test_df = pd.read_csv(\"hillaryTest.tsv\", sep=\"\\t\")\n",
        "  train_df = pd.read_csv(\"trainCopyAll.tsv\", sep=\"\\t\",encoding='latin1')\n",
        "  test_df = pd.read_csv(\"testdataAll.tsv\", sep=\"\\t\",encoding='latin1')\n",
        "  train_df.columns = [\"id\",\"target\",\"tweets\",\"stance\",\"againstwho\",\"sentiment\"]\n",
        "  test_df.columns = [\"id\",\"target\",\"tweets\",\"stance\",\"againstwho\",\"sentiment\"]\n",
        "  #remove rows with no stance\n",
        "  #train_df = train_df[train_df.stance != \"NONE\"]\n",
        "  #test_df = test_df[test_df.stance != \"NONE\"]\n",
        "  #shuffle\n",
        "  train_df = train_df.sample(frac=1)\n",
        "  #test_df = test_df.sample(frac=1)\n",
        "  return train_df, test_df\n"
      ],
      "execution_count": 0,
      "outputs": []
    },
    {
      "metadata": {
        "id": "2abfwdn-g135",
        "colab_type": "code",
        "colab": {}
      },
      "cell_type": "code",
      "source": [
        "train, test = download_and_load_datasets()"
      ],
      "execution_count": 0,
      "outputs": []
    },
    {
      "metadata": {
        "id": "prRQM8pDi8xI",
        "colab_type": "code",
        "outputId": "2effddb6-83a4-4ccc-955b-8c750428d87d",
        "colab": {
          "base_uri": "https://localhost:8080/",
          "height": 22957
        }
      },
      "cell_type": "code",
      "source": [
        "train.columns\n",
        "test.columns\n",
        "print(test.to_string())"
      ],
      "execution_count": 36,
      "outputs": [
        {
          "output_type": "stream",
          "text": [
            "         id                            target                                             tweets   stance againstwho sentiment\n",
            "0     10002                           Atheism  RT @prayerbullets: I remove Nehushtan -previou...  AGAINST     TARGET   NEITHER\n",
            "1     10003                           Atheism  @Brainman365 @heidtjj @BenjaminLives I have so...  AGAINST     TARGET  POSITIVE\n",
            "2     10004                           Atheism  #God is utterly powerless without Human interv...  AGAINST     TARGET  NEGATIVE\n",
            "3     10005                           Atheism  @David_Cameron   Miracles of #Multiculturalism...  AGAINST      OTHER  NEGATIVE\n",
            "4     10006                           Atheism  This world needs a tight group hug. Tight enou...  AGAINST     TARGET  POSITIVE\n",
            "5     10007                           Atheism  Morality is not derived from religion, it prec...  AGAINST     TARGET  POSITIVE\n",
            "6     10008                           Atheism  A Godly husband  - knows you - trusts you - lo...  AGAINST     TARGET  POSITIVE\n",
            "7     10009                           Atheism  @SecularDutchess I'll be your huckleberry @Dea...  AGAINST      OTHER   NEITHER\n",
            "8     10010                           Atheism  #BIBLE = Big Irrelevant Book of Lies and Exagg...  AGAINST     TARGET  NEGATIVE\n",
            "9     10011                           Atheism  If only dreams were real, now it's gone. #Sing...  AGAINST      OTHER  NEGATIVE\n",
            "10    10012                           Atheism  Happy Independence Day to America and her beau...  AGAINST      OTHER  POSITIVE\n",
            "11    10013                           Atheism  Let my house be built by wisdom and become str...  AGAINST     TARGET  POSITIVE\n",
            "12    10014                           Atheism  These days, the cool kids are atheists.  #free...  AGAINST     TARGET  POSITIVE\n",
            "13    10015                           Atheism  Next time you hear someone say that our Foundi...  AGAINST     TARGET  NEGATIVE\n",
            "14    10016                           Atheism  #ILoveIslamBecause and v should love Islam bec...  AGAINST     TARGET  POSITIVE\n",
            "15    10017                           Atheism  Be a sinner and sin strongly, but more strongl...  AGAINST     TARGET  POSITIVE\n",
            "16    10018                           Atheism  #God > My fears God > My insecurities God > My...  AGAINST     TARGET  POSITIVE\n",
            "17    10019                           Atheism    Mary, Queen of martyrs, pray for us. #Catholic   AGAINST     TARGET  POSITIVE\n",
            "18    10020                           Atheism  America, like all of us, has both beauty and b...  AGAINST      OTHER  NEGATIVE\n",
            "19    10021                           Atheism  Every life is a profession of faith, and exerc...  AGAINST      OTHER  POSITIVE\n",
            "20    10022                           Atheism  I am Baloch and I will not allow Talibanizatio...  AGAINST     TARGET  NEGATIVE\n",
            "21    10023                           Atheism  He became a slave to the cross that men could ...  AGAINST     TARGET  POSITIVE\n",
            "22    10024                           Atheism  Exo.20.13-15 - ...Do not commit murder...DO NO...  AGAINST      OTHER  NEGATIVE\n",
            "23    10025                           Atheism  Phew! Am glad we came to our senses and worshi...  AGAINST     TARGET  NEGATIVE\n",
            "24    10026                           Atheism  Exo.28.12 - ...So that I, the Lord, will alway...  AGAINST     TARGET  POSITIVE\n",
            "25    10027                           Atheism  #JaganNathAzad, a #Hindu, was asked by founder...  AGAINST     TARGET   NEITHER\n",
            "26    10028                           Atheism  Father, grant us grace to remain holy and a ve...  AGAINST     TARGET  POSITIVE\n",
            "27    10029                           Atheism  Who cares if this person or that person is xti...  AGAINST     TARGET  NEGATIVE\n",
            "28    10030                           Atheism  I still remember the days when I prayed God fo...  AGAINST      OTHER  POSITIVE\n",
            "29    10031                           Atheism  You'll never know how much God can do in your ...  AGAINST     TARGET  POSITIVE\n",
            "30    10032                           Atheism  Jesus response to a religious environment  was...  AGAINST      OTHER  POSITIVE\n",
            "31    10033                           Atheism  Sanctify them through Thy Truth: Thy Word is T...  AGAINST     TARGET  POSITIVE\n",
            "32    10034                           Atheism  Psalm 86:17 Is. 7:14 God will give you a sign....  AGAINST     TARGET  POSITIVE\n",
            "33    10035                           Atheism  The Best #conspiracy of the world is #Religion...  AGAINST     TARGET  NEGATIVE\n",
            "34    10036                           Atheism  American conservatism has everything to do wit...  AGAINST      OTHER  NEGATIVE\n",
            "35    10037                           Atheism  The #humanist church is the new cloth. #kissTh...  AGAINST     TARGET  POSITIVE\n",
            "36    10038                           Atheism  You stay the same through the ages, Your love ...  AGAINST      OTHER  POSITIVE\n",
            "37    10039                           Atheism  Just know that you're not an accident and that...  AGAINST     TARGET  POSITIVE\n",
            "38    10040                           Atheism  I am addicted to your light.  Everywhere I loo...  AGAINST      OTHER  POSITIVE\n",
            "39    10041                           Atheism  FAITH sees beyond the difficulties and counts ...  AGAINST      OTHER  POSITIVE\n",
            "40    10042                           Atheism  Watch @Dame_Lillard bring the Blazers to the p...  AGAINST      OTHER  POSITIVE\n",
            "41    10043                           Atheism  The Irish national school system is secular un...  AGAINST     TARGET  POSITIVE\n",
            "42    10044                           Atheism  We often talk of unbelief as if it were an aff...  AGAINST     TARGET  NEGATIVE\n",
            "43    10045                           Atheism  @dsurman  Jesus is favor of all, that they wou...  AGAINST     TARGET  POSITIVE\n",
            "44    10046                           Atheism  Currently doing a piece on logical fallacies f...  AGAINST     TARGET   NEITHER\n",
            "45    10047                           Atheism  Proud to be #TeamJinnah :) No Bhutto, no Imran...  AGAINST     TARGET  POSITIVE\n",
            "46    10048                           Atheism  Great baptism service at #woodgreen very movin...  AGAINST     TARGET  POSITIVE\n",
            "47    10049                           Atheism  Religious holidays should not be public. #Righ...  AGAINST     TARGET  NEGATIVE\n",
            "48    10050                           Atheism  I officiate #humanist & most #nonreligious wed...  AGAINST     TARGET  POSITIVE\n",
            "49    10051                           Atheism  RT @br_holden: Religions are perfectly happy t...  AGAINST     TARGET  NEGATIVE\n",
            "50    10052                           Atheism  RT @br_holden: Superstition-based thoughts ten...  AGAINST     TARGET  NEGATIVE\n",
            "51    10053                           Atheism  RT @br_holden: Just say no to superstitious th...  AGAINST     TARGET  NEGATIVE\n",
            "52    10054                           Atheism  RT @br_holden: Atheists have every right to ex...  AGAINST      OTHER  POSITIVE\n",
            "53    10055                           Atheism  RT @GMHumanistChoir: We're currently looking f...  AGAINST      OTHER  POSITIVE\n",
            "54    10056                           Atheism  @Rowdman53 Atheist are offended with Christian...  AGAINST     TARGET  NEGATIVE\n",
            "55    10057                           Atheism  Pushing beyond the absurd The light in darkene...  AGAINST     TARGET  NEGATIVE\n",
            "56    10058                           Atheism        Your word has given me life -Ps. 119:49-50   AGAINST     TARGET  POSITIVE\n",
            "57    10059                           Atheism  God gives us the right to do what we want; as ...  AGAINST     TARGET  POSITIVE\n",
            "58    10060                           Atheism  The deeper I go with in- The deeper~> the sile...  AGAINST     TARGET  POSITIVE\n",
            "59    10061                           Atheism  RT @faithsns716: Psalm103:3-Who forgives all y...  AGAINST      OTHER  POSITIVE\n",
            "60    10062                           Atheism  James 1:14 (#KJV) But every man is TEMPTED, wh...  AGAINST     TARGET  NEGATIVE\n",
            "61    10063                           Atheism  We are human. It is human nature to eat and dr...  AGAINST      OTHER  NEGATIVE\n",
            "62    10064                           Atheism  RT @ACatholicPrayer: Holy Trinity, one God, Ha...  AGAINST      OTHER  POSITIVE\n",
            "63    10065                           Atheism  @LadyLydiaD When you become a Father you reali...  AGAINST     TARGET  POSITIVE\n",
            "64    10066                           Atheism  Is near where we will be told not 2 preach in ...  AGAINST      OTHER   NEITHER\n",
            "65    10067                           Atheism  What really builds a relationship is when we r...  AGAINST      OTHER  POSITIVE\n",
            "66    10068                           Atheism  I am human. I look forward to the extinction o...  AGAINST      OTHER  POSITIVE\n",
            "67    10069                           Atheism  Moral relativism does not feed into democracy ...  AGAINST     TARGET  NEGATIVE\n",
            "68    10070                           Atheism  By faith we receive what Christ did for us and...  AGAINST      OTHER  POSITIVE\n",
            "69    10071                           Atheism  Let Your fear come upon every soul in my city ...  AGAINST     TARGET  NEGATIVE\n",
            "70    10072                           Atheism  Absolutely fucking sick & tired of the religio...    FAVOR     TARGET  NEGATIVE\n",
            "71    10073                           Atheism  In other related news. Boko Haram has killed o...     NONE     NO ONE  NEGATIVE\n",
            "72    10074                           Atheism  Join me on #Periscope M-F @ 8am! #Entrepreneur...  AGAINST     NO ONE  POSITIVE\n",
            "73    10075                           Atheism  Praise and thank God for everything in your li...  AGAINST      OTHER  POSITIVE\n",
            "74    10076                           Atheism  If Jesus is present, it is impossible for your...  AGAINST      OTHER  POSITIVE\n",
            "75    10077                           Atheism  Heaven and earth will pass away, but My words ...  AGAINST      OTHER  POSITIVE\n",
            "76    10078                           Atheism  #KCA #VoteJKT48ID premierdigi: Are Facebook an...  AGAINST      OTHER  NEGATIVE\n",
            "77    10079                           Atheism  @CrownFmradio899 however impossible it may sou...  AGAINST     TARGET  POSITIVE\n",
            "78    10080                           Atheism  Imagine a species that had split the atom and ...    FAVOR     TARGET  NEGATIVE\n",
            "79    10081                           Atheism  Job said \"The thing I greatly feared has come ...  AGAINST     TARGET  POSITIVE\n",
            "80    10082                           Atheism  Jesus, you are my helper. Help me to rest and ...  AGAINST     TARGET  POSITIVE\n",
            "81    10083                           Atheism  The Lord is pleased w/every effort,even tiny,d...  AGAINST     TARGET  POSITIVE\n",
            "82    10084                           Atheism  I don't believe in the hereafter.  I believe i...    FAVOR     TARGET   NEITHER\n",
            "83    10085                           Atheism  If you want to live as a healer, you must be w...  AGAINST     TARGET  POSITIVE\n",
            "84    10086                           Atheism  Heb 10:12  this man, after he had offered one ...  AGAINST     TARGET  POSITIVE\n",
            "85    10087                           Atheism  Sometimes it's the broken heart that finds the...     NONE      OTHER  POSITIVE\n",
            "86    10088                           Atheism  Religious moderation is the product of secular...  AGAINST     TARGET  NEGATIVE\n",
            "87    10089                           Atheism             Remember, #God has it all worked out.   AGAINST     TARGET  POSITIVE\n",
            "88    10090                           Atheism  What we are is what we define the world to be....  AGAINST     TARGET  POSITIVE\n",
            "89    10091                           Atheism  I'm making it happen tho  S/O to GOD . #Patien...  AGAINST      OTHER  POSITIVE\n",
            "90    10092                           Atheism   Yeah I think maybe words just stopped mattering      NONE      OTHER  NEGATIVE\n",
            "91    10093                           Atheism  Keep flowinz az da windz~ blend, bend and neve...     NONE      OTHER  POSITIVE\n",
            "92    10094                           Atheism  May the Gods grant me many more freelance gigs...  AGAINST      OTHER  POSITIVE\n",
            "93    10095                           Atheism  @vicgreenaway so, why doesn't a hot air balloo...     NONE      OTHER   NEITHER\n",
            "94    10096                           Atheism  @narendramodi @PMOIndia y politicians in d off...     NONE      OTHER  NEGATIVE\n",
            "95    10097                           Atheism                he better chill with them retweets      NONE      OTHER  NEGATIVE\n",
            "96    10098                           Atheism  I want to give the world a hug. A huge, huge h...     NONE      OTHER  POSITIVE\n",
            "97    10099                           Atheism  My son, be wise, and make my heart glad, that ...  AGAINST     TARGET  POSITIVE\n",
            "98    10100                           Atheism  Had a great time @ worship rehearsal.Cant wait...  AGAINST     TARGET  POSITIVE\n",
            "99    10101                           Atheism  Every religion is good that teaches man to be ...  AGAINST     TARGET  POSITIVE\n",
            "100   10102                           Atheism  @godless_mom I like how Jesus is reduced to ap...    FAVOR     TARGET  NEGATIVE\n",
            "101   10103                           Atheism  @godless_mom @stereotypemepls @FlyPastafarian ...     NONE     NO ONE  NEGATIVE\n",
            "102   10104                           Atheism  Life's just like a test to sort out the best f...     NONE      OTHER  POSITIVE\n",
            "103   10105                           Atheism  Hindus pay for Muslim subsidy for HAJ..but nee...     NONE      OTHER  NEGATIVE\n",
            "104   10106                           Atheism  The greatest tragedy in life is the prayers th...  AGAINST     TARGET  NEGATIVE\n",
            "105   10107                           Atheism  @FaithMattersUK we could all just not use reli...    FAVOR     TARGET  NEGATIVE\n",
            "106   10108                           Atheism  We become what we worship. So be intentional i...  AGAINST     TARGET  POSITIVE\n",
            "107   10109                           Atheism  Steppin' out in faith and love.....have a safe...  AGAINST     TARGET  POSITIVE\n",
            "108   10110                           Atheism  Isaiah 43:15 I am the Lord, your Holy One, the...  AGAINST     TARGET  POSITIVE\n",
            "109   10111                           Atheism  Come to me, all you who are weary and burdened...  AGAINST     TARGET  POSITIVE\n",
            "110   10112                           Atheism  From the end of the earth I call to You when m...  AGAINST      OTHER  POSITIVE\n",
            "111   10113                           Atheism  (2/2) the Father's active goodness and unrestr...  AGAINST     TARGET  POSITIVE\n",
            "112   10114                           Atheism  Best feeling is when you think you can't do it...     NONE      OTHER  POSITIVE\n",
            "113   10115                           Atheism  Bind up the wounds of those whose cry comes to...  AGAINST     TARGET  POSITIVE\n",
            "114   10116                           Atheism  My Jesus, I wish to do nothing but Thy most ho...  AGAINST     TARGET  POSITIVE\n",
            "115   10117                           Atheism  @BJPScams @ANI_news Elections were nearing in ...     NONE      OTHER  NEGATIVE\n",
            "116   10118                           Atheism  Jer 20:11 But the #LORD is with me like a migh...  AGAINST     TARGET  POSITIVE\n",
            "117   10119                           Atheism  By accepting religion, you are pulling a big f...    FAVOR     TARGET  NEGATIVE\n",
            "118   10120                           Atheism  I love God  but \"We get raped in life by demon...  AGAINST      OTHER  NEGATIVE\n",
            "119   10121                           Atheism  As opposed to how the media portrays him,the p...    FAVOR     TARGET  NEGATIVE\n",
            "120   10122                           Atheism  One Nation on their knees, with blowjobs and s...    FAVOR     TARGET  NEGATIVE\n",
            "121   10123                           Atheism  I hope for a time when schools teach 'ethics' ...    FAVOR     TARGET  NEGATIVE\n",
            "122   10124                           Atheism  What other nation is so great as to have their...  AGAINST     TARGET  POSITIVE\n",
            "123   10125                           Atheism  We have to #Pray with our eyes on #God, not on...  AGAINST     TARGET  POSITIVE\n",
            "124   10126                           Atheism  Enough sneaking around, bringing in religious ...    FAVOR     TARGET  NEGATIVE\n",
            "125   10127                           Atheism  @Maisie_Williams everyone feels that way at ti...     NONE      OTHER   NEITHER\n",
            "126   10128                           Atheism  Choose Him who died so that you may live, over...  AGAINST     TARGET  POSITIVE\n",
            "127   10129                           Atheism  @aigkenham @ATHE1STP0WER compromise your inten...  AGAINST     TARGET  NEGATIVE\n",
            "128   10130                           Atheism  With #SCOTUS done, It's time for @boyscouts to...     NONE      OTHER  NEGATIVE\n",
            "129   10131                           Atheism  Subtract secularism from modern systems of sup...    FAVOR     TARGET  NEGATIVE\n",
            "130   10132                           Atheism  @flipflops I can confirm. They also worship #H...  AGAINST      OTHER  NEGATIVE\n",
            "131   10133                           Atheism  Mark 8.36-38.KJV  For what shall it profit a m...  AGAINST     TARGET  NEGATIVE\n",
            "132   10134                           Atheism  Why would I listen to someone that is not doin...     NONE      OTHER  NEGATIVE\n",
            "133   10135                           Atheism  Question to the #religious folks out there who...    FAVOR     TARGET  NEGATIVE\n",
            "134   10136                           Atheism  @evrttbrd this is PRECIOUS. omg go get em #Eur...  AGAINST     TARGET  POSITIVE\n",
            "135   10137                           Atheism  @Movingdisaster @roomansi2010  Believe and Obe...  AGAINST     TARGET  POSITIVE\n",
            "136   10138                           Atheism  If the governments of all countries were secul...    FAVOR     TARGET  POSITIVE\n",
            "137   10139                           Atheism  @truthway_eng  Jesus commands you to follow Ac...  AGAINST     TARGET  POSITIVE\n",
            "138   10140                           Atheism  What is the deal with #Christian people always...    FAVOR     TARGET  NEGATIVE\n",
            "139   10141                           Atheism  Patriotism and Humanism are impossible for som...    FAVOR      OTHER  NEGATIVE\n",
            "140   10142                           Atheism  Bethany Hamilton Reveals She is Resting in God...  AGAINST     TARGET  POSITIVE\n",
            "141   10143                           Atheism  While scientists fantasize about bugs I am con...  AGAINST     TARGET  NEGATIVE\n",
            "142   10144                           Atheism  #Religions can't all be right, but they can al...    FAVOR     TARGET  NEGATIVE\n",
            "143   10145                           Atheism  No, I'm not calling myself \"agnostic\" because ...    FAVOR     TARGET  NEGATIVE\n",
            "144   10146                           Atheism  Irony: When a #creationist tweets about #scien...    FAVOR     TARGET  NEGATIVE\n",
            "145   10147                           Atheism  Husbands, love your wives, as Christ loved the...  AGAINST     TARGET  POSITIVE\n",
            "146   10148                           Atheism  @ACLU Get rid of religion... and all this will...    FAVOR     TARGET  NEGATIVE\n",
            "147   10149                           Atheism  Never debate with the devil... Give him an ins...  AGAINST      OTHER  POSITIVE\n",
            "148   10150                           Atheism  Existing is something god have never been prof...    FAVOR     TARGET  NEGATIVE\n",
            "149   10151                           Atheism  Beginning to wonder if Rev. 13:17 mark, buying...  AGAINST      OTHER  NEGATIVE\n",
            "150   10152                           Atheism  When we have done all in our power that the Lo...  AGAINST     TARGET  POSITIVE\n",
            "151   10153                           Atheism  RT @XO_NayeLashay: In love with Gospel music ....  AGAINST      OTHER  POSITIVE\n",
            "152   10154                           Atheism  Mark 6:35-36 My Father, anything that has been...  AGAINST      OTHER  POSITIVE\n",
            "153   10155                           Atheism  @Pseud0_Anon @SuhaibSaqib1 very true. Raising ...     NONE      OTHER  POSITIVE\n",
            "154   10156                           Atheism  I have my work and my faith... If that's borin...  AGAINST     TARGET   NEITHER\n",
            "155   10157                           Atheism  #HemaMalini please think twice before giving a...     NONE      OTHER  NEGATIVE\n",
            "156   10158                           Atheism  How do they come up with this insanity? Oh wai...    FAVOR      OTHER  NEGATIVE\n",
            "157   10159                           Atheism  @Jaikrishnashree #italianchachi420 UDF/LDF mad...     NONE      OTHER  NEGATIVE\n",
            "158   10160                           Atheism  Surely the Sovereign LORD does nothing without...  AGAINST     TARGET  POSITIVE\n",
            "159   10161                           Atheism  Loving who I am! Today was awesome because I e...     NONE      OTHER  POSITIVE\n",
            "160   10162                           Atheism  Proverbs 28:5 (KJV) Evil men understand not ju...  AGAINST     TARGET  POSITIVE\n",
            "161   10163                           Atheism  As always, please remember: fuck Harper, fuck ...    FAVOR     TARGET  NEGATIVE\n",
            "162   10164                           Atheism  My prayer is that you live as long as you want...  AGAINST      OTHER  POSITIVE\n",
            "163   10165                           Atheism  I believe that \"sacred\" is an ap term to descr...  AGAINST     TARGET  POSITIVE\n",
            "164   10166                           Atheism  Man this is going to test me..  Giving all my ...  AGAINST     TARGET  POSITIVE\n",
            "165   10167                           Atheism  We'd like to welcome Lucy Dee to the Atheist A...  AGAINST     TARGET  POSITIVE\n",
            "166   10168                           Atheism  Life certainly has a way of humbling you. This...  AGAINST     TARGET  POSITIVE\n",
            "167   10169                           Atheism  Check out Honest Liar on Netflix. James Randi ...     NONE      OTHER  POSITIVE\n",
            "168   10170                           Atheism  The experience of most LGBT people shows them ...    FAVOR     TARGET  NEGATIVE\n",
            "169   10171                           Atheism  Just a reminder that humans do not need salvat...    FAVOR     TARGET  NEGATIVE\n",
            "170   10172                           Atheism       Jesus is not dead , he wasn't real !notdead     FAVOR     TARGET  NEGATIVE\n",
            "171   10173                           Atheism  @FoxNews @Patriot_Girl_TX @toddstarnes Shame o...     NONE      OTHER  NEGATIVE\n",
            "172   10174                           Atheism  @SenSanders there's God. Loving each other unc...  AGAINST     TARGET  POSITIVE\n",
            "173   10175                           Atheism  I think my username would be cool but now it l...     NONE     NO ONE  NEGATIVE\n",
            "174   10176                           Atheism  @SaberinZe @TheBricsPost absurd like saying #n...     NONE      OTHER  NEGATIVE\n",
            "175   10177                           Atheism  Lord, bring health and a cure to every area of...  AGAINST     TARGET  POSITIVE\n",
            "176   10178                           Atheism  This is love: not that we loved God, but that ...  AGAINST     TARGET  POSITIVE\n",
            "177   10179                           Atheism  #IslamicScholars have to re-think and to do re...  AGAINST     TARGET   NEITHER\n",
            "178   10180                           Atheism  RT @PaulGetter: When your past calls, don't an...  AGAINST     TARGET  POSITIVE\n",
            "179   10181                           Atheism                    Bless those with a broken soul   AGAINST     TARGET  POSITIVE\n",
            "180   10182                           Atheism  After Hindu girls #Sheila #Munni and Muslim #R...  AGAINST     TARGET   NEITHER\n",
            "181   10183                           Atheism  ..    \" \"So decree whatever thou desirest to d...  AGAINST     NO ONE  POSITIVE\n",
            "182   10184                           Atheism  The enemy is not #Muslims #Christians or #Juda...  AGAINST     TARGET  NEGATIVE\n",
            "183   10185                           Atheism  John 10:11 I am the good shepherd; the good sh...  AGAINST     TARGET  POSITIVE\n",
            "184   10186                           Atheism  Its really incredible how much this world need...  AGAINST     TARGET  POSITIVE\n",
            "185   10187                           Atheism  Luke 11:5-9, 18:1-8 \"Oh Lord, avenge me of my ...  AGAINST     TARGET  NEGATIVE\n",
            "186   10188                           Atheism  God is good all of the time. All of the time, ...  AGAINST     TARGET  POSITIVE\n",
            "187   10189                           Atheism  IF GOD BROUGHT YOU TO IT , HE'LL BRING YOU THR...  AGAINST      OTHER  POSITIVE\n",
            "188   10190                           Atheism  That scriptures Aunt just sent me was clutch!!...  AGAINST      OTHER  POSITIVE\n",
            "189   10191                           Atheism  Before I proceed in any direction...Prayer has...  AGAINST     TARGET  POSITIVE\n",
            "190   10192                           Atheism  The people who walk in darkness Will see a gre...  AGAINST      OTHER  POSITIVE\n",
            "191   10193                           Atheism  sing unto the LORD; for he hath done excellent...  AGAINST      OTHER  POSITIVE\n",
            "192   10194                           Atheism  A gift from God, live your day responsibly and...  AGAINST     TARGET  POSITIVE\n",
            "193   10195                           Atheism  Azerbaijan: Pray for President Ilham Aliyev's ...  AGAINST     TARGET  POSITIVE\n",
            "194   10196                           Atheism  The #Church is a hospital but the doctor is on...  AGAINST     TARGET  POSITIVE\n",
            "195   10197                           Atheism  @Ageoftheatheist ~ \"Age of the #Atheist\" where...  AGAINST     TARGET  NEGATIVE\n",
            "196   10198                           Atheism  Give us the gifts and graces to be your vessel...  AGAINST      OTHER  POSITIVE\n",
            "197   10199                           Atheism  In the big picture, religion is bad for societ...    FAVOR     TARGET  NEGATIVE\n",
            "198   10200                           Atheism  when you get distinctions for half your module...     NONE      OTHER  POSITIVE\n",
            "199   10201                           Atheism  Religion has destroyed the ability for some to...    FAVOR     TARGET  NEGATIVE\n",
            "200   10202                           Atheism              I pray for the best for everybody!!!   AGAINST     TARGET  POSITIVE\n",
            "201   10203                           Atheism  @Brasilmagic @neiltyson there's no god 2b tire...    FAVOR     TARGET  NEGATIVE\n",
            "202   10204                           Atheism  There are dreams and desires that #God has pla...  AGAINST     TARGET  POSITIVE\n",
            "203   10205                           Atheism  @MuhammadAli except for your belief in Allah. ...    FAVOR     TARGET  POSITIVE\n",
            "204   10206                           Atheism  AtheistQ \"God's guidance is the only excuse fo...    FAVOR     TARGET  NEGATIVE\n",
            "205   10207                           Atheism  2 pretty sisters are dancing with cancered kid        NONE     NO ONE  POSITIVE\n",
            "206   10208                           Atheism  You and I are part and parcel of everything el...  AGAINST      OTHER  POSITIVE\n",
            "207   10209                           Atheism  All that is needed for God for something to ha...  AGAINST      OTHER  POSITIVE\n",
            "208   10210                           Atheism  Ya....cuz Nicky Hilton HAD to marry up? Really...     NONE      OTHER  NEGATIVE\n",
            "209   10211                           Atheism  8 Holy Mary Mother of God, pray for us sinners...  AGAINST     TARGET  POSITIVE\n",
            "210   10212                           Atheism  Heap mischief upon them, and spend Your arrows...  AGAINST     TARGET  POSITIVE\n",
            "211   10213                           Atheism  God is good all the time, all the time God is ...  AGAINST      OTHER  POSITIVE\n",
            "212   10214                           Atheism  Should we take the #DNA at birth of every huma...     NONE      OTHER   NEITHER\n",
            "213   10215                           Atheism  Shit just don't stop but 1 thing I will not qu...  AGAINST     TARGET  POSITIVE\n",
            "214   10216                           Atheism  1of 2 #Never be #afraid to and never #apologis...  AGAINST     TARGET  POSITIVE\n",
            "215   10217                           Atheism  How soon do you think WWIII &WWWIV will begin?...    FAVOR     TARGET  NEGATIVE\n",
            "216   10218                           Atheism  The humble trust in God: 'Whoever leans on, tr...  AGAINST     TARGET  POSITIVE\n",
            "217   10219                           Atheism  Where will you be when @NewHorizons2015 flies ...    FAVOR     TARGET  POSITIVE\n",
            "218   10220                           Atheism  No one can out woo God in the woo department -...  AGAINST     TARGET  POSITIVE\n",
            "219   10221  Climate Change is a Real Concern  Closed door session begins. More after they de...     NONE     NO ONE   NEITHER\n",
            "220   10222  Climate Change is a Real Concern  What is the #energiewende agenda? Why are they...    FAVOR     TARGET  NEGATIVE\n",
            "221   10223  Climate Change is a Real Concern  @climasphere Stocker: Fish catch potential cou...    FAVOR     TARGET  NEGATIVE\n",
            "222   10224  Climate Change is a Real Concern  ...a longer memory, and a sterner sense of jus...     NONE      OTHER   NEITHER\n",
            "223   10225  Climate Change is a Real Concern  Boni \"Future Sea level rise will not be unifor...    FAVOR     TARGET   NEITHER\n",
            "224   10226  Climate Change is a Real Concern  @climasphere Bony: Extreme weather events (hea...    FAVOR     TARGET   NEITHER\n",
            "225   10227  Climate Change is a Real Concern  Camille Parmesan: 2/3 of species have changed ...    FAVOR     TARGET  NEGATIVE\n",
            "226   10228  Climate Change is a Real Concern  5 meta-analyses show 1/2 of species have chang...    FAVOR     TARGET   NEITHER\n",
            "227   10229  Climate Change is a Real Concern  It literarly just took me 10 minutes to get in...     NONE      OTHER  NEGATIVE\n",
            "228   10230  Climate Change is a Real Concern  Grubb: state of energy: shift US & EU from net...    FAVOR     TARGET  POSITIVE\n",
            "229   10231  Climate Change is a Real Concern  Interesting speaker Maarten Van Aalst @Federat...    FAVOR     TARGET  POSITIVE\n",
            "230   10232  Climate Change is a Real Concern  putting my neck out as such when I did not hav...     NONE      OTHER  NEGATIVE\n",
            "231   10233  Climate Change is a Real Concern  grow food not lawns  Lawns are Ecocide in your...    FAVOR     TARGET  NEGATIVE\n",
            "232   10234  Climate Change is a Real Concern  This halcyon summer is over. Climate is on the...    FAVOR     TARGET  NEGATIVE\n",
            "233   10235  Climate Change is a Real Concern   @soundofideas we Have to talk about new normals      NONE      OTHER   NEITHER\n",
            "234   10236  Climate Change is a Real Concern  Citizens have a right to access information th...    FAVOR     TARGET  POSITIVE\n",
            "235   10237  Climate Change is a Real Concern  That moment when Canadians realised global war...    FAVOR     TARGET  NEGATIVE\n",
            "236   10238  Climate Change is a Real Concern  We NEED alternatives to #fossilfuel, but also ...    FAVOR     TARGET  POSITIVE\n",
            "237   10239  Climate Change is a Real Concern  #Defrance: displacements due to natural disast...    FAVOR     TARGET  NEGATIVE\n",
            "238   10240  Climate Change is a Real Concern  @loic Yes, you shouldn't. But, stop killing an...     NONE      OTHER  NEGATIVE\n",
            "239   10241  Climate Change is a Real Concern  We don't inherit the earth from our parents we...    FAVOR     TARGET  POSITIVE\n",
            "240   10242  Climate Change is a Real Concern  .@vj44 @POTUS Yay! We'd love to convert to sol...    FAVOR     TARGET  POSITIVE\n",
            "241   10243  Climate Change is a Real Concern  #rsaeconomy: #tax can surely play a greater ro...    FAVOR     TARGET  POSITIVE\n",
            "242   10244  Climate Change is a Real Concern  It's raining and feels like fall I don't know ...    FAVOR     TARGET  NEGATIVE\n",
            "243   10245  Climate Change is a Real Concern  We can address both climate change and sustain...    FAVOR     TARGET   NEITHER\n",
            "244   10246  Climate Change is a Real Concern  @RachelNotley what's the plan for getting job-...    FAVOR     TARGET   NEITHER\n",
            "245   10247  Climate Change is a Real Concern  #Mission:#Climate @ home > Purchase renewable ...    FAVOR     TARGET  POSITIVE\n",
            "246   10248  Climate Change is a Real Concern  There's no more normal rains anymore. Always s...    FAVOR     TARGET  NEGATIVE\n",
            "247   10249  Climate Change is a Real Concern  @AlanBrownSNP HS2 does too much damage to loca...    FAVOR     TARGET  NEGATIVE\n",
            "248   10250  Climate Change is a Real Concern  As Western Canada Burns Harper's got his head ...     NONE     NO ONE  NEGATIVE\n",
            "249   10251  Climate Change is a Real Concern  Also what's up with this ridiculous weather?? ...    FAVOR     TARGET  NEGATIVE\n",
            "250   10252  Climate Change is a Real Concern  @TheWayneKing @RickSantorum @hardball @hardbal...     NONE      OTHER  NEGATIVE\n",
            "251   10253  Climate Change is a Real Concern  Eager to learn at the Modern Prosperity event ...    FAVOR     TARGET  POSITIVE\n",
            "252   10254  Climate Change is a Real Concern  The #carbontrading in #Quebec has very ambitio...    FAVOR     TARGET   NEITHER\n",
            "253   10255  Climate Change is a Real Concern  @jiminhofe anthropogenicthat which is caused b...    FAVOR     TARGET  NEGATIVE\n",
            "254   10256  Climate Change is a Real Concern  I thought Seattle was supposed to have a lot m...    FAVOR     TARGET  NEGATIVE\n",
            "255   10257  Climate Change is a Real Concern  On a scale of 1 to 10 the air quality in Whist...    FAVOR     TARGET  NEGATIVE\n",
            "256   10258  Climate Change is a Real Concern  @catethegreat52 yes Catherine, the future of h...    FAVOR     TARGET   NEITHER\n",
            "257   10259  Climate Change is a Real Concern  It's most exciting to witness a major developm...     NONE     NO ONE  POSITIVE\n",
            "258   10260  Climate Change is a Real Concern  We are causing the ice masses of Earth to melt...    FAVOR     TARGET  NEGATIVE\n",
            "259   10261  Climate Change is a Real Concern  @mdrewnz Will @NZGreens support Canterbury Roc...    FAVOR     TARGET  NEGATIVE\n",
            "260   10262  Climate Change is a Real Concern  @Sam6869 research is irrelevant when biosphere...    FAVOR     TARGET  NEGATIVE\n",
            "261   10263  Climate Change is a Real Concern  @ChadCowie Indigenous ppl will save the countr...     NONE      OTHER  POSITIVE\n",
            "262   10264  Climate Change is a Real Concern  Turn the Liverpool Plains into a coal mine...i...    FAVOR     TARGET  NEGATIVE\n",
            "263   10265  Climate Change is a Real Concern  @CBSNewYork Seems the marine animals are final...    FAVOR     TARGET  NEGATIVE\n",
            "264   10266  Climate Change is a Real Concern  Seems I may yet get my Climate Apocalypse >:) ...    FAVOR     TARGET  NEGATIVE\n",
            "265   10267  Climate Change is a Real Concern  The Weather app keeps taunting us with rain. #...     NONE      OTHER  NEGATIVE\n",
            "266   10268  Climate Change is a Real Concern  What do you do to help reverse climate change?...    FAVOR     TARGET  POSITIVE\n",
            "267   10269  Climate Change is a Real Concern  You know things are pretty out of control when...    FAVOR     TARGET  NEGATIVE\n",
            "268   10270  Climate Change is a Real Concern  Haven't moved an inch since yesterday.  #bcpol...     NONE     NO ONE   NEITHER\n",
            "269   10271  Climate Change is a Real Concern  @Gwillaumau @timpoliti @ABCthedrum @whelan60 @...     NONE      OTHER  NEGATIVE\n",
            "270   10272  Climate Change is a Real Concern  Will the world place sanctions on #Australia f...    FAVOR      OTHER  NEGATIVE\n",
            "271   10273  Climate Change is a Real Concern  Now moving from summer season to........ Life,...    FAVOR     TARGET   NEITHER\n",
            "272   10274  Climate Change is a Real Concern   Climate change is my issue - make it yours #Zim     FAVOR     TARGET  POSITIVE\n",
            "273   10275  Climate Change is a Real Concern  #Mission:#Climate @ home > Don't let heat esca...    FAVOR      OTHER   NEITHER\n",
            "274   10276  Climate Change is a Real Concern  Counting down the days until my PhD starts #77...     NONE      OTHER  POSITIVE\n",
            "275   10277  Climate Change is a Real Concern  Today Europe is breaking heat records, while A...    FAVOR     TARGET  NEGATIVE\n",
            "276   10278  Climate Change is a Real Concern  Paul Leadley Talking about #biodiversity scena...    FAVOR     TARGET   NEITHER\n",
            "277   10279  Climate Change is a Real Concern  Our cardboard city with @Joshpaulevans from @T...     NONE     NO ONE   NEITHER\n",
            "278   10280  Climate Change is a Real Concern  Dhakal: There is no silver bullet for solution...    FAVOR     TARGET  POSITIVE\n",
            "279   10281  Climate Change is a Real Concern  Follow @ClimatParis2015 for information on #CF...    FAVOR     TARGET   NEITHER\n",
            "280   10282  Climate Change is a Real Concern  Am not a Catholic, but the pope is spot on whe...    FAVOR     TARGET  POSITIVE\n",
            "281   10283  Climate Change is a Real Concern  Food and water security are intertwined: \"Adap...    FAVOR     TARGET   NEITHER\n",
            "282   10284  Climate Change is a Real Concern  It's July and its 57 degrees, can't imagine wh...    FAVOR     TARGET  NEGATIVE\n",
            "283   10285  Climate Change is a Real Concern  Adaptation is something that reduces the negat...    FAVOR     TARGET  POSITIVE\n",
            "284   10286  Climate Change is a Real Concern  @MAPSProgramme tackles difficult challenges of...    FAVOR     TARGET  POSITIVE\n",
            "285   10287  Climate Change is a Real Concern  Much good to be had in the lead up to #COP21. ...    FAVOR     TARGET  POSITIVE\n",
            "286   10288  Climate Change is a Real Concern  #Earth is a #finite in #nature #environment, \"...    FAVOR     TARGET  NEGATIVE\n",
            "287   10289  Climate Change is a Real Concern  #Obama said \"can't prevent oil exploration com...    FAVOR     TARGET   NEITHER\n",
            "288   10290  Climate Change is a Real Concern  @RichardTuffin Tuvalu has been at the forefron...    FAVOR     TARGET  POSITIVE\n",
            "289   10291  Climate Change is a Real Concern  A Very Good Discussion:Ruth Valerio @ARochaUK ...     NONE      OTHER  POSITIVE\n",
            "290   10292  Climate Change is a Real Concern  Be kind to the earth beneath your feet.  #envi...    FAVOR     TARGET  POSITIVE\n",
            "291   10293  Climate Change is a Real Concern  Also, it's raining here in the Brazilian centr...    FAVOR     TARGET  NEGATIVE\n",
            "292   10294  Climate Change is a Real Concern  avg house in US consumes 10,656 kWh per year 2...    FAVOR     TARGET  NEGATIVE\n",
            "293   10295  Climate Change is a Real Concern  Please will someone at @BBCRadio4 clarify what...    FAVOR     TARGET  POSITIVE\n",
            "294   10296  Climate Change is a Real Concern  Participation is essential: bring vulnerable v...    FAVOR     TARGET  POSITIVE\n",
            "295   10297  Climate Change is a Real Concern  We blame cities for the majority of CO2 emissi...    FAVOR     TARGET  NEGATIVE\n",
            "296   10298  Climate Change is a Real Concern  @FoxNews LOL. Too bad all the other scientists...    FAVOR     TARGET  NEGATIVE\n",
            "297   10299  Climate Change is a Real Concern  #KCA #VoteJKT48ID ClimateCommRPB: The green di...    FAVOR     TARGET  POSITIVE\n",
            "298   10300  Climate Change is a Real Concern  @JimHarris thank you for the follow Jim!  I'm ...     NONE      OTHER  POSITIVE\n",
            "299   10301  Climate Change is a Real Concern  @DavidSuzukiFDN @cleanenergycan Need hydro bil...    FAVOR     TARGET  NEGATIVE\n",
            "300   10302  Climate Change is a Real Concern  #Asthma is hitting our communities hard in #Ch...    FAVOR     TARGET  NEGATIVE\n",
            "301   10303  Climate Change is a Real Concern  The extreme humidity and heat right now might ...    FAVOR     TARGET  NEGATIVE\n",
            "302   10304  Climate Change is a Real Concern  @ILuvCO2 @UNGeneva @WMOnews @ParisCOP21 U love...    FAVOR     TARGET  NEGATIVE\n",
            "303   10305  Climate Change is a Real Concern  Haven't seen the mountains in days with all th...    FAVOR     TARGET  NEGATIVE\n",
            "304   10306  Climate Change is a Real Concern  @UCSUSA @POTUS @NSCPress @DHSgov @nytimes Crim...    FAVOR     TARGET  NEGATIVE\n",
            "305   10307  Climate Change is a Real Concern  Jared likes child porn now .... Is that what h...     NONE      OTHER  NEGATIVE\n",
            "306   10308  Climate Change is a Real Concern  @UCSUSA @pmharper @ThomasMulcair @Kathleen_Wyn...    FAVOR     TARGET  NEGATIVE\n",
            "307   10309  Climate Change is a Real Concern  Actually on second thoughts, it's pretty blood...    FAVOR     TARGET  NEGATIVE\n",
            "308   10310  Climate Change is a Real Concern  Gone are the days where we would get temperatu...    FAVOR     TARGET   NEITHER\n",
            "309   10311  Climate Change is a Real Concern  Zinta Zommers: need for a unified tool to brin...    FAVOR     TARGET   NEITHER\n",
            "310   10312  Climate Change is a Real Concern  #Mission:#Climate @ home > Run your dishwasher...    FAVOR     TARGET   NEITHER\n",
            "311   10313  Climate Change is a Real Concern         The stock market froze  In the summer ?!!      NONE      OTHER  NEGATIVE\n",
            "312   10314  Climate Change is a Real Concern  Living an unexamined #life may be easier, but ...    FAVOR     TARGET  NEGATIVE\n",
            "313   10315  Climate Change is a Real Concern  @stormchaser4850 @MiddleAmericaMS @NOAA 2014 w...    FAVOR     TARGET   NEITHER\n",
            "314   10316  Climate Change is a Real Concern  Climate Change Deniers are Like Pre Historic C...    FAVOR     TARGET  NEGATIVE\n",
            "315   10317  Climate Change is a Real Concern  What has happened to sunny Colorado?? #cloudy ...    FAVOR     TARGET  NEGATIVE\n",
            "316   10318  Climate Change is a Real Concern  The biggest terror threat in the World is clim...    FAVOR     TARGET  NEGATIVE\n",
            "317   10319  Climate Change is a Real Concern  What has been will be again, what has been don...     NONE      OTHER  POSITIVE\n",
            "318   10320  Climate Change is a Real Concern  ONE Volcano emits more pollution than man has ...  AGAINST     TARGET  NEGATIVE\n",
            "319   10321  Climate Change is a Real Concern  @SenSanders Republicans don't care about the e...    FAVOR      OTHER  NEGATIVE\n",
            "320   10322  Climate Change is a Real Concern  @xrisham Reminds me of Nottingham in the early...    FAVOR     TARGET   NEITHER\n",
            "321   10323  Climate Change is a Real Concern  @blueislandcity Jason Berry says he discusses ...     NONE      OTHER   NEITHER\n",
            "322   10324  Climate Change is a Real Concern  #Follow @SkyMutual US leader in weather #riskm...    FAVOR     TARGET  POSITIVE\n",
            "323   10325  Climate Change is a Real Concern  #CSOTA is trending at #3 in Canada on Twitter ...    FAVOR     TARGET  POSITIVE\n",
            "324   10326  Climate Change is a Real Concern  Why is Stephen Harper or representative not at...    FAVOR     TARGET  NEGATIVE\n",
            "325   10327  Climate Change is a Real Concern  RT @TheCLF: Thanks to everyone in Maine who co...    FAVOR     TARGET  POSITIVE\n",
            "326   10328  Climate Change is a Real Concern  We're Committed to Green in Our Dreams: @GovIn...    FAVOR     TARGET  POSITIVE\n",
            "327   10329  Climate Change is a Real Concern  @UN_Spokesperson @FRANCE24 @UN @COP21 @NorwayM...    FAVOR     TARGET  NEGATIVE\n",
            "328   10330  Climate Change is a Real Concern  @UN ice cracking in the summer?? SO ALARMING. ...  AGAINST     TARGET  NEGATIVE\n",
            "329   10331  Climate Change is a Real Concern  Its July 8th.. I have clean clothes... I just ...     NONE     NO ONE   NEITHER\n",
            "330   10332  Climate Change is a Real Concern        the water hole time to drink! RT\"@vicenews      NONE     NO ONE  POSITIVE\n",
            "331   10333  Climate Change is a Real Concern  I understand the rain, but it is only about 60...    FAVOR     TARGET  NEGATIVE\n",
            "332   10334  Climate Change is a Real Concern  .@McKenzieAmanda's presentation on shifting th...     NONE      OTHER  POSITIVE\n",
            "333   10335  Climate Change is a Real Concern  67 degrees Fahrenheit on July 8th. I love this...     NONE      OTHER  POSITIVE\n",
            "334   10336  Climate Change is a Real Concern  #coalmining & destruction of our ability to li...    FAVOR     TARGET  NEGATIVE\n",
            "335   10337  Climate Change is a Real Concern  @abcnews @Ginger_Zee  how about you give me TW...    FAVOR     TARGET  NEGATIVE\n",
            "336   10338  Climate Change is a Real Concern  Someone send some chicken soup or some '80s Co...     NONE      OTHER  NEGATIVE\n",
            "337   10339  Climate Change is a Real Concern  @billmckibben @suzyji Right out of the Big Tob...     NONE      OTHER  NEGATIVE\n",
            "338   10340  Climate Change is a Real Concern  @GuardianAus @GrogsGamut Nobody denies the cli...    FAVOR     TARGET   NEITHER\n",
            "339   10341  Climate Change is a Real Concern  #ClimateChangeDefinitions \"settled science\" = ...  AGAINST     TARGET  NEGATIVE\n",
            "340   10342  Climate Change is a Real Concern  People need to wake up & realize what's happen...    FAVOR     TARGET  NEGATIVE\n",
            "341   10343  Climate Change is a Real Concern  #Questiontime Who is more likely to solve prob...     NONE      OTHER   NEITHER\n",
            "342   10344  Climate Change is a Real Concern  The countries most likely to survive climate c...    FAVOR     TARGET  POSITIVE\n",
            "343   10345  Climate Change is a Real Concern  Terraform Earth so we can recolonize our own h...    FAVOR     TARGET  NEGATIVE\n",
            "344   10346  Climate Change is a Real Concern  What's next after 2 years? :) #thinkbig #world...    FAVOR     TARGET  POSITIVE\n",
            "345   10347  Climate Change is a Real Concern  Climate change has already cut into the global...    FAVOR     TARGET  NEGATIVE\n",
            "346   10348  Climate Change is a Real Concern  @Myrmecos Still a larval theory. Still poorly ...  AGAINST     TARGET  NEGATIVE\n",
            "347   10349  Climate Change is a Real Concern  Whole species #Boomers #GenerationX Generation...    FAVOR     TARGET  NEGATIVE\n",
            "348   10350  Climate Change is a Real Concern  #Mission:#Climate on the road > Fly less #Tip ...    FAVOR     TARGET   NEITHER\n",
            "349   10351  Climate Change is a Real Concern  Edenhofer: Carbon pricing is needed but not su...    FAVOR     TARGET  NEGATIVE\n",
            "350   10352  Climate Change is a Real Concern  Humanity is making #mother earth angry, that a...    FAVOR     TARGET  NEGATIVE\n",
            "351   10353  Climate Change is a Real Concern  @WEETFEvents Jonathan Tillson from @DefraGovUK...     NONE     NO ONE   NEITHER\n",
            "352   10354  Climate Change is a Real Concern  UK homes & buildings need to be adapted to hig...    FAVOR     TARGET   NEITHER\n",
            "353   10355  Climate Change is a Real Concern  Plants and trees make oxygen which we breathe ...    FAVOR     TARGET  NEGATIVE\n",
            "354   10356  Climate Change is a Real Concern  $500,000 on flags in 12 months  vs  An Inter-G...     NONE      OTHER  NEGATIVE\n",
            "355   10357  Climate Change is a Real Concern  Climate deniers is a term used to silence thos...  AGAINST     TARGET  NEGATIVE\n",
            "356   10358  Climate Change is a Real Concern  #Mission:#Climate on the road > Purchase a fue...    FAVOR     TARGET  POSITIVE\n",
            "357   10359  Climate Change is a Real Concern  @algore: Will we change? That's the reason we ...    FAVOR     TARGET  POSITIVE\n",
            "358   10360  Climate Change is a Real Concern  Incredibly moving as a scientist weeps on @BBC...    FAVOR     TARGET  POSITIVE\n",
            "359   10361  Climate Change is a Real Concern  Following the invitation only Climate Summit o...    FAVOR     TARGET  POSITIVE\n",
            "360   10362  Climate Change is a Real Concern  Are the voices of younger generations represen...    FAVOR     TARGET  POSITIVE\n",
            "361   10363  Climate Change is a Real Concern  @WalshConstCo We're proud to sign #ORbizclimat...    FAVOR     TARGET  POSITIVE\n",
            "362   10364  Climate Change is a Real Concern  I remember a time when summer was actually sum...    FAVOR     TARGET  NEGATIVE\n",
            "363   10365  Climate Change is a Real Concern      @neiltyson Rettet die Erde! Save the Earth!      FAVOR     TARGET  POSITIVE\n",
            "364   10366  Climate Change is a Real Concern  @wattsupwiththat yes ironic that the alarmists...  AGAINST      OTHER  NEGATIVE\n",
            "365   10367  Climate Change is a Real Concern  @JustinTrudeau Hey Justin I will give you 50 c...  AGAINST     TARGET  NEGATIVE\n",
            "366   10368  Climate Change is a Real Concern  If @EPA & @POTUS don't have to follow SCOTUS w...  AGAINST      OTHER  NEGATIVE\n",
            "367   10369  Climate Change is a Real Concern  If we want a future for our/Canadian kids we a...    FAVOR      OTHER  NEGATIVE\n",
            "368   10370  Climate Change is a Real Concern  Govt announcement on zero carbon homes \"short-...  AGAINST     TARGET  NEGATIVE\n",
            "369   10371  Climate Change is a Real Concern  @bbcweather Good to see more global awareness,...    FAVOR     TARGET  POSITIVE\n",
            "370   10372  Climate Change is a Real Concern  We are not \"killing the Earth\". The Earth has ...  AGAINST     TARGET  NEGATIVE\n",
            "371   10373  Climate Change is a Real Concern  Sea Level Rise above 6 meters - what does that...    FAVOR     TARGET   NEITHER\n",
            "372   10374  Climate Change is a Real Concern  @Agent350 This is not a fantasy this is neglig...    FAVOR     TARGET  NEGATIVE\n",
            "373   10375  Climate Change is a Real Concern  We need governments and corporations to respon...    FAVOR     TARGET  POSITIVE\n",
            "374   10376  Climate Change is a Real Concern  If you dont have the capacity to take it in an...     NONE      OTHER  NEGATIVE\n",
            "375   10377  Climate Change is a Real Concern  #Mission:#Climate @ home > Take a shower inste...    FAVOR     TARGET  POSITIVE\n",
            "376   10378  Climate Change is a Real Concern  The only thing \"man made\" about global warming...  AGAINST     TARGET  NEGATIVE\n",
            "377   10379  Climate Change is a Real Concern  Growing concern of Pacific Islanders to adapt ...    FAVOR     TARGET  NEGATIVE\n",
            "378   10380  Climate Change is a Real Concern  @4EvaMartino  Everyone should learn this recip...    FAVOR     TARGET  POSITIVE\n",
            "379   10381  Climate Change is a Real Concern  Rec high temp for this date in Charlotte is 10...    FAVOR     TARGET  NEGATIVE\n",
            "380   10382  Climate Change is a Real Concern       Lot's of time, class over! @nationaljournal      NONE     NO ONE  POSITIVE\n",
            "381   10383  Climate Change is a Real Concern  @TheLibertyEagle Oh for the love of Pete! I th...     NONE      OTHER  NEGATIVE\n",
            "382   10384  Climate Change is a Real Concern  If complaining about irrelevant problems were ...     NONE      OTHER  NEGATIVE\n",
            "383   10385  Climate Change is a Real Concern  @LiberalAus - \"All\" you folks #owe me an #offi...     NONE     NO ONE  NEGATIVE\n",
            "384   10386  Climate Change is a Real Concern  Maybe we should start \"labelling every #produc...    FAVOR     TARGET  POSITIVE\n",
            "385   10387  Climate Change is a Real Concern  If we touch #Antarctica for one more #reason o...    FAVOR     TARGET  NEGATIVE\n",
            "386   10388  Climate Change is a Real Concern  Wind power helped stabilize Texas' power grid ...    FAVOR     TARGET  POSITIVE\n",
            "387   10389  Climate Change is a Real Concern  It's so cold and windy here in Sydney, I just ...    FAVOR     TARGET   NEITHER\n",
            "388   10390                 Feminist Movement  Feminists can TOTALLY wear makeup and don't te...  AGAINST     TARGET  POSITIVE\n",
            "389   10391                 Feminist Movement  I searched for posts with \"feminist\" tag and s...  AGAINST     TARGET  NEGATIVE\n",
            "390   10392                 Feminist Movement  I saw a little girl wearing a mustache from th...  AGAINST      OTHER  POSITIVE\n",
            "391   10393                 Feminist Movement  Women are taught to put their values into thei...  AGAINST     TARGET  NEGATIVE\n",
            "392   10394                 Feminist Movement  If u link anti feminism with misogyny or inequ...  AGAINST     TARGET  NEGATIVE\n",
            "393   10395                 Feminist Movement  Many feminist sexualise and objectify men and ...  AGAINST     TARGET  NEGATIVE\n",
            "394   10396                 Feminist Movement  Let us thank the likes of @thunderf00t and @Sa...  AGAINST     TARGET  NEGATIVE\n",
            "395   10397                 Feminist Movement  @kdeleon how many were young women? Were there...  AGAINST      OTHER   NEITHER\n",
            "396   10398                 Feminist Movement  Feel things will truly be equal in marriage wh...  AGAINST     TARGET  NEGATIVE\n",
            "397   10399                 Feminist Movement  A wOMAN?? Wanting to be EQUAL to a MAN???!?! W...  AGAINST     TARGET  NEGATIVE\n",
            "398   10400                 Feminist Movement  sometiimes you just feel like punching a femin...  AGAINST     TARGET  NEGATIVE\n",
            "399   10401                 Feminist Movement  One thing I learned from my job: doors to oppo...  AGAINST      OTHER  NEGATIVE\n",
            "400   10402                 Feminist Movement  1 thing I learned from my job: doors leading 2...  AGAINST      OTHER  NEGATIVE\n",
            "401   10403                 Feminist Movement  Just like book-burning for ANGRY religious peo...  AGAINST     TARGET  NEGATIVE\n",
            "402   10404                 Feminist Movement  Independence Day is a day where men get wasted...  AGAINST     TARGET  NEGATIVE\n",
            "403   10405                 Feminist Movement  Husband: \"They should know that she's always b...  AGAINST      OTHER  POSITIVE\n",
            "404   10406                 Feminist Movement  @CaptHaddock83 oh, that's an easy one: RUN! #s...  AGAINST     TARGET   NEITHER\n",
            "405   10407                 Feminist Movement  @verilymary @taylynneduvall no, men need a mov...  AGAINST      OTHER  NEGATIVE\n",
            "406   10408                 Feminist Movement  The hypothesis of gender as a social construct...  AGAINST      OTHER  NEGATIVE\n",
            "407   10409                 Feminist Movement  I can't write male characters because I'm a wo...  AGAINST      OTHER  NEGATIVE\n",
            "408   10410                 Feminist Movement  Turns out it's 3 people who have mansplained t...  AGAINST     TARGET  NEGATIVE\n",
            "409   10411                 Feminist Movement  You're stupid & mens rights is nothing - I lov...  AGAINST     TARGET  NEGATIVE\n",
            "410   10412                 Feminist Movement  Ask her father for her hand in marriage. How l...  AGAINST      OTHER  NEGATIVE\n",
            "411   10413                 Feminist Movement               Can we grow up and stop catcalling?   AGAINST     TARGET  NEGATIVE\n",
            "412   10414                 Feminist Movement  just want to give my hair follicles a quick sh...  AGAINST      OTHER  NEGATIVE\n",
            "413   10415                 Feminist Movement  Tonight I got called 'the one with the great r...  AGAINST      OTHER  POSITIVE\n",
            "414   10416                 Feminist Movement  Girls over 130 pounds shouldn't wear a swim su...  AGAINST     TARGET  NEGATIVE\n",
            "415   10417                 Feminist Movement  @Chase_Santos and #Hillary is going to keep it...  AGAINST     TARGET  POSITIVE\n",
            "416   10418                 Feminist Movement  Feminists in America have no idea what oppress...  AGAINST     TARGET  NEGATIVE\n",
            "417   10419                 Feminist Movement  @WiTOpoli I hope everyone is going to see \"she...  AGAINST      OTHER  NEGATIVE\n",
            "418   10420                 Feminist Movement  Girls over 130 pounds shouldn't wear a bikini ...  AGAINST     TARGET  NEGATIVE\n",
            "419   10421                 Feminist Movement  Thanks to SJW, I now associate the word \"trigg...  AGAINST      OTHER  NEGATIVE\n",
            "420   10422                 Feminist Movement  @ramzaruglia @a_man_in_yellow Just imagine all...  AGAINST     TARGET  NEGATIVE\n",
            "421   10423                 Feminist Movement  Girls are such animals. All they want is sex ....  AGAINST     TARGET  NEGATIVE\n",
            "422   10424                 Feminist Movement  I thought you would like it @AceofSpades14 #fe...  AGAINST     TARGET   NEITHER\n",
            "423   10425                 Feminist Movement  @nytimes @nytopinion this is more of a persona...  AGAINST      OTHER  NEGATIVE\n",
            "424   10426                 Feminist Movement  Julie Burchill dismissed male suicide as incon...  AGAINST      OTHER  NEGATIVE\n",
            "425   10427                 Feminist Movement  @always__already Thanks for the fantastic stor...  AGAINST      OTHER  POSITIVE\n",
            "426   10428                 Feminist Movement  Going off to write up second part of #TimHunt ...  AGAINST      OTHER  NEGATIVE\n",
            "427   10429                 Feminist Movement  Internalized misogyny is awful! People who hav...  AGAINST     TARGET  NEGATIVE\n",
            "428   10430                 Feminist Movement  DEAR FEMINISTS   Don't say you are \"disempower...  AGAINST     TARGET  NEGATIVE\n",
            "429   10431                 Feminist Movement  Last RT: \"there were lawsuits around women bei...  AGAINST      OTHER  NEGATIVE\n",
            "430   10432                 Feminist Movement  In civilian clothes and someone laughs at me t...  AGAINST      OTHER  NEGATIVE\n",
            "431   10433                 Feminist Movement  Nice rap by @RanveerOfficial @arjunk26 late bu...  AGAINST      OTHER  POSITIVE\n",
            "432   10434                 Feminist Movement  Ironic how the anti- feminist intimidation mac...  AGAINST      OTHER  NEGATIVE\n",
            "433   10435                 Feminist Movement  Apparently #YesAllWomen who \"don't need no man...  AGAINST     TARGET  NEGATIVE\n",
            "434   10436                 Feminist Movement  Welp. I just saw the infamous Radfem \"Protests...  AGAINST      OTHER  NEGATIVE\n",
            "435   10437                 Feminist Movement  What's red and something all feminist should b...  AGAINST     TARGET  NEGATIVE\n",
            "436   10438                 Feminist Movement  I can get women not being feminists,  sort of....  AGAINST     TARGET  NEGATIVE\n",
            "437   10439                 Feminist Movement  ..Can I also add that I really enjoyed looking...  AGAINST      OTHER  POSITIVE\n",
            "438   10440                 Feminist Movement  As I rewatced Charmed episodes! LOVING IT EVEN...  AGAINST     TARGET  POSITIVE\n",
            "439   10441                 Feminist Movement  We cannot succeed when half of us are held bac...  AGAINST     TARGET   NEITHER\n",
            "440   10442                 Feminist Movement  @Afshah_Ronaldo you don't tell me what to do, ...  AGAINST     TARGET  NEGATIVE\n",
            "441   10443                 Feminist Movement  Anyone got links to anti-feminist/egalitarian ...  AGAINST     TARGET  NEGATIVE\n",
            "442   10444                 Feminist Movement  Equality is the police burying a domestic viol...  AGAINST     TARGET  NEGATIVE\n",
            "443   10445                 Feminist Movement  2015 is the year of the uterus #sheBELIEVES #W...  AGAINST     TARGET  POSITIVE\n",
            "444   10446                 Feminist Movement  It wouldn't be a #FIFA event without women in ...  AGAINST      OTHER  NEGATIVE\n",
            "445   10447                 Feminist Movement  Too bad the women carrying the trophies look l...  AGAINST     TARGET  NEGATIVE\n",
            "446   10448                 Feminist Movement  Really great to see people cheering for Hope S...  AGAINST      OTHER  POSITIVE\n",
            "447   10449                 Feminist Movement  @godlyputhy @jalexus_aames good but the first ...  AGAINST     TARGET  NEGATIVE\n",
            "448   10450                 Feminist Movement  Up next! Watch me get called \"a sexist pig\" fo...  AGAINST     TARGET  NEGATIVE\n",
            "449   10451                 Feminist Movement  @SpectreOfChaos is trolling #YesAllWomen. He i...  AGAINST     TARGET  NEGATIVE\n",
            "450   10452                 Feminist Movement  @atheena99 @dopee_curlyy i don't even know wha...  AGAINST     TARGET  NEGATIVE\n",
            "451   10453                 Feminist Movement  When I go up the steps of my house I feel like...  AGAINST      OTHER  POSITIVE\n",
            "452   10454                 Feminist Movement  If a woman can list height preferences for men...  AGAINST      OTHER  NEGATIVE\n",
            "453   10455                 Feminist Movement  @coffey_cake4 @DailySexSupply too bad idgaf ab...  AGAINST      OTHER  NEGATIVE\n",
            "454   10456                 Feminist Movement  @mraguyot Yup, way more than I would ever buy,...  AGAINST     TARGET  NEGATIVE\n",
            "455   10457                 Feminist Movement  Other people may hate #feminists, but at least...  AGAINST     TARGET  NEGATIVE\n",
            "456   10458                 Feminist Movement  Many feminist are praising hope solo!! She( do...  AGAINST     TARGET  NEGATIVE\n",
            "457   10459                 Feminist Movement  @alias_burgerboy @craigspissed @forthleft infa...  AGAINST     TARGET  NEGATIVE\n",
            "458   10460                 Feminist Movement  Feminist only want the same benefiting right a...  AGAINST     TARGET  NEGATIVE\n",
            "459   10461                 Feminist Movement  If Feminism wants equal rights as men  they mu...  AGAINST     TARGET  NEGATIVE\n",
            "460   10462                 Feminist Movement  @RepubGirlLife But if I said this about how ho...  AGAINST     TARGET  NEGATIVE\n",
            "461   10463                 Feminist Movement  'Manspreading'? But women hog subway space, to...  AGAINST     TARGET  NEGATIVE\n",
            "462   10464                 Feminist Movement  I hate government, but if I were in government...  AGAINST     TARGET  NEGATIVE\n",
            "463   10465                 Feminist Movement  Ayyyy more hypocrisy: Hope Solo, serial domest...  AGAINST      OTHER  NEGATIVE\n",
            "464   10466                 Feminist Movement  I still can not get over teamwork being consid...  AGAINST      OTHER  NEGATIVE\n",
            "465   10467                 Feminist Movement  Want an amazing #SciFi show that completely pa...     NONE      OTHER  POSITIVE\n",
            "466   10468                 Feminist Movement  Feminists claim everything is a \"social constr...  AGAINST     TARGET  NEGATIVE\n",
            "467   10469                 Feminist Movement  Feminists who go for a gender studies degree s...  AGAINST     TARGET  NEGATIVE\n",
            "468   10470                 Feminist Movement  @NorBdelta HE DESERVED IT FOR BEING PART OF TH...    FAVOR     TARGET  NEGATIVE\n",
            "469   10471                 Feminist Movement  By writing her self, woman will return to the ...    FAVOR     TARGET  POSITIVE\n",
            "470   10472                 Feminist Movement  Having fabulous feminist conversations with Na...    FAVOR     TARGET  POSITIVE\n",
            "471   10473                 Feminist Movement  If you're a #feminist it's only because absolu...  AGAINST     TARGET  NEGATIVE\n",
            "472   10474                 Feminist Movement  We live in a sad world when wanting equality m...    FAVOR     TARGET  NEGATIVE\n",
            "473   10475                 Feminist Movement    Some men do not deserve to be called gentlemen      NONE      OTHER  NEGATIVE\n",
            "474   10476                 Feminist Movement  Happy birthday to the queen Frida Kahlo! #oneo...     NONE      OTHER  POSITIVE\n",
            "475   10477                 Feminist Movement  So the ladies get Magic Mike XXL, can us guys ...  AGAINST     TARGET  NEGATIVE\n",
            "476   10478                 Feminist Movement  Female sharks grow to be larger than male Shar...     NONE      OTHER   NEITHER\n",
            "477   10479                 Feminist Movement  I'm not a feminist, I believe in equality of t...    FAVOR     TARGET  NEGATIVE\n",
            "478   10480                 Feminist Movement  I still cannot get over how much women are deg...    FAVOR     TARGET  NEGATIVE\n",
            "479   10481                 Feminist Movement   @mustangALLIE_ and i was agreeing with ur tweet      NONE      OTHER  POSITIVE\n",
            "480   10482                 Feminist Movement  The define of feminism clearly states that it ...  AGAINST     TARGET  NEGATIVE\n",
            "481   10483                 Feminist Movement   @NuuYawkerr I have a solution kill all of us...      NONE      OTHER  NEGATIVE\n",
            "482   10484                 Feminist Movement  RT : bethersfanpg: BethanyMota if i put alot r...     NONE      OTHER  NEGATIVE\n",
            "483   10485                 Feminist Movement  FEMINIST WHO TOOK PHOTOS OF MEN'S  CROTCHES SH...  AGAINST     TARGET  NEGATIVE\n",
            "484   10486                 Feminist Movement  Evidence that modern feminism is stupid and po...  AGAINST     TARGET  NEGATIVE\n",
            "485   10487                 Feminist Movement  I aim to stop continuing to allow men in my li...    FAVOR     TARGET  NEGATIVE\n",
            "486   10488                 Feminist Movement   last RT demonstrates relevance of preceding RTs      NONE      OTHER   NEITHER\n",
            "487   10489                 Feminist Movement  Feminists: stop with the rape jokes! How do yo...  AGAINST     TARGET  NEGATIVE\n",
            "488   10490                 Feminist Movement  Just watched the frickin' awesome interview wi...     NONE      OTHER  POSITIVE\n",
            "489   10491                 Feminist Movement  Should start a \"menism\" movement. The amount o...  AGAINST     TARGET  NEGATIVE\n",
            "490   10492                 Feminist Movement  You are NOT a feminist if you are a racist. If...    FAVOR     TARGET  NEGATIVE\n",
            "491   10493                 Feminist Movement  Some Feminists are doing a huge disservice to ...  AGAINST     TARGET  NEGATIVE\n",
            "492   10494                 Feminist Movement   Why would they have girl dragons in dragonvale?      NONE      OTHER   NEITHER\n",
            "493   10495                 Feminist Movement  @WhiteShamer because Resident Evil, Tomb Raide...     NONE      OTHER  NEGATIVE\n",
            "494   10496                 Feminist Movement  Nice job referring to a human being as an \"It\"...    FAVOR     TARGET  NEGATIVE\n",
            "495   10497                 Feminist Movement  @KatTimpf @ShannonBream great review. Thanks f...     NONE      OTHER  POSITIVE\n",
            "496   10498                 Feminist Movement  MARRIAGE for a man is MURDERAGE, That's right ...  AGAINST     TARGET  NEGATIVE\n",
            "497   10499                 Feminist Movement  It's incredibly easy to identify shitty female...  AGAINST     TARGET  NEGATIVE\n",
            "498   10500                 Feminist Movement  You think its hard to give birth? Bitch have u...  AGAINST     TARGET  NEGATIVE\n",
            "499   10501                 Feminist Movement  I like girls. They just need to know there pla...  AGAINST     TARGET  NEGATIVE\n",
            "500   10502                 Feminist Movement  YO @kaitlynbristowe YOU GET YOURS GIRL.     #T...     NONE      OTHER  POSITIVE\n",
            "501   10503                 Feminist Movement  Men and women should have equal rights, we are...    FAVOR     TARGET  POSITIVE\n",
            "502   10504                 Feminist Movement  I need feminism because \"what were you wearing...    FAVOR     TARGET  NEGATIVE\n",
            "503   10505                 Feminist Movement  @Deb_Hitchens @JudgeBambi . There's no capacit...     NONE      OTHER  NEGATIVE\n",
            "504   10506                 Feminist Movement  your mother did not carry you for 9 months so ...    FAVOR     TARGET  NEGATIVE\n",
            "505   10507                 Feminist Movement  It's a problem when explaining feminism, even ...    FAVOR     TARGET  NEGATIVE\n",
            "506   10508                 Feminist Movement  I fell asleep only to have my brother wake me ...     NONE     NO ONE  NEGATIVE\n",
            "507   10509                 Feminist Movement  Remember men, if a woman hits you, you have no...  AGAINST     TARGET  NEGATIVE\n",
            "508   10510                 Feminist Movement  Does it involve women? It's sexist. Does it no...  AGAINST     TARGET  NEGATIVE\n",
            "509   10511                 Feminist Movement  @crystxlcxstlesz did you break through the gla...     NONE      OTHER   NEITHER\n",
            "510   10512                 Feminist Movement  fEminism?? eQual rights??? treating people lik...  AGAINST     TARGET  NEGATIVE\n",
            "511   10513                 Feminist Movement  Ladies is pimps too. Go on brush your shoulder...    FAVOR     TARGET  NEGATIVE\n",
            "512   10514                 Feminist Movement  I'm the bad cop to @Patjouk's good cop. (... T...     NONE      OTHER  POSITIVE\n",
            "513   10515                 Feminist Movement  Women want to be treated as equals until they ...  AGAINST     TARGET  NEGATIVE\n",
            "514   10516                 Feminist Movement  @trutherbotred there's a woman in a picture an...    FAVOR     TARGET  NEGATIVE\n",
            "515   10517                 Feminist Movement  If feminism was not a religion, feminists woul...  AGAINST     TARGET  NEGATIVE\n",
            "516   10518                 Feminist Movement  I thought this video on #equality was interest...  AGAINST     TARGET  POSITIVE\n",
            "517   10519                 Feminist Movement  Evidence of the fossil record to creationists ...  AGAINST     TARGET  NEGATIVE\n",
            "518   10520                 Feminist Movement  #howtospotafeminist?  They are so sexually una...  AGAINST     TARGET  NEGATIVE\n",
            "519   10521                 Feminist Movement  Also Tatum's feigns giving oral in a hands fre...     NONE      OTHER  POSITIVE\n",
            "520   10522                 Feminist Movement  Everyone quick, feminists are a minority now! ...  AGAINST     TARGET  NEGATIVE\n",
            "521   10523                 Feminist Movement   And girls just wanna have fun...damental rights     FAVOR     TARGET  NEGATIVE\n",
            "522   10524                 Feminist Movement  Seriously considering writing an article on th...     NONE      OTHER  POSITIVE\n",
            "523   10525                 Feminist Movement  Why isn't this #Women also being #Charged for ...  AGAINST     TARGET  NEGATIVE\n",
            "524   10526                 Feminist Movement  I'll eat mac and cheese out of your front hole...     NONE     NO ONE  NEGATIVE\n",
            "525   10527                 Feminist Movement  When women spend too much time out of the kitc...  AGAINST     TARGET  NEGATIVE\n",
            "526   10528                 Feminist Movement  EEWWW! Drawing attention to women's health iss...  AGAINST     TARGET  NEGATIVE\n",
            "527   10529                 Feminist Movement  Helping getting laws for both patents to get p...  AGAINST     TARGET  NEGATIVE\n",
            "528   10530                 Feminist Movement  @Nero the 'author' is @onepoundstories she's m...     NONE      OTHER  POSITIVE\n",
            "529   10531                 Feminist Movement  @moo_mena unlearn that believing in gender equ...    FAVOR     TARGET  POSITIVE\n",
            "530   10532                 Feminist Movement  @WALKAFLOCKKAA @kasscheeks @WeNeedFeminlsm the...  AGAINST     TARGET  NEGATIVE\n",
            "531   10533                 Feminist Movement  @NormaniKordei hi, can u pls rt this people ne...    FAVOR     TARGET  POSITIVE\n",
            "532   10534                 Feminist Movement  @AllyBrooke hi, can u pls rt this people need ...    FAVOR     TARGET  POSITIVE\n",
            "533   10535                 Feminist Movement  So if a women earns money then it's HERS to KE...  AGAINST     TARGET  NEGATIVE\n",
            "534   10536                 Feminist Movement  Growing up, getting told \"no let your brother ...    FAVOR     TARGET  NEGATIVE\n",
            "535   10537                 Feminist Movement  Being a woman & being a feminist just means yo...  AGAINST     TARGET  NEGATIVE\n",
            "536   10538                 Feminist Movement  @ZachCityy @aribentz Dad I'm running away n ne...     NONE      OTHER  NEGATIVE\n",
            "537   10539                 Feminist Movement  UGH I am SICK to DEATH of this whole bitches w...  AGAINST     TARGET  NEGATIVE\n",
            "538   10540                 Feminist Movement  Putting the air conditioners in while wearing ...     NONE      OTHER   NEITHER\n",
            "539   10541                 Feminist Movement  Whine about how things aren't going your way, ...  AGAINST     TARGET  NEGATIVE\n",
            "540   10542                 Feminist Movement  To the young woman I stood next to at KL airpo...    FAVOR     TARGET  POSITIVE\n",
            "541   10543                 Feminist Movement  #women learn to be women and #men learn to be ...     NONE     NO ONE   NEITHER\n",
            "542   10544                 Feminist Movement  Not catering to a woman that doesn't bring = a...  AGAINST     TARGET  NEGATIVE\n",
            "543   10545                 Feminist Movement      @saltwaterpop I like your attitude a lot tho      NONE      OTHER  POSITIVE\n",
            "544   10546                 Feminist Movement  He who has authentic power pays the bill & she...  AGAINST     TARGET  NEGATIVE\n",
            "545   10547                 Feminist Movement  Lol feminist don't complain about how men get ...  AGAINST     TARGET  NEGATIVE\n",
            "546   10548                 Feminist Movement  Unlike cancer treatments marriage risks outwei...     NONE      OTHER  NEGATIVE\n",
            "547   10549                 Feminist Movement  @NAFEDUDE @TakedownMRAs It's never a problem u...     NONE      OTHER  NEGATIVE\n",
            "548   10550                 Feminist Movement  Would mean a lot if u clicked the link in my b...    FAVOR     TARGET  POSITIVE\n",
            "549   10551                 Feminist Movement  @NAFEDUDE I'm just sharing a laugh with my bud...     NONE      OTHER  NEGATIVE\n",
            "550   10552                 Feminist Movement  @OliveStuff @douchefuck @redheadtart @nascar_j...     NONE      OTHER  NEGATIVE\n",
            "551   10553                 Feminist Movement  #ARTe Pop art helps improve Cuba-US relations....     NONE      OTHER  POSITIVE\n",
            "552   10554                 Feminist Movement  Hello ladies, finally made a twitter to expand...    FAVOR     TARGET  POSITIVE\n",
            "553   10555                 Feminist Movement  When guys text hella girls it's fine but when ...    FAVOR     TARGET  NEGATIVE\n",
            "554   10556                 Feminist Movement  Who said Feminists Standard is THE STANDARD of...  AGAINST     TARGET  NEGATIVE\n",
            "555   10557                 Feminist Movement  Great to see the progress we're all making. Ma...    FAVOR     TARGET  POSITIVE\n",
            "556   10558                 Feminist Movement  HAPPY BIRTHDAY TO ONE OF MY FAV PEOPLE WHO HAS...     NONE      OTHER  POSITIVE\n",
            "557   10559                 Feminist Movement  Sorry but if a #YesAllWomen slapped me the way...  AGAINST     TARGET  NEGATIVE\n",
            "558   10560                 Feminist Movement  Religious \"what homosexual men find sexy is wr...  AGAINST     TARGET  NEGATIVE\n",
            "559   10561                 Feminist Movement  Dear parents, please don't tell your boys \"not...    FAVOR     TARGET  POSITIVE\n",
            "560   10562                 Feminist Movement               You're a sexy bitch. Own that shit.     FAVOR     TARGET  POSITIVE\n",
            "561   10563                 Feminist Movement  How to oppress a strong and independent woman?...  AGAINST     TARGET  NEGATIVE\n",
            "562   10564                 Feminist Movement  The Dunhams would be the only reality show tha...  AGAINST     TARGET  NEGATIVE\n",
            "563   10565                 Feminist Movement  Gender is an adjective not a noun - Ruth    Pe...    FAVOR     TARGET  POSITIVE\n",
            "564   10566                 Feminist Movement  Women shouldn't be topless! Oh shit and here I...    FAVOR     TARGET  NEGATIVE\n",
            "565   10567                 Feminist Movement  I think I see the appeal in being a housewife....    FAVOR     TARGET  POSITIVE\n",
            "566   10568                 Feminist Movement  If women didn't have tits would any of us even...  AGAINST     TARGET  NEGATIVE\n",
            "567   10569                 Feminist Movement  @TarynOnthenews @NRO Very unnecessary, since '...  AGAINST     TARGET  NEGATIVE\n",
            "568   10570                 Feminist Movement  The Hypocrisy of Feminism is integral part of ...  AGAINST     TARGET  NEGATIVE\n",
            "569   10571                 Feminist Movement  I'm flabbergasted that #feminist are pointing ...  AGAINST     TARGET  NEGATIVE\n",
            "570   10572                 Feminist Movement  I'm trying to explain how its bad for men to b...  AGAINST     TARGET  NEGATIVE\n",
            "571   10573                 Feminist Movement  men need to stop going along with feminists. i...  AGAINST     TARGET  NEGATIVE\n",
            "572   10574                 Feminist Movement  Bieber showed off his butt and no one slut sha...    FAVOR     TARGET  NEGATIVE\n",
            "573   10575                 Feminist Movement  The feds are still planning to put a woman on ...    FAVOR     TARGET  POSITIVE\n",
            "574   10576                 Feminist Movement  If a man wants abortion but the woman wants to...  AGAINST      OTHER  NEGATIVE\n",
            "575   10577                 Feminist Movement  Sleezy men: DO NOT catcall at me and @emmalizr...    FAVOR      OTHER  NEGATIVE\n",
            "576   10578                 Feminist Movement  Men are from Earth, women are from Earth. Deal...    FAVOR      OTHER  POSITIVE\n",
            "577   10579                 Feminist Movement  Celebrities, please stop declaring yourselves ...    FAVOR      OTHER  NEGATIVE\n",
            "578   10580                 Feminist Movement  Women in the middle east get stoned to death f...    FAVOR     TARGET  NEGATIVE\n",
            "579   10581                 Feminist Movement  There really are days when I'm ashamed to admi...     NONE      OTHER  NEGATIVE\n",
            "580   10582                 Feminist Movement  I hate it when ignorant losers say \"another fe...    FAVOR     TARGET  NEGATIVE\n",
            "581   10583                 Feminist Movement  #GamerGate tag is about games Other things? Th...     NONE      OTHER  NEGATIVE\n",
            "582   10584                 Feminist Movement  The shaming we do around celebrity choices in ...     NONE      OTHER  NEGATIVE\n",
            "583   10585                 Feminist Movement  Why are you afraid of me when I open my mouth ...    FAVOR     TARGET  NEGATIVE\n",
            "584   10586                 Feminist Movement  @Paula0422 btw if you like Chris Brown I WILL ...     NONE      OTHER  NEGATIVE\n",
            "585   10587                 Feminist Movement  The anti-gamergate people have behaved abomina...  AGAINST     TARGET  NEGATIVE\n",
            "586   10588                 Feminist Movement  Unless u have a health or physiological proble...     NONE      OTHER  NEGATIVE\n",
            "587   10589                 Feminist Movement  What young woman doesn't want to be #sugarbaby...  AGAINST      OTHER  NEGATIVE\n",
            "588   10590                 Feminist Movement  @StacyLGage @mylittlepwnies3 because i need th...  AGAINST     TARGET  NEGATIVE\n",
            "589   10591                 Feminist Movement  I decided to watch The Stepford Wives and I ho...    FAVOR      OTHER  NEGATIVE\n",
            "590   10592                 Feminist Movement  @Lauren_Southern @PressForTruth @moen_tim span...  AGAINST     TARGET  NEGATIVE\n",
            "591   10593                 Feminist Movement  girls: \"why don't boys like this go to my scho...  AGAINST     TARGET  NEGATIVE\n",
            "592   10594                 Feminist Movement  girl: *bikini photo* girls: slut Justin Bieber...  AGAINST     TARGET  NEGATIVE\n",
            "593   10595                 Feminist Movement  The Office Cinderella: When a female is consid...    FAVOR     TARGET  NEGATIVE\n",
            "594   10596                 Feminist Movement  @watchyoomouth_ @SCbchbum are you fucking KIDD...    FAVOR     TARGET  NEGATIVE\n",
            "595   10597                 Feminist Movement  @datsradd why not the right? Why always the le...     NONE     NO ONE  NEGATIVE\n",
            "596   10598                 Feminist Movement  I need feminism because:  A man in a room full...    FAVOR     TARGET   NEITHER\n",
            "597   10599                 Feminist Movement  Tomorrow, we gone see think pieces on @KeyAndP...     NONE      OTHER  POSITIVE\n",
            "598   10600                 Feminist Movement  In the United States, when an unmarried man ha...  AGAINST     TARGET  NEGATIVE\n",
            "599   10601                 Feminist Movement  Marriage is driving under the influence of hor...     NONE      OTHER  NEGATIVE\n",
            "600   10602                 Feminist Movement  Feminists grades in science class usually are ...  AGAINST     TARGET  NEGATIVE\n",
            "601   10603                 Feminist Movement  @BOZARbrussels is this how @UN_Women sees #gen...  AGAINST     TARGET  NEGATIVE\n",
            "602   10604                 Feminist Movement  @shoe0nhead surely it needs both to be side by...  AGAINST     TARGET  NEGATIVE\n",
            "603   10605                 Feminist Movement  @PH4NT4M @MarcusChoOo @CheyenneWYN women. The ...    FAVOR     TARGET  NEGATIVE\n",
            "604   10606                 Feminist Movement  The stupidity of feminists is fucking hilariou...  AGAINST     TARGET  NEGATIVE\n",
            "605   10607                 Feminist Movement  I've seen many defeated men in life but never ...    FAVOR     TARGET  POSITIVE\n",
            "606   10608                 Feminist Movement  Feminism is a hate group!! - anti fem Twitter ...  AGAINST     TARGET  NEGATIVE\n",
            "607   10609                 Feminist Movement  @caitlinwinner Ladies in front of men is equal...  AGAINST     TARGET  NEGATIVE\n",
            "608   10610                 Feminist Movement  Expel them_ #male millionaires from society!  ...    FAVOR      OTHER  NEGATIVE\n",
            "609   10611                 Feminist Movement  Saw something about Facebook moving the gender...    FAVOR      OTHER  POSITIVE\n",
            "610   10612                 Feminist Movement  Clothes with size number oppress woman . Remov...    FAVOR     TARGET  NEGATIVE\n",
            "611   10613                 Feminist Movement  Why do #women take their husban's name?Why not...    FAVOR     TARGET  NEGATIVE\n",
            "612   10614                 Feminist Movement  Inb4 feminists think that it's sexist that the...  AGAINST     TARGET  NEGATIVE\n",
            "613   10615                 Feminist Movement  Feminist actually complained about the Faceboo...  AGAINST     TARGET  NEGATIVE\n",
            "614   10616                 Feminist Movement  Don't tell me what to do and what not to do. N...  AGAINST     TARGET  NEGATIVE\n",
            "615   10617                 Feminist Movement  If men and women were equal I could sleep with...  AGAINST     TARGET  NEGATIVE\n",
            "616   10618                 Feminist Movement  DEAR FEMINISTS  Yes, we should teach men not t...  AGAINST     TARGET  NEGATIVE\n",
            "617   10619                 Feminist Movement  #RapeCulture is leaving your new/used car in t...  AGAINST      OTHER  NEGATIVE\n",
            "618   10620                 Feminist Movement  The concept of #RapeCulture is a puerile, inte...  AGAINST     TARGET  NEGATIVE\n",
            "619   10621                 Feminist Movement  A fictional character been raped and abused op...  AGAINST     TARGET  NEGATIVE\n",
            "620   10622                 Feminist Movement  Just wrote my blog to help @CalAlimony pass a ...  AGAINST      OTHER  POSITIVE\n",
            "621   10623                 Feminist Movement  Religions give its members an identity & witho...  AGAINST     TARGET  NEGATIVE\n",
            "622   10624                 Feminist Movement  Feminists, SJWs and other authoritarian Marxis...  AGAINST     TARGET  NEGATIVE\n",
            "623   10625                 Feminist Movement  women can be sexist toward men. think all men ...  AGAINST     TARGET  NEGATIVE\n",
            "624   10626                 Feminist Movement  Now, I understand your a feminist and think th...  AGAINST      OTHER  NEGATIVE\n",
            "625   10627                 Feminist Movement  Just want gender politics to be over.  My brai...  AGAINST     TARGET  NEGATIVE\n",
            "626   10628                 Feminist Movement  omg @KeyAndPeele you are fcking KILLING IT! #p...  AGAINST     TARGET  POSITIVE\n",
            "627   10629                 Feminist Movement  Been watching a lot of feminist videos in YouT...  AGAINST      OTHER  NEGATIVE\n",
            "628   10630                 Feminist Movement  RT @LouiseMensch: Emma Psychowicz   He was cle...  AGAINST     TARGET   NEITHER\n",
            "629   10631                 Feminist Movement  Don't #GiveYourMoneyToWomen. Instead feed a ca...  AGAINST     TARGET  NEGATIVE\n",
            "630   10632                 Feminist Movement  @N4G that's what she gets for not knowing her ...  AGAINST     TARGET  NEGATIVE\n",
            "631   10633                 Feminist Movement  Women are murder, abused, raped and etc but wh...  AGAINST     TARGET  NEGATIVE\n",
            "632   10634                 Feminist Movement  I always enjoy being called a slut, or a bitch...  AGAINST      OTHER  NEGATIVE\n",
            "633   10635                 Feminist Movement  Hugo Schwyzer, Jian Gomeshi, both prominent ma...  AGAINST     TARGET  NEGATIVE\n",
            "634   10636                 Feminist Movement  #yesallwomen are #always #unstoppable if they ...  AGAINST      OTHER  NEGATIVE\n",
            "635   10637                 Feminist Movement  #yesallwomen are #always #unstoppable if they ...  AGAINST     TARGET  NEGATIVE\n",
            "636   10638                 Feminist Movement  if those feminists come to their senses about ...  AGAINST     TARGET  NEGATIVE\n",
            "637   10639                 Feminist Movement  @ChaseStraight Wat is gaems? Like candy crush ...  AGAINST     TARGET   NEITHER\n",
            "638   10640                 Feminist Movement  @CollegeFix @WashTimes Please notice that \"Vic...  AGAINST     NO ONE  NEGATIVE\n",
            "639   10641                 Feminist Movement  If your shampoo has more shit in it, you have ...  AGAINST      OTHER  NEGATIVE\n",
            "640   10642                 Feminist Movement  @AmandaMarcotte do you love your cats more tha...  AGAINST     TARGET  NEGATIVE\n",
            "641   10643                 Feminist Movement  If these feminist have children, Im legit afra...  AGAINST     TARGET  NEGATIVE\n",
            "642   10644                 Feminist Movement  Too many empty compliments are a waste of time...  AGAINST      OTHER  NEGATIVE\n",
            "643   10645                 Feminist Movement  Feminist don't want equality, they're hypocrit...  AGAINST     TARGET  NEGATIVE\n",
            "644   10646                 Feminist Movement  Feminist make me sick. I'm all for equality bu...  AGAINST     TARGET  NEGATIVE\n",
            "645   10647                 Feminist Movement  Women's Forum for #FFD3 happening today! Follo...    FAVOR     TARGET  POSITIVE\n",
            "646   10648                 Feminist Movement  Its true that not all radical feminists are ug...  AGAINST     TARGET  NEGATIVE\n",
            "647   10649                 Feminist Movement  If we have a ticker tape parade for the women,...  AGAINST     TARGET  NEGATIVE\n",
            "648   10650                 Feminist Movement  I still take pride in calling myself Goswami. ...     NONE      OTHER  NEGATIVE\n",
            "649   10651                 Feminist Movement  I'm a co-omnipotent-faux-fallacious-poly-concu...  AGAINST     TARGET  NEGATIVE\n",
            "650   10652                 Feminist Movement  3rd wave feminism is pretty much the far-left ...  AGAINST     TARGET  NEGATIVE\n",
            "651   10653                 Feminist Movement  Why fight for gender equality, you ask? 'Cause...  AGAINST     TARGET  NEGATIVE\n",
            "652   10654                 Feminist Movement  You should start using Google translate @baedo...  AGAINST     TARGET  NEGATIVE\n",
            "653   10655                 Feminist Movement  @Cernovich lets hang our heads in shame that m...  AGAINST     TARGET  NEGATIVE\n",
            "654   10656                 Feminist Movement  Man: this is an issue and needs to be addresse...    FAVOR     TARGET  NEGATIVE\n",
            "655   10657                 Feminist Movement  RT @ReformedSamurai: I have yet to meet one #f...  AGAINST     TARGET  NEGATIVE\n",
            "656   10658                 Feminist Movement  I swear to God... The people who claim to repr...  AGAINST     TARGET  NEGATIVE\n",
            "657   10659                 Feminist Movement      im okay with white girls with dreads because      NONE      OTHER  POSITIVE\n",
            "658   10660                 Feminist Movement  Since when did #feminists get to decide what m...  AGAINST     TARGET  NEGATIVE\n",
            "659   10661                 Feminist Movement  We celebrate the company of 50 great people & ...     NONE      OTHER  POSITIVE\n",
            "660   10662                 Feminist Movement  @NARAL Complaining that your boss won't pay fo...  AGAINST      OTHER  NEGATIVE\n",
            "661   10663                 Feminist Movement  The true woman is as yet a dream of the future...    FAVOR     TARGET  POSITIVE\n",
            "662   10664                 Feminist Movement  Please tell me more about how UTI commercials ...     NONE      OTHER  NEGATIVE\n",
            "663   10665                 Feminist Movement  @fuckboyusagi : ATTENTION ALL FEMINISTS, FOLLO...    FAVOR     TARGET  POSITIVE\n",
            "664   10666                 Feminist Movement  Today's roundup of pro-circ trolls: @cbpolis @...     NONE      OTHER  NEGATIVE\n",
            "665   10667                 Feminist Movement  i need feminism because i cant even walk to da...    FAVOR     TARGET  NEGATIVE\n",
            "666   10668                 Feminist Movement  @femfreq I don't understand why all these nerd...    FAVOR     TARGET  POSITIVE\n",
            "667   10669                 Feminist Movement  The more you push me, the more I resist. Don't...    FAVOR     TARGET  POSITIVE\n",
            "668   10670                 Feminist Movement  @Maisie_Williams is our hero with her #LikeAGi...    FAVOR     TARGET  POSITIVE\n",
            "669   10671                 Feminist Movement  Rather be an \"ugly\" feminist then be these sad...    FAVOR     TARGET  NEGATIVE\n",
            "670   10672                 Feminist Movement  iamNovaah: RT ChrzOC: Bitches be running wild....  AGAINST     TARGET  NEGATIVE\n",
            "671   10673                 Feminist Movement  @angerelle you disagree that people should str...    FAVOR      OTHER  NEGATIVE\n",
            "672   10674                 Feminist Movement  #Rapeculture is basically a FABLE. It has almo...  AGAINST     TARGET  NEGATIVE\n",
            "673   10675                   Hillary Clinton  #mtp @meetthepress How is deleting emails -par...  AGAINST      OTHER  NEGATIVE\n",
            "674   10676                   Hillary Clinton  @JDSon78 @AndrewBroering AndrewWhyDoYouCareAbo...  AGAINST      OTHER  NEGATIVE\n",
            "675   10677                   Hillary Clinton  The white male vote is solidly GOP. The black ...  AGAINST      OTHER  NEGATIVE\n",
            "676   10678                   Hillary Clinton  @nyinvesting big banker buds need to ratchet u...  AGAINST     TARGET  NEGATIVE\n",
            "677   10679                   Hillary Clinton  @GOP Why should I believe you on this? The GOP...  AGAINST      OTHER  NEGATIVE\n",
            "678   10680                   Hillary Clinton  @RushetteNY @TwitchyTeam Hillary to press: \"Cu...  AGAINST     TARGET  NEGATIVE\n",
            "679   10681                   Hillary Clinton  @GovtsTheProblem This is what I see: Make way ...  AGAINST     TARGET  NEGATIVE\n",
            "680   10682                   Hillary Clinton  @CNNSotu @jaketapper - Can we get back to the ...  AGAINST      OTHER  NEGATIVE\n",
            "681   10683                   Hillary Clinton  @nytimes But throws a rope around reporters an...  AGAINST     TARGET  NEGATIVE\n",
            "682   10684                   Hillary Clinton  #IfIhadAdollarFor wondering, was I that stupid...  AGAINST      OTHER  NEGATIVE\n",
            "683   10685                   Hillary Clinton  @BeladonnaRogers @Chairmnoomowmow The complian...  AGAINST      OTHER  NEGATIVE\n",
            "684   10686                   Hillary Clinton  The #HillaryCampaignSong Top 20 will be reveal...  AGAINST      OTHER  POSITIVE\n",
            "685   10687                   Hillary Clinton  @HillaryforNH will u rope off the people too H...  AGAINST     TARGET  NEGATIVE\n",
            "686   10688                   Hillary Clinton  .@mite72 @PatVPeters NEITHER ONE!!!! Just maki...  AGAINST      OTHER  POSITIVE\n",
            "687   10689                   Hillary Clinton  @LVNancy @incessantpatrio @bcwilliams92 Yes! #...  AGAINST     TARGET  NEGATIVE\n",
            "688   10690                   Hillary Clinton  @WoodenThreat @incessantpatrio @bcwilliams92 t...  AGAINST     TARGET  NEGATIVE\n",
            "689   10691                   Hillary Clinton  Does #hillaryclinton lie and engage in cover-u...  AGAINST      OTHER  NEGATIVE\n",
            "690   10692                   Hillary Clinton  I find allowing the deaths of Americans in Ben...  AGAINST      OTHER  NEGATIVE\n",
            "691   10693                   Hillary Clinton  @Conservativeind @cannoneerfour Lets hope!  Sh...  AGAINST     NO ONE  NEGATIVE\n",
            "692   10694                   Hillary Clinton  @DaGodfather907 @NahBabyNah If Jebb is our can...  AGAINST     TARGET  NEGATIVE\n",
            "693   10695                   Hillary Clinton  The ropes might keep people back now Hillary b...  AGAINST      OTHER  NEGATIVE\n",
            "694   10696                   Hillary Clinton  RT @harrisongolden: \"So Clinton-esque,\" Brit H...  AGAINST     TARGET  NEGATIVE\n",
            "695   10697                   Hillary Clinton  I think marriage is as it has always been, bet...  AGAINST     TARGET  NEGATIVE\n",
            "696   10698                   Hillary Clinton  @HillaryClinton Pin the tail on the DONKEY!  T...  AGAINST     TARGET  NEGATIVE\n",
            "697   10699                   Hillary Clinton  @HillarityPress @Amedicinewoman 1.Food: #Bengh...  AGAINST     TARGET  NEGATIVE\n",
            "698   10700                   Hillary Clinton  I'm 72 yrs old and ever since I was 6 yrs old ...  AGAINST      OTHER  POSITIVE\n",
            "699   10701                   Hillary Clinton  What Are We Believing in?  BELIEVE IN VICTORY....  AGAINST     TARGET  POSITIVE\n",
            "700   10702                   Hillary Clinton  The federal government did not create the stat...  AGAINST     NO ONE  POSITIVE\n",
            "701   10703                   Hillary Clinton  @tracieeeeee @Irishsmiles1966 @Chloecat317 @we...  AGAINST     TARGET  POSITIVE\n",
            "702   10704                   Hillary Clinton  Congratulations to our Women Soccer Team for j...  AGAINST      OTHER  POSITIVE\n",
            "703   10705                   Hillary Clinton  Team USA  showed the world what American women...  AGAINST     TARGET  POSITIVE\n",
            "704   10706                   Hillary Clinton  @HillaryClinton: Here's to fearless women chas...  AGAINST     TARGET  POSITIVE\n",
            "705   10707                   Hillary Clinton  @deeceejazz Do we really want to know what's u...  AGAINST     TARGET  NEGATIVE\n",
            "706   10708                   Hillary Clinton  @HillaryClinton FUCK OFF CROTCH ROT BITCH  WE ...  AGAINST      OTHER  NEGATIVE\n",
            "707   10709                   Hillary Clinton  Beware of #Kochtrolls bashing our candidates. ...  AGAINST     TARGET  NEGATIVE\n",
            "708   10710                   Hillary Clinton  @Breaking911 Probably she made a promise to su...  AGAINST      OTHER  NEGATIVE\n",
            "709   10711                   Hillary Clinton  @nolyklibs Awww does #Killary think posing for...  AGAINST     TARGET  NEGATIVE\n",
            "710   10712                   Hillary Clinton  @danmericaCNN @GenGSPatton @danamericaIt looke...  AGAINST     TARGET   NEITHER\n",
            "711   10713                   Hillary Clinton  RT @hamackey: RT @SlyDude3677: @msnbc  Republi...     NONE      OTHER   NEITHER\n",
            "712   10714                   Hillary Clinton  The press needs to get out of the way so the p...  AGAINST     TARGET  NEGATIVE\n",
            "713   10715                   Hillary Clinton  @HillaryClinton had a duty to preserve ESI Now...  AGAINST     TARGET  NEGATIVE\n",
            "714   10716                   Hillary Clinton  @dougshelton749 @realDonaldTrump  #HRC would b...  AGAINST     TARGET  NEGATIVE\n",
            "715   10717                   Hillary Clinton  @AppSame: Queen @HillaryClinton Was asked What...  AGAINST     TARGET  NEGATIVE\n",
            "716   10718                   Hillary Clinton  @dougshelton749   Let's hope her campaign unra...  AGAINST     TARGET  NEGATIVE\n",
            "717   10719                   Hillary Clinton  @dougshelton749  If @realDonaldTrump finds evi...  AGAINST     TARGET  POSITIVE\n",
            "718   10720                   Hillary Clinton  @dougshelton749 @realDonaldTrump  I'd be happy...  AGAINST     TARGET  NEGATIVE\n",
            "719   10721                   Hillary Clinton  RT @CattyHipster: Live today like it's your la...     NONE      OTHER  POSITIVE\n",
            "720   10722                   Hillary Clinton  @TheJackOBrien @instapundit BOOM! I believe th...     NONE     NO ONE  NEGATIVE\n",
            "721   10723                   Hillary Clinton  That's true, as long as one works hard, has a ...  AGAINST     TARGET  POSITIVE\n",
            "722   10724                   Hillary Clinton  AKA Depends Day \"It all depends\" and Owebama's...     NONE      OTHER  NEGATIVE\n",
            "723   10725                   Hillary Clinton  #HillaryClinton wants to be elected (thinks sh...  AGAINST     TARGET  NEGATIVE\n",
            "724   10726                   Hillary Clinton  @WashTimes This is indefensible! One of the du...     NONE      OTHER  NEGATIVE\n",
            "725   10727                   Hillary Clinton  @thehill Who's in charge of Hillary's campaign...  AGAINST     TARGET  NEGATIVE\n",
            "726   10728                   Hillary Clinton         @tiffiwestcott  I got mine and I love it.      NONE      OTHER  POSITIVE\n",
            "727   10729                   Hillary Clinton  Education should not be a debt sentence! -Form...     NONE      OTHER  NEGATIVE\n",
            "728   10730                   Hillary Clinton  Hillary Clinton is a devious & deceitful caree...  AGAINST     TARGET  NEGATIVE\n",
            "729   10731                   Hillary Clinton  HRC is a war monger, every bit as bad as any R...  AGAINST     TARGET  NEGATIVE\n",
            "730   10732                   Hillary Clinton  It's interesting how many liberals are so brai...  AGAINST     TARGET  NEGATIVE\n",
            "731   10733                   Hillary Clinton  The young Skinheads from yesterday's Aryan Nat...     NONE      OTHER  NEGATIVE\n",
            "732   10734                   Hillary Clinton  If it's been 80+ days since you've done an int...     NONE      OTHER  NEGATIVE\n",
            "733   10735                   Hillary Clinton  @peddoc63 @Fr3333dom Seems the way we're going...  AGAINST     TARGET  NEGATIVE\n",
            "734   10736                   Hillary Clinton  I dislike our idiots as much as I dislike thei...     NONE      OTHER  NEGATIVE\n",
            "735   10737                   Hillary Clinton  Take care of your finances. Spend sensibly. Sa...     NONE      OTHER  POSITIVE\n",
            "736   10738                   Hillary Clinton  @politicalmath @BoboFromTexas doesn't matter. ...  AGAINST     TARGET  NEGATIVE\n",
            "737   10739                   Hillary Clinton  I don't know how well a socialist is gonna pla...     NONE     NO ONE  NEGATIVE\n",
            "738   10740                   Hillary Clinton  @Slate @pinkbunny70 Buh-bye, Bernie. I agree w...     NONE      OTHER  NEGATIVE\n",
            "739   10741                   Hillary Clinton  Barrack Obama doesn't care about his own town!...     NONE      OTHER  NEGATIVE\n",
            "740   10742                   Hillary Clinton  The recent comments of #HillaryClinton sounded...  AGAINST     TARGET  NEGATIVE\n",
            "741   10743                   Hillary Clinton  There's a special place in hell for those who ...    FAVOR     TARGET  NEGATIVE\n",
            "742   10744                   Hillary Clinton  @PantanoLaw Thanks for the follow, may God ble...     NONE      OTHER  POSITIVE\n",
            "743   10745                   Hillary Clinton  Dana made this shirt w/ lots of #glitter! #awe...     NONE      OTHER  POSITIVE\n",
            "744   10746                   Hillary Clinton  @Camilian1Sabel Amen to that, everybody has to...     NONE      OTHER  POSITIVE\n",
            "745   10747                   Hillary Clinton  Wait...... you said \"BILL COSBY?\"  Oh, I'm sor...    FAVOR     TARGET   NEITHER\n",
            "746   10748                   Hillary Clinton  Rhodham Hood: It takes a village to  community...     NONE      OTHER  NEGATIVE\n",
            "747   10749                   Hillary Clinton  I just don't think we need an old white guy in...     NONE      OTHER  NEGATIVE\n",
            "748   10750                   Hillary Clinton  SO ANYWAYS WHAT DID HE SAY? ANYTHING ABOUT VOT...     NONE      OTHER  NEGATIVE\n",
            "749   10751                   Hillary Clinton  WHAT IS \"THE THREAD OF VIOLIN EXTREMISM?\" #OBA...     NONE      OTHER  NEGATIVE\n",
            "750   10752                   Hillary Clinton  Right now every liberal in America is feeling ...     NONE      OTHER  POSITIVE\n",
            "751   10753                   Hillary Clinton  @TGowdySC Your committee has NOTHING!, 4 other...    FAVOR     TARGET  NEGATIVE\n",
            "752   10754                   Hillary Clinton  @Reince This is very credible! Good work! Amer...  AGAINST     TARGET  POSITIVE\n",
            "753   10755                   Hillary Clinton     @AdamSmith_USA Nice video. GOOD Luck WITH it.      NONE      OTHER  POSITIVE\n",
            "754   10756                   Hillary Clinton  @HillaryClinton @HillaryforNH hope to see her ...    FAVOR     TARGET  POSITIVE\n",
            "755   10757                   Hillary Clinton  I'm going to miss the 5pm interview so I'm dep...     NONE      OTHER  POSITIVE\n",
            "756   10758                   Hillary Clinton  While I like Bernie as much as the next libera...     NONE      OTHER  NEGATIVE\n",
            "757   10759                   Hillary Clinton  Wondering if my Hilary 2016 sticker will affec...    FAVOR     TARGET  NEGATIVE\n",
            "758   10760                   Hillary Clinton  @AdamSmith_USA because clearly @HillaryClinton...    FAVOR     TARGET  POSITIVE\n",
            "759   10761                   Hillary Clinton  @SenSanders bashes Obama job numbers.Calling i...    FAVOR     TARGET  NEGATIVE\n",
            "760   10762                   Hillary Clinton  just saw ad about @marcorubio being tough on #...     NONE      OTHER  NEGATIVE\n",
            "761   10763                   Hillary Clinton  @MarkSoveign won't happen again. Hillary's coa...    FAVOR     TARGET  NEGATIVE\n",
            "762   10764                   Hillary Clinton  @HillaryClinton now can add #ropegate to her l...  AGAINST     TARGET  NEGATIVE\n",
            "763   10765                   Hillary Clinton  Tea Party Nation, Tea Party group listed by So...     NONE      OTHER  NEGATIVE\n",
            "764   10766                   Hillary Clinton  It's time that we move from good words to good...    FAVOR     TARGET  POSITIVE\n",
            "765   10767                   Hillary Clinton  .@politicoroger It is 2015. You and the other ...     NONE      OTHER  NEGATIVE\n",
            "766   10768                   Hillary Clinton  @irritatedwoman She lied under oath before, wh...  AGAINST     TARGET  NEGATIVE\n",
            "767   10769                   Hillary Clinton  True Christians follow Mathew, Mark, Luke and ...     NONE      OTHER  POSITIVE\n",
            "768   10770                   Hillary Clinton  @HillaryClinton the @DalaiLama speaks of women...    FAVOR     TARGET  POSITIVE\n",
            "769   10771                   Hillary Clinton         @HillaryforNV Many thanks for the follow!     FAVOR     TARGET  POSITIVE\n",
            "770   10772                   Hillary Clinton  @gabriellahope_ @HillaryClinton Does the gener...  AGAINST     TARGET  NEGATIVE\n",
            "771   10773                   Hillary Clinton  Based on the long lines, I thought it was free...    FAVOR     TARGET  POSITIVE\n",
            "772   10774                   Hillary Clinton  I've been called many things, quitter is not o...    FAVOR     TARGET  POSITIVE\n",
            "773   10775                   Hillary Clinton  @HillaryClinton condemns anti-Israel boycotts ...  AGAINST     TARGET  NEGATIVE\n",
            "774   10776                   Hillary Clinton  Have full faith in @HillaryClinton's campaign....    FAVOR     TARGET  POSITIVE\n",
            "775   10777                   Hillary Clinton  Amazing, inspiring speech&question session in ...    FAVOR     TARGET  POSITIVE\n",
            "776   10778                   Hillary Clinton  @OutnumberedFNC: Hillary chooses Brianna Keila...     NONE      OTHER   NEITHER\n",
            "777   10779                   Hillary Clinton  Anyone who knows or whiteness bigotry & does n...     NONE      OTHER  NEGATIVE\n",
            "778   10780                   Hillary Clinton  @trayNTP Why doesn't he run as a Socialist? Th...     NONE      OTHER  NEGATIVE\n",
            "779   10781                   Hillary Clinton  @OutnumberedFNC: Hillary chooses Brianna Keila...  AGAINST     TARGET  NEGATIVE\n",
            "780   10782                   Hillary Clinton  My whole day is revolving around @HillaryClint...    FAVOR     TARGET  POSITIVE\n",
            "781   10783                   Hillary Clinton  @LeighAnnKopans can I get your pattern for thi...     NONE      OTHER  POSITIVE\n",
            "782   10784                   Hillary Clinton  Hillary Clinton Accomplishment of the Day: ext...    FAVOR     TARGET  POSITIVE\n",
            "783   10785                   Hillary Clinton  If @HillaryClinton becomes president I'm not l...  AGAINST     TARGET  NEGATIVE\n",
            "784   10786                   Hillary Clinton  7 years ago this month #POTUS released his gro...     NONE      OTHER  NEGATIVE\n",
            "785   10787                   Hillary Clinton  @kwrcrow Probably for the same reason bho has ...     NONE      OTHER  NEGATIVE\n",
            "786   10788                   Hillary Clinton  #HillaryClinton just cannot accept the fact th...  AGAINST     TARGET  NEGATIVE\n",
            "787   10789                   Hillary Clinton  @HillaryClinton is plain amazing, humble, smar...    FAVOR     TARGET  POSITIVE\n",
            "788   10790                   Hillary Clinton  @thehill Great now Hillary knows how the ameri...  AGAINST     TARGET  NEGATIVE\n",
            "789   10791                   Hillary Clinton  She's smarter and works harder . Empty accusat...    FAVOR     TARGET  NEGATIVE\n",
            "790   10792                   Hillary Clinton  @MedvedSHOW   wow.  So shrill. Hating Hillary ...  AGAINST     TARGET  NEGATIVE\n",
            "791   10793                   Hillary Clinton  @kasie I do! And I had an invitation to their ...  AGAINST     TARGET  POSITIVE\n",
            "792   10794                   Hillary Clinton  @CNN @jimsciutto Good i'view #Brianna. #Hillar...  AGAINST     TARGET  POSITIVE\n",
            "793   10795                   Hillary Clinton  Either way, @HillaryClinton rises above the me...    FAVOR     TARGET  POSITIVE\n",
            "794   10796                   Hillary Clinton  @TwitchyTeam ...and then she'll turn around an...  AGAINST     TARGET  NEGATIVE\n",
            "795   10797                   Hillary Clinton  Obama is 'opportunist,' Hillary Clinton no dif...  AGAINST     TARGET  NEGATIVE\n",
            "796   10798                   Hillary Clinton  @USATODAY @HillaryClinton how about finding he...  AGAINST     TARGET  NEGATIVE\n",
            "797   10799                   Hillary Clinton  @AC360 of course she is disappointed. Hillary ...  AGAINST     TARGET  NEGATIVE\n",
            "798   10800                   Hillary Clinton  Trying 2 unfollow every twit who isn't going 2...     NONE      OTHER  NEGATIVE\n",
            "799   10801                   Hillary Clinton  ROFLMAO! 2012 @GOP couldnt kiss enough of #Don...  AGAINST     TARGET  NEGATIVE\n",
            "800   10802                   Hillary Clinton  @HillaryClinton made me proud today!  Nothing ...    FAVOR     TARGET  POSITIVE\n",
            "801   10803                   Hillary Clinton  @N_Fatale @bayareahausfrau ILLEGAL IMMIGRATION...     NONE      OTHER  POSITIVE\n",
            "802   10804                   Hillary Clinton  @HillaryClinton great job on @CNN interview to...    FAVOR     TARGET   NEITHER\n",
            "803   10805                   Hillary Clinton  Hillary upset GOP candidates didn't respond to...  AGAINST     TARGET  NEGATIVE\n",
            "804   10806                   Hillary Clinton  @HillaryClinton Many of us r near ruin! #SaveT...    FAVOR     TARGET  NEGATIVE\n",
            "805   10807                   Hillary Clinton  America has no tolerance for cheaters and liar...  AGAINST     TARGET  NEGATIVE\n",
            "806   10808                   Hillary Clinton  @HillaryClinton Will #BillClinton assault #Mon...  AGAINST     TARGET  NEGATIVE\n",
            "807   10809                   Hillary Clinton  If Hillary wins next year it'll be the first t...     NONE     NO ONE   NEITHER\n",
            "808   10810                   Hillary Clinton  President Jimmy Carter:  There's no doubt Hill...    FAVOR     TARGET  POSITIVE\n",
            "809   10811                   Hillary Clinton  @StarCoreOne02 @DrMartyFox Is it still 1992? W...     NONE      OTHER  NEGATIVE\n",
            "810   10812                   Hillary Clinton         .@thehill umm.  Yyyeaaaaah. Sure they do.      NONE      OTHER  NEGATIVE\n",
            "811   10813                   Hillary Clinton  @JedediahBila u must be counting the lies like...     NONE      OTHER  NEGATIVE\n",
            "812   10814                   Hillary Clinton  Technology has exposed more bad politicians th...  AGAINST     TARGET  NEGATIVE\n",
            "813   10815                   Hillary Clinton             Free and Equal in dignity and rights.      NONE      OTHER  POSITIVE\n",
            "814   10816                   Hillary Clinton  @CheerUpKaci @tmacGA70 It's the Clinton histor...  AGAINST     TARGET  NEGATIVE\n",
            "815   10817                   Hillary Clinton  Entire campaign platform for @HillaryClinton s...  AGAINST     TARGET  NEGATIVE\n",
            "816   10818                   Hillary Clinton  Imagine @JoeBiden runs for POTUS. Without a do...  AGAINST     TARGET  POSITIVE\n",
            "817   10819                   Hillary Clinton  A lot of #GOPHaters for #Hillary - so funny be...    FAVOR     TARGET  POSITIVE\n",
            "818   10820                   Hillary Clinton  SUCCESS:  @HillaryClinton said she's receiving...  AGAINST     TARGET  POSITIVE\n",
            "819   10821                   Hillary Clinton  Do you Progressives know how dangerously close...    FAVOR     TARGET  NEGATIVE\n",
            "820   10822                   Hillary Clinton  #Democrats and #Obama reduce OUR Army by 40,00...  AGAINST     TARGET  NEGATIVE\n",
            "821   10823                   Hillary Clinton  @CNNPolitics @PoliticalAnt @moody this is beau...     NONE      OTHER  POSITIVE\n",
            "822   10824                   Hillary Clinton  #NoHillary2016 & her #PredatorRat, too. MT \"@s...  AGAINST     TARGET  NEGATIVE\n",
            "823   10825                   Hillary Clinton  @forewit @HillaryClinton is a degenerate liar ...  AGAINST     TARGET  NEGATIVE\n",
            "824   10826                   Hillary Clinton  @Reince Hardly a hard-hitting interview like w...     NONE      OTHER  NEGATIVE\n",
            "825   10827                   Hillary Clinton  Democrats want power for themselves. Republica...  AGAINST      OTHER   NEITHER\n",
            "826   10828                   Hillary Clinton  Dad while watching the news:  Politics is just...     NONE     NO ONE  NEGATIVE\n",
            "827   10829                   Hillary Clinton  .@thedailybeast such a waste of space #Crackin...     NONE      OTHER  NEGATIVE\n",
            "828   10830                   Hillary Clinton  @KrownRoyaleNY @jjauthor Bad for her is good f...  AGAINST     TARGET  NEGATIVE\n",
            "829   10831                   Hillary Clinton  RT @JohnFugelsang: They should just make the G...    FAVOR     TARGET  NEGATIVE\n",
            "830   10832                   Hillary Clinton  @csham21 @EstadodeSats Thank you so much for s...     NONE      OTHER  POSITIVE\n",
            "831   10833                   Hillary Clinton  Can't #UniteBlue, RT LindaSuhler: Hillary:Peop...  AGAINST     TARGET  NEGATIVE\n",
            "832   10834                   Hillary Clinton  @M_E_Adams if a Demonrat were to win I'd prefe...  AGAINST     TARGET  NEGATIVE\n",
            "833   10835                   Hillary Clinton  @jschau11 wow!!! i can halp too!! #OBAMASUCKS ...     NONE      OTHER  NEGATIVE\n",
            "834   10836                   Hillary Clinton  #WhatILearnedToday @HillaryClinton already adm...  AGAINST     TARGET  NEGATIVE\n",
            "835   10837                   Hillary Clinton  @DesireeAaron @HillaryClinton  Sheets Clinton ...    FAVOR     TARGET   NEITHER\n",
            "836   10838                   Hillary Clinton  .@jaketapper The way @HillaryClinton keeps lyi...  AGAINST     TARGET  NEGATIVE\n",
            "837   10839                   Hillary Clinton  It's a beautiful day for phone banking at the ...    FAVOR     TARGET  POSITIVE\n",
            "838   10840                   Hillary Clinton  @ahbrees @TODAYshow  Attack? More like the dai...  AGAINST     TARGET  NEGATIVE\n",
            "839   10841                   Hillary Clinton  @DeatonCAPT Simple. Govt benefits. Surprised i...     NONE      OTHER  NEGATIVE\n",
            "840   10842                   Hillary Clinton  @stylistkavin Amazing how much they sound like...    FAVOR     TARGET  POSITIVE\n",
            "841   10843                   Hillary Clinton  @pdg811 Didn't realize I was in a Republican e...    FAVOR     TARGET  NEGATIVE\n",
            "842   10844                   Hillary Clinton  Hillary Clinton has amassed $329 million in he...  AGAINST     TARGET  NEGATIVE\n",
            "843   10845                   Hillary Clinton  #HillaryonCNN   The wicked person flees when n...  AGAINST     TARGET  NEGATIVE\n",
            "844   10846                   Hillary Clinton  @Scott_R_Ellis the reason she struggles to app...  AGAINST      OTHER  NEGATIVE\n",
            "845   10847                   Hillary Clinton  @Levee_Breaks  The stench of low tide.is lasti...     NONE      OTHER  NEGATIVE\n",
            "846   10848                   Hillary Clinton  @CNNPolitics @JDiamond1 that's so ridiculous t...     NONE      OTHER  NEGATIVE\n",
            "847   10849                   Hillary Clinton  Hilarity of the day: Hillary said she went 'ab...  AGAINST     TARGET  NEGATIVE\n",
            "848   10850                   Hillary Clinton  @HillaryClinton Wow, #HillaryClinton looks ver...  AGAINST     TARGET  NEGATIVE\n",
            "849   10851                   Hillary Clinton  @HillaryClinton interview was ridiculous!! She...  AGAINST     TARGET  NEGATIVE\n",
            "850   10852                   Hillary Clinton  Every time the republicans move to the middle,...     NONE      OTHER  NEGATIVE\n",
            "851   10853                   Hillary Clinton  .@HillaryClinton blames her lack of trust amon...  AGAINST     TARGET  NEGATIVE\n",
            "852   10854                   Hillary Clinton  Hillary has sacrificed more Ambassadors, told ...  AGAINST     TARGET  NEGATIVE\n",
            "853   10855                   Hillary Clinton  @thehill : Women deserve a better candidate fo...  AGAINST     TARGET  NEGATIVE\n",
            "854   10856                   Hillary Clinton  A circus Act such as Donald Trump is short ter...     NONE      OTHER  NEGATIVE\n",
            "855   10857                   Hillary Clinton  @churstauthor Thanks for the follow Charles, m...     NONE     NO ONE  POSITIVE\n",
            "856   10858                   Hillary Clinton  @alison_rambles @RickCanton @ResistTyranny @Ro...     NONE     NO ONE   NEITHER\n",
            "857   10859                   Hillary Clinton  If it weren't for her marriage, Hillary would ...  AGAINST     TARGET  NEGATIVE\n",
            "858   10860                   Hillary Clinton  @TajMagruder  Facetious much? Had me going the...     NONE      OTHER  NEGATIVE\n",
            "859   10861                   Hillary Clinton  @realDonaldTrump has my vote! The truth will s...  AGAINST      OTHER  POSITIVE\n",
            "860   10862                   Hillary Clinton  .@HillaryClinton is a liar & corrupt.  Period....  AGAINST     TARGET  NEGATIVE\n",
            "861   10863                   Hillary Clinton  Republicans in the White House will make Ameri...  AGAINST      OTHER  POSITIVE\n",
            "862   10864                   Hillary Clinton  @AndreaTantaros Clinton privilege transcends w...  AGAINST     TARGET  NEGATIVE\n",
            "863   10865                   Hillary Clinton  Hillary has learned The Blame Game well from O...  AGAINST     TARGET  NEGATIVE\n",
            "864   10866                   Hillary Clinton  when i get married to my partner i want @Hilla...    FAVOR     TARGET  POSITIVE\n",
            "865   10867                   Hillary Clinton  Hey!!! If anyone wants to help with the Hillar...    FAVOR     TARGET  POSITIVE\n",
            "866   10868                   Hillary Clinton  Are we so desperate in this country to serious...  AGAINST     TARGET  NEGATIVE\n",
            "867   10869                   Hillary Clinton  @JOEROWE409 @ScotsFyre Hillaey Clinton can't h...  AGAINST     TARGET  NEGATIVE\n",
            "868   10870                   Hillary Clinton  Hillary \"We came, we saw, he [Gaddaffi] died\" ...  AGAINST     TARGET  NEGATIVE\n",
            "869   10871                   Hillary Clinton  It bugs me when some people seek to invalidate...     NONE      OTHER  NEGATIVE\n",
            "870   10872                   Hillary Clinton  Join the Hillary team now and come to the Jeff...    FAVOR     TARGET  POSITIVE\n",
            "871   10873                   Hillary Clinton  Mining is where all the money is but our \"Lead...     NONE      OTHER  NEGATIVE\n",
            "872   10874                   Hillary Clinton  I wish #OliviaPope could run @HillaryClinton '...  AGAINST     TARGET  NEGATIVE\n",
            "873   10875                   Hillary Clinton  Liberal's, why ARE you so intolerant?!? Why we...     NONE      OTHER  NEGATIVE\n",
            "874   10876                   Hillary Clinton  @CNN One would hope everyone would be fired up...  AGAINST     TARGET  NEGATIVE\n",
            "875   10877                   Hillary Clinton  Hillary gave her first big interview. Did she ...  AGAINST     TARGET  NEGATIVE\n",
            "876   10878                   Hillary Clinton  #Clintonemails are just a prelude of what her ...  AGAINST     TARGET  NEGATIVE\n",
            "877   10879                   Hillary Clinton  @CNN and CNN proved they are not a legitimate ...  AGAINST     TARGET  NEGATIVE\n",
            "878   10880                   Hillary Clinton  We stand with the great #Baltimore mayor! Fire...     NONE      OTHER  NEGATIVE\n",
            "879   10881                   Hillary Clinton  HRC is delusional in addition to being a patho...  AGAINST     TARGET  NEGATIVE\n",
            "880   10882                   Hillary Clinton  This is the 3rd time in U.S. that Republicans ...     NONE      OTHER  NEGATIVE\n",
            "881   10883                   Hillary Clinton  'Hilary is not electable' then you stand no ch...  AGAINST     TARGET  NEGATIVE\n",
            "882   10884                   Hillary Clinton  If Hillary Clinton is elected president in 201...  AGAINST     TARGET  NEGATIVE\n",
            "883   10885                   Hillary Clinton  @HillaryClinton : \"Change religious beliefs\" t...  AGAINST     TARGET  NEGATIVE\n",
            "884   10886                   Hillary Clinton  Voting Republican in 2016 gets you so much mor...  AGAINST     TARGET  POSITIVE\n",
            "885   10887                   Hillary Clinton  @HillaryClinton had a Legal obligation to prev...  AGAINST     TARGET  NEGATIVE\n",
            "886   10888                   Hillary Clinton  @3_Card_Monty : I believe the title would be \"...     NONE      OTHER  NEGATIVE\n",
            "887   10889                   Hillary Clinton  @Independent Maybe it's his last name? Or mayb...     NONE      OTHER  NEGATIVE\n",
            "888   10890                   Hillary Clinton  You know, when you talk bad about Hillary, in ...    FAVOR     TARGET  NEGATIVE\n",
            "889   10891                   Hillary Clinton  I will give the Jewish state all the support t...     NONE      OTHER  NEGATIVE\n",
            "890   10892                   Hillary Clinton  Why did you lie about the #Benghazi subpoena? ...  AGAINST     TARGET  NEGATIVE\n",
            "891   10893                   Hillary Clinton  @JoanOfArgghh I won't use the c-word, so I'll ...  AGAINST     TARGET  NEGATIVE\n",
            "892   10894                   Hillary Clinton  Controlling #illegalimmigration is Now Racist ...     NONE      OTHER  NEGATIVE\n",
            "893   10895                   Hillary Clinton  Vow today to fight the #FirstFamilyOfCorruptio...  AGAINST     TARGET  NEGATIVE\n",
            "894   10896                   Hillary Clinton  During ClintonNo.1 prez stint all we heard was...  AGAINST     TARGET  NEGATIVE\n",
            "895   10897                   Hillary Clinton  Jeb Bush says Americans should work longer hou...    FAVOR     TARGET  NEGATIVE\n",
            "896   10898                   Hillary Clinton  @AC360 asked @realDonaldTrump the tough questi...  AGAINST     TARGET  NEGATIVE\n",
            "897   10899                   Hillary Clinton  @HillaryClinton : Women deserve a better candi...  AGAINST     TARGET  NEGATIVE\n",
            "898   10900                   Hillary Clinton  @HillaryNews #GoKatie Ted you're not going to ...    FAVOR     TARGET  NEGATIVE\n",
            "899   10901                   Hillary Clinton  I stand with @HillaryClinton I know she is for...    FAVOR     TARGET  POSITIVE\n",
            "900   10902                   Hillary Clinton  @NoahCRothman \"Everything I did was permitted....  AGAINST     TARGET  NEGATIVE\n",
            "901   10903                   Hillary Clinton  #EpicLiberalFail Hilary lied about Banghazi an...  AGAINST     TARGET  NEGATIVE\n",
            "902   10904                   Hillary Clinton  Enjoyed @jamiaw article on feminism + @hillary...    FAVOR     TARGET  POSITIVE\n",
            "903   10905                   Hillary Clinton  GW Bush gives $100K speech to wounded vets...t...     NONE      OTHER  NEGATIVE\n",
            "904   10906                   Hillary Clinton  @_Holly_Renee I want to fav this tweet....caus...  AGAINST     TARGET   NEITHER\n",
            "905   10907                   Hillary Clinton  GOP Busted Trey Gowdy proved their #Benghazi h...  AGAINST     TARGET  NEGATIVE\n",
            "906   10908                   Hillary Clinton  @Chairmnoomowmow @DrMartyFox I'm on team \"Anyo...  AGAINST     TARGET  NEGATIVE\n",
            "907   10909                   Hillary Clinton  @HillaryClinton Are those women #BillClinton's...  AGAINST     TARGET  NEGATIVE\n",
            "908   10910                   Hillary Clinton  Trey Gowdy proved their #Benghazi hearings are...  AGAINST      OTHER  NEGATIVE\n",
            "909   10911                   Hillary Clinton  you can't bitch at me for donating to Dems.  O...  AGAINST     TARGET  NEGATIVE\n",
            "910   10912                   Hillary Clinton  People should and do trust me.  -woman who als...  AGAINST     TARGET  NEGATIVE\n",
            "911   10913                   Hillary Clinton  @iaaronmitch Right now I think we're all sendi...  AGAINST     TARGET  POSITIVE\n",
            "912   10914                   Hillary Clinton  @peddoc63 @steph93065 @ChrisHollyMusic she's n...  AGAINST     TARGET  NEGATIVE\n",
            "913   10915                   Hillary Clinton  hey @HillaryClinton when you LIED about the la...  AGAINST     TARGET  NEGATIVE\n",
            "914   10916                   Hillary Clinton  @HillaryClinton lies just for the fun of it, i...  AGAINST     TARGET  NEGATIVE\n",
            "915   10917                   Hillary Clinton  @murphymike @blakehounshell @ScottFConroy let'...  AGAINST      OTHER  NEGATIVE\n",
            "916   10918                   Hillary Clinton  I BLOCKED 2 Liberals Today!..A Very Good Thurs...  AGAINST      OTHER  NEGATIVE\n",
            "917   10919                   Hillary Clinton  @rhhhhh380 What we need to do is support all R...  AGAINST      OTHER  POSITIVE\n",
            "918   10920                   Hillary Clinton  @JessicaAndSandr I have 2 words for u  #Bengha...  AGAINST     TARGET  NEGATIVE\n",
            "919   10921                   Hillary Clinton  @Westxgal @irisflower33: This money will buy t...  AGAINST     NO ONE  NEGATIVE\n",
            "920   10922                   Hillary Clinton  @HillaryClinton Hillary is a Directioner! This...    FAVOR      OTHER  POSITIVE\n",
            "921   10923                   Hillary Clinton  Ok now Latino are deciding who is going to be ...  AGAINST     TARGET  NEGATIVE\n",
            "922   10924                   Hillary Clinton  Only @theDemocrats want #crimigrants running a...  AGAINST     TARGET  NEGATIVE\n",
            "923   10925                   Hillary Clinton  @LeahR77 @HillaryClinton the unethical lying g...  AGAINST     TARGET  NEGATIVE\n",
            "924   10926                   Hillary Clinton  Hey Hillary Clinton...How's things working out...  AGAINST      OTHER  NEGATIVE\n",
            "925   10927                   Hillary Clinton  Didn't take long for Clinton lackey @PaulBegal...  AGAINST     TARGET  NEGATIVE\n",
            "926   10928                   Hillary Clinton  I dont understand the people that bash Donald ...  AGAINST     TARGET  NEGATIVE\n",
            "927   10929                   Hillary Clinton  Did you hear the answer Hillary gave to a repo...  AGAINST     TARGET  NEGATIVE\n",
            "928   10930                   Hillary Clinton  Hillarity claims no subpoenas, get put in her ...  AGAINST     TARGET  NEGATIVE\n",
            "929   10931                   Hillary Clinton  Hillary has flipped yet again, and is now pro-...  AGAINST     TARGET  NEGATIVE\n",
            "930   10932                   Hillary Clinton  Hillary says people should and do trust her, p...  AGAINST     TARGET  NEGATIVE\n",
            "931   10933                   Hillary Clinton  @LMdonney @HillaryClinton Thank you Carol 4you...    FAVOR     TARGET  POSITIVE\n",
            "932   10934                   Hillary Clinton  Pondering why virtually all of my female frien...  AGAINST     TARGET  NEGATIVE\n",
            "933   10935                   Hillary Clinton  @HillaryClinton @TheDemocrats How many Xanax d...  AGAINST      OTHER  NEGATIVE\n",
            "934   10936                   Hillary Clinton  Hillary Clinton is the only one who can turn t...    FAVOR     TARGET  POSITIVE\n",
            "935   10937                   Hillary Clinton  Republican on facebook said :If it comes down ...  AGAINST     TARGET  NEGATIVE\n",
            "936   10938                   Hillary Clinton  At the end of the day, support the candidate w...  AGAINST      OTHER  POSITIVE\n",
            "937   10939                   Hillary Clinton  @sgtis0905 @UnPoliticalPrty Never forget @emal...  AGAINST     TARGET  NEGATIVE\n",
            "938   10940                   Hillary Clinton  One wonders, if your Government ignores the la...  AGAINST     TARGET  NEGATIVE\n",
            "939   10941                   Hillary Clinton  It just depends on what the  definition of the...  AGAINST      OTHER   NEITHER\n",
            "940   10942                   Hillary Clinton  Spitting on clergy.  Burning the American flag...  AGAINST     TARGET  NEGATIVE\n",
            "941   10943                   Hillary Clinton  @donnabrazile @DougHeye So this woman does one...  AGAINST      OTHER  NEGATIVE\n",
            "942   10944                   Hillary Clinton  @MarkBratlien Hi Mark, thank you so much for y...     NONE      OTHER  POSITIVE\n",
            "943   10945                   Hillary Clinton  @szabosolicitors Thanks for the follow counsel...     NONE      OTHER  POSITIVE\n",
            "944   10946                   Hillary Clinton  @jjauthor Janie, I am honored to be followed b...     NONE      OTHER  POSITIVE\n",
            "945   10947                   Hillary Clinton  @FaithWarJournal Thank You for the follow, may...     NONE      OTHER  POSITIVE\n",
            "946   10948                   Hillary Clinton  @lylafmills Simple. A revolution Two Independe...  AGAINST      OTHER  POSITIVE\n",
            "947   10949                   Hillary Clinton  So over 20 million government employees got th...  AGAINST     TARGET  NEGATIVE\n",
            "948   10950                   Hillary Clinton  The rebel flag flew off the pole & pulled trig...     NONE      OTHER  NEGATIVE\n",
            "949   10951                   Hillary Clinton  @TheAtlantic cause  #Hillary Clinton is a LYIN...  AGAINST     TARGET  NEGATIVE\n",
            "950   10952                   Hillary Clinton  @billodoux Thanks for the follow, that his by ...     NONE      OTHER  POSITIVE\n",
            "951   10953                   Hillary Clinton  Proud of @HillaryClinton for supporting strong...    FAVOR     TARGET  POSITIVE\n",
            "952   10954                   Hillary Clinton  So @HillaryClinton received a Subpoena to Test...  AGAINST     TARGET  NEGATIVE\n",
            "953   10955                   Hillary Clinton  I'm conservative but I must admit I'd rather s...  AGAINST     TARGET  NEGATIVE\n",
            "954   10956                   Hillary Clinton  @Braidleigh 2016 is the due year for possible ...     NONE      OTHER  POSITIVE\n",
            "955   10957                   Hillary Clinton  @SaysMissy HRC takes us Americans for mindless...  AGAINST      OTHER  NEGATIVE\n",
            "956   10958                   Hillary Clinton  @BadgerGeno @kreichert27 @jackbahlman Too busy...     NONE      OTHER  POSITIVE\n",
            "957   10959                   Hillary Clinton  Chelsea and her bitch mother #HillaryClinton s...  AGAINST     TARGET  NEGATIVE\n",
            "958   10960                   Hillary Clinton  Wouldn't be surprise that it comes to light th...  AGAINST     TARGET  NEGATIVE\n",
            "959   10961                   Hillary Clinton  Wouldn't be surprise that it comes to light th...  AGAINST     TARGET  NEGATIVE\n",
            "960   10962                   Hillary Clinton  The blacks cant admit that O is a failure. No,...     NONE      OTHER  NEGATIVE\n",
            "961   10963                   Hillary Clinton  <<I'm just going to be my own little self and ...     NONE     NO ONE   NEITHER\n",
            "962   10964                   Hillary Clinton  I think that everything she says is a lie.   I...  AGAINST     TARGET  NEGATIVE\n",
            "963   10965                   Hillary Clinton  .@HillaryClinton Looking 4ward 2 hearing your ...    FAVOR     TARGET  POSITIVE\n",
            "964   10966                   Hillary Clinton  @mataharikrishna I'm loving it too! Draw that ...     NONE      OTHER  POSITIVE\n",
            "965   10967                   Hillary Clinton  @finneyk Can't stand @msnbc anymore, but hope ...    FAVOR     TARGET  POSITIVE\n",
            "966   10968                   Hillary Clinton  Hillary can't create jobs! Last time she had a...  AGAINST     TARGET  NEGATIVE\n",
            "967   10969                   Hillary Clinton  It's amazing to me how if you want a secure bo...     NONE      OTHER  NEGATIVE\n",
            "968   10970          Legalization of Abortion  Need a ProLife R.E. Agent? - Support a ProLife...  AGAINST      OTHER  POSITIVE\n",
            "969   10971          Legalization of Abortion  Where is the childcare program @joanburton whi...  AGAINST      OTHER  NEGATIVE\n",
            "970   10972          Legalization of Abortion  I get several requests with petitions to save ...  AGAINST      OTHER  NEGATIVE\n",
            "971   10973          Legalization of Abortion  we must always see others as Christ sees us,we...  AGAINST      OTHER  POSITIVE\n",
            "972   10974          Legalization of Abortion  PRAYERS FOR BABIES Urgent prayer one in Lexing...  AGAINST      OTHER  POSITIVE\n",
            "973   10975          Legalization of Abortion  I do not want to bring a child into this dange...  AGAINST      OTHER   NEITHER\n",
            "974   10976          Legalization of Abortion  I have a right to identify as pregnant and hav...  AGAINST      OTHER  POSITIVE\n",
            "975   10977          Legalization of Abortion  In so many ways to Christians right here in Am...  AGAINST      OTHER  NEGATIVE\n",
            "976   10978          Legalization of Abortion  Pray for the Navy yard. God please keep the ca...  AGAINST      OTHER  POSITIVE\n",
            "977   10979          Legalization of Abortion  I #DenounceHarper because his religious ties a...  AGAINST     TARGET  NEGATIVE\n",
            "978   10980          Legalization of Abortion  The government has given no explanation of why...  AGAINST     TARGET  NEGATIVE\n",
            "979   10981          Legalization of Abortion  The government has not been able to point to a...  AGAINST     TARGET  NEGATIVE\n",
            "980   10982          Legalization of Abortion  #ICCPR report does not cite any reasons for th...  AGAINST      OTHER  NEGATIVE\n",
            "981   10983          Legalization of Abortion  Those who deny women who've been raped abortio...  AGAINST     TARGET  NEGATIVE\n",
            "982   10984          Legalization of Abortion  @notmuchelse Giving birth is not pushing women...  AGAINST      OTHER  NEGATIVE\n",
            "983   10985          Legalization of Abortion  I am about to deck these 2 bitches in the fuck...  AGAINST      OTHER  NEGATIVE\n",
            "984   10986          Legalization of Abortion  If u come 2 this country 4 bettwr life fucking...  AGAINST      OTHER  NEGATIVE\n",
            "985   10987          Legalization of Abortion  It's undeniable that conception may also be th...  AGAINST     TARGET  NEGATIVE\n",
            "986   10988          Legalization of Abortion  Why would I want to make choices about my own ...  AGAINST     TARGET  NEGATIVE\n",
            "987   10989          Legalization of Abortion  Does the Gay Community support Abortion? #ProL...  AGAINST      OTHER   NEITHER\n",
            "988   10990          Legalization of Abortion  It's sad to see so many people getting their v...  AGAINST     TARGET  NEGATIVE\n",
            "989   10991          Legalization of Abortion  The idea that a \"fetus\" isn't human is outrage...  AGAINST     TARGET  NEGATIVE\n",
            "990   10992          Legalization of Abortion  @prolife_wife You can say that again! #Abortio...  AGAINST     TARGET  NEGATIVE\n",
            "991   10993          Legalization of Abortion  @__Porky @P226_Sig @_HankRearden @jrmadmen @ae...    FAVOR     TARGET  NEGATIVE\n",
            "992   10994          Legalization of Abortion  it's not that i don't want to be at work. it's...     NONE      OTHER  NEGATIVE\n",
            "993   10995          Legalization of Abortion  Anti choice laws are sexist because they only ...    FAVOR     TARGET  NEGATIVE\n",
            "994   10996          Legalization of Abortion  So anti-choice laws are telling these women th...    FAVOR     TARGET  NEGATIVE\n",
            "995   10997          Legalization of Abortion  Like how can you sit there and even go through...     NONE      OTHER  NEGATIVE\n",
            "996   10998          Legalization of Abortion  Fair IS fair if U believe an unborn child has ...  AGAINST     TARGET  NEGATIVE\n",
            "997   10999          Legalization of Abortion  @MichestBlogSpot: Postinor is popularly  used ...     NONE     NO ONE   NEITHER\n",
            "998   11000          Legalization of Abortion  #FF #Patriot --> PigsWalkUpright.  Thanks 4 fo...     NONE     NO ONE  POSITIVE\n",
            "999   11001          Legalization of Abortion  How many location-efficient, #affordablehousin...     NONE     NO ONE   NEITHER\n",
            "1000  11002          Legalization of Abortion  @nytimes while you are at it, eliminate all dr...     NONE      OTHER  NEGATIVE\n",
            "1001  11003          Legalization of Abortion  Not all women want to have or bear children, a...    FAVOR     TARGET  POSITIVE\n",
            "1002  11004          Legalization of Abortion  Meanwhile, @JustinTrudeau wants to waste your ...  AGAINST     TARGET  NEGATIVE\n",
            "1003  11005          Legalization of Abortion  If we are pronounced dead when our heart stops...  AGAINST     TARGET  NEGATIVE\n",
            "1004  11006          Legalization of Abortion  89% of abortions occur at the 12th week or bef...     NONE     NO ONE  NEGATIVE\n",
            "1005  11007          Legalization of Abortion  1.2% of abortions happen at 21 weeks+  (these ...     NONE     NO ONE   NEITHER\n",
            "1006  11008          Legalization of Abortion  #NothingMoreAmericanThan unjustified homicide ...  AGAINST     TARGET  NEGATIVE\n",
            "1007  11009          Legalization of Abortion  Generate belief in quality existence for every...  AGAINST     TARGET  POSITIVE\n",
            "1008  11010          Legalization of Abortion  When Declaration of Independence was adopted, ...  AGAINST      OTHER  NEGATIVE\n",
            "1009  11011          Legalization of Abortion  I'm really pissed off by vaccines mandates. It...     NONE      OTHER  NEGATIVE\n",
            "1010  11012          Legalization of Abortion  Please vote against the anti-choice amendment ...  AGAINST     TARGET  POSITIVE\n",
            "1011  11013          Legalization of Abortion  @notmuchelse But of course today one doesn't h...  AGAINST     TARGET  NEGATIVE\n",
            "1012  11014          Legalization of Abortion  Those who wonder what they would have done had...  AGAINST      OTHER  NEGATIVE\n",
            "1013  11015          Legalization of Abortion  Damn, interesting news when you find out you w...  AGAINST      OTHER  NEGATIVE\n",
            "1014  11016          Legalization of Abortion  Reading law cases on abortion rulings from the...  AGAINST      OTHER  NEGATIVE\n",
            "1015  11017          Legalization of Abortion  Every1 needs 2 c @Rick_Reyna & @rallysforchris...  AGAINST      OTHER  POSITIVE\n",
            "1016  11018          Legalization of Abortion  @VeronicaCoffin @Fingersflying the irony of Ma...  AGAINST      OTHER  NEGATIVE\n",
            "1017  11019          Legalization of Abortion  #rally4life Motherhood is for some much-wanted...  AGAINST     TARGET  POSITIVE\n",
            "1018  11020          Legalization of Abortion  I hope you all either enjoy the rugby or enjoy...  AGAINST     TARGET  POSITIVE\n",
            "1019  11021          Legalization of Abortion  En route to Parnell Square for the rally for l...  AGAINST     TARGET  POSITIVE\n",
            "1020  11022          Legalization of Abortion  @Independent_ie No one has 5he right to tell a...  AGAINST     TARGET  NEGATIVE\n",
            "1021  11023          Legalization of Abortion  @ProWomanChoice @BuhayIpaglaban people like yo...  AGAINST     TARGET  NEGATIVE\n",
            "1022  11024          Legalization of Abortion  A bundle of cells feels more pain than a fully...  AGAINST     TARGET  NEGATIVE\n",
            "1023  11025          Legalization of Abortion  pro-choicers are basically tryna fight oppress...  AGAINST      OTHER  NEGATIVE\n",
            "1024  11026          Legalization of Abortion  #rally4life more like rally for people who thi...  AGAINST     TARGET  NEGATIVE\n",
            "1025  11027          Legalization of Abortion  As a man, the only body I should have a say in...  AGAINST     TARGET  NEGATIVE\n",
            "1026  11028          Legalization of Abortion  Wish I could be at the #rallyforlife counter p...  AGAINST     TARGET   NEITHER\n",
            "1027  11029          Legalization of Abortion  #rally4life because if they don't want an abor...  AGAINST     TARGET  NEGATIVE\n",
            "1028  11030          Legalization of Abortion  @MikeDury And don't forget, now \"Private clubs...  AGAINST     TARGET   NEITHER\n",
            "1029  11031          Legalization of Abortion  So you're at the #rally4life? Tell me more abo...  AGAINST     TARGET  NEGATIVE\n",
            "1030  11032          Legalization of Abortion  Solidarity with all at the counter #rally4life...  AGAINST     TARGET  POSITIVE\n",
            "1031  11033          Legalization of Abortion  This #rally4life shit! How people support it I...  AGAINST     TARGET  NEGATIVE\n",
            "1032  11034          Legalization of Abortion  Dear to who it may concern;\"YOU stand up for m...  AGAINST     TARGET  NEGATIVE\n",
            "1033  11035          Legalization of Abortion  AmandaKayHowell: Dear to who it may concern;\"Y...  AGAINST     TARGET  NEGATIVE\n",
            "1034  11036          Legalization of Abortion  @PrevailChris Sexual Assault is Epidemic.. Not...  AGAINST     TARGET  NEGATIVE\n",
            "1035  11037          Legalization of Abortion  The #rally4life  shows yet again what little s...  AGAINST     TARGET  NEGATIVE\n",
            "1036  11038          Legalization of Abortion            CPCs in this town of 5000: 2. #goddamn   AGAINST      OTHER  NEGATIVE\n",
            "1037  11039          Legalization of Abortion  A prochoice advocate but circumcise ur baby? F...  AGAINST      OTHER  NEGATIVE\n",
            "1038  11040          Legalization of Abortion  I think a woman should have the choice of what...  AGAINST     NO ONE  POSITIVE\n",
            "1039  11041          Legalization of Abortion  There is nothing sadder than pro-life young wo...  AGAINST     TARGET  NEGATIVE\n",
            "1040  11042          Legalization of Abortion  @JaxLeSigh @ProWomanChoice u dont know using #...  AGAINST     TARGET  NEGATIVE\n",
            "1041  11043          Legalization of Abortion  @JaxLeSigh @ProWomanChoice  ur not aware that ...  AGAINST      OTHER  NEGATIVE\n",
            "1042  11044          Legalization of Abortion  @BuhayIpaglaban @blueskies366 Remember that th...  AGAINST     TARGET  NEGATIVE\n",
            "1043  11045          Legalization of Abortion  @BuhayIpaglaban @blueskies366 thank you again ...  AGAINST      OTHER  NEGATIVE\n",
            "1044  11046          Legalization of Abortion  .@BuhayIpaglaban perhaps you want to go to the...  AGAINST     TARGET  NEGATIVE\n",
            "1045  11047          Legalization of Abortion  @BuhayIpaglaban @_msthirdward @blueskies366 \"N...  AGAINST      OTHER  NEGATIVE\n",
            "1046  11048          Legalization of Abortion  @BuhayIpaglaban @blueskies366 There is no \"#ab...  AGAINST      OTHER  NEGATIVE\n",
            "1047  11049          Legalization of Abortion  @BuhayIpaglaban @blueskies366 The culture of d...  AGAINST      OTHER  NEGATIVE\n",
            "1048  11050          Legalization of Abortion  @BuhayIpaglaban Bullshit multiplied by bullshi...  AGAINST      OTHER  NEGATIVE\n",
            "1049  11051          Legalization of Abortion  Happy July 4th- freedom day! Let liberty ring ...  AGAINST      OTHER  POSITIVE\n",
            "1050  11052          Legalization of Abortion  @Stephen_C_Ward  What are they doing with acid...  AGAINST      OTHER  NEGATIVE\n",
            "1051  11053          Legalization of Abortion  @_msthirdward @BuhayIpaglaban @blueskies366 It...  AGAINST     TARGET  NEGATIVE\n",
            "1052  11054          Legalization of Abortion  @BuhayIpaglaban @laurawrpie @_msthirdward @blu...  AGAINST     TARGET   NEITHER\n",
            "1053  11055          Legalization of Abortion  @BuhayIpaglaban @_msthirdward @laurawrpie Who ...  AGAINST     TARGET  NEGATIVE\n",
            "1054  11056          Legalization of Abortion  I just unfollowed someone because they tweeted...  AGAINST     TARGET  NEGATIVE\n",
            "1055  11057          Legalization of Abortion  RT @freesafelegal: \"Why does the government no...  AGAINST      OTHER   NEITHER\n",
            "1056  11058          Legalization of Abortion  Leftist, Progressives love 2lie & claim they b...  AGAINST     TARGET  NEGATIVE\n",
            "1057  11059          Legalization of Abortion  I'll celebrate #IndependenceDay when EVERYONE ...  AGAINST     TARGET   NEITHER\n",
            "1058  11060          Legalization of Abortion  @violencehurts @WomenCanSee The unborn also ha...  AGAINST     TARGET  POSITIVE\n",
            "1059  11061          Legalization of Abortion  @violencehurts @WomenCanSee The most fundament...  AGAINST      OTHER  POSITIVE\n",
            "1060  11062          Legalization of Abortion  Every year I see #rally4life ads & think 'that...  AGAINST     TARGET  NEGATIVE\n",
            "1061  11063          Legalization of Abortion  #DefentThe8th? Why would I defend something th...  AGAINST      OTHER  NEGATIVE\n",
            "1062  11064          Legalization of Abortion  Of course an embryo is a person! If it were a ...  AGAINST     TARGET  NEGATIVE\n",
            "1063  11065          Legalization of Abortion  If it's not a person then why do women get inv...  AGAINST     TARGET  NEGATIVE\n",
            "1064  11066          Legalization of Abortion  There should be no law or funding which justif...  AGAINST     TARGET  NEGATIVE\n",
            "1065  11067          Legalization of Abortion  In 1776 we killed the conservatives, freed our...  AGAINST     TARGET  NEGATIVE\n",
            "1066  11068          Legalization of Abortion  Compromising on #sin gets easier as time goes ...  AGAINST      OTHER  NEGATIVE\n",
            "1067  11069          Legalization of Abortion  AntiChoice laws say women can't make their own...  AGAINST     TARGET  NEGATIVE\n",
            "1068  11070          Legalization of Abortion  There's no place for selfishness when you talk...  AGAINST      OTHER  POSITIVE\n",
            "1069  11071          Legalization of Abortion  @Jizismyname can't wait to see you on @heyqwee...  AGAINST     TARGET  POSITIVE\n",
            "1070  11072          Legalization of Abortion  @FaceTheNation @nytimes where is #SilencedDisc...  AGAINST     TARGET  NEGATIVE\n",
            "1071  11073          Legalization of Abortion  @Mediaite @CNN where is #SilencedDiscourse for...  AGAINST      OTHER  NEGATIVE\n",
            "1072  11074          Legalization of Abortion  The most horrific violence in America is the w...  AGAINST     TARGET  NEGATIVE\n",
            "1073  11075          Legalization of Abortion  If the Pope gave a flying fuck about the poor ...  AGAINST     TARGET  NEGATIVE\n",
            "1074  11076          Legalization of Abortion  A much needed 3 days with these guys @rory3bur...  AGAINST      OTHER  POSITIVE\n",
            "1075  11077          Legalization of Abortion  if truth is a micro aggression 2 the left Why ...  AGAINST     TARGET  NEGATIVE\n",
            "1076  11078          Legalization of Abortion  If #Freewill is good enough for your #god it s...  AGAINST     TARGET  POSITIVE\n",
            "1077  11079          Legalization of Abortion  Hi @HillaryClinton while you are campaigning, ...  AGAINST     TARGET  NEGATIVE\n",
            "1078  11080          Legalization of Abortion  Why are Tumblr feminists so territorial? Pro-l...  AGAINST     TARGET  NEGATIVE\n",
            "1079  11081          Legalization of Abortion  The sanctity of human life is not a woman's is...  AGAINST     TARGET  NEGATIVE\n",
            "1080  11082          Legalization of Abortion  @denisemourges @RepThomasMassie I know! I'm th...  AGAINST      OTHER  POSITIVE\n",
            "1081  11083          Legalization of Abortion                    Next time just keep the baby     AGAINST      OTHER  NEGATIVE\n",
            "1082  11084          Legalization of Abortion  People don't care about things that don't effe...  AGAINST     TARGET  NEGATIVE\n",
            "1083  11085          Legalization of Abortion  The point is BODILY AUTONOMY. A born child can...  AGAINST     TARGET  NEGATIVE\n",
            "1084  11086          Legalization of Abortion  @ConnectCatholic The justification of abortion...  AGAINST     TARGET  NEGATIVE\n",
            "1085  11087          Legalization of Abortion  Abortionists and their supporters are the REAL...  AGAINST     TARGET  NEGATIVE\n",
            "1086  11088          Legalization of Abortion  Some babies die by chance, none should die by ...  AGAINST     TARGET  NEGATIVE\n",
            "1087  11089          Legalization of Abortion  @BaronTrader @DynaMoChen  Margret Sangers Look...     NONE     NO ONE  NEGATIVE\n",
            "1088  11090          Legalization of Abortion  I would never expect an 11 year old girl to ha...    FAVOR     TARGET  NEGATIVE\n",
            "1089  11091          Legalization of Abortion      Monk's Hobbit is back in Twitter. #Catholics      NONE      OTHER   NEITHER\n",
            "1090  11092          Legalization of Abortion  @BuresLynn @sallykohn @CoFemale Kohn is also a...     NONE      OTHER  NEGATIVE\n",
            "1091  11093          Legalization of Abortion  I wonder if #antichoice ever wonder if the pre...    FAVOR     TARGET  NEGATIVE\n",
            "1092  11094          Legalization of Abortion            Today is a great because we are alive.      NONE      OTHER  POSITIVE\n",
            "1093  11095          Legalization of Abortion  @meamhere It isn't going to happen. The LW and...     NONE      OTHER  NEGATIVE\n",
            "1094  11096          Legalization of Abortion  @Fungirl3part2 repent wen u commit a grave act...  AGAINST     TARGET  NEGATIVE\n",
            "1095  11097          Legalization of Abortion  Helping achieve repro. justice 1 step @ a time...    FAVOR     TARGET  POSITIVE\n",
            "1096  11098          Legalization of Abortion  @LifeSite Right, where are the pre-born women'...  AGAINST     TARGET  NEGATIVE\n",
            "1097  11099          Legalization of Abortion                      I will fight for the unborn!   AGAINST     TARGET  POSITIVE\n",
            "1098  11100          Legalization of Abortion  @nosilentsprings And an even worse place from ...    FAVOR     TARGET  NEGATIVE\n",
            "1099  11101          Legalization of Abortion  #Fiona Bruce wants a government that forces wo...    FAVOR     TARGET  NEGATIVE\n",
            "1100  11102          Legalization of Abortion  @thejournal_ie sad this is what has to be done...     NONE      OTHER  NEGATIVE\n",
            "1101  11103          Legalization of Abortion  Liberals say I need more tolerance. I say scre...  AGAINST     TARGET  NEGATIVE\n",
            "1102  11104          Legalization of Abortion  Just been having rather horrible discussion wi...     NONE      OTHER  NEGATIVE\n",
            "1103  11105          Legalization of Abortion  @ProWomanChoice @laurawrpie @JaxLeSigh both r ...  AGAINST     TARGET  NEGATIVE\n",
            "1104  11106          Legalization of Abortion  @BuhayIpaglaban @laurawrpie @JaxLeSigh Like I ...     NONE      OTHER  POSITIVE\n",
            "1105  11107          Legalization of Abortion  @BuhayIpaglaban @laurawrpie Every time I \"disc...    FAVOR     TARGET  NEGATIVE\n",
            "1106  11108          Legalization of Abortion    Yes. Antis just don't make sense.  #WarOnWomen      NONE      OTHER  NEGATIVE\n",
            "1107  11109          Legalization of Abortion             Women ARE capable of making decisions     FAVOR      OTHER  POSITIVE\n",
            "1108  11110          Legalization of Abortion  @laurawrpie @ProWomanChoice d real question is...  AGAINST     TARGET  NEGATIVE\n",
            "1109  11111          Legalization of Abortion  @paradiselost_17 @ArguDaz @Brainman365 @PolarV...     NONE      OTHER  NEGATIVE\n",
            "1110  11112          Legalization of Abortion  Oh you dont like that Im Pro-choice.  Pftt. Do...    FAVOR     TARGET  NEGATIVE\n",
            "1111  11113          Legalization of Abortion  Watch out for censorship in your news and medi...     NONE      OTHER  NEGATIVE\n",
            "1112  11114          Legalization of Abortion  Not sure where I stand on God and religion.  S...  AGAINST     TARGET  NEGATIVE\n",
            "1113  11115          Legalization of Abortion  #antichoice NEVER try to police men over sex, ...    FAVOR     TARGET  NEGATIVE\n",
            "1114  11116          Legalization of Abortion                    To run outside? To run inside?      NONE      OTHER   NEITHER\n",
            "1115  11117          Legalization of Abortion  Anti choice laws only effect women.  People do...    FAVOR     TARGET  NEGATIVE\n",
            "1116  11118          Legalization of Abortion  People with a uterus can be pro choice. People...    FAVOR     TARGET  POSITIVE\n",
            "1117  11119          Legalization of Abortion  You can't give the \"death penalty\" to somethin...    FAVOR     TARGET  NEGATIVE\n",
            "1118  11120          Legalization of Abortion  @knowj @kalenjordan @benmarks @MageTalk not as...     NONE      OTHER  NEGATIVE\n",
            "1119  11121          Legalization of Abortion  @ShowTruth if they made it illegal, people wou...    FAVOR     TARGET  NEGATIVE\n",
            "1120  11122          Legalization of Abortion  Abortion is genocide - I don't think you know ...  AGAINST     TARGET  NEGATIVE\n",
            "1121  11123          Legalization of Abortion  Yea, let's make a woman suffer 18 years and ra...    FAVOR     TARGET  NEGATIVE\n",
            "1122  11124          Legalization of Abortion  Pro-life laws only effect women so anti choice...    FAVOR     TARGET  NEGATIVE\n",
            "1123  11125          Legalization of Abortion  Anti-choice laws are entirely men controlling ...    FAVOR     TARGET  NEGATIVE\n",
            "1124  11126          Legalization of Abortion  A fetus is not living, breathing, born, sentie...    FAVOR     TARGET  NEGATIVE\n",
            "1125  11127          Legalization of Abortion                       What about in cases of rape     FAVOR     TARGET   NEITHER\n",
            "1126  11128          Legalization of Abortion                 Only one can have bodily autonomy     FAVOR     TARGET   NEITHER\n",
            "1127  11129          Legalization of Abortion  Antis don't care because the only people the l...    FAVOR     TARGET  NEGATIVE\n",
            "1128  11130          Legalization of Abortion  Like 96% of antis don't care about breathing v...    FAVOR     TARGET  NEGATIVE\n",
            "1129  11131          Legalization of Abortion  Anti choice laws are sexist because they ignor...    FAVOR     TARGET  NEGATIVE\n",
            "1130  11132          Legalization of Abortion  This is the same reason it's sexist that we do...    FAVOR     TARGET  NEGATIVE\n",
            "1131  11133          Legalization of Abortion  Woman's Heartbreaking Letter to Father of Baby...  AGAINST     TARGET  NEGATIVE\n",
            "1132  11134          Legalization of Abortion  @kingstonpolice @ShowTruth \"Freedom of Express...     NONE      OTHER  NEGATIVE\n",
            "1133  11135          Legalization of Abortion  We declare that all people have worth and valu...  AGAINST     TARGET  NEGATIVE\n",
            "1134  11136          Legalization of Abortion  I'm kind of scared for the elderly in our coun...  AGAINST     TARGET  NEGATIVE\n",
            "1135  11137          Legalization of Abortion  FYI: Whoopi Goldberg is a feminist hero for he...  AGAINST     TARGET  NEGATIVE\n",
            "1136  11138          Legalization of Abortion  Obama Administration sends 5.6 million dollars...     NONE     NO ONE   NEITHER\n",
            "1137  11139          Legalization of Abortion  Where's the most dangerous place for a child? ...  AGAINST     TARGET  NEGATIVE\n",
            "1138  11140          Legalization of Abortion  @ShowTruth YOU CAN'T HANDLE THE TRUTH! People ...    FAVOR     TARGET  NEGATIVE\n",
            "1139  11141          Legalization of Abortion  @XaviPereda @HillaryClinton sorry Hilary but I...  AGAINST     TARGET  NEGATIVE\n",
            "1140  11142          Legalization of Abortion  Why do people think it's ok to get an abortion...  AGAINST     TARGET  NEGATIVE\n",
            "1141  11143          Legalization of Abortion               @ShowTruth Get out of my city. #ygk      NONE      OTHER  NEGATIVE\n",
            "1142  11144          Legalization of Abortion  .@JessieLosch There is no such thing as a \"saf...  AGAINST     TARGET  NEGATIVE\n",
            "1143  11145          Legalization of Abortion  @SenSchumer You sponsored the religious freedo...  AGAINST     TARGET  NEGATIVE\n",
            "1144  11146          Legalization of Abortion  @AndySwan lol.  I don't know about that.  #sch...     NONE     NO ONE  NEGATIVE\n",
            "1145  11147          Legalization of Abortion  @JonathaASwift @TomAdams9999 They  are BOTH al...  AGAINST     TARGET  POSITIVE\n",
            "1146  11148          Legalization of Abortion  Not your uterus, not your choice--from concept...    FAVOR     TARGET  POSITIVE\n",
            "1147  11149          Legalization of Abortion  C7German: Heaven is our Goal,  life is our con...  AGAINST     TARGET  POSITIVE\n",
            "1148  11150          Legalization of Abortion  @NBCLA #SB128 isn't opposed merely b/c it's ag...  AGAINST     TARGET  NEGATIVE\n",
            "1149  11151          Legalization of Abortion  Pro-Choice=Pro-Life. Anti-Choice=Anti-Life. Do...    FAVOR     TARGET  NEGATIVE\n",
            "1150  11152          Legalization of Abortion  It is not Pro-Life if you ignore life of the p...    FAVOR     TARGET  NEGATIVE\n",
            "1151  11153          Legalization of Abortion  @marcmaron @amyschumer @JuddApatow Are you a t...     NONE      OTHER  NEGATIVE\n",
            "1152  11154          Legalization of Abortion  @paigeymadisonn: 12. something you hate.  Peop...    FAVOR     TARGET  NEGATIVE\n",
            "1153  11155          Legalization of Abortion  Would you rather have women taking dangerous c...    FAVOR     TARGET  NEGATIVE\n",
            "1154  11156          Legalization of Abortion  @Cody_Fulk92 @ntfem @brettzawesome Actually, c...  AGAINST     TARGET  NEGATIVE\n",
            "1155  11157          Legalization of Abortion  .@JohnTory since when did Toronto become a wea...     NONE      OTHER  NEGATIVE\n",
            "1156  11158          Legalization of Abortion  I #DenounceHarper for refusing to include fami...    FAVOR     TARGET  NEGATIVE\n",
            "1157  11159          Legalization of Abortion  Looking forward to the protest today. I can't ...  AGAINST     TARGET  POSITIVE\n",
            "1158  11160          Legalization of Abortion  Our #TruthTour continues in #CarletonPlace as ...  AGAINST     TARGET  NEGATIVE\n",
            "1159  11161          Legalization of Abortion  It very simple .. Let women choose.. #repealth...    FAVOR     TARGET  POSITIVE\n",
            "1160  11162          Legalization of Abortion  I cannot believe there are still people in thi...    FAVOR     TARGET  NEGATIVE\n",
            "1161  11163          Legalization of Abortion  Societies that put to death the weak and vulne...  AGAINST      OTHER  NEGATIVE\n",
            "1162  11164          Legalization of Abortion  RT @GuyForChrist: God is the author of life an...  AGAINST     TARGET  POSITIVE\n",
            "1163  11165          Legalization of Abortion  @WomanMDsGuide I thought they wanted less unwe...  AGAINST     TARGET  NEGATIVE\n",
            "1164  11166          Legalization of Abortion  The teen pregnancy rate has declined 51 percen...     NONE     NO ONE   NEITHER\n",
            "1165  11167          Legalization of Abortion  We need more public funding for birth control,...    FAVOR     TARGET  NEGATIVE\n",
            "1166  11168          Legalization of Abortion  I will visit PEI when all women can get a lawf...    FAVOR     TARGET  NEGATIVE\n",
            "1167  11169          Legalization of Abortion  PRAISE REPORT Two babies savedOne in Dallas TX...  AGAINST     TARGET  POSITIVE\n",
            "1168  11170          Legalization of Abortion  @WBCBowie NY pastors need to call their State ...  AGAINST      OTHER  NEGATIVE\n",
            "1169  11171          Legalization of Abortion  I support @GovMikeHuckabee because I want to s...  AGAINST     TARGET  POSITIVE\n",
            "1170  11172          Legalization of Abortion  @BernieSanders if men were the ones that got p...    FAVOR     TARGET  NEGATIVE\n",
            "1171  11173          Legalization of Abortion  DEAR PROABORTS: Using BAD grammar and FILTHY l...  AGAINST     TARGET  NEGATIVE\n",
            "1172  11174          Legalization of Abortion  Our #TruthTour cont' in the @CityOttawa as we ...  AGAINST     TARGET  NEGATIVE\n",
            "1173  11175          Legalization of Abortion  Good thing I don't live in Kingston woulda sta...    FAVOR     TARGET  NEGATIVE\n",
            "1174  11176          Legalization of Abortion  So Ariana Grande hates America & Americans? Sh...     NONE      OTHER  NEGATIVE\n",
            "1175  11177          Legalization of Abortion  We must love our neighbor as being made in the...  AGAINST      OTHER  POSITIVE\n",
            "1176  11178          Legalization of Abortion  @micknugent What nonsense is this colleague of...  AGAINST     TARGET  NEGATIVE\n",
            "1177  11179          Legalization of Abortion  @notmuchelse & purely physical enjoyment with ...     NONE     NO ONE  NEGATIVE\n",
            "1178  11180          Legalization of Abortion  @eilistweets  Surprised? A poll sponsored by b...  AGAINST     TARGET  NEGATIVE\n",
            "1179  11181          Legalization of Abortion  @notmuchelse And accepting with love any child...  AGAINST     TARGET  POSITIVE\n",
            "1180  11182          Legalization of Abortion  Living in a pub isnt all that good when your f...     NONE      OTHER  NEGATIVE\n",
            "1181  11183          Legalization of Abortion  I can think of a thousand things more importan...     NONE      OTHER  NEGATIVE\n",
            "1182  11184          Legalization of Abortion  @notmuchelse Then make sure Udon't get pregnan...  AGAINST     TARGET  NEGATIVE\n",
            "1183  11185          Legalization of Abortion  Women have outgrown the common housewife stigm...     NONE      OTHER  POSITIVE\n",
            "1184  11186          Legalization of Abortion  @djred678 : My views are my own. #AllLivesMatt...  AGAINST     TARGET  NEGATIVE\n",
            "1185  11187          Legalization of Abortion  Pro Choice? Just choose to kill yourself after...  AGAINST     TARGET  NEGATIVE\n",
            "1186  11188          Legalization of Abortion  @mistyaiya Just saw your review of @chadkultge...     NONE     NO ONE   NEITHER\n",
            "1187  11189          Legalization of Abortion  Basically this documentary is \"You kill babies...    FAVOR     TARGET  NEGATIVE\n",
            "1188  11190          Legalization of Abortion  #populationcontrol = controlling the incoming ...  AGAINST      OTHER  NEGATIVE\n",
            "1189  11191          Legalization of Abortion  @bradfischetti just wanted to say that I appre...  AGAINST     TARGET  POSITIVE\n",
            "1190  11192          Legalization of Abortion  'Snarck' - a snarky hack who puts down ordinar...     NONE      OTHER  NEGATIVE\n",
            "1191  11193          Legalization of Abortion  Dear America: If only a 3D ultrasound picture ...  AGAINST     TARGET  NEGATIVE\n",
            "1192  11194          Legalization of Abortion  There weren't any volunteers outside abortion ...  AGAINST     TARGET  NEGATIVE\n",
            "1193  11195          Legalization of Abortion  #HDR - top set up in the Warm up area @HuddsCr...     NONE      OTHER  POSITIVE\n",
            "1194  11196          Legalization of Abortion  @BuhayIpaglaban So you've blown right past the...  AGAINST     TARGET  NEGATIVE\n",
            "1195  11197          Legalization of Abortion  @GBPstaff 1999 Meet the Press admitted to bein...  AGAINST     TARGET  NEGATIVE\n",
            "1196  11198          Legalization of Abortion  For great is thy mercy toward me; & thou hast ...  AGAINST     TARGET  POSITIVE\n",
            "1197  11199          Legalization of Abortion  @notmuchelse It is no less your child before o...  AGAINST     TARGET  POSITIVE\n",
            "1198  11200          Legalization of Abortion  These dems' lack of compassion for unborn babi...  AGAINST     TARGET  NEGATIVE\n",
            "1199  11201          Legalization of Abortion  PRAYERS FOR BABIES Three babies in urgent need...  AGAINST     TARGET  NEGATIVE\n",
            "1200  11202          Legalization of Abortion  @notmuchelse NO new human individual formed at...  AGAINST     TARGET  NEGATIVE\n",
            "1201  11203          Legalization of Abortion  FYI: Unborn babies diagnosed with a disability...  AGAINST     TARGET  NEGATIVE\n",
            "1202  11204          Legalization of Abortion  ,@CoraSherlock When is Ms C case you've been p...  AGAINST     TARGET  NEGATIVE\n",
            "1203  11205          Legalization of Abortion  asked a protester-u'll fund the moms?Yes-So #a...  AGAINST     TARGET   NEITHER\n",
            "1204  11206          Legalization of Abortion  Congrats to my friends at @SBAList and @WRTL f...  AGAINST     TARGET  POSITIVE\n",
            "1205  11207          Legalization of Abortion  How can someone be calling for abortion in a s...  AGAINST     TARGET  NEGATIVE\n",
            "1206  11208          Legalization of Abortion  @HillaryClinton #gop as whole party has backwa...  AGAINST      OTHER  NEGATIVE\n",
            "1207  11209          Legalization of Abortion  @irritatedwoman I don't know about you, but I ...  AGAINST      OTHER  NEGATIVE\n",
            "1208  11210          Legalization of Abortion  Was at the planned parenthood protest in #fitc...  AGAINST     TARGET  NEGATIVE\n",
            "1209  11211          Legalization of Abortion  @notmuchelse Don't get pregnant! Make sure you...  AGAINST     TARGET  NEGATIVE\n",
            "1210  11212          Legalization of Abortion  I am Nazi Holocaust survivor and I say that Ab...  AGAINST     TARGET  NEGATIVE\n",
            "1211  11213          Legalization of Abortion  @FeministSpag @1310edhand @1310news we do care...  AGAINST      OTHER  NEGATIVE\n",
            "1212  11214          Legalization of Abortion  @JaxLeSigh Evidence proves that morbidity & mo...  AGAINST     TARGET  NEGATIVE\n",
            "1213  11215          Legalization of Abortion  RT DavidHarris707: MathewsJeanne Thank you 4 y...  AGAINST      OTHER  POSITIVE\n",
            "1214  11216          Legalization of Abortion  MathewsJeanne Thank you 4 your very #kind RT. ...  AGAINST      OTHER  POSITIVE\n",
            "1215  11217          Legalization of Abortion  Lord Jesus,Touch my life with your saving powe...  AGAINST      OTHER  POSITIVE\n",
            "1216  11218          Legalization of Abortion  I'm against abortion, gay marriage, AND Donald...  AGAINST     TARGET  NEGATIVE\n",
            "1217  11219          Legalization of Abortion  Hail (Mary), full of grace! The Lord is with y...  AGAINST      OTHER  POSITIVE\n",
            "1218  11220          Legalization of Abortion  you can't say you support women's rights but b...  AGAINST     TARGET  NEGATIVE\n",
            "1219  11221          Legalization of Abortion  Natural family planning isn't \"planning\" at al...  AGAINST     TARGET  NEGATIVE\n",
            "1220  11222          Legalization of Abortion  RT @RandForeman: It's so easy to be Pro-Choice...  AGAINST     TARGET  NEGATIVE\n",
            "1221  11223          Legalization of Abortion  #ChildrensCentre's in the #UK have stay & play...  AGAINST      OTHER  POSITIVE\n",
            "1222  11224          Legalization of Abortion  @LibertyBleeds every one in Congress should at...  AGAINST     TARGET  NEGATIVE\n",
            "1223  11225          Legalization of Abortion  @RickSantorum: I don't *believe* life begins a...  AGAINST     TARGET  POSITIVE\n",
            "1224  11226          Legalization of Abortion  Before I formed you in the womb I knew you, be...  AGAINST     TARGET  POSITIVE\n",
            "1225  11227          Legalization of Abortion  So the #Democrats tore down their OWN #Confede...     NONE      OTHER  NEGATIVE\n",
            "1226  11228          Legalization of Abortion  @DaRealMonieLove or these dumb anti-abortion #...    FAVOR     TARGET  NEGATIVE\n",
            "1227  11229          Legalization of Abortion  I was an accidental baby and as far as I know,...  AGAINST     TARGET  POSITIVE\n",
            "1228  11230          Legalization of Abortion  Fallopians 3:16 \"Not your fuckin' pregnancy - ...    FAVOR     TARGET  NEGATIVE\n",
            "1229  11231          Legalization of Abortion  Babies are humans to support the prolife movem...  AGAINST      OTHER  POSITIVE\n",
            "1230  11232          Legalization of Abortion  @ShowTruth You're truly unwelcome here. Please...     NONE      OTHER  NEGATIVE\n",
            "1231  11233          Legalization of Abortion  Being a Democrat is never having to say you're...     NONE      OTHER  NEGATIVE\n",
            "1232  11234          Legalization of Abortion  @ubiquity75 @Aaron_Hamm well said. Men are pla...    FAVOR     TARGET  NEGATIVE\n",
            "1233  11235          Legalization of Abortion  @toby_dorena Pregnant people have more than he...    FAVOR     TARGET  POSITIVE\n",
            "1234  11236          Legalization of Abortion  @FactsVsOpinion these poor souls won't be anyt...  AGAINST     TARGET  NEGATIVE\n",
            "1235  11237          Legalization of Abortion  In Turkey at ze momento, just got internet and...     NONE      OTHER  POSITIVE\n",
            "1236  11238          Legalization of Abortion  @JujuChangABC abortions should never be illega...    FAVOR     TARGET  NEGATIVE\n",
            "1237  11239          Legalization of Abortion  @laurawrpie protect them by informing #HIV s a...     NONE      OTHER  NEGATIVE\n",
            "1238  11240          Legalization of Abortion  @laurawrpie what do u call #teens hu got #preg...  AGAINST      OTHER  NEGATIVE\n",
            "1239  11241          Legalization of Abortion  @DrottM I'm curious Mary are you a meat eater ...     NONE      OTHER  NEGATIVE\n",
            "1240  11242          Legalization of Abortion   @gaz_dance I'm good like this. I've always been      NONE      OTHER  POSITIVE\n",
            "1241  11243          Legalization of Abortion  The beauty of the morning seems ruined knowing...  AGAINST     TARGET  NEGATIVE\n",
            "1242  11244          Legalization of Abortion  @cbrangel so, you support the choice of wether...  AGAINST     TARGET  NEGATIVE\n",
            "1243  11245          Legalization of Abortion  @MetalheadMonty @tom_six I followed him before...     NONE      OTHER  NEGATIVE\n",
            "1244  11246          Legalization of Abortion  For he who avenges blood remembers, he does no...  AGAINST     TARGET   NEITHER\n",
            "1245  11247          Legalization of Abortion  Life is sacred on all levels. Abortion does no...  AGAINST     TARGET   NEITHER\n",
            "1246  11248          Legalization of Abortion  @ravensymone U refer to \"WE\" which =\"YOU\" & a ...  AGAINST     TARGET  NEGATIVE\n",
            "1247  11249          Legalization of Abortion  Al Robertson's mom #DuckDynasty  chose life as...  AGAINST     TARGET   NEITHER\n"
          ],
          "name": "stdout"
        }
      ]
    },
    {
      "metadata": {
        "id": "sfRnHSz3iSXz",
        "colab_type": "text"
      },
      "cell_type": "markdown",
      "source": [
        "For us, our input data is the 'sentence' column and our label is the 'polarity' column (0, 1 for negative and positive, respecitvely)"
      ]
    },
    {
      "metadata": {
        "id": "IuMOGwFui4it",
        "colab_type": "code",
        "colab": {}
      },
      "cell_type": "code",
      "source": [
        "DATA_COLUMN = 'tweets'\n",
        "LABEL_COLUMN = 'stance'\n",
        "TARGET_COLUMN = 'target'\n",
        "ID_COLUMN = 'id'\n",
        "# label_list is the list of labels, i.e. True, False or 0, 1 or 'dog', 'cat'\n",
        "label_list = [\"FAVOR\",\"AGAINST\", \"NONE\"]"
      ],
      "execution_count": 0,
      "outputs": []
    },
    {
      "metadata": {
        "id": "V399W0rqNJ-Z",
        "colab_type": "text"
      },
      "cell_type": "markdown",
      "source": [
        "#Data Preprocessing\n",
        "We'll need to transform our data into a format BERT understands. This involves two steps. First, we create  `InputExample`'s using the constructor provided in the BERT library.\n",
        "\n",
        "- `text_a` is the text we want to classify, which in this case, is the `Request` field in our Dataframe. \n",
        "- `text_b` is used if we're training a model to understand the relationship between sentences (i.e. is `text_b` a translation of `text_a`? Is `text_b` an answer to the question asked by `text_a`?). This doesn't apply to our task, so we can leave `text_b` blank.\n",
        "- `label` is the label for our example, i.e. True, False"
      ]
    },
    {
      "metadata": {
        "id": "p9gEt5SmM6i6",
        "colab_type": "code",
        "colab": {}
      },
      "cell_type": "code",
      "source": [
        "# Use the InputExample class from BERT's run_classifier code to create examples from the data\n",
        "train_InputExamples = train.apply(lambda x: bert.run_classifier.InputExample(guid= x[ID_COLUMN], # Globally unique ID for bookkeeping, unused in this example\n",
        "                                                                   text_a = x[DATA_COLUMN], \n",
        "                                                                   text_b = x[TARGET_COLUMN], \n",
        "                                                                   label = x[LABEL_COLUMN]), axis = 1)\n",
        "\n",
        "test_InputExamples = test.apply(lambda x: bert.run_classifier.InputExample(guid=x[ID_COLUMN], \n",
        "                                                                   text_a = x[DATA_COLUMN], \n",
        "                                                                   text_b = x[TARGET_COLUMN], \n",
        "                                                                   label = x[LABEL_COLUMN]), axis = 1)"
      ],
      "execution_count": 0,
      "outputs": []
    },
    {
      "metadata": {
        "id": "SCZWZtKxObjh",
        "colab_type": "text"
      },
      "cell_type": "markdown",
      "source": [
        "Next, we need to preprocess our data so that it matches the data BERT was trained on. For this, we'll need to do a couple of things (but don't worry--this is also included in the Python library):\n",
        "\n",
        "\n",
        "1. Lowercase our text (if we're using a BERT lowercase model)\n",
        "2. Tokenize it (i.e. \"sally says hi\" -> [\"sally\", \"says\", \"hi\"])\n",
        "3. Break words into WordPieces (i.e. \"calling\" -> [\"call\", \"##ing\"])\n",
        "4. Map our words to indexes using a vocab file that BERT provides\n",
        "5. Add special \"CLS\" and \"SEP\" tokens (see the [readme](https://github.com/google-research/bert))\n",
        "6. Append \"index\" and \"segment\" tokens to each input (see the [BERT paper](https://arxiv.org/pdf/1810.04805.pdf))\n",
        "\n",
        "Happily, we don't have to worry about most of these details.\n",
        "\n",
        "\n"
      ]
    },
    {
      "metadata": {
        "id": "qMWiDtpyQSoU",
        "colab_type": "text"
      },
      "cell_type": "markdown",
      "source": [
        "To start, we'll need to load a vocabulary file and lowercasing information directly from the BERT tf hub module:"
      ]
    },
    {
      "metadata": {
        "id": "IhJSe0QHNG7U",
        "colab_type": "code",
        "outputId": "5124d017-ca64-4c8f-8b65-2418266c669a",
        "colab": {
          "base_uri": "https://localhost:8080/",
          "height": 184
        }
      },
      "cell_type": "code",
      "source": [
        "# This is a path to an uncased (all lowercase) version of BERT\n",
        "BERT_MODEL_HUB = \"https://tfhub.dev/google/bert_\"+BERT_CASE+\"_L-12_H-768_A-12/1\"\n",
        "\n",
        "def create_tokenizer_from_hub_module():\n",
        "  \"\"\"Get the vocab file and casing info from the Hub module.\"\"\"\n",
        "  with tf.Graph().as_default():\n",
        "    bert_module = hub.Module(BERT_MODEL_HUB)\n",
        "    tokenization_info = bert_module(signature=\"tokenization_info\", as_dict=True)\n",
        "    with tf.Session() as sess:\n",
        "      vocab_file, do_lower_case = sess.run([tokenization_info[\"vocab_file\"],\n",
        "                                            tokenization_info[\"do_lower_case\"]])\n",
        "      \n",
        "  return bert.tokenization.FullTokenizer(\n",
        "      vocab_file=vocab_file, do_lower_case=do_lower_case)\n",
        "\n",
        "tokenizer = create_tokenizer_from_hub_module()"
      ],
      "execution_count": 11,
      "outputs": [
        {
          "output_type": "stream",
          "text": [
            "WARNING:tensorflow:From /usr/local/lib/python3.6/dist-packages/tensorflow/python/ops/control_flow_ops.py:3632: colocate_with (from tensorflow.python.framework.ops) is deprecated and will be removed in a future version.\n",
            "Instructions for updating:\n",
            "Colocations handled automatically by placer.\n"
          ],
          "name": "stdout"
        },
        {
          "output_type": "stream",
          "text": [
            "W0319 13:29:02.118002 140377472046976 deprecation.py:323] From /usr/local/lib/python3.6/dist-packages/tensorflow/python/ops/control_flow_ops.py:3632: colocate_with (from tensorflow.python.framework.ops) is deprecated and will be removed in a future version.\n",
            "Instructions for updating:\n",
            "Colocations handled automatically by placer.\n"
          ],
          "name": "stderr"
        },
        {
          "output_type": "stream",
          "text": [
            "INFO:tensorflow:Saver not created because there are no variables in the graph to restore\n"
          ],
          "name": "stdout"
        },
        {
          "output_type": "stream",
          "text": [
            "I0319 13:29:04.752399 140377472046976 saver.py:1483] Saver not created because there are no variables in the graph to restore\n"
          ],
          "name": "stderr"
        }
      ]
    },
    {
      "metadata": {
        "id": "z4oFkhpZBDKm",
        "colab_type": "text"
      },
      "cell_type": "markdown",
      "source": [
        "Great--we just learned that the BERT model we're using expects lowercase data (that's what stored in tokenization_info[\"do_lower_case\"]) and we also loaded BERT's vocab file. We also created a tokenizer, which breaks words into word pieces:"
      ]
    },
    {
      "metadata": {
        "id": "dsBo6RCtQmwx",
        "colab_type": "code",
        "outputId": "fe674377-746e-409a-9016-426ac7a5b95b",
        "colab": {
          "base_uri": "https://localhost:8080/",
          "height": 35
        }
      },
      "cell_type": "code",
      "source": [
        "tokenizer.tokenize(\"Hillary Clinton is a big fat hag\")"
      ],
      "execution_count": 12,
      "outputs": [
        {
          "output_type": "execute_result",
          "data": {
            "text/plain": [
              "['hillary', 'clinton', 'is', 'a', 'big', 'fat', 'ha', '##g']"
            ]
          },
          "metadata": {
            "tags": []
          },
          "execution_count": 12
        }
      ]
    },
    {
      "metadata": {
        "id": "0OEzfFIt6GIc",
        "colab_type": "text"
      },
      "cell_type": "markdown",
      "source": [
        "Using our tokenizer, we'll call `run_classifier.convert_examples_to_features` on our InputExamples to convert them into features BERT understands."
      ]
    },
    {
      "metadata": {
        "id": "LL5W8gEGRTAf",
        "colab_type": "code",
        "outputId": "61bd7c3a-241e-46ba-e0c8-8d45480381f8",
        "colab": {
          "base_uri": "https://localhost:8080/",
          "height": 2682
        }
      },
      "cell_type": "code",
      "source": [
        "# We'll set sequences to be at most 128 tokens long.\n",
        "MAX_SEQ_LENGTH = 128\n",
        "# Convert our train and test features to InputFeatures that BERT understands.\n",
        "train_features = bert.run_classifier.convert_examples_to_features(train_InputExamples, label_list, MAX_SEQ_LENGTH, tokenizer)\n",
        "test_features = bert.run_classifier.convert_examples_to_features(test_InputExamples, label_list, MAX_SEQ_LENGTH, tokenizer)"
      ],
      "execution_count": 13,
      "outputs": [
        {
          "output_type": "stream",
          "text": [
            "INFO:tensorflow:Writing example 0 of 2812\n"
          ],
          "name": "stdout"
        },
        {
          "output_type": "stream",
          "text": [
            "I0319 13:29:05.856532 140377472046976 run_classifier.py:774] Writing example 0 of 2812\n"
          ],
          "name": "stderr"
        },
        {
          "output_type": "stream",
          "text": [
            "INFO:tensorflow:*** Example ***\n"
          ],
          "name": "stdout"
        },
        {
          "output_type": "stream",
          "text": [
            "I0319 13:29:05.861096 140377472046976 run_classifier.py:461] *** Example ***\n"
          ],
          "name": "stderr"
        },
        {
          "output_type": "stream",
          "text": [
            "INFO:tensorflow:guid: 176\n"
          ],
          "name": "stdout"
        },
        {
          "output_type": "stream",
          "text": [
            "I0319 13:29:05.864059 140377472046976 run_classifier.py:462] guid: 176\n"
          ],
          "name": "stderr"
        },
        {
          "output_type": "stream",
          "text": [
            "INFO:tensorflow:tokens: [CLS] i will not allow the accuse ##r to accuse me , for i am washed and clean ##sed by the blood of the lamb - rev . 1 : 5 ; 7 : 14 [SEP] at ##hei ##sm [SEP]\n"
          ],
          "name": "stdout"
        },
        {
          "output_type": "stream",
          "text": [
            "I0319 13:29:05.869336 140377472046976 run_classifier.py:464] tokens: [CLS] i will not allow the accuse ##r to accuse me , for i am washed and clean ##sed by the blood of the lamb - rev . 1 : 5 ; 7 : 14 [SEP] at ##hei ##sm [SEP]\n"
          ],
          "name": "stderr"
        },
        {
          "output_type": "stream",
          "text": [
            "INFO:tensorflow:input_ids: 101 1045 2097 2025 3499 1996 26960 2099 2000 26960 2033 1010 2005 1045 2572 8871 1998 4550 6924 2011 1996 2668 1997 1996 12559 1011 7065 1012 1015 1024 1019 1025 1021 1024 2403 102 2012 26036 6491 102 0 0 0 0 0 0 0 0 0 0 0 0 0 0 0 0 0 0 0 0 0 0 0 0 0 0 0 0 0 0 0 0 0 0 0 0 0 0 0 0 0 0 0 0 0 0 0 0 0 0 0 0 0 0 0 0 0 0 0 0 0 0 0 0 0 0 0 0 0 0 0 0 0 0 0 0 0 0 0 0 0 0 0 0 0 0 0 0\n"
          ],
          "name": "stdout"
        },
        {
          "output_type": "stream",
          "text": [
            "I0319 13:29:05.875054 140377472046976 run_classifier.py:465] input_ids: 101 1045 2097 2025 3499 1996 26960 2099 2000 26960 2033 1010 2005 1045 2572 8871 1998 4550 6924 2011 1996 2668 1997 1996 12559 1011 7065 1012 1015 1024 1019 1025 1021 1024 2403 102 2012 26036 6491 102 0 0 0 0 0 0 0 0 0 0 0 0 0 0 0 0 0 0 0 0 0 0 0 0 0 0 0 0 0 0 0 0 0 0 0 0 0 0 0 0 0 0 0 0 0 0 0 0 0 0 0 0 0 0 0 0 0 0 0 0 0 0 0 0 0 0 0 0 0 0 0 0 0 0 0 0 0 0 0 0 0 0 0 0 0 0 0 0\n"
          ],
          "name": "stderr"
        },
        {
          "output_type": "stream",
          "text": [
            "INFO:tensorflow:input_mask: 1 1 1 1 1 1 1 1 1 1 1 1 1 1 1 1 1 1 1 1 1 1 1 1 1 1 1 1 1 1 1 1 1 1 1 1 1 1 1 1 0 0 0 0 0 0 0 0 0 0 0 0 0 0 0 0 0 0 0 0 0 0 0 0 0 0 0 0 0 0 0 0 0 0 0 0 0 0 0 0 0 0 0 0 0 0 0 0 0 0 0 0 0 0 0 0 0 0 0 0 0 0 0 0 0 0 0 0 0 0 0 0 0 0 0 0 0 0 0 0 0 0 0 0 0 0 0 0\n"
          ],
          "name": "stdout"
        },
        {
          "output_type": "stream",
          "text": [
            "I0319 13:29:05.879089 140377472046976 run_classifier.py:466] input_mask: 1 1 1 1 1 1 1 1 1 1 1 1 1 1 1 1 1 1 1 1 1 1 1 1 1 1 1 1 1 1 1 1 1 1 1 1 1 1 1 1 0 0 0 0 0 0 0 0 0 0 0 0 0 0 0 0 0 0 0 0 0 0 0 0 0 0 0 0 0 0 0 0 0 0 0 0 0 0 0 0 0 0 0 0 0 0 0 0 0 0 0 0 0 0 0 0 0 0 0 0 0 0 0 0 0 0 0 0 0 0 0 0 0 0 0 0 0 0 0 0 0 0 0 0 0 0 0 0\n"
          ],
          "name": "stderr"
        },
        {
          "output_type": "stream",
          "text": [
            "INFO:tensorflow:segment_ids: 0 0 0 0 0 0 0 0 0 0 0 0 0 0 0 0 0 0 0 0 0 0 0 0 0 0 0 0 0 0 0 0 0 0 0 0 1 1 1 1 0 0 0 0 0 0 0 0 0 0 0 0 0 0 0 0 0 0 0 0 0 0 0 0 0 0 0 0 0 0 0 0 0 0 0 0 0 0 0 0 0 0 0 0 0 0 0 0 0 0 0 0 0 0 0 0 0 0 0 0 0 0 0 0 0 0 0 0 0 0 0 0 0 0 0 0 0 0 0 0 0 0 0 0 0 0 0 0\n"
          ],
          "name": "stdout"
        },
        {
          "output_type": "stream",
          "text": [
            "I0319 13:29:05.884479 140377472046976 run_classifier.py:467] segment_ids: 0 0 0 0 0 0 0 0 0 0 0 0 0 0 0 0 0 0 0 0 0 0 0 0 0 0 0 0 0 0 0 0 0 0 0 0 1 1 1 1 0 0 0 0 0 0 0 0 0 0 0 0 0 0 0 0 0 0 0 0 0 0 0 0 0 0 0 0 0 0 0 0 0 0 0 0 0 0 0 0 0 0 0 0 0 0 0 0 0 0 0 0 0 0 0 0 0 0 0 0 0 0 0 0 0 0 0 0 0 0 0 0 0 0 0 0 0 0 0 0 0 0 0 0 0 0 0 0\n"
          ],
          "name": "stderr"
        },
        {
          "output_type": "stream",
          "text": [
            "INFO:tensorflow:label: AGAINST (id = 1)\n"
          ],
          "name": "stdout"
        },
        {
          "output_type": "stream",
          "text": [
            "I0319 13:29:05.887686 140377472046976 run_classifier.py:468] label: AGAINST (id = 1)\n"
          ],
          "name": "stderr"
        },
        {
          "output_type": "stream",
          "text": [
            "INFO:tensorflow:*** Example ***\n"
          ],
          "name": "stdout"
        },
        {
          "output_type": "stream",
          "text": [
            "I0319 13:29:05.893321 140377472046976 run_classifier.py:461] *** Example ***\n"
          ],
          "name": "stderr"
        },
        {
          "output_type": "stream",
          "text": [
            "INFO:tensorflow:guid: 119\n"
          ],
          "name": "stdout"
        },
        {
          "output_type": "stream",
          "text": [
            "I0319 13:29:05.897302 140377472046976 run_classifier.py:462] guid: 119\n"
          ],
          "name": "stderr"
        },
        {
          "output_type": "stream",
          "text": [
            "INFO:tensorflow:tokens: [CLS] leaving christianity enables you to love the people you once rejected . # free ##thi ##nk ##er # christianity [SEP] at ##hei ##sm [SEP]\n"
          ],
          "name": "stdout"
        },
        {
          "output_type": "stream",
          "text": [
            "I0319 13:29:05.901647 140377472046976 run_classifier.py:464] tokens: [CLS] leaving christianity enables you to love the people you once rejected . # free ##thi ##nk ##er # christianity [SEP] at ##hei ##sm [SEP]\n"
          ],
          "name": "stderr"
        },
        {
          "output_type": "stream",
          "text": [
            "INFO:tensorflow:input_ids: 101 2975 7988 12939 2017 2000 2293 1996 2111 2017 2320 5837 1012 1001 2489 15222 8950 2121 1001 7988 102 2012 26036 6491 102 0 0 0 0 0 0 0 0 0 0 0 0 0 0 0 0 0 0 0 0 0 0 0 0 0 0 0 0 0 0 0 0 0 0 0 0 0 0 0 0 0 0 0 0 0 0 0 0 0 0 0 0 0 0 0 0 0 0 0 0 0 0 0 0 0 0 0 0 0 0 0 0 0 0 0 0 0 0 0 0 0 0 0 0 0 0 0 0 0 0 0 0 0 0 0 0 0 0 0 0 0 0 0\n"
          ],
          "name": "stdout"
        },
        {
          "output_type": "stream",
          "text": [
            "I0319 13:29:05.906362 140377472046976 run_classifier.py:465] input_ids: 101 2975 7988 12939 2017 2000 2293 1996 2111 2017 2320 5837 1012 1001 2489 15222 8950 2121 1001 7988 102 2012 26036 6491 102 0 0 0 0 0 0 0 0 0 0 0 0 0 0 0 0 0 0 0 0 0 0 0 0 0 0 0 0 0 0 0 0 0 0 0 0 0 0 0 0 0 0 0 0 0 0 0 0 0 0 0 0 0 0 0 0 0 0 0 0 0 0 0 0 0 0 0 0 0 0 0 0 0 0 0 0 0 0 0 0 0 0 0 0 0 0 0 0 0 0 0 0 0 0 0 0 0 0 0 0 0 0 0\n"
          ],
          "name": "stderr"
        },
        {
          "output_type": "stream",
          "text": [
            "INFO:tensorflow:input_mask: 1 1 1 1 1 1 1 1 1 1 1 1 1 1 1 1 1 1 1 1 1 1 1 1 1 0 0 0 0 0 0 0 0 0 0 0 0 0 0 0 0 0 0 0 0 0 0 0 0 0 0 0 0 0 0 0 0 0 0 0 0 0 0 0 0 0 0 0 0 0 0 0 0 0 0 0 0 0 0 0 0 0 0 0 0 0 0 0 0 0 0 0 0 0 0 0 0 0 0 0 0 0 0 0 0 0 0 0 0 0 0 0 0 0 0 0 0 0 0 0 0 0 0 0 0 0 0 0\n"
          ],
          "name": "stdout"
        },
        {
          "output_type": "stream",
          "text": [
            "I0319 13:29:05.909573 140377472046976 run_classifier.py:466] input_mask: 1 1 1 1 1 1 1 1 1 1 1 1 1 1 1 1 1 1 1 1 1 1 1 1 1 0 0 0 0 0 0 0 0 0 0 0 0 0 0 0 0 0 0 0 0 0 0 0 0 0 0 0 0 0 0 0 0 0 0 0 0 0 0 0 0 0 0 0 0 0 0 0 0 0 0 0 0 0 0 0 0 0 0 0 0 0 0 0 0 0 0 0 0 0 0 0 0 0 0 0 0 0 0 0 0 0 0 0 0 0 0 0 0 0 0 0 0 0 0 0 0 0 0 0 0 0 0 0\n"
          ],
          "name": "stderr"
        },
        {
          "output_type": "stream",
          "text": [
            "INFO:tensorflow:segment_ids: 0 0 0 0 0 0 0 0 0 0 0 0 0 0 0 0 0 0 0 0 0 1 1 1 1 0 0 0 0 0 0 0 0 0 0 0 0 0 0 0 0 0 0 0 0 0 0 0 0 0 0 0 0 0 0 0 0 0 0 0 0 0 0 0 0 0 0 0 0 0 0 0 0 0 0 0 0 0 0 0 0 0 0 0 0 0 0 0 0 0 0 0 0 0 0 0 0 0 0 0 0 0 0 0 0 0 0 0 0 0 0 0 0 0 0 0 0 0 0 0 0 0 0 0 0 0 0 0\n"
          ],
          "name": "stdout"
        },
        {
          "output_type": "stream",
          "text": [
            "I0319 13:29:05.914241 140377472046976 run_classifier.py:467] segment_ids: 0 0 0 0 0 0 0 0 0 0 0 0 0 0 0 0 0 0 0 0 0 1 1 1 1 0 0 0 0 0 0 0 0 0 0 0 0 0 0 0 0 0 0 0 0 0 0 0 0 0 0 0 0 0 0 0 0 0 0 0 0 0 0 0 0 0 0 0 0 0 0 0 0 0 0 0 0 0 0 0 0 0 0 0 0 0 0 0 0 0 0 0 0 0 0 0 0 0 0 0 0 0 0 0 0 0 0 0 0 0 0 0 0 0 0 0 0 0 0 0 0 0 0 0 0 0 0 0\n"
          ],
          "name": "stderr"
        },
        {
          "output_type": "stream",
          "text": [
            "INFO:tensorflow:label: FAVOR (id = 0)\n"
          ],
          "name": "stdout"
        },
        {
          "output_type": "stream",
          "text": [
            "I0319 13:29:05.918443 140377472046976 run_classifier.py:468] label: FAVOR (id = 0)\n"
          ],
          "name": "stderr"
        },
        {
          "output_type": "stream",
          "text": [
            "INFO:tensorflow:*** Example ***\n"
          ],
          "name": "stdout"
        },
        {
          "output_type": "stream",
          "text": [
            "I0319 13:29:05.923579 140377472046976 run_classifier.py:461] *** Example ***\n"
          ],
          "name": "stderr"
        },
        {
          "output_type": "stream",
          "text": [
            "INFO:tensorflow:guid: 2358\n"
          ],
          "name": "stdout"
        },
        {
          "output_type": "stream",
          "text": [
            "I0319 13:29:05.927140 140377472046976 run_classifier.py:462] guid: 2358\n"
          ],
          "name": "stderr"
        },
        {
          "output_type": "stream",
          "text": [
            "INFO:tensorflow:tokens: [CLS] good morning patriots , let us continue to pray for this great nation and the # un ##born on this great day god has given us ! ! # cc ##ot [SEP] legal ##ization of abortion [SEP]\n"
          ],
          "name": "stdout"
        },
        {
          "output_type": "stream",
          "text": [
            "I0319 13:29:05.930578 140377472046976 run_classifier.py:464] tokens: [CLS] good morning patriots , let us continue to pray for this great nation and the # un ##born on this great day god has given us ! ! # cc ##ot [SEP] legal ##ization of abortion [SEP]\n"
          ],
          "name": "stderr"
        },
        {
          "output_type": "stream",
          "text": [
            "INFO:tensorflow:input_ids: 101 2204 2851 11579 1010 2292 2149 3613 2000 11839 2005 2023 2307 3842 1998 1996 1001 4895 10280 2006 2023 2307 2154 2643 2038 2445 2149 999 999 1001 10507 4140 102 3423 3989 1997 11324 102 0 0 0 0 0 0 0 0 0 0 0 0 0 0 0 0 0 0 0 0 0 0 0 0 0 0 0 0 0 0 0 0 0 0 0 0 0 0 0 0 0 0 0 0 0 0 0 0 0 0 0 0 0 0 0 0 0 0 0 0 0 0 0 0 0 0 0 0 0 0 0 0 0 0 0 0 0 0 0 0 0 0 0 0 0 0 0 0 0 0\n"
          ],
          "name": "stdout"
        },
        {
          "output_type": "stream",
          "text": [
            "I0319 13:29:05.934892 140377472046976 run_classifier.py:465] input_ids: 101 2204 2851 11579 1010 2292 2149 3613 2000 11839 2005 2023 2307 3842 1998 1996 1001 4895 10280 2006 2023 2307 2154 2643 2038 2445 2149 999 999 1001 10507 4140 102 3423 3989 1997 11324 102 0 0 0 0 0 0 0 0 0 0 0 0 0 0 0 0 0 0 0 0 0 0 0 0 0 0 0 0 0 0 0 0 0 0 0 0 0 0 0 0 0 0 0 0 0 0 0 0 0 0 0 0 0 0 0 0 0 0 0 0 0 0 0 0 0 0 0 0 0 0 0 0 0 0 0 0 0 0 0 0 0 0 0 0 0 0 0 0 0 0\n"
          ],
          "name": "stderr"
        },
        {
          "output_type": "stream",
          "text": [
            "INFO:tensorflow:input_mask: 1 1 1 1 1 1 1 1 1 1 1 1 1 1 1 1 1 1 1 1 1 1 1 1 1 1 1 1 1 1 1 1 1 1 1 1 1 1 0 0 0 0 0 0 0 0 0 0 0 0 0 0 0 0 0 0 0 0 0 0 0 0 0 0 0 0 0 0 0 0 0 0 0 0 0 0 0 0 0 0 0 0 0 0 0 0 0 0 0 0 0 0 0 0 0 0 0 0 0 0 0 0 0 0 0 0 0 0 0 0 0 0 0 0 0 0 0 0 0 0 0 0 0 0 0 0 0 0\n"
          ],
          "name": "stdout"
        },
        {
          "output_type": "stream",
          "text": [
            "I0319 13:29:05.938611 140377472046976 run_classifier.py:466] input_mask: 1 1 1 1 1 1 1 1 1 1 1 1 1 1 1 1 1 1 1 1 1 1 1 1 1 1 1 1 1 1 1 1 1 1 1 1 1 1 0 0 0 0 0 0 0 0 0 0 0 0 0 0 0 0 0 0 0 0 0 0 0 0 0 0 0 0 0 0 0 0 0 0 0 0 0 0 0 0 0 0 0 0 0 0 0 0 0 0 0 0 0 0 0 0 0 0 0 0 0 0 0 0 0 0 0 0 0 0 0 0 0 0 0 0 0 0 0 0 0 0 0 0 0 0 0 0 0 0\n"
          ],
          "name": "stderr"
        },
        {
          "output_type": "stream",
          "text": [
            "INFO:tensorflow:segment_ids: 0 0 0 0 0 0 0 0 0 0 0 0 0 0 0 0 0 0 0 0 0 0 0 0 0 0 0 0 0 0 0 0 0 1 1 1 1 1 0 0 0 0 0 0 0 0 0 0 0 0 0 0 0 0 0 0 0 0 0 0 0 0 0 0 0 0 0 0 0 0 0 0 0 0 0 0 0 0 0 0 0 0 0 0 0 0 0 0 0 0 0 0 0 0 0 0 0 0 0 0 0 0 0 0 0 0 0 0 0 0 0 0 0 0 0 0 0 0 0 0 0 0 0 0 0 0 0 0\n"
          ],
          "name": "stdout"
        },
        {
          "output_type": "stream",
          "text": [
            "I0319 13:29:05.942537 140377472046976 run_classifier.py:467] segment_ids: 0 0 0 0 0 0 0 0 0 0 0 0 0 0 0 0 0 0 0 0 0 0 0 0 0 0 0 0 0 0 0 0 0 1 1 1 1 1 0 0 0 0 0 0 0 0 0 0 0 0 0 0 0 0 0 0 0 0 0 0 0 0 0 0 0 0 0 0 0 0 0 0 0 0 0 0 0 0 0 0 0 0 0 0 0 0 0 0 0 0 0 0 0 0 0 0 0 0 0 0 0 0 0 0 0 0 0 0 0 0 0 0 0 0 0 0 0 0 0 0 0 0 0 0 0 0 0 0\n"
          ],
          "name": "stderr"
        },
        {
          "output_type": "stream",
          "text": [
            "INFO:tensorflow:label: AGAINST (id = 1)\n"
          ],
          "name": "stdout"
        },
        {
          "output_type": "stream",
          "text": [
            "I0319 13:29:05.946422 140377472046976 run_classifier.py:468] label: AGAINST (id = 1)\n"
          ],
          "name": "stderr"
        },
        {
          "output_type": "stream",
          "text": [
            "INFO:tensorflow:*** Example ***\n"
          ],
          "name": "stdout"
        },
        {
          "output_type": "stream",
          "text": [
            "I0319 13:29:05.951275 140377472046976 run_classifier.py:461] *** Example ***\n"
          ],
          "name": "stderr"
        },
        {
          "output_type": "stream",
          "text": [
            "INFO:tensorflow:guid: 2208\n"
          ],
          "name": "stdout"
        },
        {
          "output_type": "stream",
          "text": [
            "I0319 13:29:05.955018 140377472046976 run_classifier.py:462] guid: 2208\n"
          ],
          "name": "stderr"
        },
        {
          "output_type": "stream",
          "text": [
            "INFO:tensorflow:tokens: [CLS] @ mi ##zer ##ello @ meet ##the ##press at least he didn ' t lose an embassy , cover up a murder , or burn govt emails . [SEP] hillary clinton [SEP]\n"
          ],
          "name": "stdout"
        },
        {
          "output_type": "stream",
          "text": [
            "I0319 13:29:05.958804 140377472046976 run_classifier.py:464] tokens: [CLS] @ mi ##zer ##ello @ meet ##the ##press at least he didn ' t lose an embassy , cover up a murder , or burn govt emails . [SEP] hillary clinton [SEP]\n"
          ],
          "name": "stderr"
        },
        {
          "output_type": "stream",
          "text": [
            "INFO:tensorflow:input_ids: 101 1030 2771 6290 15350 1030 3113 10760 20110 2012 2560 2002 2134 1005 1056 4558 2019 8408 1010 3104 2039 1037 4028 1010 2030 6402 22410 22028 1012 102 18520 7207 102 0 0 0 0 0 0 0 0 0 0 0 0 0 0 0 0 0 0 0 0 0 0 0 0 0 0 0 0 0 0 0 0 0 0 0 0 0 0 0 0 0 0 0 0 0 0 0 0 0 0 0 0 0 0 0 0 0 0 0 0 0 0 0 0 0 0 0 0 0 0 0 0 0 0 0 0 0 0 0 0 0 0 0 0 0 0 0 0 0 0 0 0 0 0 0\n"
          ],
          "name": "stdout"
        },
        {
          "output_type": "stream",
          "text": [
            "I0319 13:29:05.962613 140377472046976 run_classifier.py:465] input_ids: 101 1030 2771 6290 15350 1030 3113 10760 20110 2012 2560 2002 2134 1005 1056 4558 2019 8408 1010 3104 2039 1037 4028 1010 2030 6402 22410 22028 1012 102 18520 7207 102 0 0 0 0 0 0 0 0 0 0 0 0 0 0 0 0 0 0 0 0 0 0 0 0 0 0 0 0 0 0 0 0 0 0 0 0 0 0 0 0 0 0 0 0 0 0 0 0 0 0 0 0 0 0 0 0 0 0 0 0 0 0 0 0 0 0 0 0 0 0 0 0 0 0 0 0 0 0 0 0 0 0 0 0 0 0 0 0 0 0 0 0 0 0 0\n"
          ],
          "name": "stderr"
        },
        {
          "output_type": "stream",
          "text": [
            "INFO:tensorflow:input_mask: 1 1 1 1 1 1 1 1 1 1 1 1 1 1 1 1 1 1 1 1 1 1 1 1 1 1 1 1 1 1 1 1 1 0 0 0 0 0 0 0 0 0 0 0 0 0 0 0 0 0 0 0 0 0 0 0 0 0 0 0 0 0 0 0 0 0 0 0 0 0 0 0 0 0 0 0 0 0 0 0 0 0 0 0 0 0 0 0 0 0 0 0 0 0 0 0 0 0 0 0 0 0 0 0 0 0 0 0 0 0 0 0 0 0 0 0 0 0 0 0 0 0 0 0 0 0 0 0\n"
          ],
          "name": "stdout"
        },
        {
          "output_type": "stream",
          "text": [
            "I0319 13:29:05.966193 140377472046976 run_classifier.py:466] input_mask: 1 1 1 1 1 1 1 1 1 1 1 1 1 1 1 1 1 1 1 1 1 1 1 1 1 1 1 1 1 1 1 1 1 0 0 0 0 0 0 0 0 0 0 0 0 0 0 0 0 0 0 0 0 0 0 0 0 0 0 0 0 0 0 0 0 0 0 0 0 0 0 0 0 0 0 0 0 0 0 0 0 0 0 0 0 0 0 0 0 0 0 0 0 0 0 0 0 0 0 0 0 0 0 0 0 0 0 0 0 0 0 0 0 0 0 0 0 0 0 0 0 0 0 0 0 0 0 0\n"
          ],
          "name": "stderr"
        },
        {
          "output_type": "stream",
          "text": [
            "INFO:tensorflow:segment_ids: 0 0 0 0 0 0 0 0 0 0 0 0 0 0 0 0 0 0 0 0 0 0 0 0 0 0 0 0 0 0 1 1 1 0 0 0 0 0 0 0 0 0 0 0 0 0 0 0 0 0 0 0 0 0 0 0 0 0 0 0 0 0 0 0 0 0 0 0 0 0 0 0 0 0 0 0 0 0 0 0 0 0 0 0 0 0 0 0 0 0 0 0 0 0 0 0 0 0 0 0 0 0 0 0 0 0 0 0 0 0 0 0 0 0 0 0 0 0 0 0 0 0 0 0 0 0 0 0\n"
          ],
          "name": "stdout"
        },
        {
          "output_type": "stream",
          "text": [
            "I0319 13:29:05.970216 140377472046976 run_classifier.py:467] segment_ids: 0 0 0 0 0 0 0 0 0 0 0 0 0 0 0 0 0 0 0 0 0 0 0 0 0 0 0 0 0 0 1 1 1 0 0 0 0 0 0 0 0 0 0 0 0 0 0 0 0 0 0 0 0 0 0 0 0 0 0 0 0 0 0 0 0 0 0 0 0 0 0 0 0 0 0 0 0 0 0 0 0 0 0 0 0 0 0 0 0 0 0 0 0 0 0 0 0 0 0 0 0 0 0 0 0 0 0 0 0 0 0 0 0 0 0 0 0 0 0 0 0 0 0 0 0 0 0 0\n"
          ],
          "name": "stderr"
        },
        {
          "output_type": "stream",
          "text": [
            "INFO:tensorflow:label: AGAINST (id = 1)\n"
          ],
          "name": "stdout"
        },
        {
          "output_type": "stream",
          "text": [
            "I0319 13:29:05.974113 140377472046976 run_classifier.py:468] label: AGAINST (id = 1)\n"
          ],
          "name": "stderr"
        },
        {
          "output_type": "stream",
          "text": [
            "INFO:tensorflow:*** Example ***\n"
          ],
          "name": "stdout"
        },
        {
          "output_type": "stream",
          "text": [
            "I0319 13:29:05.980345 140377472046976 run_classifier.py:461] *** Example ***\n"
          ],
          "name": "stderr"
        },
        {
          "output_type": "stream",
          "text": [
            "INFO:tensorflow:guid: 2658\n"
          ],
          "name": "stdout"
        },
        {
          "output_type": "stream",
          "text": [
            "I0319 13:29:05.984205 140377472046976 run_classifier.py:462] guid: 2658\n"
          ],
          "name": "stderr"
        },
        {
          "output_type": "stream",
          "text": [
            "INFO:tensorflow:tokens: [CLS] why do we think we can outs ##mart # satan when he has been at it for over thousands of years ? # sc ##ot ##us # marriage # isis # love ##win ##s [SEP] legal ##ization of abortion [SEP]\n"
          ],
          "name": "stdout"
        },
        {
          "output_type": "stream",
          "text": [
            "I0319 13:29:05.987562 140377472046976 run_classifier.py:464] tokens: [CLS] why do we think we can outs ##mart # satan when he has been at it for over thousands of years ? # sc ##ot ##us # marriage # isis # love ##win ##s [SEP] legal ##ization of abortion [SEP]\n"
          ],
          "name": "stderr"
        },
        {
          "output_type": "stream",
          "text": [
            "INFO:tensorflow:input_ids: 101 2339 2079 2057 2228 2057 2064 21100 22345 1001 16795 2043 2002 2038 2042 2012 2009 2005 2058 5190 1997 2086 1029 1001 8040 4140 2271 1001 3510 1001 18301 1001 2293 10105 2015 102 3423 3989 1997 11324 102 0 0 0 0 0 0 0 0 0 0 0 0 0 0 0 0 0 0 0 0 0 0 0 0 0 0 0 0 0 0 0 0 0 0 0 0 0 0 0 0 0 0 0 0 0 0 0 0 0 0 0 0 0 0 0 0 0 0 0 0 0 0 0 0 0 0 0 0 0 0 0 0 0 0 0 0 0 0 0 0 0 0 0 0 0 0 0\n"
          ],
          "name": "stdout"
        },
        {
          "output_type": "stream",
          "text": [
            "I0319 13:29:05.991350 140377472046976 run_classifier.py:465] input_ids: 101 2339 2079 2057 2228 2057 2064 21100 22345 1001 16795 2043 2002 2038 2042 2012 2009 2005 2058 5190 1997 2086 1029 1001 8040 4140 2271 1001 3510 1001 18301 1001 2293 10105 2015 102 3423 3989 1997 11324 102 0 0 0 0 0 0 0 0 0 0 0 0 0 0 0 0 0 0 0 0 0 0 0 0 0 0 0 0 0 0 0 0 0 0 0 0 0 0 0 0 0 0 0 0 0 0 0 0 0 0 0 0 0 0 0 0 0 0 0 0 0 0 0 0 0 0 0 0 0 0 0 0 0 0 0 0 0 0 0 0 0 0 0 0 0 0 0\n"
          ],
          "name": "stderr"
        },
        {
          "output_type": "stream",
          "text": [
            "INFO:tensorflow:input_mask: 1 1 1 1 1 1 1 1 1 1 1 1 1 1 1 1 1 1 1 1 1 1 1 1 1 1 1 1 1 1 1 1 1 1 1 1 1 1 1 1 1 0 0 0 0 0 0 0 0 0 0 0 0 0 0 0 0 0 0 0 0 0 0 0 0 0 0 0 0 0 0 0 0 0 0 0 0 0 0 0 0 0 0 0 0 0 0 0 0 0 0 0 0 0 0 0 0 0 0 0 0 0 0 0 0 0 0 0 0 0 0 0 0 0 0 0 0 0 0 0 0 0 0 0 0 0 0 0\n"
          ],
          "name": "stdout"
        },
        {
          "output_type": "stream",
          "text": [
            "I0319 13:29:05.995161 140377472046976 run_classifier.py:466] input_mask: 1 1 1 1 1 1 1 1 1 1 1 1 1 1 1 1 1 1 1 1 1 1 1 1 1 1 1 1 1 1 1 1 1 1 1 1 1 1 1 1 1 0 0 0 0 0 0 0 0 0 0 0 0 0 0 0 0 0 0 0 0 0 0 0 0 0 0 0 0 0 0 0 0 0 0 0 0 0 0 0 0 0 0 0 0 0 0 0 0 0 0 0 0 0 0 0 0 0 0 0 0 0 0 0 0 0 0 0 0 0 0 0 0 0 0 0 0 0 0 0 0 0 0 0 0 0 0 0\n"
          ],
          "name": "stderr"
        },
        {
          "output_type": "stream",
          "text": [
            "INFO:tensorflow:segment_ids: 0 0 0 0 0 0 0 0 0 0 0 0 0 0 0 0 0 0 0 0 0 0 0 0 0 0 0 0 0 0 0 0 0 0 0 0 1 1 1 1 1 0 0 0 0 0 0 0 0 0 0 0 0 0 0 0 0 0 0 0 0 0 0 0 0 0 0 0 0 0 0 0 0 0 0 0 0 0 0 0 0 0 0 0 0 0 0 0 0 0 0 0 0 0 0 0 0 0 0 0 0 0 0 0 0 0 0 0 0 0 0 0 0 0 0 0 0 0 0 0 0 0 0 0 0 0 0 0\n"
          ],
          "name": "stdout"
        },
        {
          "output_type": "stream",
          "text": [
            "I0319 13:29:05.998864 140377472046976 run_classifier.py:467] segment_ids: 0 0 0 0 0 0 0 0 0 0 0 0 0 0 0 0 0 0 0 0 0 0 0 0 0 0 0 0 0 0 0 0 0 0 0 0 1 1 1 1 1 0 0 0 0 0 0 0 0 0 0 0 0 0 0 0 0 0 0 0 0 0 0 0 0 0 0 0 0 0 0 0 0 0 0 0 0 0 0 0 0 0 0 0 0 0 0 0 0 0 0 0 0 0 0 0 0 0 0 0 0 0 0 0 0 0 0 0 0 0 0 0 0 0 0 0 0 0 0 0 0 0 0 0 0 0 0 0\n"
          ],
          "name": "stderr"
        },
        {
          "output_type": "stream",
          "text": [
            "INFO:tensorflow:label: NONE (id = 2)\n"
          ],
          "name": "stdout"
        },
        {
          "output_type": "stream",
          "text": [
            "I0319 13:29:06.002651 140377472046976 run_classifier.py:468] label: NONE (id = 2)\n"
          ],
          "name": "stderr"
        },
        {
          "output_type": "stream",
          "text": [
            "INFO:tensorflow:Writing example 0 of 1248\n"
          ],
          "name": "stdout"
        },
        {
          "output_type": "stream",
          "text": [
            "I0319 13:29:07.820673 140377472046976 run_classifier.py:774] Writing example 0 of 1248\n"
          ],
          "name": "stderr"
        },
        {
          "output_type": "stream",
          "text": [
            "INFO:tensorflow:*** Example ***\n"
          ],
          "name": "stdout"
        },
        {
          "output_type": "stream",
          "text": [
            "I0319 13:29:07.824116 140377472046976 run_classifier.py:461] *** Example ***\n"
          ],
          "name": "stderr"
        },
        {
          "output_type": "stream",
          "text": [
            "INFO:tensorflow:guid: 10002\n"
          ],
          "name": "stdout"
        },
        {
          "output_type": "stream",
          "text": [
            "I0319 13:29:07.828776 140377472046976 run_classifier.py:462] guid: 10002\n"
          ],
          "name": "stderr"
        },
        {
          "output_type": "stream",
          "text": [
            "INFO:tensorflow:tokens: [CLS] rt @ prayer ##bu ##llet ##s : i remove ne ##hus ##hta ##n - previous moves of god that have become idols , from the high places - 2 kings 18 : 4 [SEP] at ##hei ##sm [SEP]\n"
          ],
          "name": "stdout"
        },
        {
          "output_type": "stream",
          "text": [
            "I0319 13:29:07.833074 140377472046976 run_classifier.py:464] tokens: [CLS] rt @ prayer ##bu ##llet ##s : i remove ne ##hus ##hta ##n - previous moves of god that have become idols , from the high places - 2 kings 18 : 4 [SEP] at ##hei ##sm [SEP]\n"
          ],
          "name": "stderr"
        },
        {
          "output_type": "stream",
          "text": [
            "INFO:tensorflow:input_ids: 101 19387 1030 7083 8569 22592 2015 1024 1045 6366 11265 9825 22893 2078 1011 3025 5829 1997 2643 2008 2031 2468 24438 1010 2013 1996 2152 3182 1011 1016 5465 2324 1024 1018 102 2012 26036 6491 102 0 0 0 0 0 0 0 0 0 0 0 0 0 0 0 0 0 0 0 0 0 0 0 0 0 0 0 0 0 0 0 0 0 0 0 0 0 0 0 0 0 0 0 0 0 0 0 0 0 0 0 0 0 0 0 0 0 0 0 0 0 0 0 0 0 0 0 0 0 0 0 0 0 0 0 0 0 0 0 0 0 0 0 0 0 0 0 0 0\n"
          ],
          "name": "stdout"
        },
        {
          "output_type": "stream",
          "text": [
            "I0319 13:29:07.838102 140377472046976 run_classifier.py:465] input_ids: 101 19387 1030 7083 8569 22592 2015 1024 1045 6366 11265 9825 22893 2078 1011 3025 5829 1997 2643 2008 2031 2468 24438 1010 2013 1996 2152 3182 1011 1016 5465 2324 1024 1018 102 2012 26036 6491 102 0 0 0 0 0 0 0 0 0 0 0 0 0 0 0 0 0 0 0 0 0 0 0 0 0 0 0 0 0 0 0 0 0 0 0 0 0 0 0 0 0 0 0 0 0 0 0 0 0 0 0 0 0 0 0 0 0 0 0 0 0 0 0 0 0 0 0 0 0 0 0 0 0 0 0 0 0 0 0 0 0 0 0 0 0 0 0 0 0\n"
          ],
          "name": "stderr"
        },
        {
          "output_type": "stream",
          "text": [
            "INFO:tensorflow:input_mask: 1 1 1 1 1 1 1 1 1 1 1 1 1 1 1 1 1 1 1 1 1 1 1 1 1 1 1 1 1 1 1 1 1 1 1 1 1 1 1 0 0 0 0 0 0 0 0 0 0 0 0 0 0 0 0 0 0 0 0 0 0 0 0 0 0 0 0 0 0 0 0 0 0 0 0 0 0 0 0 0 0 0 0 0 0 0 0 0 0 0 0 0 0 0 0 0 0 0 0 0 0 0 0 0 0 0 0 0 0 0 0 0 0 0 0 0 0 0 0 0 0 0 0 0 0 0 0 0\n"
          ],
          "name": "stdout"
        },
        {
          "output_type": "stream",
          "text": [
            "I0319 13:29:07.841362 140377472046976 run_classifier.py:466] input_mask: 1 1 1 1 1 1 1 1 1 1 1 1 1 1 1 1 1 1 1 1 1 1 1 1 1 1 1 1 1 1 1 1 1 1 1 1 1 1 1 0 0 0 0 0 0 0 0 0 0 0 0 0 0 0 0 0 0 0 0 0 0 0 0 0 0 0 0 0 0 0 0 0 0 0 0 0 0 0 0 0 0 0 0 0 0 0 0 0 0 0 0 0 0 0 0 0 0 0 0 0 0 0 0 0 0 0 0 0 0 0 0 0 0 0 0 0 0 0 0 0 0 0 0 0 0 0 0 0\n"
          ],
          "name": "stderr"
        },
        {
          "output_type": "stream",
          "text": [
            "INFO:tensorflow:segment_ids: 0 0 0 0 0 0 0 0 0 0 0 0 0 0 0 0 0 0 0 0 0 0 0 0 0 0 0 0 0 0 0 0 0 0 0 1 1 1 1 0 0 0 0 0 0 0 0 0 0 0 0 0 0 0 0 0 0 0 0 0 0 0 0 0 0 0 0 0 0 0 0 0 0 0 0 0 0 0 0 0 0 0 0 0 0 0 0 0 0 0 0 0 0 0 0 0 0 0 0 0 0 0 0 0 0 0 0 0 0 0 0 0 0 0 0 0 0 0 0 0 0 0 0 0 0 0 0 0\n"
          ],
          "name": "stdout"
        },
        {
          "output_type": "stream",
          "text": [
            "I0319 13:29:07.846309 140377472046976 run_classifier.py:467] segment_ids: 0 0 0 0 0 0 0 0 0 0 0 0 0 0 0 0 0 0 0 0 0 0 0 0 0 0 0 0 0 0 0 0 0 0 0 1 1 1 1 0 0 0 0 0 0 0 0 0 0 0 0 0 0 0 0 0 0 0 0 0 0 0 0 0 0 0 0 0 0 0 0 0 0 0 0 0 0 0 0 0 0 0 0 0 0 0 0 0 0 0 0 0 0 0 0 0 0 0 0 0 0 0 0 0 0 0 0 0 0 0 0 0 0 0 0 0 0 0 0 0 0 0 0 0 0 0 0 0\n"
          ],
          "name": "stderr"
        },
        {
          "output_type": "stream",
          "text": [
            "INFO:tensorflow:label: AGAINST (id = 1)\n"
          ],
          "name": "stdout"
        },
        {
          "output_type": "stream",
          "text": [
            "I0319 13:29:07.849675 140377472046976 run_classifier.py:468] label: AGAINST (id = 1)\n"
          ],
          "name": "stderr"
        },
        {
          "output_type": "stream",
          "text": [
            "INFO:tensorflow:*** Example ***\n"
          ],
          "name": "stdout"
        },
        {
          "output_type": "stream",
          "text": [
            "I0319 13:29:07.857541 140377472046976 run_classifier.py:461] *** Example ***\n"
          ],
          "name": "stderr"
        },
        {
          "output_type": "stream",
          "text": [
            "INFO:tensorflow:guid: 10003\n"
          ],
          "name": "stdout"
        },
        {
          "output_type": "stream",
          "text": [
            "I0319 13:29:07.861251 140377472046976 run_classifier.py:462] guid: 10003\n"
          ],
          "name": "stderr"
        },
        {
          "output_type": "stream",
          "text": [
            "INFO:tensorflow:tokens: [CLS] @ brain ##man ##36 ##5 @ he ##id ##t ##j ##j @ benjamin ##li ##ves i have sought the truth of my soul and found it strong enough to stand on its own merits . [SEP] at ##hei ##sm [SEP]\n"
          ],
          "name": "stdout"
        },
        {
          "output_type": "stream",
          "text": [
            "I0319 13:29:07.865844 140377472046976 run_classifier.py:464] tokens: [CLS] @ brain ##man ##36 ##5 @ he ##id ##t ##j ##j @ benjamin ##li ##ves i have sought the truth of my soul and found it strong enough to stand on its own merits . [SEP] at ##hei ##sm [SEP]\n"
          ],
          "name": "stderr"
        },
        {
          "output_type": "stream",
          "text": [
            "INFO:tensorflow:input_ids: 101 1030 4167 2386 21619 2629 1030 2002 3593 2102 3501 3501 1030 6425 3669 6961 1045 2031 4912 1996 3606 1997 2026 3969 1998 2179 2009 2844 2438 2000 3233 2006 2049 2219 22617 1012 102 2012 26036 6491 102 0 0 0 0 0 0 0 0 0 0 0 0 0 0 0 0 0 0 0 0 0 0 0 0 0 0 0 0 0 0 0 0 0 0 0 0 0 0 0 0 0 0 0 0 0 0 0 0 0 0 0 0 0 0 0 0 0 0 0 0 0 0 0 0 0 0 0 0 0 0 0 0 0 0 0 0 0 0 0 0 0 0 0 0 0 0 0\n"
          ],
          "name": "stdout"
        },
        {
          "output_type": "stream",
          "text": [
            "I0319 13:29:07.869471 140377472046976 run_classifier.py:465] input_ids: 101 1030 4167 2386 21619 2629 1030 2002 3593 2102 3501 3501 1030 6425 3669 6961 1045 2031 4912 1996 3606 1997 2026 3969 1998 2179 2009 2844 2438 2000 3233 2006 2049 2219 22617 1012 102 2012 26036 6491 102 0 0 0 0 0 0 0 0 0 0 0 0 0 0 0 0 0 0 0 0 0 0 0 0 0 0 0 0 0 0 0 0 0 0 0 0 0 0 0 0 0 0 0 0 0 0 0 0 0 0 0 0 0 0 0 0 0 0 0 0 0 0 0 0 0 0 0 0 0 0 0 0 0 0 0 0 0 0 0 0 0 0 0 0 0 0 0\n"
          ],
          "name": "stderr"
        },
        {
          "output_type": "stream",
          "text": [
            "INFO:tensorflow:input_mask: 1 1 1 1 1 1 1 1 1 1 1 1 1 1 1 1 1 1 1 1 1 1 1 1 1 1 1 1 1 1 1 1 1 1 1 1 1 1 1 1 1 0 0 0 0 0 0 0 0 0 0 0 0 0 0 0 0 0 0 0 0 0 0 0 0 0 0 0 0 0 0 0 0 0 0 0 0 0 0 0 0 0 0 0 0 0 0 0 0 0 0 0 0 0 0 0 0 0 0 0 0 0 0 0 0 0 0 0 0 0 0 0 0 0 0 0 0 0 0 0 0 0 0 0 0 0 0 0\n"
          ],
          "name": "stdout"
        },
        {
          "output_type": "stream",
          "text": [
            "I0319 13:29:07.873925 140377472046976 run_classifier.py:466] input_mask: 1 1 1 1 1 1 1 1 1 1 1 1 1 1 1 1 1 1 1 1 1 1 1 1 1 1 1 1 1 1 1 1 1 1 1 1 1 1 1 1 1 0 0 0 0 0 0 0 0 0 0 0 0 0 0 0 0 0 0 0 0 0 0 0 0 0 0 0 0 0 0 0 0 0 0 0 0 0 0 0 0 0 0 0 0 0 0 0 0 0 0 0 0 0 0 0 0 0 0 0 0 0 0 0 0 0 0 0 0 0 0 0 0 0 0 0 0 0 0 0 0 0 0 0 0 0 0 0\n"
          ],
          "name": "stderr"
        },
        {
          "output_type": "stream",
          "text": [
            "INFO:tensorflow:segment_ids: 0 0 0 0 0 0 0 0 0 0 0 0 0 0 0 0 0 0 0 0 0 0 0 0 0 0 0 0 0 0 0 0 0 0 0 0 0 1 1 1 1 0 0 0 0 0 0 0 0 0 0 0 0 0 0 0 0 0 0 0 0 0 0 0 0 0 0 0 0 0 0 0 0 0 0 0 0 0 0 0 0 0 0 0 0 0 0 0 0 0 0 0 0 0 0 0 0 0 0 0 0 0 0 0 0 0 0 0 0 0 0 0 0 0 0 0 0 0 0 0 0 0 0 0 0 0 0 0\n"
          ],
          "name": "stdout"
        },
        {
          "output_type": "stream",
          "text": [
            "I0319 13:29:07.877590 140377472046976 run_classifier.py:467] segment_ids: 0 0 0 0 0 0 0 0 0 0 0 0 0 0 0 0 0 0 0 0 0 0 0 0 0 0 0 0 0 0 0 0 0 0 0 0 0 1 1 1 1 0 0 0 0 0 0 0 0 0 0 0 0 0 0 0 0 0 0 0 0 0 0 0 0 0 0 0 0 0 0 0 0 0 0 0 0 0 0 0 0 0 0 0 0 0 0 0 0 0 0 0 0 0 0 0 0 0 0 0 0 0 0 0 0 0 0 0 0 0 0 0 0 0 0 0 0 0 0 0 0 0 0 0 0 0 0 0\n"
          ],
          "name": "stderr"
        },
        {
          "output_type": "stream",
          "text": [
            "INFO:tensorflow:label: AGAINST (id = 1)\n"
          ],
          "name": "stdout"
        },
        {
          "output_type": "stream",
          "text": [
            "I0319 13:29:07.881922 140377472046976 run_classifier.py:468] label: AGAINST (id = 1)\n"
          ],
          "name": "stderr"
        },
        {
          "output_type": "stream",
          "text": [
            "INFO:tensorflow:*** Example ***\n"
          ],
          "name": "stdout"
        },
        {
          "output_type": "stream",
          "text": [
            "I0319 13:29:07.886687 140377472046976 run_classifier.py:461] *** Example ***\n"
          ],
          "name": "stderr"
        },
        {
          "output_type": "stream",
          "text": [
            "INFO:tensorflow:guid: 10004\n"
          ],
          "name": "stdout"
        },
        {
          "output_type": "stream",
          "text": [
            "I0319 13:29:07.891685 140377472046976 run_classifier.py:462] guid: 10004\n"
          ],
          "name": "stderr"
        },
        {
          "output_type": "stream",
          "text": [
            "INFO:tensorflow:tokens: [CLS] # god is utterly powerless without human intervention . . . [SEP] at ##hei ##sm [SEP]\n"
          ],
          "name": "stdout"
        },
        {
          "output_type": "stream",
          "text": [
            "I0319 13:29:07.896266 140377472046976 run_classifier.py:464] tokens: [CLS] # god is utterly powerless without human intervention . . . [SEP] at ##hei ##sm [SEP]\n"
          ],
          "name": "stderr"
        },
        {
          "output_type": "stream",
          "text": [
            "INFO:tensorflow:input_ids: 101 1001 2643 2003 12580 25192 2302 2529 8830 1012 1012 1012 102 2012 26036 6491 102 0 0 0 0 0 0 0 0 0 0 0 0 0 0 0 0 0 0 0 0 0 0 0 0 0 0 0 0 0 0 0 0 0 0 0 0 0 0 0 0 0 0 0 0 0 0 0 0 0 0 0 0 0 0 0 0 0 0 0 0 0 0 0 0 0 0 0 0 0 0 0 0 0 0 0 0 0 0 0 0 0 0 0 0 0 0 0 0 0 0 0 0 0 0 0 0 0 0 0 0 0 0 0 0 0 0 0 0 0 0 0\n"
          ],
          "name": "stdout"
        },
        {
          "output_type": "stream",
          "text": [
            "I0319 13:29:07.900022 140377472046976 run_classifier.py:465] input_ids: 101 1001 2643 2003 12580 25192 2302 2529 8830 1012 1012 1012 102 2012 26036 6491 102 0 0 0 0 0 0 0 0 0 0 0 0 0 0 0 0 0 0 0 0 0 0 0 0 0 0 0 0 0 0 0 0 0 0 0 0 0 0 0 0 0 0 0 0 0 0 0 0 0 0 0 0 0 0 0 0 0 0 0 0 0 0 0 0 0 0 0 0 0 0 0 0 0 0 0 0 0 0 0 0 0 0 0 0 0 0 0 0 0 0 0 0 0 0 0 0 0 0 0 0 0 0 0 0 0 0 0 0 0 0 0\n"
          ],
          "name": "stderr"
        },
        {
          "output_type": "stream",
          "text": [
            "INFO:tensorflow:input_mask: 1 1 1 1 1 1 1 1 1 1 1 1 1 1 1 1 1 0 0 0 0 0 0 0 0 0 0 0 0 0 0 0 0 0 0 0 0 0 0 0 0 0 0 0 0 0 0 0 0 0 0 0 0 0 0 0 0 0 0 0 0 0 0 0 0 0 0 0 0 0 0 0 0 0 0 0 0 0 0 0 0 0 0 0 0 0 0 0 0 0 0 0 0 0 0 0 0 0 0 0 0 0 0 0 0 0 0 0 0 0 0 0 0 0 0 0 0 0 0 0 0 0 0 0 0 0 0 0\n"
          ],
          "name": "stdout"
        },
        {
          "output_type": "stream",
          "text": [
            "I0319 13:29:07.904724 140377472046976 run_classifier.py:466] input_mask: 1 1 1 1 1 1 1 1 1 1 1 1 1 1 1 1 1 0 0 0 0 0 0 0 0 0 0 0 0 0 0 0 0 0 0 0 0 0 0 0 0 0 0 0 0 0 0 0 0 0 0 0 0 0 0 0 0 0 0 0 0 0 0 0 0 0 0 0 0 0 0 0 0 0 0 0 0 0 0 0 0 0 0 0 0 0 0 0 0 0 0 0 0 0 0 0 0 0 0 0 0 0 0 0 0 0 0 0 0 0 0 0 0 0 0 0 0 0 0 0 0 0 0 0 0 0 0 0\n"
          ],
          "name": "stderr"
        },
        {
          "output_type": "stream",
          "text": [
            "INFO:tensorflow:segment_ids: 0 0 0 0 0 0 0 0 0 0 0 0 0 1 1 1 1 0 0 0 0 0 0 0 0 0 0 0 0 0 0 0 0 0 0 0 0 0 0 0 0 0 0 0 0 0 0 0 0 0 0 0 0 0 0 0 0 0 0 0 0 0 0 0 0 0 0 0 0 0 0 0 0 0 0 0 0 0 0 0 0 0 0 0 0 0 0 0 0 0 0 0 0 0 0 0 0 0 0 0 0 0 0 0 0 0 0 0 0 0 0 0 0 0 0 0 0 0 0 0 0 0 0 0 0 0 0 0\n"
          ],
          "name": "stdout"
        },
        {
          "output_type": "stream",
          "text": [
            "I0319 13:29:07.908785 140377472046976 run_classifier.py:467] segment_ids: 0 0 0 0 0 0 0 0 0 0 0 0 0 1 1 1 1 0 0 0 0 0 0 0 0 0 0 0 0 0 0 0 0 0 0 0 0 0 0 0 0 0 0 0 0 0 0 0 0 0 0 0 0 0 0 0 0 0 0 0 0 0 0 0 0 0 0 0 0 0 0 0 0 0 0 0 0 0 0 0 0 0 0 0 0 0 0 0 0 0 0 0 0 0 0 0 0 0 0 0 0 0 0 0 0 0 0 0 0 0 0 0 0 0 0 0 0 0 0 0 0 0 0 0 0 0 0 0\n"
          ],
          "name": "stderr"
        },
        {
          "output_type": "stream",
          "text": [
            "INFO:tensorflow:label: AGAINST (id = 1)\n"
          ],
          "name": "stdout"
        },
        {
          "output_type": "stream",
          "text": [
            "I0319 13:29:07.912444 140377472046976 run_classifier.py:468] label: AGAINST (id = 1)\n"
          ],
          "name": "stderr"
        },
        {
          "output_type": "stream",
          "text": [
            "INFO:tensorflow:*** Example ***\n"
          ],
          "name": "stdout"
        },
        {
          "output_type": "stream",
          "text": [
            "I0319 13:29:07.918241 140377472046976 run_classifier.py:461] *** Example ***\n"
          ],
          "name": "stderr"
        },
        {
          "output_type": "stream",
          "text": [
            "INFO:tensorflow:guid: 10005\n"
          ],
          "name": "stdout"
        },
        {
          "output_type": "stream",
          "text": [
            "I0319 13:29:07.922297 140377472046976 run_classifier.py:462] guid: 10005\n"
          ],
          "name": "stderr"
        },
        {
          "output_type": "stream",
          "text": [
            "INFO:tensorflow:tokens: [CLS] @ david _ cameron miracles of # multicultural ##ism miracles of shady 78 ##6 # ta ##qi ##ya # ta ##wr ##iya # ja ##zi ##ya # ka ##fi ##rs # dh ##im ##mi # jihad # allah [SEP] at ##hei ##sm [SEP]\n"
          ],
          "name": "stdout"
        },
        {
          "output_type": "stream",
          "text": [
            "I0319 13:29:07.926833 140377472046976 run_classifier.py:464] tokens: [CLS] @ david _ cameron miracles of # multicultural ##ism miracles of shady 78 ##6 # ta ##qi ##ya # ta ##wr ##iya # ja ##zi ##ya # ka ##fi ##rs # dh ##im ##mi # jihad # allah [SEP] at ##hei ##sm [SEP]\n"
          ],
          "name": "stderr"
        },
        {
          "output_type": "stream",
          "text": [
            "INFO:tensorflow:input_ids: 101 1030 2585 1035 7232 17861 1997 1001 27135 2964 17861 1997 22824 6275 2575 1001 11937 14702 3148 1001 11937 13088 8717 1001 14855 5831 3148 1001 10556 8873 2869 1001 28144 5714 4328 1001 24815 1001 16455 102 2012 26036 6491 102 0 0 0 0 0 0 0 0 0 0 0 0 0 0 0 0 0 0 0 0 0 0 0 0 0 0 0 0 0 0 0 0 0 0 0 0 0 0 0 0 0 0 0 0 0 0 0 0 0 0 0 0 0 0 0 0 0 0 0 0 0 0 0 0 0 0 0 0 0 0 0 0 0 0 0 0 0 0 0 0 0 0 0 0\n"
          ],
          "name": "stdout"
        },
        {
          "output_type": "stream",
          "text": [
            "I0319 13:29:07.931389 140377472046976 run_classifier.py:465] input_ids: 101 1030 2585 1035 7232 17861 1997 1001 27135 2964 17861 1997 22824 6275 2575 1001 11937 14702 3148 1001 11937 13088 8717 1001 14855 5831 3148 1001 10556 8873 2869 1001 28144 5714 4328 1001 24815 1001 16455 102 2012 26036 6491 102 0 0 0 0 0 0 0 0 0 0 0 0 0 0 0 0 0 0 0 0 0 0 0 0 0 0 0 0 0 0 0 0 0 0 0 0 0 0 0 0 0 0 0 0 0 0 0 0 0 0 0 0 0 0 0 0 0 0 0 0 0 0 0 0 0 0 0 0 0 0 0 0 0 0 0 0 0 0 0 0 0 0 0 0\n"
          ],
          "name": "stderr"
        },
        {
          "output_type": "stream",
          "text": [
            "INFO:tensorflow:input_mask: 1 1 1 1 1 1 1 1 1 1 1 1 1 1 1 1 1 1 1 1 1 1 1 1 1 1 1 1 1 1 1 1 1 1 1 1 1 1 1 1 1 1 1 1 0 0 0 0 0 0 0 0 0 0 0 0 0 0 0 0 0 0 0 0 0 0 0 0 0 0 0 0 0 0 0 0 0 0 0 0 0 0 0 0 0 0 0 0 0 0 0 0 0 0 0 0 0 0 0 0 0 0 0 0 0 0 0 0 0 0 0 0 0 0 0 0 0 0 0 0 0 0 0 0 0 0 0 0\n"
          ],
          "name": "stdout"
        },
        {
          "output_type": "stream",
          "text": [
            "I0319 13:29:07.935290 140377472046976 run_classifier.py:466] input_mask: 1 1 1 1 1 1 1 1 1 1 1 1 1 1 1 1 1 1 1 1 1 1 1 1 1 1 1 1 1 1 1 1 1 1 1 1 1 1 1 1 1 1 1 1 0 0 0 0 0 0 0 0 0 0 0 0 0 0 0 0 0 0 0 0 0 0 0 0 0 0 0 0 0 0 0 0 0 0 0 0 0 0 0 0 0 0 0 0 0 0 0 0 0 0 0 0 0 0 0 0 0 0 0 0 0 0 0 0 0 0 0 0 0 0 0 0 0 0 0 0 0 0 0 0 0 0 0 0\n"
          ],
          "name": "stderr"
        },
        {
          "output_type": "stream",
          "text": [
            "INFO:tensorflow:segment_ids: 0 0 0 0 0 0 0 0 0 0 0 0 0 0 0 0 0 0 0 0 0 0 0 0 0 0 0 0 0 0 0 0 0 0 0 0 0 0 0 0 1 1 1 1 0 0 0 0 0 0 0 0 0 0 0 0 0 0 0 0 0 0 0 0 0 0 0 0 0 0 0 0 0 0 0 0 0 0 0 0 0 0 0 0 0 0 0 0 0 0 0 0 0 0 0 0 0 0 0 0 0 0 0 0 0 0 0 0 0 0 0 0 0 0 0 0 0 0 0 0 0 0 0 0 0 0 0 0\n"
          ],
          "name": "stdout"
        },
        {
          "output_type": "stream",
          "text": [
            "I0319 13:29:07.939787 140377472046976 run_classifier.py:467] segment_ids: 0 0 0 0 0 0 0 0 0 0 0 0 0 0 0 0 0 0 0 0 0 0 0 0 0 0 0 0 0 0 0 0 0 0 0 0 0 0 0 0 1 1 1 1 0 0 0 0 0 0 0 0 0 0 0 0 0 0 0 0 0 0 0 0 0 0 0 0 0 0 0 0 0 0 0 0 0 0 0 0 0 0 0 0 0 0 0 0 0 0 0 0 0 0 0 0 0 0 0 0 0 0 0 0 0 0 0 0 0 0 0 0 0 0 0 0 0 0 0 0 0 0 0 0 0 0 0 0\n"
          ],
          "name": "stderr"
        },
        {
          "output_type": "stream",
          "text": [
            "INFO:tensorflow:label: AGAINST (id = 1)\n"
          ],
          "name": "stdout"
        },
        {
          "output_type": "stream",
          "text": [
            "I0319 13:29:07.943652 140377472046976 run_classifier.py:468] label: AGAINST (id = 1)\n"
          ],
          "name": "stderr"
        },
        {
          "output_type": "stream",
          "text": [
            "INFO:tensorflow:*** Example ***\n"
          ],
          "name": "stdout"
        },
        {
          "output_type": "stream",
          "text": [
            "I0319 13:29:07.949282 140377472046976 run_classifier.py:461] *** Example ***\n"
          ],
          "name": "stderr"
        },
        {
          "output_type": "stream",
          "text": [
            "INFO:tensorflow:guid: 10006\n"
          ],
          "name": "stdout"
        },
        {
          "output_type": "stream",
          "text": [
            "I0319 13:29:07.952734 140377472046976 run_classifier.py:462] guid: 10006\n"
          ],
          "name": "stderr"
        },
        {
          "output_type": "stream",
          "text": [
            "INFO:tensorflow:tokens: [CLS] this world needs a tight group hug . tight enough to relieve them from all this anger and hate . # make ##pe ##ace ##with ##ea ##cho ##ther [SEP] at ##hei ##sm [SEP]\n"
          ],
          "name": "stdout"
        },
        {
          "output_type": "stream",
          "text": [
            "I0319 13:29:07.955913 140377472046976 run_classifier.py:464] tokens: [CLS] this world needs a tight group hug . tight enough to relieve them from all this anger and hate . # make ##pe ##ace ##with ##ea ##cho ##ther [SEP] at ##hei ##sm [SEP]\n"
          ],
          "name": "stderr"
        },
        {
          "output_type": "stream",
          "text": [
            "INFO:tensorflow:input_ids: 101 2023 2088 3791 1037 4389 2177 8549 1012 4389 2438 2000 15804 2068 2013 2035 2023 4963 1998 5223 1012 1001 2191 5051 10732 24415 5243 9905 12399 102 2012 26036 6491 102 0 0 0 0 0 0 0 0 0 0 0 0 0 0 0 0 0 0 0 0 0 0 0 0 0 0 0 0 0 0 0 0 0 0 0 0 0 0 0 0 0 0 0 0 0 0 0 0 0 0 0 0 0 0 0 0 0 0 0 0 0 0 0 0 0 0 0 0 0 0 0 0 0 0 0 0 0 0 0 0 0 0 0 0 0 0 0 0 0 0 0 0 0 0\n"
          ],
          "name": "stdout"
        },
        {
          "output_type": "stream",
          "text": [
            "I0319 13:29:07.959254 140377472046976 run_classifier.py:465] input_ids: 101 2023 2088 3791 1037 4389 2177 8549 1012 4389 2438 2000 15804 2068 2013 2035 2023 4963 1998 5223 1012 1001 2191 5051 10732 24415 5243 9905 12399 102 2012 26036 6491 102 0 0 0 0 0 0 0 0 0 0 0 0 0 0 0 0 0 0 0 0 0 0 0 0 0 0 0 0 0 0 0 0 0 0 0 0 0 0 0 0 0 0 0 0 0 0 0 0 0 0 0 0 0 0 0 0 0 0 0 0 0 0 0 0 0 0 0 0 0 0 0 0 0 0 0 0 0 0 0 0 0 0 0 0 0 0 0 0 0 0 0 0 0 0\n"
          ],
          "name": "stderr"
        },
        {
          "output_type": "stream",
          "text": [
            "INFO:tensorflow:input_mask: 1 1 1 1 1 1 1 1 1 1 1 1 1 1 1 1 1 1 1 1 1 1 1 1 1 1 1 1 1 1 1 1 1 1 0 0 0 0 0 0 0 0 0 0 0 0 0 0 0 0 0 0 0 0 0 0 0 0 0 0 0 0 0 0 0 0 0 0 0 0 0 0 0 0 0 0 0 0 0 0 0 0 0 0 0 0 0 0 0 0 0 0 0 0 0 0 0 0 0 0 0 0 0 0 0 0 0 0 0 0 0 0 0 0 0 0 0 0 0 0 0 0 0 0 0 0 0 0\n"
          ],
          "name": "stdout"
        },
        {
          "output_type": "stream",
          "text": [
            "I0319 13:29:07.962310 140377472046976 run_classifier.py:466] input_mask: 1 1 1 1 1 1 1 1 1 1 1 1 1 1 1 1 1 1 1 1 1 1 1 1 1 1 1 1 1 1 1 1 1 1 0 0 0 0 0 0 0 0 0 0 0 0 0 0 0 0 0 0 0 0 0 0 0 0 0 0 0 0 0 0 0 0 0 0 0 0 0 0 0 0 0 0 0 0 0 0 0 0 0 0 0 0 0 0 0 0 0 0 0 0 0 0 0 0 0 0 0 0 0 0 0 0 0 0 0 0 0 0 0 0 0 0 0 0 0 0 0 0 0 0 0 0 0 0\n"
          ],
          "name": "stderr"
        },
        {
          "output_type": "stream",
          "text": [
            "INFO:tensorflow:segment_ids: 0 0 0 0 0 0 0 0 0 0 0 0 0 0 0 0 0 0 0 0 0 0 0 0 0 0 0 0 0 0 1 1 1 1 0 0 0 0 0 0 0 0 0 0 0 0 0 0 0 0 0 0 0 0 0 0 0 0 0 0 0 0 0 0 0 0 0 0 0 0 0 0 0 0 0 0 0 0 0 0 0 0 0 0 0 0 0 0 0 0 0 0 0 0 0 0 0 0 0 0 0 0 0 0 0 0 0 0 0 0 0 0 0 0 0 0 0 0 0 0 0 0 0 0 0 0 0 0\n"
          ],
          "name": "stdout"
        },
        {
          "output_type": "stream",
          "text": [
            "I0319 13:29:07.965765 140377472046976 run_classifier.py:467] segment_ids: 0 0 0 0 0 0 0 0 0 0 0 0 0 0 0 0 0 0 0 0 0 0 0 0 0 0 0 0 0 0 1 1 1 1 0 0 0 0 0 0 0 0 0 0 0 0 0 0 0 0 0 0 0 0 0 0 0 0 0 0 0 0 0 0 0 0 0 0 0 0 0 0 0 0 0 0 0 0 0 0 0 0 0 0 0 0 0 0 0 0 0 0 0 0 0 0 0 0 0 0 0 0 0 0 0 0 0 0 0 0 0 0 0 0 0 0 0 0 0 0 0 0 0 0 0 0 0 0\n"
          ],
          "name": "stderr"
        },
        {
          "output_type": "stream",
          "text": [
            "INFO:tensorflow:label: AGAINST (id = 1)\n"
          ],
          "name": "stdout"
        },
        {
          "output_type": "stream",
          "text": [
            "I0319 13:29:07.968827 140377472046976 run_classifier.py:468] label: AGAINST (id = 1)\n"
          ],
          "name": "stderr"
        }
      ]
    },
    {
      "metadata": {
        "id": "ccp5trMwRtmr",
        "colab_type": "text"
      },
      "cell_type": "markdown",
      "source": [
        "#Creating a model\n",
        "\n",
        "Now that we've prepared our data, let's focus on building a model. `create_model` does just this below. First, it loads the BERT tf hub module again (this time to extract the computation graph). Next, it creates a single new layer that will be trained to adapt BERT to our sentiment task (i.e. classifying whether a movie review is positive or negative). This strategy of using a mostly trained model is called [fine-tuning](http://wiki.fast.ai/index.php/Fine_tuning)."
      ]
    },
    {
      "metadata": {
        "id": "6o2a5ZIvRcJq",
        "colab_type": "code",
        "colab": {}
      },
      "cell_type": "code",
      "source": [
        "def create_model(is_predicting, input_ids, input_mask, segment_ids, labels,\n",
        "                 num_labels):\n",
        "  \"\"\"Creates a classification model.\"\"\"\n",
        "\n",
        "  bert_module = hub.Module(\n",
        "      BERT_MODEL_HUB,\n",
        "      trainable=True)\n",
        "  bert_inputs = dict(\n",
        "      input_ids=input_ids,\n",
        "      input_mask=input_mask,\n",
        "      segment_ids=segment_ids)\n",
        "  bert_outputs = bert_module(\n",
        "      inputs=bert_inputs,\n",
        "      signature=\"tokens\",\n",
        "      as_dict=True)\n",
        "\n",
        "  # Use \"pooled_output\" for classification tasks on an entire sentence.\n",
        "  # Use \"sequence_outputs\" for token-level output.\n",
        "  output_layer = bert_outputs[\"pooled_output\"]\n",
        "\n",
        "  hidden_size = output_layer.shape[-1].value\n",
        "\n",
        "  # Create our own layer to tune for politeness data.\n",
        "  output_weights = tf.get_variable(\n",
        "      \"output_weights\", [num_labels, hidden_size],\n",
        "      initializer=tf.truncated_normal_initializer(stddev=0.02))\n",
        "\n",
        "  output_bias = tf.get_variable(\n",
        "      \"output_bias\", [num_labels], initializer=tf.zeros_initializer())\n",
        "\n",
        "  with tf.variable_scope(\"loss\"):\n",
        "\n",
        "    # Dropout helps prevent overfitting\n",
        "    output_layer = tf.nn.dropout(output_layer, keep_prob=0.9)\n",
        "\n",
        "    logits = tf.matmul(output_layer, output_weights, transpose_b=True)\n",
        "    logits = tf.nn.bias_add(logits, output_bias)\n",
        "    log_probs = tf.nn.log_softmax(logits, axis=-1)\n",
        "\n",
        "    # Convert labels into one-hot encoding\n",
        "    one_hot_labels = tf.one_hot(labels, depth=num_labels, dtype=tf.float32)\n",
        "\n",
        "    predicted_labels = tf.squeeze(tf.argmax(log_probs, axis=-1, output_type=tf.int32))\n",
        "    # If we're predicting, we want predicted labels and the probabiltiies.\n",
        "    if is_predicting:\n",
        "      return (predicted_labels, log_probs)\n",
        "\n",
        "    # If we're train/eval, compute loss between predicted and actual label\n",
        "    per_example_loss = -tf.reduce_sum(one_hot_labels * log_probs, axis=-1)\n",
        "    loss = tf.reduce_mean(per_example_loss)\n",
        "    return (loss, predicted_labels, log_probs)\n"
      ],
      "execution_count": 0,
      "outputs": []
    },
    {
      "metadata": {
        "id": "qpE0ZIDOCQzE",
        "colab_type": "text"
      },
      "cell_type": "markdown",
      "source": [
        "Next we'll wrap our model function in a `model_fn_builder` function that adapts our model to work for training, evaluation, and prediction."
      ]
    },
    {
      "metadata": {
        "id": "FnH-AnOQ9KKW",
        "colab_type": "code",
        "colab": {}
      },
      "cell_type": "code",
      "source": [
        "# model_fn_builder actually creates our model function\n",
        "# using the passed parameters for num_labels, learning_rate, etc.\n",
        "def model_fn_builder(num_labels, learning_rate, num_train_steps,\n",
        "                     num_warmup_steps):\n",
        "  \"\"\"Returns `model_fn` closure for TPUEstimator.\"\"\"\n",
        "  def model_fn(features, labels, mode, params):  # pylint: disable=unused-argument\n",
        "    \"\"\"The `model_fn` for TPUEstimator.\"\"\"\n",
        "\n",
        "    input_ids = features[\"input_ids\"]\n",
        "    input_mask = features[\"input_mask\"]\n",
        "    segment_ids = features[\"segment_ids\"]\n",
        "    label_ids = features[\"label_ids\"]\n",
        "\n",
        "    is_predicting = (mode == tf.estimator.ModeKeys.PREDICT)\n",
        "    \n",
        "    # TRAIN and EVAL\n",
        "    if not is_predicting:\n",
        "\n",
        "      (loss, predicted_labels, log_probs) = create_model(\n",
        "        is_predicting, input_ids, input_mask, segment_ids, label_ids, num_labels)\n",
        "\n",
        "      train_op = bert.optimization.create_optimizer(\n",
        "          loss, learning_rate, num_train_steps, num_warmup_steps, use_tpu=False)\n",
        "\n",
        "      # Calculate evaluation metrics. \n",
        "      def metric_fn(label_ids, predicted_labels):\n",
        "        accuracy = tf.metrics.accuracy(label_ids, predicted_labels)\n",
        "        '''f1_score = tf.contrib.metrics.f1_score(\n",
        "            label_ids,\n",
        "            predicted_labels)\n",
        "        auc = tf.metrics.auc(\n",
        "            label_ids,\n",
        "            predicted_labels)\n",
        "        recall = tf.metrics.recall(\n",
        "            label_ids,\n",
        "            predicted_labels)\n",
        "        precision = tf.metrics.precision(\n",
        "            label_ids,\n",
        "            predicted_labels) \n",
        "        true_pos = tf.metrics.true_positives(\n",
        "            label_ids,\n",
        "            predicted_labels)\n",
        "        true_neg = tf.metrics.true_negatives(\n",
        "            label_ids,\n",
        "            predicted_labels)   \n",
        "        false_pos = tf.metrics.false_positives(\n",
        "            label_ids,\n",
        "            predicted_labels)  \n",
        "        false_neg = tf.metrics.false_negatives(\n",
        "            label_ids,\n",
        "            predicted_labels)'''\n",
        "        return {\"eval_accuracy\": accuracy}\n",
        "      \n",
        "            \n",
        "      \n",
        "      #try to only consider labels for and against\n",
        "      eval_metrics = metric_fn(label_ids, predicted_labels)\n",
        "\n",
        "      if mode == tf.estimator.ModeKeys.TRAIN:\n",
        "        return tf.estimator.EstimatorSpec(mode=mode,\n",
        "          loss=loss,\n",
        "          train_op=train_op)\n",
        "      else:\n",
        "          return tf.estimator.EstimatorSpec(mode=mode,\n",
        "            loss=loss,\n",
        "            eval_metric_ops=eval_metrics)\n",
        "    else:\n",
        "      (predicted_labels, log_probs) = create_model(\n",
        "        is_predicting, input_ids, input_mask, segment_ids, label_ids, num_labels)\n",
        "\n",
        "      predictions = {\n",
        "          'probabilities': log_probs,\n",
        "          'labels': predicted_labels\n",
        "      }\n",
        "      return tf.estimator.EstimatorSpec(mode, predictions=predictions)\n",
        "\n",
        "  # Return the actual model function in the closure\n",
        "  return model_fn\n"
      ],
      "execution_count": 0,
      "outputs": []
    },
    {
      "metadata": {
        "id": "OjwJ4bTeWXD8",
        "colab_type": "code",
        "colab": {}
      },
      "cell_type": "code",
      "source": [
        "# Compute train and warmup steps from batch size\n",
        "# These hyperparameters are copied from this colab notebook (https://colab.sandbox.google.com/github/tensorflow/tpu/blob/master/tools/colab/bert_finetuning_with_cloud_tpus.ipynb)\n",
        "BATCH_SIZE = 32\n",
        "LEARNING_RATE = 2e-5\n",
        "NUM_TRAIN_EPOCHS = 3.0\n",
        "# Warmup is a period of time where hte learning rate \n",
        "# is small and gradually increases--usually helps training.\n",
        "WARMUP_PROPORTION = 0.1\n",
        "# Model configs\n",
        "SAVE_CHECKPOINTS_STEPS = 500\n",
        "SAVE_SUMMARY_STEPS = 100"
      ],
      "execution_count": 0,
      "outputs": []
    },
    {
      "metadata": {
        "id": "emHf9GhfWBZ_",
        "colab_type": "code",
        "colab": {}
      },
      "cell_type": "code",
      "source": [
        "# Compute # train and warmup steps from batch size\n",
        "num_train_steps = int(len(train_features) / BATCH_SIZE * NUM_TRAIN_EPOCHS)\n",
        "num_warmup_steps = int(num_train_steps * WARMUP_PROPORTION)"
      ],
      "execution_count": 0,
      "outputs": []
    },
    {
      "metadata": {
        "id": "oEJldMr3WYZa",
        "colab_type": "code",
        "colab": {}
      },
      "cell_type": "code",
      "source": [
        "# Specify outpit directory and number of checkpoint steps to save\n",
        "run_config = tf.estimator.RunConfig(\n",
        "    model_dir=OUTPUT_DIR,\n",
        "    save_summary_steps=SAVE_SUMMARY_STEPS,\n",
        "    save_checkpoints_steps=SAVE_CHECKPOINTS_STEPS)"
      ],
      "execution_count": 0,
      "outputs": []
    },
    {
      "metadata": {
        "id": "q_WebpS1X97v",
        "colab_type": "code",
        "outputId": "32e4b8f4-6850-4f4b-8f93-7206e8810ec3",
        "colab": {
          "base_uri": "https://localhost:8080/",
          "height": 294
        }
      },
      "cell_type": "code",
      "source": [
        "model_fn = model_fn_builder(\n",
        "  num_labels=len(label_list),\n",
        "  learning_rate=LEARNING_RATE,\n",
        "  num_train_steps=num_train_steps,\n",
        "  num_warmup_steps=num_warmup_steps)\n",
        "\n",
        "estimator = tf.estimator.Estimator(\n",
        "  model_fn=model_fn,\n",
        "  config=run_config,\n",
        "  params={\"batch_size\": BATCH_SIZE})\n"
      ],
      "execution_count": 19,
      "outputs": [
        {
          "output_type": "stream",
          "text": [
            "INFO:tensorflow:Using config: {'_model_dir': 'output_directory', '_tf_random_seed': None, '_save_summary_steps': 100, '_save_checkpoints_steps': 500, '_save_checkpoints_secs': None, '_session_config': allow_soft_placement: true\n",
            "graph_options {\n",
            "  rewrite_options {\n",
            "    meta_optimizer_iterations: ONE\n",
            "  }\n",
            "}\n",
            ", '_keep_checkpoint_max': 5, '_keep_checkpoint_every_n_hours': 10000, '_log_step_count_steps': 100, '_train_distribute': None, '_device_fn': None, '_protocol': None, '_eval_distribute': None, '_experimental_distribute': None, '_service': None, '_cluster_spec': <tensorflow.python.training.server_lib.ClusterSpec object at 0x7fabb26122e8>, '_task_type': 'worker', '_task_id': 0, '_global_id_in_cluster': 0, '_master': '', '_evaluation_master': '', '_is_chief': True, '_num_ps_replicas': 0, '_num_worker_replicas': 1}\n"
          ],
          "name": "stdout"
        },
        {
          "output_type": "stream",
          "text": [
            "I0319 13:29:08.986926 140377472046976 estimator.py:201] Using config: {'_model_dir': 'output_directory', '_tf_random_seed': None, '_save_summary_steps': 100, '_save_checkpoints_steps': 500, '_save_checkpoints_secs': None, '_session_config': allow_soft_placement: true\n",
            "graph_options {\n",
            "  rewrite_options {\n",
            "    meta_optimizer_iterations: ONE\n",
            "  }\n",
            "}\n",
            ", '_keep_checkpoint_max': 5, '_keep_checkpoint_every_n_hours': 10000, '_log_step_count_steps': 100, '_train_distribute': None, '_device_fn': None, '_protocol': None, '_eval_distribute': None, '_experimental_distribute': None, '_service': None, '_cluster_spec': <tensorflow.python.training.server_lib.ClusterSpec object at 0x7fabb26122e8>, '_task_type': 'worker', '_task_id': 0, '_global_id_in_cluster': 0, '_master': '', '_evaluation_master': '', '_is_chief': True, '_num_ps_replicas': 0, '_num_worker_replicas': 1}\n"
          ],
          "name": "stderr"
        }
      ]
    },
    {
      "metadata": {
        "id": "NOO3RfG1DYLo",
        "colab_type": "text"
      },
      "cell_type": "markdown",
      "source": [
        "Next we create an input builder function that takes our training feature set (`train_features`) and produces a generator. This is a pretty standard design pattern for working with Tensorflow [Estimators](https://www.tensorflow.org/guide/estimators)."
      ]
    },
    {
      "metadata": {
        "id": "1Pv2bAlOX_-K",
        "colab_type": "code",
        "colab": {}
      },
      "cell_type": "code",
      "source": [
        "# Create an input function for training. drop_remainder = True for using TPUs.\n",
        "train_input_fn = bert.run_classifier.input_fn_builder(\n",
        "    features=train_features,\n",
        "    seq_length=MAX_SEQ_LENGTH,\n",
        "    is_training=True,\n",
        "    drop_remainder=False)"
      ],
      "execution_count": 0,
      "outputs": []
    },
    {
      "metadata": {
        "id": "t6Nukby2EB6-",
        "colab_type": "text"
      },
      "cell_type": "markdown",
      "source": [
        "Now we train our model! For me, using a Colab notebook running on Google's GPUs, my training time was about 14 minutes."
      ]
    },
    {
      "metadata": {
        "id": "nucD4gluYJmK",
        "colab_type": "code",
        "outputId": "cbc2d3bd-d2a1-4e9b-c737-54aa9958b779",
        "colab": {
          "base_uri": "https://localhost:8080/",
          "height": 1102
        }
      },
      "cell_type": "code",
      "source": [
        "print(f'Beginning Training!')\n",
        "current_time = datetime.now()\n",
        "estimator.train(input_fn=train_input_fn, max_steps=num_train_steps)\n",
        "print(\"Training took time \", datetime.now() - current_time)"
      ],
      "execution_count": 21,
      "outputs": [
        {
          "output_type": "stream",
          "text": [
            "Beginning Training!\n",
            "INFO:tensorflow:Calling model_fn.\n"
          ],
          "name": "stdout"
        },
        {
          "output_type": "stream",
          "text": [
            "I0319 13:29:10.733525 140377472046976 estimator.py:1111] Calling model_fn.\n"
          ],
          "name": "stderr"
        },
        {
          "output_type": "stream",
          "text": [
            "INFO:tensorflow:Saver not created because there are no variables in the graph to restore\n"
          ],
          "name": "stdout"
        },
        {
          "output_type": "stream",
          "text": [
            "I0319 13:29:14.669907 140377472046976 saver.py:1483] Saver not created because there are no variables in the graph to restore\n"
          ],
          "name": "stderr"
        },
        {
          "output_type": "stream",
          "text": [
            "WARNING:tensorflow:From <ipython-input-14-ca03218f28a6>:34: calling dropout (from tensorflow.python.ops.nn_ops) with keep_prob is deprecated and will be removed in a future version.\n",
            "Instructions for updating:\n",
            "Please use `rate` instead of `keep_prob`. Rate should be set to `rate = 1 - keep_prob`.\n"
          ],
          "name": "stdout"
        },
        {
          "output_type": "stream",
          "text": [
            "W0319 13:29:14.878632 140377472046976 deprecation.py:506] From <ipython-input-14-ca03218f28a6>:34: calling dropout (from tensorflow.python.ops.nn_ops) with keep_prob is deprecated and will be removed in a future version.\n",
            "Instructions for updating:\n",
            "Please use `rate` instead of `keep_prob`. Rate should be set to `rate = 1 - keep_prob`.\n"
          ],
          "name": "stderr"
        },
        {
          "output_type": "stream",
          "text": [
            "WARNING:tensorflow:From /usr/local/lib/python3.6/dist-packages/tensorflow/python/training/learning_rate_decay_v2.py:321: div (from tensorflow.python.ops.math_ops) is deprecated and will be removed in a future version.\n",
            "Instructions for updating:\n",
            "Deprecated in favor of operator or tf.math.divide.\n"
          ],
          "name": "stdout"
        },
        {
          "output_type": "stream",
          "text": [
            "W0319 13:29:14.938968 140377472046976 deprecation.py:323] From /usr/local/lib/python3.6/dist-packages/tensorflow/python/training/learning_rate_decay_v2.py:321: div (from tensorflow.python.ops.math_ops) is deprecated and will be removed in a future version.\n",
            "Instructions for updating:\n",
            "Deprecated in favor of operator or tf.math.divide.\n"
          ],
          "name": "stderr"
        },
        {
          "output_type": "stream",
          "text": [
            "WARNING:tensorflow:From /usr/local/lib/python3.6/dist-packages/tensorflow/python/ops/math_ops.py:3066: to_int32 (from tensorflow.python.ops.math_ops) is deprecated and will be removed in a future version.\n",
            "Instructions for updating:\n",
            "Use tf.cast instead.\n"
          ],
          "name": "stdout"
        },
        {
          "output_type": "stream",
          "text": [
            "W0319 13:29:15.038617 140377472046976 deprecation.py:323] From /usr/local/lib/python3.6/dist-packages/tensorflow/python/ops/math_ops.py:3066: to_int32 (from tensorflow.python.ops.math_ops) is deprecated and will be removed in a future version.\n",
            "Instructions for updating:\n",
            "Use tf.cast instead.\n",
            "/usr/local/lib/python3.6/dist-packages/tensorflow/python/ops/gradients_impl.py:110: UserWarning: Converting sparse IndexedSlices to a dense Tensor of unknown shape. This may consume a large amount of memory.\n",
            "  \"Converting sparse IndexedSlices to a dense Tensor of unknown shape. \"\n"
          ],
          "name": "stderr"
        },
        {
          "output_type": "stream",
          "text": [
            "WARNING:tensorflow:From /usr/local/lib/python3.6/dist-packages/tensorflow/python/ops/metrics_impl.py:455: to_float (from tensorflow.python.ops.math_ops) is deprecated and will be removed in a future version.\n",
            "Instructions for updating:\n",
            "Use tf.cast instead.\n"
          ],
          "name": "stdout"
        },
        {
          "output_type": "stream",
          "text": [
            "W0319 13:29:26.177613 140377472046976 deprecation.py:323] From /usr/local/lib/python3.6/dist-packages/tensorflow/python/ops/metrics_impl.py:455: to_float (from tensorflow.python.ops.math_ops) is deprecated and will be removed in a future version.\n",
            "Instructions for updating:\n",
            "Use tf.cast instead.\n"
          ],
          "name": "stderr"
        },
        {
          "output_type": "stream",
          "text": [
            "INFO:tensorflow:Done calling model_fn.\n"
          ],
          "name": "stdout"
        },
        {
          "output_type": "stream",
          "text": [
            "I0319 13:29:26.207888 140377472046976 estimator.py:1113] Done calling model_fn.\n"
          ],
          "name": "stderr"
        },
        {
          "output_type": "stream",
          "text": [
            "INFO:tensorflow:Create CheckpointSaverHook.\n"
          ],
          "name": "stdout"
        },
        {
          "output_type": "stream",
          "text": [
            "I0319 13:29:26.212858 140377472046976 basic_session_run_hooks.py:527] Create CheckpointSaverHook.\n"
          ],
          "name": "stderr"
        },
        {
          "output_type": "stream",
          "text": [
            "INFO:tensorflow:Graph was finalized.\n"
          ],
          "name": "stdout"
        },
        {
          "output_type": "stream",
          "text": [
            "I0319 13:29:30.846536 140377472046976 monitored_session.py:222] Graph was finalized.\n"
          ],
          "name": "stderr"
        },
        {
          "output_type": "stream",
          "text": [
            "INFO:tensorflow:Running local_init_op.\n"
          ],
          "name": "stdout"
        },
        {
          "output_type": "stream",
          "text": [
            "I0319 13:29:36.388651 140377472046976 session_manager.py:491] Running local_init_op.\n"
          ],
          "name": "stderr"
        },
        {
          "output_type": "stream",
          "text": [
            "INFO:tensorflow:Done running local_init_op.\n"
          ],
          "name": "stdout"
        },
        {
          "output_type": "stream",
          "text": [
            "I0319 13:29:36.623283 140377472046976 session_manager.py:493] Done running local_init_op.\n"
          ],
          "name": "stderr"
        },
        {
          "output_type": "stream",
          "text": [
            "INFO:tensorflow:Saving checkpoints for 0 into output_directory/model.ckpt.\n"
          ],
          "name": "stdout"
        },
        {
          "output_type": "stream",
          "text": [
            "I0319 13:29:47.246006 140377472046976 basic_session_run_hooks.py:594] Saving checkpoints for 0 into output_directory/model.ckpt.\n"
          ],
          "name": "stderr"
        },
        {
          "output_type": "stream",
          "text": [
            "INFO:tensorflow:loss = 1.1723322, step = 0\n"
          ],
          "name": "stdout"
        },
        {
          "output_type": "stream",
          "text": [
            "I0319 13:30:04.897311 140377472046976 basic_session_run_hooks.py:249] loss = 1.1723322, step = 0\n"
          ],
          "name": "stderr"
        },
        {
          "output_type": "stream",
          "text": [
            "INFO:tensorflow:global_step/sec: 0.598064\n"
          ],
          "name": "stdout"
        },
        {
          "output_type": "stream",
          "text": [
            "I0319 13:32:52.103021 140377472046976 basic_session_run_hooks.py:680] global_step/sec: 0.598064\n"
          ],
          "name": "stderr"
        },
        {
          "output_type": "stream",
          "text": [
            "INFO:tensorflow:loss = 0.7733457, step = 100 (167.209 sec)\n"
          ],
          "name": "stdout"
        },
        {
          "output_type": "stream",
          "text": [
            "I0319 13:32:52.106717 140377472046976 basic_session_run_hooks.py:247] loss = 0.7733457, step = 100 (167.209 sec)\n"
          ],
          "name": "stderr"
        },
        {
          "output_type": "stream",
          "text": [
            "INFO:tensorflow:global_step/sec: 0.64498\n"
          ],
          "name": "stdout"
        },
        {
          "output_type": "stream",
          "text": [
            "I0319 13:35:27.146566 140377472046976 basic_session_run_hooks.py:680] global_step/sec: 0.64498\n"
          ],
          "name": "stderr"
        },
        {
          "output_type": "stream",
          "text": [
            "INFO:tensorflow:loss = 0.3187404, step = 200 (155.044 sec)\n"
          ],
          "name": "stdout"
        },
        {
          "output_type": "stream",
          "text": [
            "I0319 13:35:27.150665 140377472046976 basic_session_run_hooks.py:247] loss = 0.3187404, step = 200 (155.044 sec)\n"
          ],
          "name": "stderr"
        },
        {
          "output_type": "stream",
          "text": [
            "INFO:tensorflow:Saving checkpoints for 263 into output_directory/model.ckpt.\n"
          ],
          "name": "stdout"
        },
        {
          "output_type": "stream",
          "text": [
            "I0319 13:37:03.201908 140377472046976 basic_session_run_hooks.py:594] Saving checkpoints for 263 into output_directory/model.ckpt.\n"
          ],
          "name": "stderr"
        },
        {
          "output_type": "stream",
          "text": [
            "INFO:tensorflow:Loss for final step: 0.22025728.\n"
          ],
          "name": "stdout"
        },
        {
          "output_type": "stream",
          "text": [
            "I0319 13:37:13.050372 140377472046976 estimator.py:359] Loss for final step: 0.22025728.\n"
          ],
          "name": "stderr"
        },
        {
          "output_type": "stream",
          "text": [
            "Training took time  0:08:04.019836\n"
          ],
          "name": "stdout"
        }
      ]
    },
    {
      "metadata": {
        "id": "CmbLTVniARy3",
        "colab_type": "text"
      },
      "cell_type": "markdown",
      "source": [
        "Now let's use our test data to see how well our model did:"
      ]
    },
    {
      "metadata": {
        "id": "JIhejfpyJ8Bx",
        "colab_type": "code",
        "colab": {}
      },
      "cell_type": "code",
      "source": [
        "test_input_fn = run_classifier.input_fn_builder(\n",
        "    features=test_features,\n",
        "    seq_length=MAX_SEQ_LENGTH,\n",
        "    is_training=False,\n",
        "    drop_remainder=False)"
      ],
      "execution_count": 0,
      "outputs": []
    },
    {
      "metadata": {
        "id": "PPVEXhNjYXC-",
        "colab_type": "code",
        "outputId": "95f14640-683e-4cc7-b594-158d380b0853",
        "colab": {
          "base_uri": "https://localhost:8080/",
          "height": 606
        }
      },
      "cell_type": "code",
      "source": [
        "estimator.evaluate(input_fn=test_input_fn, steps=None)"
      ],
      "execution_count": 23,
      "outputs": [
        {
          "output_type": "stream",
          "text": [
            "INFO:tensorflow:Calling model_fn.\n"
          ],
          "name": "stdout"
        },
        {
          "output_type": "stream",
          "text": [
            "I0319 13:37:14.020242 140377472046976 estimator.py:1111] Calling model_fn.\n"
          ],
          "name": "stderr"
        },
        {
          "output_type": "stream",
          "text": [
            "INFO:tensorflow:Saver not created because there are no variables in the graph to restore\n"
          ],
          "name": "stdout"
        },
        {
          "output_type": "stream",
          "text": [
            "I0319 13:37:18.324711 140377472046976 saver.py:1483] Saver not created because there are no variables in the graph to restore\n",
            "/usr/local/lib/python3.6/dist-packages/tensorflow/python/ops/gradients_impl.py:110: UserWarning: Converting sparse IndexedSlices to a dense Tensor of unknown shape. This may consume a large amount of memory.\n",
            "  \"Converting sparse IndexedSlices to a dense Tensor of unknown shape. \"\n"
          ],
          "name": "stderr"
        },
        {
          "output_type": "stream",
          "text": [
            "INFO:tensorflow:Done calling model_fn.\n"
          ],
          "name": "stdout"
        },
        {
          "output_type": "stream",
          "text": [
            "I0319 13:37:29.862331 140377472046976 estimator.py:1113] Done calling model_fn.\n"
          ],
          "name": "stderr"
        },
        {
          "output_type": "stream",
          "text": [
            "INFO:tensorflow:Starting evaluation at 2019-03-19T13:37:29Z\n"
          ],
          "name": "stdout"
        },
        {
          "output_type": "stream",
          "text": [
            "I0319 13:37:29.893911 140377472046976 evaluation.py:257] Starting evaluation at 2019-03-19T13:37:29Z\n"
          ],
          "name": "stderr"
        },
        {
          "output_type": "stream",
          "text": [
            "INFO:tensorflow:Graph was finalized.\n"
          ],
          "name": "stdout"
        },
        {
          "output_type": "stream",
          "text": [
            "I0319 13:37:31.850620 140377472046976 monitored_session.py:222] Graph was finalized.\n"
          ],
          "name": "stderr"
        },
        {
          "output_type": "stream",
          "text": [
            "WARNING:tensorflow:From /usr/local/lib/python3.6/dist-packages/tensorflow/python/training/saver.py:1266: checkpoint_exists (from tensorflow.python.training.checkpoint_management) is deprecated and will be removed in a future version.\n",
            "Instructions for updating:\n",
            "Use standard file APIs to check for files with this prefix.\n"
          ],
          "name": "stdout"
        },
        {
          "output_type": "stream",
          "text": [
            "W0319 13:37:31.861311 140377472046976 deprecation.py:323] From /usr/local/lib/python3.6/dist-packages/tensorflow/python/training/saver.py:1266: checkpoint_exists (from tensorflow.python.training.checkpoint_management) is deprecated and will be removed in a future version.\n",
            "Instructions for updating:\n",
            "Use standard file APIs to check for files with this prefix.\n"
          ],
          "name": "stderr"
        },
        {
          "output_type": "stream",
          "text": [
            "INFO:tensorflow:Restoring parameters from output_directory/model.ckpt-263\n"
          ],
          "name": "stdout"
        },
        {
          "output_type": "stream",
          "text": [
            "I0319 13:37:31.869475 140377472046976 saver.py:1270] Restoring parameters from output_directory/model.ckpt-263\n"
          ],
          "name": "stderr"
        },
        {
          "output_type": "stream",
          "text": [
            "INFO:tensorflow:Running local_init_op.\n"
          ],
          "name": "stdout"
        },
        {
          "output_type": "stream",
          "text": [
            "I0319 13:37:34.371518 140377472046976 session_manager.py:491] Running local_init_op.\n"
          ],
          "name": "stderr"
        },
        {
          "output_type": "stream",
          "text": [
            "INFO:tensorflow:Done running local_init_op.\n"
          ],
          "name": "stdout"
        },
        {
          "output_type": "stream",
          "text": [
            "I0319 13:37:34.641219 140377472046976 session_manager.py:493] Done running local_init_op.\n"
          ],
          "name": "stderr"
        },
        {
          "output_type": "stream",
          "text": [
            "INFO:tensorflow:Finished evaluation at 2019-03-19-13:37:55\n"
          ],
          "name": "stdout"
        },
        {
          "output_type": "stream",
          "text": [
            "I0319 13:37:55.857282 140377472046976 evaluation.py:277] Finished evaluation at 2019-03-19-13:37:55\n"
          ],
          "name": "stderr"
        },
        {
          "output_type": "stream",
          "text": [
            "INFO:tensorflow:Saving dict for global step 263: eval_accuracy = 0.7219551, global_step = 263, loss = 0.6675589\n"
          ],
          "name": "stdout"
        },
        {
          "output_type": "stream",
          "text": [
            "I0319 13:37:55.860318 140377472046976 estimator.py:1979] Saving dict for global step 263: eval_accuracy = 0.7219551, global_step = 263, loss = 0.6675589\n"
          ],
          "name": "stderr"
        },
        {
          "output_type": "stream",
          "text": [
            "INFO:tensorflow:Saving 'checkpoint_path' summary for global step 263: output_directory/model.ckpt-263\n"
          ],
          "name": "stdout"
        },
        {
          "output_type": "stream",
          "text": [
            "I0319 13:37:58.910659 140377472046976 estimator.py:2039] Saving 'checkpoint_path' summary for global step 263: output_directory/model.ckpt-263\n"
          ],
          "name": "stderr"
        },
        {
          "output_type": "execute_result",
          "data": {
            "text/plain": [
              "{'eval_accuracy': 0.7219551, 'global_step': 263, 'loss': 0.6675589}"
            ]
          },
          "metadata": {
            "tags": []
          },
          "execution_count": 23
        }
      ]
    },
    {
      "metadata": {
        "id": "ueKsULteiz1B",
        "colab_type": "text"
      },
      "cell_type": "markdown",
      "source": [
        "Now let's write code to make predictions on new sentences:"
      ]
    },
    {
      "metadata": {
        "id": "OsrbTD2EJTVl",
        "colab_type": "code",
        "colab": {}
      },
      "cell_type": "code",
      "source": [
        "def getPrediction(in_sentences,targets):\n",
        "  labels = [\"FAVOR\",\"AGAINST\", \"NONE\"]\n",
        "  input_examples = [run_classifier.InputExample(guid=\"\", text_a = x, text_b = y, label = \"NONE\") for x,y in zip(in_sentences,targets)] # here, \"\" is just a dummy label\n",
        "  input_features = run_classifier.convert_examples_to_features(input_examples, label_list, MAX_SEQ_LENGTH, tokenizer)\n",
        "  predict_input_fn = run_classifier.input_fn_builder(features=input_features, seq_length=MAX_SEQ_LENGTH, is_training=False, drop_remainder=False)\n",
        "  predictions = estimator.predict(predict_input_fn)\n",
        "  return [(sentence,target, prediction['probabilities'], labels[prediction['labels']]) for sentence,target, prediction in zip(in_sentences,targets, predictions)]"
      ],
      "execution_count": 0,
      "outputs": []
    },
    {
      "metadata": {
        "id": "fOiqZohxrR96",
        "colab_type": "code",
        "colab": {}
      },
      "cell_type": "code",
      "source": [
        "def printTestDataForCompScript():\n",
        "  labels = [\"FAVOR\",\"AGAINST\", \"NONE\"]\n",
        "  predictions = estimator.predict(test_input_fn)\n",
        "  #print(test.tweets)\n",
        "  pred = [(testId,testTarget,sentence, prediction['probabilities'], labels[prediction['labels']]) for sentence,testId,testTarget, prediction in zip(test.tweets,test.id,test.target, predictions)]\n",
        "  return(pred)"
      ],
      "execution_count": 0,
      "outputs": []
    },
    {
      "metadata": {
        "id": "-thbodgih_VJ",
        "colab_type": "code",
        "colab": {}
      },
      "cell_type": "code",
      "source": [
        "pred_sentences = [\n",
        "  \"our country is ready for a female prez, not ever hillary\",\n",
        "  \"my vote is for hillary\",\n",
        "  \"where are the emails hillary?\",\n",
        "  \"she is a fraud\",\n",
        "  \"retribution for benghazi\",\n",
        "  \"#hillaryclinton have you ever told the truth?\",\n",
        "  \"million bogus followers on twitter #hillaryclinton\",\n",
        "  \"I like my hamburgers rare\"\n",
        "]"
      ],
      "execution_count": 0,
      "outputs": []
    },
    {
      "metadata": {
        "id": "QrZmvZySKQTm",
        "colab_type": "code",
        "outputId": "25ebbb3e-7018-4dff-d1f8-d87ba779fe7e",
        "colab": {
          "base_uri": "https://localhost:8080/",
          "height": 274
        }
      },
      "cell_type": "code",
      "source": [
        "#predictions = getPrediction(pred_sentences)\n",
        "#predictions = getPrediction(test.tweets,test.target)\n",
        "predictions = printTestDataForCompScript()"
      ],
      "execution_count": 30,
      "outputs": [
        {
          "output_type": "stream",
          "text": [
            "INFO:tensorflow:Calling model_fn.\n"
          ],
          "name": "stdout"
        },
        {
          "output_type": "stream",
          "text": [
            "I0319 13:39:46.674027 140377472046976 estimator.py:1111] Calling model_fn.\n"
          ],
          "name": "stderr"
        },
        {
          "output_type": "stream",
          "text": [
            "INFO:tensorflow:Saver not created because there are no variables in the graph to restore\n"
          ],
          "name": "stdout"
        },
        {
          "output_type": "stream",
          "text": [
            "I0319 13:39:50.684072 140377472046976 saver.py:1483] Saver not created because there are no variables in the graph to restore\n"
          ],
          "name": "stderr"
        },
        {
          "output_type": "stream",
          "text": [
            "INFO:tensorflow:Done calling model_fn.\n"
          ],
          "name": "stdout"
        },
        {
          "output_type": "stream",
          "text": [
            "I0319 13:39:50.935175 140377472046976 estimator.py:1113] Done calling model_fn.\n"
          ],
          "name": "stderr"
        },
        {
          "output_type": "stream",
          "text": [
            "INFO:tensorflow:Graph was finalized.\n"
          ],
          "name": "stdout"
        },
        {
          "output_type": "stream",
          "text": [
            "I0319 13:39:51.823332 140377472046976 monitored_session.py:222] Graph was finalized.\n"
          ],
          "name": "stderr"
        },
        {
          "output_type": "stream",
          "text": [
            "INFO:tensorflow:Restoring parameters from output_directory/model.ckpt-263\n"
          ],
          "name": "stdout"
        },
        {
          "output_type": "stream",
          "text": [
            "I0319 13:39:51.835805 140377472046976 saver.py:1270] Restoring parameters from output_directory/model.ckpt-263\n"
          ],
          "name": "stderr"
        },
        {
          "output_type": "stream",
          "text": [
            "INFO:tensorflow:Running local_init_op.\n"
          ],
          "name": "stdout"
        },
        {
          "output_type": "stream",
          "text": [
            "I0319 13:39:52.694003 140377472046976 session_manager.py:491] Running local_init_op.\n"
          ],
          "name": "stderr"
        },
        {
          "output_type": "stream",
          "text": [
            "INFO:tensorflow:Done running local_init_op.\n"
          ],
          "name": "stdout"
        },
        {
          "output_type": "stream",
          "text": [
            "I0319 13:39:52.789979 140377472046976 session_manager.py:493] Done running local_init_op.\n"
          ],
          "name": "stderr"
        }
      ]
    },
    {
      "metadata": {
        "id": "MXkRiEBUqN3n",
        "colab_type": "text"
      },
      "cell_type": "markdown",
      "source": [
        "Voila! We have a sentiment classifier!"
      ]
    },
    {
      "metadata": {
        "id": "ERkTE8-7oQLZ",
        "colab_type": "code",
        "outputId": "3909c09f-172d-4f2a-d26c-a90fb70665d2",
        "colab": {
          "base_uri": "https://localhost:8080/",
          "height": 22977
        }
      },
      "cell_type": "code",
      "source": [
        "print(\"ID\\tTarget\\tTweet\\tStance\")\n",
        "for x in predictions:\n",
        "  print(str(x[0]) + \"\\t\" + x[1] + \"\\t\" + x[2] + \"\\t\" + x[4])"
      ],
      "execution_count": 37,
      "outputs": [
        {
          "output_type": "stream",
          "text": [
            "ID\tTarget\tTweet\tStance\n",
            "10002\tAtheism\tRT @prayerbullets: I remove Nehushtan -previous moves of God that have become idols, from the high places -2 Kings 18:4 \tAGAINST\n",
            "10003\tAtheism\t@Brainman365 @heidtjj @BenjaminLives I have sought the truth of my soul and found it strong enough to stand on its own merits. \tAGAINST\n",
            "10004\tAtheism\t#God is utterly powerless without Human intervention... \tAGAINST\n",
            "10005\tAtheism\t@David_Cameron   Miracles of #Multiculturalism   Miracles of shady 786  #Taqiya #Tawriya #Jaziya #Kafirs #Dhimmi #Jihad #Allah \tAGAINST\n",
            "10006\tAtheism\tThis world needs a tight group hug. Tight enough to relieve them from all this anger and hate. #MakePeaceWithEachOther \tNONE\n",
            "10007\tAtheism\tMorality is not derived from religion, it precedes it. -Christopher 'The Hitch' Hitchens #freethinkers \tFAVOR\n",
            "10008\tAtheism\tA Godly husband  - knows you - trusts you - loves you - respects you - honors you - supports you - wants you - appreciates you #God \tAGAINST\n",
            "10009\tAtheism\t@SecularDutchess I'll be your huckleberry @DeanModified \tNONE\n",
            "10010\tAtheism\t#BIBLE = Big Irrelevant Book of Lies and Exaggerations ~ #Judaism #God #TeamJesus #Islam ~ #Truth & #Freedom = \tAGAINST\n",
            "10011\tAtheism\tIf only dreams were real, now it's gone. #SingleBecause #getonyourfeet \tNONE\n",
            "10012\tAtheism\tHappy Independence Day to America and her beautiful constitution #IndependenceDay #USA \tNONE\n",
            "10013\tAtheism\tLet my house be built by wisdom and become strong through good sense -Prov. 24:3 \tAGAINST\n",
            "10014\tAtheism\tThese days, the cool kids are atheists.  #freethinker \tFAVOR\n",
            "10015\tAtheism\tNext time you hear someone say that our Founding Fathers intended a \"Christian Nation,\" show 'em those quotes. \tAGAINST\n",
            "10016\tAtheism\t#ILoveIslamBecause and v should love Islam because its a Deen instead of just a \tAGAINST\n",
            "10017\tAtheism\tBe a sinner and sin strongly, but more strongly have faith and rejoice in Christ. ~ Martin Luther \tAGAINST\n",
            "10018\tAtheism\t#God > My fears God > My insecurities God > My worry God > My everything \tAGAINST\n",
            "10019\tAtheism\tMary, Queen of martyrs, pray for us. #Catholic \tAGAINST\n",
            "10020\tAtheism\tAmerica, like all of us, has both beauty and brutality coursing through its blood. #4thofjuly #spirituality \tAGAINST\n",
            "10021\tAtheism\tEvery life is a profession of faith, and exercises an inevitable and silent influence. ~Henri Frederic Amiel \tAGAINST\n",
            "10022\tAtheism\tI am Baloch and I will not allow Talibanization in Balochistan ... #Taliban #Extremism \tNONE\n",
            "10023\tAtheism\tHe became a slave to the cross that men could go free! \tAGAINST\n",
            "10024\tAtheism\tExo.20.13-15 - ...Do not commit murder...DO NOT COMMIT ADULTERY...Do not steal. \tAGAINST\n",
            "10025\tAtheism\tPhew! Am glad we came to our senses and worship a 2,000 year old carpenter. - Bart Simpson #jokes \tFAVOR\n",
            "10026\tAtheism\tExo.28.12 - ...So that I, the Lord, will always remember... \tAGAINST\n",
            "10027\tAtheism\t#JaganNathAzad, a #Hindu, was asked by founder of #Pakistan to write the first National Anthem. \tAGAINST\n",
            "10028\tAtheism\tFather, grant us grace to remain holy and a vessel of honour in ur house. #OpenHeaven #NatiVarietySunday #SundayMorningShow \tAGAINST\n",
            "10029\tAtheism\tWho cares if this person or that person is xtian or atheist. Polpott, hitler or mao.   God still does not exist.   \tFAVOR\n",
            "10030\tAtheism\tI still remember the days when I prayed God for strength.. then suddenly God gave me difficulties to make me strong. Thank you God! \tAGAINST\n",
            "10031\tAtheism\tYou'll never know how much God can do in your life until you ask.  #lifechangingJourneywithJesus \tAGAINST\n",
            "10032\tAtheism\tJesus response to a religious environment  was to create a royal environment.  It drove people nuts. Still does - thank God \tAGAINST\n",
            "10033\tAtheism\tSanctify them through Thy Truth: Thy Word is Truth   John 17:17 KJV  \tAGAINST\n",
            "10034\tAtheism\tPsalm 86:17 Is. 7:14 God will give you a sign. \"Father, within the next 3 days, show me a sign; a token. \tAGAINST\n",
            "10035\tAtheism\tThe Best #conspiracy of the world is #Religion. #science #davincisdemons \tFAVOR\n",
            "10036\tAtheism\tAmerican conservatism has everything to do with religion with all the good stuff taking out of it. \tFAVOR\n",
            "10037\tAtheism\tThe #humanist church is the new cloth. #kissTheRing #tcot \tAGAINST\n",
            "10038\tAtheism\tYou stay the same through the ages, Your love never changes...Your love never fails. \tAGAINST\n",
            "10039\tAtheism\tJust know that you're not an accident and that you're here by HIS divine providence.  #tcot #pjnet #ccot #christian \tAGAINST\n",
            "10040\tAtheism\tI am addicted to your light.  Everywhere I look you are there. I can feel your Halo, I pray you won't fade away.   \tAGAINST\n",
            "10041\tAtheism\tFAITH sees beyond the difficulties and counts on God.  -Colon Smith \tAGAINST\n",
            "10042\tAtheism\tWatch @Dame_Lillard bring the Blazers to the playoff #Beast \tNONE\n",
            "10043\tAtheism\tThe Irish national school system is secular under law. We can reaffirm secularism by going through the courts! @HumanismIreland \tFAVOR\n",
            "10044\tAtheism\tWe often talk of unbelief as if it were an affliction to be pitied instead of a crime to be condemned. - Charles Spurgeon #GOD \tAGAINST\n",
            "10045\tAtheism\t@dsurman  Jesus is favor of all, that they would believe He died for them. Why try to wage a conflict you will lose? #God \tAGAINST\n",
            "10046\tAtheism\tCurrently doing a piece on logical fallacies for my blog @weebly #philosophy #logicism #blog #humanist \tFAVOR\n",
            "10047\tAtheism\tProud to be #TeamJinnah :) No Bhutto, no Imran's , only Jinnah's Pakistan :) #Inclusive \tNONE\n",
            "10048\tAtheism\tGreat baptism service at #woodgreen very moving stories of people's faith in #rich_lacey \tAGAINST\n",
            "10049\tAtheism\tReligious holidays should not be public. #RightsAndRecourse #Transformation \tFAVOR\n",
            "10050\tAtheism\tI officiate #humanist & most #nonreligious weddings-starting at $99. Ask me about #student discounts! #216 #celebrant #weddings \tAGAINST\n",
            "10051\tAtheism\tRT @br_holden: Religions are perfectly happy to peddle an afterlife that doesn't actually exist.  #freethinker \tFAVOR\n",
            "10052\tAtheism\tRT @br_holden: Superstition-based thoughts tend to be wasted thoughts.  #freethinker \tFAVOR\n",
            "10053\tAtheism\tRT @br_holden: Just say no to superstitious thought in general and religions in particular.  #freethinker \tFAVOR\n",
            "10054\tAtheism\tRT @br_holden: Atheists have every right to exist in the public sphere.   #freethinker \tFAVOR\n",
            "10055\tAtheism\tRT @GMHumanistChoir: We're currently looking for new members to join our choir, all welcome, no auditions. #87RT #choir #Manchest... \tAGAINST\n",
            "10056\tAtheism\t@Rowdman53 Atheist are offended with Christian Symbols  + Only when when forced where they don't belong. \tFAVOR\n",
            "10057\tAtheism\tPushing beyond the absurd The light in darkened minds Railing against ancient words Seeking, honest, open it is truth we find. \tAGAINST\n",
            "10058\tAtheism\tYour word has given me life -Ps. 119:49-50 \tAGAINST\n",
            "10059\tAtheism\tGod gives us the right to do what we want; as long as we understand the outcomes of our actions. #spiritual \tAGAINST\n",
            "10060\tAtheism\tThe deeper I go with in- The deeper~> the silence- the peace- the healing- the clarity- the vision- the belief- The deeper my  \tAGAINST\n",
            "10061\tAtheism\tRT @faithsns716: Psalm103:3-Who forgives all your iniquities; who heals all your diseases \tAGAINST\n",
            "10062\tAtheism\tJames 1:14 (#KJV) But every man is TEMPTED, when he is drawn away of his own LUST, and enticed.  #God #Lord #Christ #Holy #Spirit \tAGAINST\n",
            "10063\tAtheism\tWe are human. It is human nature to eat and drink ourselves destitute, fuck each other raw, and kill each other. \tNONE\n",
            "10064\tAtheism\tRT @ACatholicPrayer: Holy Trinity, one God, Have #mercy on us. #Catholic \tAGAINST\n",
            "10065\tAtheism\t@LadyLydiaD When you become a Father you realize that you are not the most important person in the room anymore.... Your child is. \tAGAINST\n",
            "10066\tAtheism\tIs near where we will be told not 2 preach in The Name Acts 4:12 There is salvation in no 1 else...NLT #DCM2015 but \tAGAINST\n",
            "10067\tAtheism\tWhat really builds a relationship is when we relate to what we don't understand about God.  #Emunah \tAGAINST\n",
            "10068\tAtheism\tI am human. I look forward to the extinction of humanity with eager anticipation. We deserve nothing less. \tNONE\n",
            "10069\tAtheism\tMoral relativism does not feed into democracy but rather it feeds into chaos #Catholic #Christian #liberal #progressive #secularist \tFAVOR\n",
            "10070\tAtheism\tBy faith we receive what Christ did for us and we repent to show that we have received what He did. #repentance #atonement \tAGAINST\n",
            "10071\tAtheism\tLet Your fear come upon every soul in my city -Acts 2:43 \tAGAINST\n",
            "10072\tAtheism\tAbsolutely fucking sick & tired of the religious and their \"We're persecuted\" bollocks! So fucking what? Pissoff! \tFAVOR\n",
            "10073\tAtheism\tIn other related news. Boko Haram has killed over 200 people in the last 48hrs. \tAGAINST\n",
            "10074\tAtheism\tJoin me on #Periscope M-F @ 8am! #Entrepreneurship #Productivity #ChristianEntrepreneurs \tNONE\n",
            "10075\tAtheism\tPraise and thank God for everything in your life today. #grateful \tAGAINST\n",
            "10076\tAtheism\tIf Jesus is present, it is impossible for your situation/environment to remain a desolate place! #Joy #Victory #NewThings #SonTalk \tAGAINST\n",
            "10077\tAtheism\tHeaven and earth will pass away, but My words will not pass away. Matthew 24:35 #Tworship \tAGAINST\n",
            "10078\tAtheism\t#KCA #VoteJKT48ID premierdigi: Are Facebook and Twitter good places to defend your faith? How do you communicate?   #christianity #d... \tAGAINST\n",
            "10079\tAtheism\t@CrownFmradio899 however impossible it may sound, I really would have loved to be like the lord #HaveYourSay \tAGAINST\n",
            "10080\tAtheism\tImagine a species that had split the atom and ventured into space yet most still believe a magic man created everything with magic \tFAVOR\n",
            "10081\tAtheism\tJob said \"The thing I greatly feared has come upon me and that which I was afraid of has happened to me\" Job 3:25  fear opens doors  \tAGAINST\n",
            "10082\tAtheism\tJesus, you are my helper. Help me to rest and trust in you and your finished work at the Cross. Amen. \tAGAINST\n",
            "10083\tAtheism\tThe Lord is pleased w/every effort,even tiny,daily ones in which we strive to be more like Him.~Ezra Taft Benson  #lds #inspiration \tAGAINST\n",
            "10084\tAtheism\tI don't believe in the hereafter.  I believe in the here and now. \tAGAINST\n",
            "10085\tAtheism\tIf you want to live as a healer, you must be willing to change places with those who are hurting. #God \tAGAINST\n",
            "10086\tAtheism\tHeb 10:12  this man, after he had offered one sacrifice for sins for ever, sat down on the right hand of God; #bible \tAGAINST\n",
            "10087\tAtheism\tSometimes it's the broken heart that finds the truest path to love. \tAGAINST\n",
            "10088\tAtheism\tReligious moderation is the product of secular knowledge and scriptural ignorance. - @SamHarrisOrg  \tFAVOR\n",
            "10089\tAtheism\tRemember, #God has it all worked out. \tAGAINST\n",
            "10090\tAtheism\tWhat we are is what we define the world to be. #existentialism #spirituality \tAGAINST\n",
            "10091\tAtheism\tI'm making it happen tho  S/O to GOD . #Patience #Priorities \tAGAINST\n",
            "10092\tAtheism\tYeah I think maybe words just stopped mattering \tNONE\n",
            "10093\tAtheism\tKeep flowinz az da windz~ blend, bend and never break! \tNONE\n",
            "10094\tAtheism\tMay the Gods grant me many more freelance gigs in PDX #intention \tNONE\n",
            "10095\tAtheism\t@vicgreenaway so, why doesn't a hot air balloon pilot look down to horizon as he rises, rather than horizon being ALWAYS eye level? \tNONE\n",
            "10096\tAtheism\t@narendramodi @PMOIndia y politicians in d office can offer iftikar parties.. It is waste of tax payer money. \tNONE\n",
            "10097\tAtheism\the better chill with them retweets \tNONE\n",
            "10098\tAtheism\tI want to give the world a hug. A huge, huge hug. #human #4thofJuly #everyone #planetearth \tNONE\n",
            "10099\tAtheism\tMy son, be wise, and make my heart glad, that I may answer him that reproacheth me. Proverbs 27:11 \tAGAINST\n",
            "10100\tAtheism\tHad a great time @ worship rehearsal.Cant wait till Sunday ! #bridgechurch2015 #bridgelaunchteam #Willacycounty #weloveyou \tAGAINST\n",
            "10101\tAtheism\tEvery religion is good that teaches man to be good and I know of none that instructs him to be bad. ~Thomas Paine \tAGAINST\n",
            "10102\tAtheism\t@godless_mom I like how Jesus is reduced to appearing on toast and photoshopped images and they still praise it. \tAGAINST\n",
            "10103\tAtheism\t@godless_mom @stereotypemepls @FlyPastafarian how come u NEVER talk about the GUY who raped his DAUGHTER for 18 years (por exemplo) \tAGAINST\n",
            "10104\tAtheism\tLife's just like a test to sort out the best from the unfit rest. #adversity #evolution #Heaven #Nirvana #Valhalla \tFAVOR\n",
            "10105\tAtheism\tHindus pay for Muslim subsidy for HAJ..but need security from Muslims to visit temples-Amarnath yatra..   #HindusUnderAttack \tAGAINST\n",
            "10106\tAtheism\tThe greatest tragedy in life is the prayers that go unanswered because they go unasked. #ghlondon \tAGAINST\n",
            "10107\tAtheism\t@FaithMattersUK we could all just not use religion and beliefs as an excuse to murder and hate? #don'tmurder \tAGAINST\n",
            "10108\tAtheism\tWe become what we worship. So be intentional in choosing what you worship for that is what you will become. #worship \tAGAINST\n",
            "10109\tAtheism\tSteppin' out in faith and love.....have a safe and pleasant day, tweeple!  #blessed #love #happyday \tAGAINST\n",
            "10110\tAtheism\tIsaiah 43:15 I am the Lord, your Holy One, the Creator of Israel, your King. #God \tAGAINST\n",
            "10111\tAtheism\tCome to me, all you who are weary and burdened, and I will give you rest. - Matt 11:28 #Rest #Peace #Scripture #Bible \tAGAINST\n",
            "10112\tAtheism\tFrom the end of the earth I call to You when my heart is faint; Lead me to the rock that is higher than I Psalm 61:2 NASB #HeIsHigher \tAGAINST\n",
            "10113\tAtheism\t(2/2) the Father's active goodness and unrestricted love. - Ruthless Trust by Manning.... Lord, may I forever trust your love for me. \tAGAINST\n",
            "10114\tAtheism\tBest feeling is when you think you can't do it but you did! #Will \tNONE\n",
            "10115\tAtheism\tBind up the wounds of those whose cry comes to You, O God, rising like a tide, whose hope is in You alone. #grace \tAGAINST\n",
            "10116\tAtheism\tMy Jesus, I wish to do nothing but Thy most holy will. #Saint Philip Neri #Catholic \tAGAINST\n",
            "10117\tAtheism\t@BJPScams @ANI_news Elections were nearing in Bihar / UP / TN so he may be so sickularism sorry \tNONE\n",
            "10118\tAtheism\tJer 20:11 But the #LORD is with me like a mighty warrior; so my persecutors will stumble and not prevail > #God #Love \tAGAINST\n",
            "10119\tAtheism\tBy accepting religion, you are pulling a big fuzz ball of superstition into your brain.  #freethinker \tFAVOR\n",
            "10120\tAtheism\tI love God  but \"We get raped in life by demons and then judged for being negative and complaining\" by Christians. #God \tAGAINST\n",
            "10121\tAtheism\tAs opposed to how the media portrays him,the pope is a religious wacko just like any of them and still supports bigotry & misogyny \tFAVOR\n",
            "10122\tAtheism\tOne Nation on their knees, with blowjobs and semen for all. Heavens to Betsy! #ReligionIsBullshit  #fyilive \tFAVOR\n",
            "10123\tAtheism\tI hope for a time when schools teach 'ethics' instead of 'religion'. Sure - inc faiths bt in a sociocultl, geopoliticl context \tFAVOR\n",
            "10124\tAtheism\tWhat other nation is so great as to have their gods near them the way the Lord our God is near us whenever we pray to him? #Eritrea \tAGAINST\n",
            "10125\tAtheism\tWe have to #Pray with our eyes on #God, not on the difficulties. request #Godanswersprayers \tAGAINST\n",
            "10126\tAtheism\tEnough sneaking around, bringing in religious groups into #abed public #schools to access our kids in secrecy. #parents #SexED \tAGAINST\n",
            "10127\tAtheism\t@Maisie_Williams everyone feels that way at times. Not just women \tNONE\n",
            "10128\tAtheism\tChoose Him who died so that you may live, over him who lives so that you may die.  - WTL Apologetics  #DeadToSin #AliveInChrist \tAGAINST\n",
            "10129\tAtheism\t@aigkenham @ATHE1STP0WER compromise your intentional ignorance all the way to freedom from religion. The best plan ever! \tFAVOR\n",
            "10130\tAtheism\tWith #SCOTUS done, It's time for @boyscouts to stop their bigoted practice of rejecting #LGBT scouts at age 18.  #EqualityForAll \tNONE\n",
            "10131\tAtheism\tSubtract secularism from modern systems of superstition & you'll be left with the ancient anarchy of archaic theocracy.  \tFAVOR\n",
            "10132\tAtheism\t@flipflops I can confirm. They also worship #Hitler, the atheist diety and inventor of \tFAVOR\n",
            "10133\tAtheism\tMark 8.36-38.KJV  For what shall it profit a man, if he shall #gain the whole #world, and lose his own #soul?...\" #Pray #Love \tAGAINST\n",
            "10134\tAtheism\tWhy would I listen to someone that is not doing anything to better their life compared to a successful millionaire?#DonaldTrump #ACN \tNONE\n",
            "10135\tAtheism\tQuestion to the #religious folks out there who can't comprehend the universe having began without a God. Where did God come from? \tFAVOR\n",
            "10136\tAtheism\t@evrttbrd this is PRECIOUS. omg go get em #Europe4Jesus #awakeningeurope #benfitz #bethel #paulyman #heidsbakes #father #jc #abba \tAGAINST\n",
            "10137\tAtheism\t@Movingdisaster @roomansi2010  Believe and Obey.  Believe Jesus is the Messiah who saves us from sin by His death. Obey Acts 2:38-39. \tAGAINST\n",
            "10138\tAtheism\tIf the governments of all countries were secular, the world would be a much different, probably better, place. Realising this now. \tFAVOR\n",
            "10139\tAtheism\t@truthway_eng  Jesus commands you to follow Acts 2:38-39 to be saved. #christian #christ #Mary #Bible #church #trinity #usa #uk #aus \tAGAINST\n",
            "10140\tAtheism\tWhat is the deal with #Christian people always needing to feel like they are persecuted? #ReligiousFreedom #tcot \tAGAINST\n",
            "10141\tAtheism\tPatriotism and Humanism are impossible for someone who takes #Islam too seriously. \tFAVOR\n",
            "10142\tAtheism\tBethany Hamilton Reveals She is Resting in God's Promises Despite 'Unknow #bible #biblestudy #scripture #Christianity #ChristianNews \tAGAINST\n",
            "10143\tAtheism\tWhile scientists fantasize about bugs I am considering gods.  ~~   #TheLUPOL #theism #futurism #singularity #AncientAliens \tFAVOR\n",
            "10144\tAtheism\t#Religions can't all be right, but they can all be wrong. \tFAVOR\n",
            "10145\tAtheism\tNo, I'm not calling myself \"agnostic\" because my atheism scares you and u dont know what words mean. \tFAVOR\n",
            "10146\tAtheism\tIrony: When a #creationist tweets about #science being wrong on a device that couldn't have existed without it.  \tFAVOR\n",
            "10147\tAtheism\tHusbands, love your wives, as Christ loved the church and gave himself up for her, (Ephesians 5:25 ESV) #marriage #Christian \tAGAINST\n",
            "10148\tAtheism\t@ACLU Get rid of religion... and all this will go away overnight... #humanist #egalitarian \tFAVOR\n",
            "10149\tAtheism\tNever debate with the devil... Give him an instruction to get behind you!!  \tAGAINST\n",
            "10150\tAtheism\tExisting is something god have never been proficient at.  \tAGAINST\n",
            "10151\tAtheism\tBeginning to wonder if Rev. 13:17 mark, buying & selling is relevant ala corporations' behavior (Civil War games), etc. #bible \tAGAINST\n",
            "10152\tAtheism\tWhen we have done all in our power that the Lord will find a way to open doors. - Spencer W. Kimball #courage #hope \tAGAINST\n",
            "10153\tAtheism\tRT @XO_NayeLashay: In love with Gospel music .. Heals my soul ,lifts my spirits, clears my mind & makes me appreciate what I do have. \tAGAINST\n",
            "10154\tAtheism\tMark 6:35-36 My Father, anything that has been scaring and hindering  good from coming my way, Lord let it disappear #RCCGTR \tAGAINST\n",
            "10155\tAtheism\t@Pseud0_Anon @SuhaibSaqib1 very true. Raising awareness and compassion is our goal. \tAGAINST\n",
            "10156\tAtheism\tI have my work and my faith... If that's boring to some people, I can't tell you how much I don't care. ~Madonna Ciccone \tAGAINST\n",
            "10157\tAtheism\t#HemaMalini please think twice before giving a statement. A couple has lost their kid. Please show some \tAGAINST\n",
            "10158\tAtheism\tHow do they come up with this insanity? Oh wait, they believe in a Sky-God.  #fyilive, \tFAVOR\n",
            "10159\tAtheism\t@Jaikrishnashree #italianchachi420 UDF/LDF made #Kerala the most backward southern state & cluelss #Hindus keep voting #marxism \tNONE\n",
            "10160\tAtheism\tSurely the Sovereign LORD does nothing without revealing his plan to his servants the prophets\" #Amos3v7 \tAGAINST\n",
            "10161\tAtheism\tLoving who I am! Today was awesome because I enjoyed being me. Can't nobody steal my joy! #selflove #motivated by \tNONE\n",
            "10162\tAtheism\tProverbs 28:5 (KJV) Evil men understand not judgment: but they that seek the Lord understand all things. #heart \tAGAINST\n",
            "10163\tAtheism\tAs always, please remember: fuck Harper, fuck conservatives , fuck religion #fuckharper #NDP  #fuckcons \tNONE\n",
            "10164\tAtheism\tMy prayer is that you live as long as you want and not want as long as you live. #longlife \tAGAINST\n",
            "10165\tAtheism\tI believe that \"sacred\" is an ap term to describe existence #celebrant \tAGAINST\n",
            "10166\tAtheism\tMan this is going to test me..  Giving all my prayers and questions to The Lord and Savior Jesus Christ.. He will guide me! #hope \tAGAINST\n",
            "10167\tAtheism\tWe'd like to welcome Lucy Dee to the Atheist Apocalypse team!   May God have mercy on your soul!   #God #mercy #podcast \tAGAINST\n",
            "10168\tAtheism\tLife certainly has a way of humbling you. This last year and a half has been filled with trials and tribulations. But God! #patience \tAGAINST\n",
            "10169\tAtheism\tCheck out Honest Liar on Netflix. James Randi is amazing. #skeptic \tNONE\n",
            "10170\tAtheism\tThe experience of most LGBT people shows them that organised religion is often nothing but structured bullying. \tFAVOR\n",
            "10171\tAtheism\tJust a reminder that humans do not need salvation. We need clean water, food, housing, healthcare, and education. \tFAVOR\n",
            "10172\tAtheism\tJesus is not dead , he wasn't real !notdead \tAGAINST\n",
            "10173\tAtheism\t@FoxNews @Patriot_Girl_TX @toddstarnes Shame on @OregonGovBrown for not stepping in to rescind this ruling! #Disgusting #Wrong \tNONE\n",
            "10174\tAtheism\t@SenSanders there's God. Loving each other unconditionally is what matters. \tAGAINST\n",
            "10175\tAtheism\tI think my username would be cool but now it looks stupid. \tNONE\n",
            "10176\tAtheism\t@SaberinZe @TheBricsPost absurd like saying #nato membership will help #Russia #Pakistan is #islamist can't be friend of #india \tNONE\n",
            "10177\tAtheism\tLord, bring health and a cure to every area of my life, and give me the abundance of peace -Jer. 33:6 \tAGAINST\n",
            "10178\tAtheism\tThis is love: not that we loved God, but that he loved us and sent his Son as an atoning sacrifice for our sins. 1 John 4:10 #love \tAGAINST\n",
            "10179\tAtheism\t#IslamicScholars have to re-think and to do research on this single but vital point. #Pakistan #Islam #HolyQuran #Hadith \tAGAINST\n",
            "10180\tAtheism\tRT @PaulGetter: When your past calls, don't answer. It has nothing new to say. #TeamJesus \tAGAINST\n",
            "10181\tAtheism\tBless those with a broken soul \tAGAINST\n",
            "10182\tAtheism\tAfter Hindu girls #Sheila #Munni and Muslim #Razia, it's time for Christian #Mary in the item song world. #Bollywood \tAGAINST\n",
            "10183\tAtheism\t..    \" \"So decree whatever thou desirest to decree for thou canst only decree the life of this world \tAGAINST\n",
            "10184\tAtheism\tThe enemy is not #Muslims #Christians or #Judaism. The real enemy is EXTREMISM.  Humans killing humans. #RespectBeliefs #StopWar \tAGAINST\n",
            "10185\tAtheism\tJohn 10:11 I am the good shepherd; the good shepherd lays down His life for the sheep. #God #Christ #Hallelujah #Amen \tAGAINST\n",
            "10186\tAtheism\tIts really incredible how much this world needs the work of missionaries! #futuremissionary #lds #hope #shallnotfear \tAGAINST\n",
            "10187\tAtheism\tLuke 11:5-9, 18:1-8 \"Oh Lord, avenge me of my adversary...\" #PstPeterock #EmpowermentService \tAGAINST\n",
            "10188\tAtheism\tGod is good all of the time. All of the time, God is good! #YHWH #Yeshua #God \tAGAINST\n",
            "10189\tAtheism\tIF GOD BROUGHT YOU TO IT , HE'LL BRING YOU THROUGH IT. #GODKNOWS #WHATHEDOING #BEPATIENT #TRUSTANDBELIEVE \tAGAINST\n",
            "10190\tAtheism\tThat scriptures Aunt just sent me was clutch!!!!  \tAGAINST\n",
            "10191\tAtheism\tBefore I proceed in any direction...Prayer has to lead me ..follow that and you can't fail  #startup  #ThinkandgrowRich \tAGAINST\n",
            "10192\tAtheism\tThe people who walk in darkness Will see a great light; Those who live in a dark land, The light will shine on them. Isaiah 9:2 \tAGAINST\n",
            "10193\tAtheism\tsing unto the LORD; for he hath done excellent things: this is known in all the earth - Isaiah 12:5 #blessings \tAGAINST\n",
            "10194\tAtheism\tA gift from God, live your day responsibly and without regrets.     #amwriting #parenting #amreading #Christianity #sports \tAGAINST\n",
            "10195\tAtheism\tAzerbaijan: Pray for President Ilham Aliyev's salvation. #vom #pray \tAGAINST\n",
            "10196\tAtheism\tThe #Church is a hospital but the doctor is one: #Christ!! \tAGAINST\n",
            "10197\tAtheism\t@Ageoftheatheist ~ \"Age of the #Atheist\" where life has no purpose & no hope! \tFAVOR\n",
            "10198\tAtheism\tGive us the gifts and graces to be your vessels. Amen \tAGAINST\n",
            "10199\tAtheism\tIn the big picture, religion is bad for society because it blunts reason.   #freethinker \tFAVOR\n",
            "10200\tAtheism\twhen you get distinctions for half your modules but started studying the day before for each because of shoots. Thank You Father!!! \tNONE\n",
            "10201\tAtheism\tReligion has destroyed the ability for some to say know.   \tFAVOR\n",
            "10202\tAtheism\tI pray for the best for everybody!!! \tAGAINST\n",
            "10203\tAtheism\t@Brasilmagic @neiltyson there's no god 2b tired of, just tired o ppl believing in such nonsense. Time 2 focus on reality, HUMANITY \tFAVOR\n",
            "10204\tAtheism\tThere are dreams and desires that #God has placed in your heartthey are a part of your divine destiny. \tAGAINST\n",
            "10205\tAtheism\t@MuhammadAli except for your belief in Allah. Gods are imaginary. Love and humanity are real. I love you. Be well and take care. \tAGAINST\n",
            "10206\tAtheism\tAtheistQ \"God's guidance is the only excuse for a man who can't find a better justification for his actions. \tAGAINST\n",
            "10207\tAtheism\t2 pretty sisters are dancing with cancered kid   \tNONE\n",
            "10208\tAtheism\tYou and I are part and parcel of everything else. Embrace this. #spirituality \tAGAINST\n",
            "10209\tAtheism\tAll that is needed for God for something to happen is to say \"#Be\" and it is; for God is capable of all things. #God created #trinity \tAGAINST\n",
            "10210\tAtheism\tYa....cuz Nicky Hilton HAD to marry up? Really? You had to land a bloody Rothschild too?? \tNONE\n",
            "10211\tAtheism\t8 Holy Mary Mother of God, pray for us sinners now and at the hour of our death. Amen. #rosary #teamjesus #God \tAGAINST\n",
            "10212\tAtheism\tHeap mischief upon them, and spend Your arrows upon them -Deut. 32:23 \tAGAINST\n",
            "10213\tAtheism\tGod is good all the time, all the time God is good #unconditionallove \tAGAINST\n",
            "10214\tAtheism\tShould we take the #DNA at birth of every human being on Earth? #science #economics \tFAVOR\n",
            "10215\tAtheism\tShit just don't stop but 1 thing I will not question God \tAGAINST\n",
            "10216\tAtheism\t1of 2 #Never be #afraid to and never #apologise for using the #word of #GOD as #analogies to #explain something in a #setting! \tAGAINST\n",
            "10217\tAtheism\tHow soon do you think WWIII &WWWIV will begin? #U9tedWeStand #EndRacism #EndReligion #EndSexism #EndMisogyny #LoveYourNeighbor \tAGAINST\n",
            "10218\tAtheism\tThe humble trust in God: 'Whoever leans on, trusts in, and is confident in the Lord  happy, blessed, and fortunate is he' \tAGAINST\n",
            "10219\tAtheism\tWhere will you be when @NewHorizons2015 flies by Pluto? #NewHorizons #PlutoFlyby #Pluto #EndRacism #EndSexism #EndReligion #Peace \tFAVOR\n",
            "10220\tAtheism\tNo one can out woo God in the woo department - Claudia May  #godisloveislove #blacklives \tFAVOR\n",
            "10221\tClimate Change is a Real Concern\tClosed door session begins. More after they decide on the entities.  #GCF \tNONE\n",
            "10222\tClimate Change is a Real Concern\tWhat is the #energiewende agenda? Why are they not in the \"de-carbonizer\" camp?.  How long will you tolerate the lies?  \tFAVOR\n",
            "10223\tClimate Change is a Real Concern\t@climasphere Stocker: Fish catch potential could drop by as much as 50% in some areas due to #oceanacidification. #CFCC15 \tFAVOR\n",
            "10224\tClimate Change is a Real Concern\t...a longer memory, and a sterner sense of justice than we do. -W.Berry \tNONE\n",
            "10225\tClimate Change is a Real Concern\tBoni \"Future Sea level rise will not be uniform & different for coasts\" #CCFC15 #Journey2015 \tFAVOR\n",
            "10226\tClimate Change is a Real Concern\t@climasphere Bony: Extreme weather events (heat waves, drought, flooding, windstorms) made more frequent/intense by #CFCC15 \tFAVOR\n",
            "10227\tClimate Change is a Real Concern\tCamille Parmesan: 2/3 of species have changed #habitat because of #H12 #CFCC15 \tFAVOR\n",
            "10228\tClimate Change is a Real Concern\t5 meta-analyses show 1/2 of species have changed where they live, 2/3 have changed when they live. Camille Parmesan #CFCC15 \tFAVOR\n",
            "10229\tClimate Change is a Real Concern\tIt literarly just took me 10 minutes to get in a bus because an old lady just had to go in front of everyone... \tNONE\n",
            "10230\tClimate Change is a Real Concern\tGrubb: state of energy: shift US & EU from net-producer to net-importer of emissions\" #CCFC15 #journey2015 \tFAVOR\n",
            "10231\tClimate Change is a Real Concern\tInteresting speaker Maarten Van Aalst @Federation how their humanitarian experience can help Climate scientists #CCFC15 \tFAVOR\n",
            "10232\tClimate Change is a Real Concern\tputting my neck out as such when I did not have to be here at all? Regards Dion #peace #GMS #Democracy #Transparency #Future! \tNONE\n",
            "10233\tClimate Change is a Real Concern\tgrow food not lawns  Lawns are Ecocide in your yard. #Patriarchy is Ecocide of your own species #DominoEffect \tFAVOR\n",
            "10234\tClimate Change is a Real Concern\tThis halcyon summer is over. Climate is on the move. Doug Kelbaugh #CNU23 #declarationsignee \tFAVOR\n",
            "10235\tClimate Change is a Real Concern\t@soundofideas we Have to talk about new normals \tNONE\n",
            "10236\tClimate Change is a Real Concern\tCitizens have a right to access information that would protect their lives against #risk #CLIMWARN #CFCC15 #vulnerability \tFAVOR\n",
            "10237\tClimate Change is a Real Concern\tThat moment when Canadians realised global warming doesn't equal a tropical vacation #BCwildfire #Canadaburns \tFAVOR\n",
            "10238\tClimate Change is a Real Concern\tWe NEED alternatives to #fossilfuel, but also need to maintain our #economy! This change will be gradual so lets START NOW! \tFAVOR\n",
            "10239\tClimate Change is a Real Concern\t#Defrance: displacements due to natural disasters higher than those caused by conflicts #migration #development #CFCC #S2242 \tFAVOR\n",
            "10240\tClimate Change is a Real Concern\t@loic Yes, you shouldn't. But, stop killing animals is not the only reason to become a vegan - #stopfamine #behealthy \tFAVOR\n",
            "10241\tClimate Change is a Real Concern\tWe don't inherit the earth from our parents we borrow it from our children #Conservation #Perspective \tFAVOR\n",
            "10242\tClimate Change is a Real Concern\t.@vj44 @POTUS Yay! We'd love to convert to solar power! PG&E plan to raise our rates again. #ActOnClimate #p2 \tFAVOR\n",
            "10243\tClimate Change is a Real Concern\t#rsaeconomy: #tax can surely play a greater role in helping richer countries slow emissions and poor countries transition. \tFAVOR\n",
            "10244\tClimate Change is a Real Concern\tIt's raining and feels like fall I don't know what kinda summer this is  #isReal \tFAVOR\n",
            "10245\tClimate Change is a Real Concern\tWe can address both climate change and sustainable development with the same measures @CFigueres #SDGs #climateaction #COP21 \tFAVOR\n",
            "10246\tClimate Change is a Real Concern\t@RachelNotley what's the plan for getting job-creating big green energy corps located here in #alberta? #taxbreaks #jobs \tFAVOR\n",
            "10247\tClimate Change is a Real Concern\t#Mission:#Climate @ home > Purchase renewable power from your utility (by @AveKathleen) #Tip #ImpactIsReal \tFAVOR\n",
            "10248\tClimate Change is a Real Concern\tThere's no more normal rains anymore. Always storms, heavy and flooding. \tFAVOR\n",
            "10249\tClimate Change is a Real Concern\t@AlanBrownSNP HS2 does too much damage to local communities + to the environment,they use 60% more fuel than regular trains. \tFAVOR\n",
            "10250\tClimate Change is a Real Concern\tAs Western Canada Burns Harper's got his head so deep in the #tarsands he can see #ChristyClark's ankles #BCwildfire #cdnpoli \tNONE\n",
            "10251\tClimate Change is a Real Concern\tAlso what's up with this ridiculous weather?? It was raining this morning and now it's like super hot! #weatherproblems #lame \tFAVOR\n",
            "10252\tClimate Change is a Real Concern\t@TheWayneKing @RickSantorum @hardball @hardball_chris What values is heUsing ref criminal safety checks for weaponsAddressing \tNONE\n",
            "10253\tClimate Change is a Real Concern\tEager to learn at the Modern Prosperity event at the @hfxpublib hosted by  @EcologyAction #carbonpricing #jobsjusticeclimate \tFAVOR\n",
            "10254\tClimate Change is a Real Concern\tThe #carbontrading in #Quebec has very ambitious GHG reduction target of 20% #nspoli \tFAVOR\n",
            "10255\tClimate Change is a Real Concern\t@jiminhofe anthropogenicthat which is caused by humans; #SnowballJim \tFAVOR\n",
            "10256\tClimate Change is a Real Concern\tI thought Seattle was supposed to have a lot more rain #drought \tFAVOR\n",
            "10257\tClimate Change is a Real Concern\tOn a scale of 1 to 10 the air quality in Whistler is a 35. #wildfires #BCwildfire \tFAVOR\n",
            "10258\tClimate Change is a Real Concern\t@catethegreat52 yes Catherine, the future of human civilisation depends on this generation & how it acts on #Auspol \tFAVOR\n",
            "10259\tClimate Change is a Real Concern\tIt's most exciting to witness a major development! @urgenda \tNONE\n",
            "10260\tClimate Change is a Real Concern\tWe are causing the ice masses of Earth to melt at an alarming rate. \tFAVOR\n",
            "10261\tClimate Change is a Real Concern\t@mdrewnz Will @NZGreens support Canterbury Rocket + Nuclear Power for NZ? Send our nuclear waste to space @GenerationZer0 \tFAVOR\n",
            "10262\tClimate Change is a Real Concern\t@Sam6869 research is irrelevant when biosphere is on the brink of collapse. #deforestation #6thExtinction #war \tFAVOR\n",
            "10263\tClimate Change is a Real Concern\t@ChadCowie Indigenous ppl will save the country, if it's not too late. \tFAVOR\n",
            "10264\tClimate Change is a Real Concern\tTurn the Liverpool Plains into a coal mine...is there any bad idea this government doesn't like? #FoodBowl #Shenhua #auspol \tFAVOR\n",
            "10265\tClimate Change is a Real Concern\t@CBSNewYork Seems the marine animals are finally declaring war on man due to man-made environmental destruction. \tFAVOR\n",
            "10266\tClimate Change is a Real Concern\tSeems I may yet get my Climate Apocalypse >:) You fucking morons! #Shenhua #LNPFAIL #keepitintheground \tFAVOR\n",
            "10267\tClimate Change is a Real Concern\tThe Weather app keeps taunting us with rain. #PNW #drought \tFAVOR\n",
            "10268\tClimate Change is a Real Concern\tWhat do you do to help reverse climate change? Tweet your tips to inspire others! #Tip #SavePolarBear \tFAVOR\n",
            "10269\tClimate Change is a Real Concern\tYou know things are pretty out of control when you're happy to have \"only\" 30 degrees C indoor and it feels good. \tFAVOR\n",
            "10270\tClimate Change is a Real Concern\tHaven't moved an inch since yesterday.  #bcpoli #vancouver #bcwildfire #yvr #realrenewables \tNONE\n",
            "10271\tClimate Change is a Real Concern\t@Gwillaumau @timpoliti @ABCthedrum @whelan60 @chrisberg NEVER KNEW INCONVENIENT FACTS WARRANTED A SHRINK!!! ROTFLMAO #auspol \tNONE\n",
            "10272\tClimate Change is a Real Concern\tWill the world place sanctions on #Australia for it's insane pursuit of new massive #coal mines? #UN #auspol #sanctions \tFAVOR\n",
            "10273\tClimate Change is a Real Concern\tNow moving from summer season to........ Life, too moves from...  #climate #weatherchange #rain #forecast #wind \tFAVOR\n",
            "10274\tClimate Change is a Real Concern\tClimate change is my issue - make it yours #Zim \tFAVOR\n",
            "10275\tClimate Change is a Real Concern\t#Mission:#Climate @ home > Don't let heat escape from your house over a long period #Tip #EarthRightNow \tFAVOR\n",
            "10276\tClimate Change is a Real Concern\tCounting down the days until my PhD starts #77 #tephrochronology #southernhemisphere  #chronology #oxford \tNONE\n",
            "10277\tClimate Change is a Real Concern\tToday Europe is breaking heat records, while Asia is breaking the lowest temperature records!! Should we not be concerned?!  \tFAVOR\n",
            "10278\tClimate Change is a Real Concern\tPaul Leadley Talking about #biodiversity scenarios under #h22 #CFCC15 \tFAVOR\n",
            "10279\tClimate Change is a Real Concern\tOur cardboard city with @Joshpaulevans from @TearfundRhythms in our @cscw_uk youth club on Monday. \tNONE\n",
            "10280\tClimate Change is a Real Concern\tDhakal: There is no silver bullet for solutions - each city has to devise own local/specific responses to #CFCC15 \tFAVOR\n",
            "10281\tClimate Change is a Real Concern\tFollow @ClimatParis2015 for information on #CFCC15 - the climate change conference in Paris. \tFAVOR\n",
            "10282\tClimate Change is a Real Concern\tAm not a Catholic, but the pope is spot on when it comes climate change & protecting the amazon forest. \tFAVOR\n",
            "10283\tClimate Change is a Real Concern\tFood and water security are intertwined: \"Adaptation costs water.\" #CFCC15 #journey2015 #L25 \tFAVOR\n",
            "10284\tClimate Change is a Real Concern\tIt's July and its 57 degrees, can't imagine what winter is going to feel like this year. #ChicagoWeather \tFAVOR\n",
            "10285\tClimate Change is a Real Concern\tAdaptation is something that reduces the negative impact or enhances the positive impact of #CFCC15 #Journey2015 \tFAVOR\n",
            "10286\tClimate Change is a Real Concern\t@MAPSProgramme tackles difficult challenges of growth needs and unemployment alongside #CFCC15. \tFAVOR\n",
            "10287\tClimate Change is a Real Concern\tMuch good to be had in the lead up to #COP21. 2,200 researchers from over 100 countries, uniting to address global #CFCC15 \tFAVOR\n",
            "10288\tClimate Change is a Real Concern\t#Earth is a #finite in #nature #environment, \"no amount of #dividend #value can #buy its #natural #diversity back! \tFAVOR\n",
            "10289\tClimate Change is a Real Concern\t#Obama said \"can't prevent oil exploration completely\" in the Arctic, is \"setting the highest possible standards=BS #shellno \tFAVOR\n",
            "10290\tClimate Change is a Real Concern\t@RichardTuffin Tuvalu has been at the forefront of dealing with consequences of climate change. They are realists #auspol \tFAVOR\n",
            "10291\tClimate Change is a Real Concern\tA Very Good Discussion:Ruth Valerio @ARochaUK and Premier Radio's @revcindy1 on key issues affecting us in #Pope #Encyclical \tNONE\n",
            "10292\tClimate Change is a Real Concern\tBe kind to the earth beneath your feet.  #environment \tFAVOR\n",
            "10293\tClimate Change is a Real Concern\tAlso, it's raining here in the Brazilian central savannas. We were supposed to be in the pinnacle of the dry season. \tFAVOR\n",
            "10294\tClimate Change is a Real Concern\tavg house in US consumes 10,656 kWh per year 2006, Gore devoured nearly 221,000 kWh more than 20 X the nat average. #onpoli \tFAVOR\n",
            "10295\tClimate Change is a Real Concern\tPlease will someone at @BBCRadio4 clarify what Osbourne said about oil and renewables energy?  #budget2015 #futureoftheplanet \tFAVOR\n",
            "10296\tClimate Change is a Real Concern\tParticipation is essential: bring vulnerable voices to the table at #COP21 says @wjamann #AgCOP21 #CFCC15 @cgiarclimate \tFAVOR\n",
            "10297\tClimate Change is a Real Concern\tWe blame cities for the majority of CO2 emissions without acknowledging their vulnerability to #CFCC15 #journey2015 #S2228 \tFAVOR\n",
            "10298\tClimate Change is a Real Concern\t@FoxNews LOL. Too bad all the other scientists agree with him. #ClimateChangeDenier \tFAVOR\n",
            "10299\tClimate Change is a Real Concern\t#KCA #VoteJKT48ID ClimateCommRPB: The green diet: how to eat healthy and save the planet \tFAVOR\n",
            "10300\tClimate Change is a Real Concern\t@JimHarris thank you for the follow Jim!  I'm flattered!  \tNONE\n",
            "10301\tClimate Change is a Real Concern\t@DavidSuzukiFDN @cleanenergycan Need hydro bill fix in ON so ppl won't use dirty alt fuels to heat homes. #foodorheat #onpoli \tFAVOR\n",
            "10302\tClimate Change is a Real Concern\t#Asthma is hitting our communities hard in #Chicago says @LVEJO Kim Wasserman  #cleanair4kids #Latinos \tFAVOR\n",
            "10303\tClimate Change is a Real Concern\tThe extreme humidity and heat right now might kill me  and it's only 10a.m. #FloridaProblems \tFAVOR\n",
            "10304\tClimate Change is a Real Concern\t@ILuvCO2 @UNGeneva @WMOnews @ParisCOP21 U love CO2 so I can only understand your point of view.But u n I know the trigger of \tFAVOR\n",
            "10305\tClimate Change is a Real Concern\tHaven't seen the mountains in days with all these fires. Can't stand breathing this air quality any longer!!  \tFAVOR\n",
            "10306\tClimate Change is a Real Concern\t@UCSUSA @POTUS @NSCPress @DHSgov @nytimes Criminal capitalist wrecked economy08Now misleadingInvestors as to Risk of #Ecocide \tFAVOR\n",
            "10307\tClimate Change is a Real Concern\tJared likes child porn now .... Is that what happens if you eat all your meals at Subway? Must be either that or \tNONE\n",
            "10308\tClimate Change is a Real Concern\t@UCSUSA @pmharper @ThomasMulcair @Kathleen_Wynne #CSOTA #fossilfuels corp misleading investors about liability for #Ecocide \tFAVOR\n",
            "10309\tClimate Change is a Real Concern\tActually on second thoughts, it's pretty bloody terrifying #climatecrisis #ISS15 \tFAVOR\n",
            "10310\tClimate Change is a Real Concern\tGone are the days where we would get temperatures of Min -2 and Max 5 in Cape Town \tFAVOR\n",
            "10311\tClimate Change is a Real Concern\tZinta Zommers: need for a unified tool to bring all these variabilities together #CFCC15 #climate \tFAVOR\n",
            "10312\tClimate Change is a Real Concern\t#Mission:#Climate @ home > Run your dishwasher only if it's full. (by @gaiam) #Tip #ActOnClimate \tFAVOR\n",
            "10313\tClimate Change is a Real Concern\tThe stock market froze  In the summer ?!! \tFAVOR\n",
            "10314\tClimate Change is a Real Concern\tLiving an unexamined #life may be easier, but leads to disastrous consequences. #ActonClimate #Action2015 #leadership \tFAVOR\n",
            "10315\tClimate Change is a Real Concern\t@stormchaser4850 @MiddleAmericaMS @NOAA 2014 was hottest year on record. Looks like 2015 is going to break that record. \tFAVOR\n",
            "10316\tClimate Change is a Real Concern\tClimate Change Deniers are Like Pre Historic Cave Dwellers: California Governor Jerry Brown #CSOTA #uspoli #cdnpoli \tFAVOR\n",
            "10317\tClimate Change is a Real Concern\tWhat has happened to sunny Colorado?? #cloudy #denver #nosunshine \tFAVOR\n",
            "10318\tClimate Change is a Real Concern\tThe biggest terror threat in the World is climate change #drought #floods \tFAVOR\n",
            "10319\tClimate Change is a Real Concern\tWhat has been will be again, what has been done will be done again; there is nothing new under the sun. Ecclesiastes 1:9 \tNONE\n",
            "10320\tClimate Change is a Real Concern\tONE Volcano emits more pollution than man has in our HISTORY! \tFAVOR\n",
            "10321\tClimate Change is a Real Concern\t@SenSanders Republicans don't care about the environment all together. They deny this fact. \tFAVOR\n",
            "10322\tClimate Change is a Real Concern\t@xrisham Reminds me of Nottingham in the early 1960's #ActOnClimate \tFAVOR\n",
            "10323\tClimate Change is a Real Concern\t@blueislandcity Jason Berry says he discusses that while $$ would buy a big pipe, maybe that won't work w #ResilientChicago \tNONE\n",
            "10324\tClimate Change is a Real Concern\t#Follow @SkyMutual US leader in weather #riskmanagement . Helping the world's #economy adapt to climate change. \tFAVOR\n",
            "10325\tClimate Change is a Real Concern\t#CSOTA is trending at #3 in Canada on Twitter Now w/ 3,800 Tweets from the #Climate Summit of the Americas! #sm #socialmedia \tFAVOR\n",
            "10326\tClimate Change is a Real Concern\tWhy is Stephen Harper or representative not at #costa   Does he not care about the environment?  #cdnpoli #environment \tFAVOR\n",
            "10327\tClimate Change is a Real Concern\tRT @TheCLF: Thanks to everyone in Maine who contacted their legislators in support of #energyefficiency funding! #MEpoli \tFAVOR\n",
            "10328\tClimate Change is a Real Concern\tWe're Committed to Green in Our Dreams: @GovInslee. What'll Drive Change is Power of Parents & Grandparents #CSOTA \tFAVOR\n",
            "10329\tClimate Change is a Real Concern\t@UN_Spokesperson @FRANCE24 @UN @COP21 @NorwayMFA \"We are the last generation who can address this climate change \tFAVOR\n",
            "10330\tClimate Change is a Real Concern\t@UN ice cracking in the summer?? SO ALARMING. #climatechangehoax \tFAVOR\n",
            "10331\tClimate Change is a Real Concern\tIts July 8th.. I have clean clothes... I just put jeans on though. \tNONE\n",
            "10332\tClimate Change is a Real Concern\tthe water hole time to drink! RT\"@vicenews \tNONE\n",
            "10333\tClimate Change is a Real Concern\tI understand the rain, but it is only about 60 degrees right now..... It is never 60 degrees in July....  \tFAVOR\n",
            "10334\tClimate Change is a Real Concern\t.@McKenzieAmanda's presentation on shifting the public narrative in a hostile environment should be good #anzca2015 \tFAVOR\n",
            "10335\tClimate Change is a Real Concern\t67 degrees Fahrenheit on July 8th. I love this weather! #PureMichigan \tFAVOR\n",
            "10336\tClimate Change is a Real Concern\t#coalmining & destruction of our ability to live on earth is so stupid. Don't kill our species habitat #duh #Shenhua  \tFAVOR\n",
            "10337\tClimate Change is a Real Concern\t@abcnews @Ginger_Zee  how about you give me TWO SENTENCES about climate instead of ending with a bs whale story. \tFAVOR\n",
            "10338\tClimate Change is a Real Concern\tSomeone send some chicken soup or some '80s Conan comics to @jamesbobier4 he's under the weather & noone wants to be there \tFAVOR\n",
            "10339\tClimate Change is a Real Concern\t@billmckibben @suzyji Right out of the Big Tobacco playbook! Why is this disgusting strategy so bulletproof? \tNONE\n",
            "10340\tClimate Change is a Real Concern\t@GuardianAus @GrogsGamut Nobody denies the climate changes. \tFAVOR\n",
            "10341\tClimate Change is a Real Concern\t#ClimateChangeDefinitions \"settled science\" = flawed computer models with jiggered data to force a predefined conclusion. \tFAVOR\n",
            "10342\tClimate Change is a Real Concern\tPeople need to wake up & realize what's happening to our earth  #hello \tFAVOR\n",
            "10343\tClimate Change is a Real Concern\t#Questiontime Who is more likely to solve problems related to #poverty #sustainability & #government? #religion? #business? \tFAVOR\n",
            "10344\tClimate Change is a Real Concern\tThe countries most likely to survive climate change in one infographic #Survive #Infographic \tFAVOR\n",
            "10345\tClimate Change is a Real Concern\tTerraform Earth so we can recolonize our own homes. \tFAVOR\n",
            "10346\tClimate Change is a Real Concern\tWhat's next after 2 years? :) #thinkbig #world #solution #water \tFAVOR\n",
            "10347\tClimate Change is a Real Concern\tClimate change has already cut into the global food supply and is fuelling wars &natural disasters #FoodFactsWithHeroRadio \tFAVOR\n",
            "10348\tClimate Change is a Real Concern\t@Myrmecos Still a larval theory. Still poorly modelled. Still unquantified. Still multi-factor. Still flummoxed by albedo. \tFAVOR\n",
            "10349\tClimate Change is a Real Concern\tWhole species #Boomers #GenerationX GenerationY #GenZ Needs a vacation. 25 years on a Greek Island anyone? #HumanExtinction \tFAVOR\n",
            "10350\tClimate Change is a Real Concern\t#Mission:#Climate on the road > Fly less #Tip #EarthRightNow \tFAVOR\n",
            "10351\tClimate Change is a Real Concern\tEdenhofer: Carbon pricing is needed but not sufficient. we need complementary policies to counter #coal renaissance & #CFCC15 \tFAVOR\n",
            "10352\tClimate Change is a Real Concern\tHumanity is making #mother earth angry, that angriness is the reason for \tFAVOR\n",
            "10353\tClimate Change is a Real Concern\t@WEETFEvents Jonathan Tillson from @DefraGovUK highlights how economic stability will be undermined by \tFAVOR\n",
            "10354\tClimate Change is a Real Concern\tUK homes & buildings need to be adapted to higher temperatures Daniel Johns @theCCCuk #weetfEvents #adaptation \tFAVOR\n",
            "10355\tClimate Change is a Real Concern\tPlants and trees make oxygen which we breathe and killing the rainforest will make the earths oxygen supply weak. #earth \tFAVOR\n",
            "10356\tClimate Change is a Real Concern\t$500,000 on flags in 12 months  vs  An Inter-Generational Rot that addresses   #ThingsToSpendMyTaxesOnOtherThanFlags \tFAVOR\n",
            "10357\tClimate Change is a Real Concern\tClimate deniers is a term used to silence those pointing out the hypocrisy in the fanatical zeal on  #climatetruth \tFAVOR\n",
            "10358\tClimate Change is a Real Concern\t#Mission:#Climate on the road > Purchase a fuel-efficient, low-greenhouse gas vehicle (by @EPA) #Tip #MissionAccept \tFAVOR\n",
            "10359\tClimate Change is a Real Concern\t@algore: Will we change? That's the reason we are here. Be of good cheer. We're going to win this #CSOTA \tFAVOR\n",
            "10360\tClimate Change is a Real Concern\tIncredibly moving as a scientist weeps on @BBCRadio4 for the #ocean & for our grandchildren's future ttp://bbc.in/1G9uil5 \tFAVOR\n",
            "10361\tClimate Change is a Real Concern\tFollowing the invitation only Climate Summit of the Americas online via twitter #CSOTA #Toronto #environment #COP21 #climate \tFAVOR\n",
            "10362\tClimate Change is a Real Concern\tAre the voices of younger generations represented at #CSOTA? We have a say in our collective future. #environment #COP21 \tFAVOR\n",
            "10363\tClimate Change is a Real Concern\t@WalshConstCo We're proud to sign #ORbizclimatedeclaration because we are committed to fighting climate change \tFAVOR\n",
            "10364\tClimate Change is a Real Concern\tI remember a time when summer was actually summer, you know when it was sunny and 90 degrees everyday #whatshappening \tFAVOR\n",
            "10365\tClimate Change is a Real Concern\t@neiltyson Rettet die Erde! Save the Earth!  \tFAVOR\n",
            "10366\tClimate Change is a Real Concern\t@wattsupwiththat yes ironic that the alarmists are the actual \"deniers \tNONE\n",
            "10367\tClimate Change is a Real Concern\t@JustinTrudeau Hey Justin I will give you 50 cents if you stop talking about climate 'Change' #Ottawa #davidsuzuki #cbc \tFAVOR\n",
            "10368\tClimate Change is a Real Concern\tIf @EPA & @POTUS don't have to follow SCOTUS why should anyone else have to #ClimateFraud #SpecialReport #WakeUpAmerica \tFAVOR\n",
            "10369\tClimate Change is a Real Concern\tIf we want a future for our/Canadian kids we all need to seriously wake the fuck up,No more talk only action #Harper  \tNONE\n",
            "10370\tClimate Change is a Real Concern\tGovt announcement on zero carbon homes \"short-sighted, unnecessary, retrograde and damaging\" says @UKGBC #energyefficiency \tFAVOR\n",
            "10371\tClimate Change is a Real Concern\t@bbcweather Good to see more global awareness, thanks. \tFAVOR\n",
            "10372\tClimate Change is a Real Concern\tWe are not \"killing the Earth\". The Earth has been through worse and will be fine after all humans suffocate, drown or starve \tFAVOR\n",
            "10373\tClimate Change is a Real Concern\tSea Level Rise above 6 meters - what does that mean? It means 20 ft above current heights. \tFAVOR\n",
            "10374\tClimate Change is a Real Concern\t@Agent350 This is not a fantasy this is negligence collusion with criminal corporations acting with negligence to #Ecocide \tFAVOR\n",
            "10375\tClimate Change is a Real Concern\tWe need governments and corporations to respond AND ordinary people to change our daily habits to consume less. \tFAVOR\n",
            "10376\tClimate Change is a Real Concern\tIf you dont have the capacity to take it in and act-what can you do to increase your capacity for connection and compassion? \tNONE\n",
            "10377\tClimate Change is a Real Concern\t#Mission:#Climate @ home > Take a shower instead of a bath #Tip #LoveOurPlanet \tFAVOR\n",
            "10378\tClimate Change is a Real Concern\tThe only thing \"man made\" about global warming is the false narrative. #WakeUpAmerica #boycottSanFrancisco #Election2016 \tFAVOR\n",
            "10379\tClimate Change is a Real Concern\tGrowing concern of Pacific Islanders to adapt to sea level rise, increasing storminess; want to avoid becoming CC refugees \tFAVOR\n",
            "10380\tClimate Change is a Real Concern\t@4EvaMartino  Everyone should learn this recipe - given summers are going to get warmer every year! \tFAVOR\n",
            "10381\tClimate Change is a Real Concern\tRec high temp for this date in Charlotte is 101*. That was set in 1926. T-models were the worst for dangerous emissions. \tFAVOR\n",
            "10382\tClimate Change is a Real Concern\tLot's of time, class over! @nationaljournal \tNONE\n",
            "10383\tClimate Change is a Real Concern\t@TheLibertyEagle Oh for the love of Pete! I thought we were going to be incinerated by then! \tNONE\n",
            "10384\tClimate Change is a Real Concern\tIf complaining about irrelevant problems were illegal maybe we could solve some of the important issues #itsjustaflag \tFAVOR\n",
            "10385\tClimate Change is a Real Concern\t@LiberalAus - \"All\" you folks #owe me an #official #apology at this point \"absolute\" ([minimum]), re's D #peace #Transparency \tNONE\n",
            "10386\tClimate Change is a Real Concern\tMaybe we should start \"labelling every #product\" made with its \"#Environmental #footprint\"? Sooner or later we must act! \tFAVOR\n",
            "10387\tClimate Change is a Real Concern\tIf we touch #Antarctica for one more #reason other than to #research the #impact of us we would be #insane! #Democracy #Goal? \tFAVOR\n",
            "10388\tClimate Change is a Real Concern\tWind power helped stabilize Texas' power grid during a 2014 cold snap that suddenly increased demand. #ClimateHope #Climate \tFAVOR\n",
            "10389\tClimate Change is a Real Concern\tIt's so cold and windy here in Sydney, I just saw a climate scientist fly past my window #auspol #ClimateChangeIsReal \tFAVOR\n",
            "10390\tFeminist Movement\tFeminists can TOTALLY wear makeup and don't tell me otherwise. #choices \tAGAINST\n",
            "10391\tFeminist Movement\tI searched for posts with \"feminist\" tag and saw how much hatred is against feminism. #misogyny #tumblr #hatred #sadness #tears \tAGAINST\n",
            "10392\tFeminist Movement\tI saw a little girl wearing a mustache from the vending machine. #equality \tFAVOR\n",
            "10393\tFeminist Movement\tWomen are taught to put their values into their hymens, rather than their intelligence, accomplishments, goals or character \tFAVOR\n",
            "10394\tFeminist Movement\tIf u link anti feminism with misogyny or inequality-lover, please dont reproduce! The world have enough imbeciles . \tAGAINST\n",
            "10395\tFeminist Movement\tMany feminist sexualise and objectify men and yet they insult men who does it calling them pervert \tAGAINST\n",
            "10396\tFeminist Movement\tLet us thank the likes of @thunderf00t and @Sargon_of_Akkad for exposing the complete idiocy of modern feminism. \tAGAINST\n",
            "10397\tFeminist Movement\t@kdeleon how many were young women? Were there any black young women? \tFAVOR\n",
            "10398\tFeminist Movement\tFeel things will truly be equal in marriage when I see jock strap tossed to the 'single women' a weddings alongside the garter \tFAVOR\n",
            "10399\tFeminist Movement\tA wOMAN?? Wanting to be EQUAL to a MAN???!?! What monstrosity is this?!??!!!? \tAGAINST\n",
            "10400\tFeminist Movement\tsometiimes you just feel like punching a feminist in the face \tAGAINST\n",
            "10401\tFeminist Movement\tOne thing I learned from my job: doors to opportunity cover fee that only the privileged can afford. #privilege #truth \tNONE\n",
            "10402\tFeminist Movement\t1 thing I learned from my job: doors leading 2 opportunity have a cover fee only the #privileged can afford #sadtruth \tNONE\n",
            "10403\tFeminist Movement\tJust like book-burning for ANGRY religious people, ANGRY feminists like to burn whatever looks like free speech. \tAGAINST\n",
            "10404\tFeminist Movement\tIndependence Day is a day where men get wasted and dehumanize women by blowing off fireworks! #endJuly4th \tAGAINST\n",
            "10405\tFeminist Movement\tHusband: \"They should know that she's always born with it. It's never Maybelline.\" #beauty \tAGAINST\n",
            "10406\tFeminist Movement\t@CaptHaddock83 oh, that's an easy one: RUN! #spankafeminist \tAGAINST\n",
            "10407\tFeminist Movement\t@verilymary @taylynneduvall no, men need a movement that will help them not hurt them \tFAVOR\n",
            "10408\tFeminist Movement\tThe hypothesis of gender as a social construct is prevalent in majority of feminist ideas. Ergo most feminists are TERF. \tAGAINST\n",
            "10409\tFeminist Movement\tI can't write male characters because I'm a woman?  then a man shouldn't tell me what a woman can't do cos he's a man \tFAVOR\n",
            "10410\tFeminist Movement\tTurns out it's 3 people who have mansplained to me in the past couple of days. I forgot about the racist bigot \tNONE\n",
            "10411\tFeminist Movement\tYou're stupid & mens rights is nothing - I love you Leslie Knope. @parksandrecnbc #MRA #mensrights #lol \tFAVOR\n",
            "10412\tFeminist Movement\tAsk her father for her hand in marriage. How language reinforces patriarchy. She is his property. And mom? #equality \tAGAINST\n",
            "10413\tFeminist Movement\tCan we grow up and stop catcalling? \tFAVOR\n",
            "10414\tFeminist Movement\tjust want to give my hair follicles a quick shoutout for giving me armpit hair, cos nout says equality quite like an unused razor \tFAVOR\n",
            "10415\tFeminist Movement\tTonight I got called 'the one with the great rack' and I felt empowered because objectification exists for both sexes \tFAVOR\n",
            "10416\tFeminist Movement\tGirls over 130 pounds shouldn't wear a swim suit #womenintech \tFAVOR\n",
            "10417\tFeminist Movement\t@Chase_Santos and #Hillary is going to keep it that way! Right, @HillaryClinton ? #gayrights #equality \tAGAINST\n",
            "10418\tFeminist Movement\tFeminists in America have no idea what oppress looks like \tAGAINST\n",
            "10419\tFeminist Movement\t@WiTOpoli I hope everyone is going to see \"she's beautiful when she's angry\"; see the origins of what you are doing \tAGAINST\n",
            "10420\tFeminist Movement\tGirls over 130 pounds shouldn't wear a bikini #womenintech \tFAVOR\n",
            "10421\tFeminist Movement\tThanks to SJW, I now associate the word \"trigger\" with a joke and I'm going to offend an actual PTSD victim \tNONE\n",
            "10422\tFeminist Movement\t@ramzaruglia @a_man_in_yellow Just imagine all the semen those women are slurping in the bottom left pic #YesAllWomen \tAGAINST\n",
            "10423\tFeminist Movement\tGirls are such animals. All they want is sex . I just want to be closer to God. \tFAVOR\n",
            "10424\tFeminist Movement\tI thought you would like it @AceofSpades14 #feminist \tAGAINST\n",
            "10425\tFeminist Movement\t@nytimes @nytopinion this is more of a personal preference than a gender issue. Do nt strip manners away from younger generation! \tFAVOR\n",
            "10426\tFeminist Movement\tJulie Burchill dismissed male suicide as inconsequential because they are men. Her son killed himself this week - karma \tAGAINST\n",
            "10427\tFeminist Movement\t@always__already Thanks for the fantastic story last month. So well captured us! Can't believe we missed it! #thisiswhatwelooklike \tNONE\n",
            "10428\tFeminist Movement\tGoing off to write up second part of #TimHunt story - the collusion & false reports of @connie_Stlouis et al in Seoul. #journalism \tNONE\n",
            "10429\tFeminist Movement\tInternalized misogyny is awful! People who have conflicting opinions to my own should be dead because I'm an Authoritarian \tFAVOR\n",
            "10430\tFeminist Movement\tDEAR FEMINISTS   Don't say you are \"disempowered\" when you have the power to get anybody fired, just like #TimHunt. \tAGAINST\n",
            "10431\tFeminist Movement\tLast RT: \"there were lawsuits around women being able to eat in public without chaperone\"  USA  20th Century  \tAGAINST\n",
            "10432\tFeminist Movement\tIn civilian clothes and someone laughs at me thinking its a joke that I'm apart of the U.S. Navy. \tNONE\n",
            "10433\tFeminist Movement\tNice rap by @RanveerOfficial @arjunk26 late but you made your point ki admi ki kya hai jarorat its all about \tNONE\n",
            "10434\tFeminist Movement\tIronic how the anti- feminist intimidation machine has drowned out the voices of those trying to civilly critique feminist ideas. \tAGAINST\n",
            "10435\tFeminist Movement\tApparently #YesAllWomen who \"don't need no man\" never drive a car, turn on a light switch, or drink clean water. \tFAVOR\n",
            "10436\tFeminist Movement\tWelp. I just saw the infamous Radfem \"Protests\" at a Toronto MRA speech for the first time. Disgusting. #feminismiscruelty \tAGAINST\n",
            "10437\tFeminist Movement\tWhat's red and something all feminist should bite into? A brick now stfu \tAGAINST\n",
            "10438\tFeminist Movement\tI can get women not being feminists,  sort of. But women being meninists/MRAs? What the actual fuck #MRA \tAGAINST\n",
            "10439\tFeminist Movement\t..Can I also add that I really enjoyed looking at @TahirRajBhasin in #Mardaani :P Tahir, you were a dashing baddie! #Bollywood \tNONE\n",
            "10440\tFeminist Movement\tAs I rewatced Charmed episodes! LOVING IT EVEN MORE! \tNONE\n",
            "10441\tFeminist Movement\tWe cannot succeed when half of us are held back. Malala Yousafzai #SmartGlamour #feminist #yesallwomen #equality \tAGAINST\n",
            "10442\tFeminist Movement\t@Afshah_Ronaldo you don't tell me what to do, i'm a strong individual male, I can make my own choices #ABCD #SayNoToOppresion \tFAVOR\n",
            "10443\tFeminist Movement\tAnyone got links to anti-feminist/egalitarian chotchkies? Pins, buttons and the like? #antifeminism #egalitarian \tAGAINST\n",
            "10444\tFeminist Movement\tEquality is the police burying a domestic violence accusation against a female sports star, too #wedidit #usa \tFAVOR\n",
            "10445\tFeminist Movement\t2015 is the year of the uterus #sheBELIEVES #WWC2015 \tFAVOR\n",
            "10446\tFeminist Movement\tIt wouldn't be a #FIFA event without women in tight dresses. Wrong place. Wrong time. #womensworldcup \tFAVOR\n",
            "10447\tFeminist Movement\tToo bad the women carrying the trophies look like they're in the Robert Palmer Video. #FIFAWWCFinal #USAvJPN \tAGAINST\n",
            "10448\tFeminist Movement\tReally great to see people cheering for Hope Solo even though she has been involved in domestic abuse #equality \tFAVOR\n",
            "10449\tFeminist Movement\t@godlyputhy @jalexus_aames good but the first one is a technically false fact but whatever yay \tNONE\n",
            "10450\tFeminist Movement\tUp next! Watch me get called \"a sexist pig\" for ordering a sandwich from a female Subway sandwich engineer. \tFAVOR\n",
            "10451\tFeminist Movement\t@SpectreOfChaos is trolling #YesAllWomen. He is a stalker who has doxed  and harassed people for weeks. It is best to block him. \tAGAINST\n",
            "10452\tFeminist Movement\t@atheena99 @dopee_curlyy i don't even know what to say to that. You're content with being paid less and not treated like an equal? \tNONE\n",
            "10453\tFeminist Movement\tWhen I go up the steps of my house I feel like the @ussoccer_wnt .. I too have won the Women's World Cup. #brokenlegprobs #USA \tAGAINST\n",
            "10454\tFeminist Movement\tIf a woman can list height preferences for men in dating profiles, men should be able to list bra sizes. #equality #hypocrisy \tFAVOR\n",
            "10455\tFeminist Movement\t@coffey_cake4 @DailySexSupply too bad idgaf about \tNONE\n",
            "10456\tFeminist Movement\t@mraguyot Yup, way more than I would ever buy, but hey, something for everybody.   #antifeminism #antiSJW #MGTOW \tAGAINST\n",
            "10457\tFeminist Movement\tOther people may hate #feminists, but at least they don't hate the opposite sex.   #feminist #sexism \tAGAINST\n",
            "10458\tFeminist Movement\tMany feminist are praising hope solo!! She( domestic abuser) has become their idol!! \tAGAINST\n",
            "10459\tFeminist Movement\t@alias_burgerboy @craigspissed @forthleft infanticide, child to parent abuse, sibling abuse, abuse against  males, LGBT DV \tNONE\n",
            "10460\tFeminist Movement\tFeminist only want the same benefiting right as men not those harmful ones eg prison time and divorce!! Equality??? \tAGAINST\n",
            "10461\tFeminist Movement\tIf Feminism wants equal rights as men  they must so advocate for equal prison time and losing custody rights, which they won't do! \tAGAINST\n",
            "10462\tFeminist Movement\t@RepubGirlLife But if I said this about how hot Hope Solo is..... Feminists would go ape shit #screwfeminism \tAGAINST\n",
            "10463\tFeminist Movement\t'Manspreading'? But women hog subway space, too ! #doublestandards \tAGAINST\n",
            "10464\tFeminist Movement\tI hate government, but if I were in government i'd want to be a District Attorney or a Judge to hold #YesAllWomen accountable. \tFAVOR\n",
            "10465\tFeminist Movement\tAyyyy more hypocrisy: Hope Solo, serial domestic abuser is celebrated like a hero for winning the women's World Cup \tAGAINST\n",
            "10466\tFeminist Movement\tI still can not get over teamwork being considered female thing. It is not consistent with my experiences at all. \tFAVOR\n",
            "10467\tFeminist Movement\tWant an amazing #SciFi show that completely passes the bechdel test? #Farscape. Well written characters and +3 to awesome. \tNONE\n",
            "10468\tFeminist Movement\tFeminists claim everything is a \"social construct\" because gender studies people usually suck at biology.  #GamerGate \tAGAINST\n",
            "10469\tFeminist Movement\tFeminists who go for a gender studies degree should also blame the patriarchy for their mediocre grades in science. \tAGAINST\n",
            "10470\tFeminist Movement\t@NorBdelta HE DESERVED IT FOR BEING PART OF THE DOMINATING SEX CHECK YOUR PRIVILEGE #equality \tFAVOR\n",
            "10471\tFeminist Movement\tBy writing her self, woman will return to the body which has been more than confiscated from her - Hlne Cixous #theatre \tAGAINST\n",
            "10472\tFeminist Movement\tHaving fabulous feminist conversations with Naoise Wheelan. \tAGAINST\n",
            "10473\tFeminist Movement\tIf you're a #feminist it's only because absolutely no one would shove their semi hard cock into you. Let that sink in. \tAGAINST\n",
            "10474\tFeminist Movement\tWe live in a sad world when wanting equality makes you a troll... \tFAVOR\n",
            "10475\tFeminist Movement\tSome men do not deserve to be called gentlemen \tFAVOR\n",
            "10476\tFeminist Movement\tHappy birthday to the queen Frida Kahlo! #oneofmyidols #mindstimulation #latinapower \tAGAINST\n",
            "10477\tFeminist Movement\tSo the ladies get Magic Mike XXL, can us guys have Magic Michelle 36DD? No because the feminists would shut it down. \tAGAINST\n",
            "10478\tFeminist Movement\tFemale sharks grow to be larger than male Sharks. #Sharkweek2015 \tFAVOR\n",
            "10479\tFeminist Movement\tI'm not a feminist, I believe in equality of the sexes! THATS EXACTLY WHAT FEMINISM IS \tAGAINST\n",
            "10480\tFeminist Movement\tI still cannot get over how much women are degraded in media, sports, and the business world simply because of who we are \tFAVOR\n",
            "10481\tFeminist Movement\t@mustangALLIE_ and i was agreeing with ur tweet \tNONE\n",
            "10482\tFeminist Movement\tThe define of feminism clearly states that it is for women and yet feminist still deny it-\"it's for everyone\"!! \tAGAINST\n",
            "10483\tFeminist Movement\t@NuuYawkerr I have a solution kill all of us... \tNONE\n",
            "10484\tFeminist Movement\tRT : bethersfanpg: BethanyMota if i put alot random hashtags maybe you'll notice me?  #MOTAVATORMONDAY #food #confidence #Motafam... \tNONE\n",
            "10485\tFeminist Movement\tFEMINIST WHO TOOK PHOTOS OF MEN'S  CROTCHES SHOULD BE CHARGED.  #MANSPREADING \tAGAINST\n",
            "10486\tFeminist Movement\tEvidence that modern feminism is stupid and pointless - #Manspreading . \tAGAINST\n",
            "10487\tFeminist Movement\tI aim to stop continuing to allow men in my life to lead when they are capable of only following. #manifesta #iamFuriosa \tFAVOR\n",
            "10488\tFeminist Movement\tlast RT demonstrates relevance of preceding RTs \tNONE\n",
            "10489\tFeminist Movement\tFeminists: stop with the rape jokes! How do you think the women feel?!  Me: depends on how big it is  #Meninist \tAGAINST\n",
            "10490\tFeminist Movement\tJust watched the frickin' awesome interview with @caitlinmoran and @lenadunham ! What a breath of fresh air those two ladies are!! \tFAVOR\n",
            "10491\tFeminist Movement\tShould start a \"menism\" movement. The amount of times people say \"you've got tidy handwriting for a guy\" is ridiculous \tFAVOR\n",
            "10492\tFeminist Movement\tYou are NOT a feminist if you are a racist. If you don't stand for all girls of every color, shape, size then u ain't a feminist \tFAVOR\n",
            "10493\tFeminist Movement\tSome Feminists are doing a huge disservice to rape victims by lying about numbers and supporting false accusations. \tAGAINST\n",
            "10494\tFeminist Movement\tWhy would they have girl dragons in dragonvale? \tFAVOR\n",
            "10495\tFeminist Movement\t@WhiteShamer because Resident Evil, Tomb Raider, Portal, Mass Effect, Parasite Eve and countless other games never happened! \tNONE\n",
            "10496\tFeminist Movement\tNice job referring to a human being as an \"It\" #DolphZiggler. #WomensWrestling #RawChicago \tFAVOR\n",
            "10497\tFeminist Movement\t@KatTimpf @ShannonBream great review. Thanks for your report! Excellent rebuttal of \tNONE\n",
            "10498\tFeminist Movement\tMARRIAGE for a man is MURDERAGE, That's right MURDER'RAGE! Women have ruined the trust of men, and destabilized their own future. \tAGAINST\n",
            "10499\tFeminist Movement\tIt's incredibly easy to identify shitty females with a poor view on the world and what's important thanks to \tFAVOR\n",
            "10500\tFeminist Movement\tYou think its hard to give birth? Bitch have u ever tried to shave a pair of balls? \tFAVOR\n",
            "10501\tFeminist Movement\tI like girls. They just need to know there place. \tFAVOR\n",
            "10502\tFeminist Movement\tYO @kaitlynbristowe YOU GET YOURS GIRL.     #TheBachelorette \tFAVOR\n",
            "10503\tFeminist Movement\tMen and women should have equal rights, we are all human... \tFAVOR\n",
            "10504\tFeminist Movement\tI need feminism because \"what were you wearing\" shouldn't be a question when I tell my stepmom I was cat called. \tAGAINST\n",
            "10505\tFeminist Movement\t@Deb_Hitchens @JudgeBambi . There's no capacity for discourse when you assume ppl are your enemy. Hate. Misery. Paranoia. A waste. \tNONE\n",
            "10506\tFeminist Movement\tyour mother did not carry you for 9 months so you could yell 'suck my dick' at me from your car \tFAVOR\n",
            "10507\tFeminist Movement\tIt's a problem when explaining feminism, even in a calm & complex level, cannot be understood. #feminist #respect #EqualityForAll \tAGAINST\n",
            "10508\tFeminist Movement\tI fell asleep only to have my brother wake me up after hearing noises. I had to be the one to go upstairs and see what it was \tAGAINST\n",
            "10509\tFeminist Movement\tRemember men, if a woman hits you, you have no right to defend yourself #DeAndreJohnson \tFAVOR\n",
            "10510\tFeminist Movement\tDoes it involve women? It's sexist. Does it not involve women? It's sexist. No winning. \tAGAINST\n",
            "10511\tFeminist Movement\t@crystxlcxstlesz did you break through the glass ceiling? \tNONE\n",
            "10512\tFeminist Movement\tfEminism?? eQual rights??? treating people like HUMANS??nono nooooiscruelty \tAGAINST\n",
            "10513\tFeminist Movement\tLadies is pimps too. Go on brush your shoulders off. \tFAVOR\n",
            "10514\tFeminist Movement\tI'm the bad cop to @Patjouk's good cop. (... Though am I/is she really? Muahaha. ;P) #tech #techdiversity \tAGAINST\n",
            "10515\tFeminist Movement\tWomen want to be treated as equals until they get hit after hitting a man first. BULL SHIT! MOTHA FUCK \tAGAINST\n",
            "10516\tFeminist Movement\t@trutherbotred there's a woman in a picture and she's being groped lets yell #womensrights #feminist \tFAVOR\n",
            "10517\tFeminist Movement\tIf feminism was not a religion, feminists would not fervently reject all evidence they emotionally find blasphemous. \tAGAINST\n",
            "10518\tFeminist Movement\tI thought this video on #equality was interesting, contradictions and demonization about men in the agenda of passive and activist \tFAVOR\n",
            "10519\tFeminist Movement\tEvidence of the fossil record to creationists is the evidence against the wage gap to feminists.   #GamerGate \tAGAINST\n",
            "10520\tFeminist Movement\t#howtospotafeminist?  They are so sexually unattractive that even in a world of rapists they would always be safe. \tAGAINST\n",
            "10521\tFeminist Movement\tAlso Tatum's feigns giving oral in a hands free headstand. SEE THIS FILM. \tNONE\n",
            "10522\tFeminist Movement\tEveryone quick, feminists are a minority now! lol \tAGAINST\n",
            "10523\tFeminist Movement\tAnd girls just wanna have fun...damental rights \tFAVOR\n",
            "10524\tFeminist Movement\tSeriously considering writing an article on the ban of school skirts at a secondary school, any thoughts would be appreciated :) \tFAVOR\n",
            "10525\tFeminist Movement\tWhy isn't this #Women also being #Charged for attacking #DeAndreJohnson first.#DoubleStandards #Sport #NFL #Abuse #CorruptSystem \tAGAINST\n",
            "10526\tFeminist Movement\tI'll eat mac and cheese out of your front hole but only if you ask first \tNONE\n",
            "10527\tFeminist Movement\tWhen women spend too much time out of the kitchen they get over opinionated and think they know everything #feminist \tFAVOR\n",
            "10528\tFeminist Movement\tEEWWW! Drawing attention to women's health issues like breast, ovarian, and uterine cancer?!!? #feminismiscruelty \tAGAINST\n",
            "10529\tFeminist Movement\tHelping getting laws for both patents to get paid maternity leave???!! WHEN WILL THIS MADNESS STOP?!?!?? #feminismiscruelty \tAGAINST\n",
            "10530\tFeminist Movement\t@Nero the 'author' is @onepoundstories she's making money out of it \tNONE\n",
            "10531\tFeminist Movement\t@moo_mena unlearn that believing in gender equality is life saving, yes it's fab-but why not actively fight for change? \tFAVOR\n",
            "10532\tFeminist Movement\t@WALKAFLOCKKAA @kasscheeks @WeNeedFeminlsm they all acting like they lived through medieval times and shit \tNONE\n",
            "10533\tFeminist Movement\t@NormaniKordei hi, can u pls rt this people need to know about this!!!!! #feminist \tAGAINST\n",
            "10534\tFeminist Movement\t@AllyBrooke hi, can u pls rt this people need to know about this!!!!! #feminist \tFAVOR\n",
            "10535\tFeminist Movement\tSo if a women earns money then it's HERS to KEEP??  #feminismiscruelty \tFAVOR\n",
            "10536\tFeminist Movement\tGrowing up, getting told \"no let your brother do that it's too heavy\" is why we need feminism \tFAVOR\n",
            "10537\tFeminist Movement\tBeing a woman & being a feminist just means your not on your own side. \tFAVOR\n",
            "10538\tFeminist Movement\t@ZachCityy @aribentz Dad I'm running away n never coming back!!! #fuck12 \tNONE\n",
            "10539\tFeminist Movement\tUGH I am SICK to DEATH of this whole bitches wanting \"equality\" thing like stfu u DUMB CUNT #feminismiscruelty \tAGAINST\n",
            "10540\tFeminist Movement\tPutting the air conditioners in while wearing a sundress because \tNONE\n",
            "10541\tFeminist Movement\tWhine about how things aren't going your way, even though you're an adult. #LikeAFeminist \tAGAINST\n",
            "10542\tFeminist Movement\tTo the young woman I stood next to at KL airport. Sorry I did not step in when your partner grabbed, threatened you #YesAllWomen \tFAVOR\n",
            "10543\tFeminist Movement\t#women learn to be women and #men learn to be men and I don't blame it all on you but I don't want to be your #friend  #lyrics \tFAVOR\n",
            "10544\tFeminist Movement\tNot catering to a woman that doesn't bring = amount to the table as I do. #equality  \tFAVOR\n",
            "10545\tFeminist Movement\t@saltwaterpop I like your attitude a lot tho \tNONE\n",
            "10546\tFeminist Movement\tHe who has authentic power pays the bill & she who has the feminist illusion of power demands the divorce settlement. \tAGAINST\n",
            "10547\tFeminist Movement\tLol feminist don't complain about how men get less clothing options at stores. (When they say there for gender equality) \tAGAINST\n",
            "10548\tFeminist Movement\tUnlike cancer treatments marriage risks outweigh the benefits. If oncologists married people everybody would be single \tNONE\n",
            "10549\tFeminist Movement\t@NAFEDUDE @TakedownMRAs It's never a problem until it happens to you =) \tNONE\n",
            "10550\tFeminist Movement\tWould mean a lot if u clicked the link in my bio #feminist \tAGAINST\n",
            "10551\tFeminist Movement\t@NAFEDUDE I'm just sharing a laugh with my buddies, ur points are laughable, laughing is good 4 health =)  \tNONE\n",
            "10552\tFeminist Movement\t@OliveStuff @douchefuck @redheadtart @nascar_jesus mice are intelligent animals, and should not be mocked \tNONE\n",
            "10553\tFeminist Movement\t#ARTe Pop art helps improve Cuba-US relations. Willie Cole, How Do You Spell America? #2, 1993 #popart #AndyWarhol #AnaMendieta \tNONE\n",
            "10554\tFeminist Movement\tHello ladies, finally made a twitter to expand our presence #rationalfeminism #stayfreeofPIV \tAGAINST\n",
            "10555\tFeminist Movement\tWhen guys text hella girls it's fine but when girls text guys they get called \"thots \tFAVOR\n",
            "10556\tFeminist Movement\tWho said Feminists Standard is THE STANDARD of how a woman should be? \tAGAINST\n",
            "10557\tFeminist Movement\tGreat to see the progress we're all making. May that continue, until this becomes an antiquated issue. #HeForShe #GirlPower \tFAVOR\n",
            "10558\tFeminist Movement\tHAPPY BIRTHDAY TO ONE OF MY FAV PEOPLE WHO HAS GREAT VIEWS & IS A FELLOW SUPREME COURT CUTIE I LOVE YOU @maddylinder \tNONE\n",
            "10559\tFeminist Movement\tSorry but if a #YesAllWomen slapped me the way #Mattie did in #Humans, i'm slapping her back. You hit me, I hit back. \tFAVOR\n",
            "10560\tFeminist Movement\tReligious \"what homosexual men find sexy is wrong\"  Feminits \"what heterosexual men find sexy is wrong\"  \tFAVOR\n",
            "10561\tFeminist Movement\tDear parents, please don't tell your boys \"not to be a girl\" when they cry. Girls rock. \tFAVOR\n",
            "10562\tFeminist Movement\tYou're a sexy bitch. Own that shit. \tFAVOR\n",
            "10563\tFeminist Movement\tHow to oppress a strong and independent woman? Sit in a certain way... #manspreading \tFAVOR\n",
            "10564\tFeminist Movement\tThe Dunhams would be the only reality show that would be a literal horror show. And the feminists would still watch it. \tAGAINST\n",
            "10565\tFeminist Movement\tGender is an adjective not a noun - Ruth    Pearson #gender #genconuea2015 \tFAVOR\n",
            "10566\tFeminist Movement\tWomen shouldn't be topless! Oh shit and here I thought my breasts were for feeding babies and not the male gaze. My bad \tFAVOR\n",
            "10567\tFeminist Movement\tI think I see the appeal in being a housewife. #househusband #seemsfun #creativepotential #equality #illexplainlater \tFAVOR\n",
            "10568\tFeminist Movement\tIf women didn't have tits would any of us even really care anymore? \tFAVOR\n",
            "10569\tFeminist Movement\t@TarynOnthenews @NRO Very unnecessary, since 'no' doesn't always mean 'no', especially if she's drunk!  #rapehumor \tAGAINST\n",
            "10570\tFeminist Movement\tThe Hypocrisy of Feminism is integral part of the modern United Orwellian Kingdom.   #GamerGate \tAGAINST\n",
            "10571\tFeminist Movement\tI'm flabbergasted that #feminist are pointing out little things that No one gives a fuck about & cause am uproar \tAGAINST\n",
            "10572\tFeminist Movement\tI'm trying to explain how its bad for men to but this #feminist is calling me a liar, #womanagainstfeminism #wtf \tAGAINST\n",
            "10573\tFeminist Movement\tmen need to stop going along with feminists. it's giving them reason to think they're right. \tAGAINST\n",
            "10574\tFeminist Movement\tBieber showed off his butt and no one slut shamed him but god forbid if we women wear shorts #doublestandards #sexism \tFAVOR\n",
            "10575\tFeminist Movement\tThe feds are still planning to put a woman on the $10 dollar bill #abouttime #equalityforall #historychanged \tFAVOR\n",
            "10576\tFeminist Movement\tIf a man wants abortion but the woman wants to keep it, why on earth should he pay for child support? #doublestandards \tAGAINST\n",
            "10577\tFeminist Movement\tSleezy men: DO NOT catcall at me and @emmalizrizz while we're out walking. It's NOT welcome, attractive or harmless. \tAGAINST\n",
            "10578\tFeminist Movement\tMen are from Earth, women are from Earth. Deal with it.  - George Carlin #QuotesOfTheDay #EqualityForAll #equality \tFAVOR\n",
            "10579\tFeminist Movement\tCelebrities, please stop declaring yourselves \"not a feminist\" and coloring it with a different term. #equality #samething \tAGAINST\n",
            "10580\tFeminist Movement\tWomen in the middle east get stoned to death for being raped but hey, check out the new friend icon in facebook! \tAGAINST\n",
            "10581\tFeminist Movement\tThere really are days when I'm ashamed to admit I share gene's with some people, today is one of those days. \tNONE\n",
            "10582\tFeminist Movement\tI hate it when ignorant losers say \"another feminist cured.\" I don't need to be cured for wanting to be treated like a person. \tAGAINST\n",
            "10583\tFeminist Movement\t#GamerGate tag is about games Other things? They have their own tags: #SJWlogic #SaveTheCover #ShirtStorm \tAGAINST\n",
            "10584\tFeminist Movement\tThe shaming we do around celebrity choices in photoshoots is highly related to the principles behind \tNONE\n",
            "10585\tFeminist Movement\tWhy are you afraid of me when I open my mouth but not when I open my legs? \tAGAINST\n",
            "10586\tFeminist Movement\t@Paula0422 btw if you like Chris Brown I WILL SET YOU TO FLAMES WITH MY SPARK FARTS! #rhianna \tNONE\n",
            "10587\tFeminist Movement\tThe anti-gamergate people have behaved abominably, and have no moral ground from which to stand in judgement. #gamergate  #antiSJW \tAGAINST\n",
            "10588\tFeminist Movement\tUnless u have a health or physiological problem, u should not be proud of ur overweight body! #health \tFAVOR\n",
            "10589\tFeminist Movement\tWhat young woman doesn't want to be #sugarbaby? It's far better than slaving away in a cubicle for nothing. #sugardaddy \tFAVOR\n",
            "10590\tFeminist Movement\t@StacyLGage @mylittlepwnies3 because i need the whole world to validate my vagina \tFAVOR\n",
            "10591\tFeminist Movement\tI decided to watch The Stepford Wives and I hope the women go back to normal and smash the patriarchy it's big, dumb face. \tAGAINST\n",
            "10592\tFeminist Movement\t@Lauren_Southern @PressForTruth @moen_tim spank them feminist fascists! #SpankAFeminist  \tAGAINST\n",
            "10593\tFeminist Movement\tgirls: \"why don't boys like this go to my school\" boys: \"wish girls like this went to my school\" girls: unrealistic standards  \tFAVOR\n",
            "10594\tFeminist Movement\tgirl: *bikini photo* girls: slut Justin Bieber: *butt naked* girls: \" \"lemme see the front\" LOL BUT YOU'RE A FEMINIST \tFAVOR\n",
            "10595\tFeminist Movement\tThe Office Cinderella: When a female is considered as not-giving-100%-to-work because she comes and leaves office on time. #women \tFAVOR\n",
            "10596\tFeminist Movement\t@watchyoomouth_ @SCbchbum are you fucking KIDDING ME? so you're saying that justifies rape? #rapeculture #smdh \tAGAINST\n",
            "10597\tFeminist Movement\t@datsradd why not the right? Why always the left titty ? \tNONE\n",
            "10598\tFeminist Movement\tI need feminism because:  A man in a room full of women is ecstatic. A woman in a room full of men is terrified. \tFAVOR\n",
            "10599\tFeminist Movement\tTomorrow, we gone see think pieces on @KeyAndPeele 's pirate skit. #wesayyoho #butwedontsayho #cuzhoisdisrespectfulyo #kinda \tNONE\n",
            "10600\tFeminist Movement\tIn the United States, when an unmarried man has a baby, his partner can give it up without his consent. #Patriarchy \tAGAINST\n",
            "10601\tFeminist Movement\tMarriage is driving under the influence of hormonal alcohol & divorce is the morally painful sobriety the day after. \tNONE\n",
            "10602\tFeminist Movement\tFeminists grades in science class usually are as bad as the abysmal success rate of marriage.   #GamerGate #NotYourSh... \tAGAINST\n",
            "10603\tFeminist Movement\t@BOZARbrussels is this how @UN_Women sees #genderequality ? Only #women with arms like #men ? #stopmarriagebill #fakecases @UN \tFAVOR\n",
            "10604\tFeminist Movement\t@shoe0nhead surely it needs both to be side by side? Looks like the woman is now in front. Is that not what u were worried about? \tAGAINST\n",
            "10605\tFeminist Movement\t@PH4NT4M @MarcusChoOo @CheyenneWYN women. The term is women. Misogynist! \tFAVOR\n",
            "10606\tFeminist Movement\tThe stupidity of feminists is fucking hilarious! #sorrynotsorry \tAGAINST\n",
            "10607\tFeminist Movement\tI've seen many defeated men in life but never a defeated woman~Sir Fazle Abed #WomenEmpowerment #quote #quoteoftheday #wisdom \tFAVOR\n",
            "10608\tFeminist Movement\tFeminism is a hate group!! - anti fem Twitter user that does nothing but harass and spread hate. \tAGAINST\n",
            "10609\tFeminist Movement\t@caitlinwinner Ladies in front of men is equality apparently \tFAVOR\n",
            "10610\tFeminist Movement\tExpel them_ #male millionaires from society!  All Rights for women and children!  Stop #children #women trafficking! \tFAVOR\n",
            "10611\tFeminist Movement\tSaw something about Facebook moving the gender icons around. Women are officially not living in the shadow of a man! #InternetWin \tFAVOR\n",
            "10612\tFeminist Movement\tClothes with size number oppress woman . Remove them. #thisoppresseswomen \tAGAINST\n",
            "10613\tFeminist Movement\tWhy do #women take their husban's name?Why not the other way round?Let's start #Itookhername!!!us #gender #genderequity \tFAVOR\n",
            "10614\tFeminist Movement\tInb4 feminists think that it's sexist that the King card is better then the Queen card and they try to change the rules of cards \tAGAINST\n",
            "10615\tFeminist Movement\tFeminist actually complained about the Facebook icon......... \tAGAINST\n",
            "10616\tFeminist Movement\tDon't tell me what to do and what not to do. Now come here, let me tell you what a real man is.   #hypocrites \tAGAINST\n",
            "10617\tFeminist Movement\tIf men and women were equal I could sleep with multiple men and wouldn't be hoe. #IAmAFeminist \tAGAINST\n",
            "10618\tFeminist Movement\tDEAR FEMINISTS  Yes, we should teach men not to rape. Also, we should teach women not to murder their own children.  \tAGAINST\n",
            "10619\tFeminist Movement\t#RapeCulture is leaving your new/used car in the worst neighborhood, doors wide open & not to expect #CarTheftCulture \tAGAINST\n",
            "10620\tFeminist Movement\tThe concept of #RapeCulture is a puerile, intellectually dishonest glorification of a crime by feminists.  \tAGAINST\n",
            "10621\tFeminist Movement\tA fictional character been raped and abused oppress me. Censor pls!! #thisoppresseswomen  \tAGAINST\n",
            "10622\tFeminist Movement\tJust wrote my blog to help @CalAlimony pass a vital law that ends #alimony. Posting soon. #Divorce #leanin \tNONE\n",
            "10623\tFeminist Movement\tReligions give its members an identity & without it, they cannot function. Feminists cannot function without feminism. \tAGAINST\n",
            "10624\tFeminist Movement\tFeminists, SJWs and other authoritarian Marxists = slimy f**ks bent on world domination. Just gotta say it. \tAGAINST\n",
            "10625\tFeminist Movement\twomen can be sexist toward men. think all men are pigs? you're sexist. you can't fight oppression with this. \tAGAINST\n",
            "10626\tFeminist Movement\tNow, I understand your a feminist and think that's adorable, but this grow up time and I'm the man here so run along. \tAGAINST\n",
            "10627\tFeminist Movement\tJust want gender politics to be over.  My brain hurts. #genderequity #patriarchy #MRA \tFAVOR\n",
            "10628\tFeminist Movement\tomg @KeyAndPeele you are fcking KILLING IT! #piratesong #womenaredoctorstoo #hoeisdisrespectful \tFAVOR\n",
            "10629\tFeminist Movement\tBeen watching a lot of feminist videos in YouTube an all I can say is Are these women for real ?!?! \tAGAINST\n",
            "10630\tFeminist Movement\tRT @LouiseMensch: Emma Psychowicz   He was cleared. #EmmaSulkowitz #PaulNungesser #justice #fauxminism \tAGAINST\n",
            "10631\tFeminist Movement\tDon't #GiveYourMoneyToWomen. Instead feed a cat or a dog. The animal will like you and show some gratitude.   \tAGAINST\n",
            "10632\tFeminist Movement\t@N4G that's what she gets for not knowing her place #KnowYourPlaceWomen   #FreeSpeech \tFAVOR\n",
            "10633\tFeminist Movement\tWomen are murder, abused, raped and etc but what is apparently more important for feminism are #freethenippple and #Manspreading . \tAGAINST\n",
            "10634\tFeminist Movement\tI always enjoy being called a slut, or a bitch by feminists for my opinions. #AntiFeminism  \tAGAINST\n",
            "10635\tFeminist Movement\tHugo Schwyzer, Jian Gomeshi, both prominent male feminists, both abusers of women #sjw #GamerGate \tAGAINST\n",
            "10636\tFeminist Movement\t#yesallwomen are #always #unstoppable if they whine whine whine to get their way #likeagirl  #GamerGate  #HoneyBadger \tAGAINST\n",
            "10637\tFeminist Movement\t#yesallwomen are #always #unstoppable if they cry to get their way #likeagirl   #GamerGate    \tFAVOR\n",
            "10638\tFeminist Movement\tif those feminists come to their senses about equality, they will be calling themselves equalist. @MeninistTweet \tAGAINST\n",
            "10639\tFeminist Movement\t@ChaseStraight Wat is gaems? Like candy crush saga? #girlgamzers #wat \tFAVOR\n",
            "10640\tFeminist Movement\t@CollegeFix @WashTimes Please notice that \"Victims Advocates\"were filing friend of the court briefs. #repealVAWA N destroy \tNONE\n",
            "10641\tFeminist Movement\tIf your shampoo has more shit in it, you have to pay more. The pink tax is a farse. #pinktax \tNONE\n",
            "10642\tFeminist Movement\t@AmandaMarcotte do you love your cats more than you love men? Of course \tFAVOR\n",
            "10643\tFeminist Movement\tIf these feminist have children, Im legit afraid of what their names will be. @ChrisRGun  \tAGAINST\n",
            "10644\tFeminist Movement\tToo many empty compliments are a waste of time unless you are a professional narcissist or a feminist.  #GamerGate \tAGAINST\n",
            "10645\tFeminist Movement\tFeminist don't want equality, they're hypocrites. A lot of them are single for that exact reason . \tAGAINST\n",
            "10646\tFeminist Movement\tFeminist make me sick. I'm all for equality but not for Feminist Hypocrisy. \tAGAINST\n",
            "10647\tFeminist Movement\tWomen's Forum for #FFD3 happening today! Follow @AWID @tessakhan @FemnetProg et al #justice \tFAVOR\n",
            "10648\tFeminist Movement\tIts true that not all radical feminists are ugly, however i'm sure their personalities make up for it.  #compensatingmuch \tAGAINST\n",
            "10649\tFeminist Movement\tIf we have a ticker tape parade for the women, then who's going to clean it up? #WorldCup #thinkofthechildren \tFAVOR\n",
            "10650\tFeminist Movement\tI still take pride in calling myself Goswami. And I would take strong exception to anyone who told me I wasn't entitled to use it! \tAGAINST\n",
            "10651\tFeminist Movement\tI'm a co-omnipotent-faux-fallacious-poly-concupiscent-inter-equanimity feminist now.   you may bow to me. \tAGAINST\n",
            "10652\tFeminist Movement\t3rd wave feminism is pretty much the far-left equivalent of the Tea Party... \tAGAINST\n",
            "10653\tFeminist Movement\tWhy fight for gender equality, you ask? 'Cause I listen to shitty women claim they are above the law & watch innocent men drown. \tFAVOR\n",
            "10654\tFeminist Movement\tYou should start using Google translate @baedontcare, it is sooooo easy even retarded feminists like you can use it.  \tAGAINST\n",
            "10655\tFeminist Movement\t@Cernovich lets hang our heads in shame that men have become so feminized \tFAVOR\n",
            "10656\tFeminist Movement\tMan: this is an issue and needs to be addressed Woman: this is an iss... Men: why are you so outraged???? #everydaysexism \tAGAINST\n",
            "10657\tFeminist Movement\tRT @ReformedSamurai: I have yet to meet one #feminist that isn't a racist or sexist. #GamerGate #WomenAgainstFeminsim #sup... \tAGAINST\n",
            "10658\tFeminist Movement\tI swear to God... The people who claim to represent Feminism are turning it into a joke. #SJW #feminist  #GuaranteedReactions \tAGAINST\n",
            "10659\tFeminist Movement\tim okay with white girls with dreads because \tFAVOR\n",
            "10660\tFeminist Movement\tSince when did #feminists get to decide what men are, and are not, allowed to be turned on by?  \tAGAINST\n",
            "10661\tFeminist Movement\tWe celebrate the company of 50 great people & organisations. From #fiji-lovers #perfumers #ecowarrior #vegan #humanrights #healers \tNONE\n",
            "10662\tFeminist Movement\t@NARAL Complaining that your boss won't pay for your birth control but insisting that he 'stays out of my bedroom.' #birthcontrol \tAGAINST\n",
            "10663\tFeminist Movement\tThe true woman is as yet a dream of the future - Elizabeth Cady Stanton, 1888 #letsbedreamyfuturewomen #quote #womenforwomen \tFAVOR\n",
            "10664\tFeminist Movement\tPlease tell me more about how UTI commercials are icky, so I won't forget to livetweet my next one in person. \tNONE\n",
            "10665\tFeminist Movement\t@fuckboyusagi : ATTENTION ALL FEMINISTS, FOLLOW #TumblrPosts #yesallwomen #THANKYOUELLENPAO #reddit #GamerGate #KILLALLMEN #LGBT \tAGAINST\n",
            "10666\tFeminist Movement\tToday's roundup of pro-circ trolls: @cbpolis @AnimalRightsJen @ynkutner @DrJohnChisholm @monaeltahawy @hibowardere #i2 \tNONE\n",
            "10667\tFeminist Movement\ti need feminism because i cant even walk to dairy queen without a male yelling nice ass out of his window \tFAVOR\n",
            "10668\tFeminist Movement\t@femfreq I don't understand why all these nerds hate you so much. I would love to do the nasty with you sexy #GamerGate #feminist \tAGAINST\n",
            "10669\tFeminist Movement\tThe more you push me, the more I resist. Don't bother #strongwomen #women \tFAVOR\n",
            "10670\tFeminist Movement\t@Maisie_Williams is our hero with her #LikeAGirl campaign! What a brilliant leader she is, so badass just like Arya! #GoT \tFAVOR\n",
            "10671\tFeminist Movement\tRather be an \"ugly\" feminist then be these sad people that throws hat on people that believes in equality! \tAGAINST\n",
            "10672\tFeminist Movement\tiamNovaah: RT ChrzOC: Bitches be running wild...  # # # # #   #feminazi  #feminonsence   #brosb4hos #F4F #R... \tAGAINST\n",
            "10673\tFeminist Movement\t@angerelle you disagree that people should strive to be stronger? #empowering \tFAVOR\n",
            "10674\tFeminist Movement\t#Rapeculture is basically a FABLE. It has almost no reason on its side, but plenty of emotion. #rape #women #antifeminism #antiSJW \tAGAINST\n",
            "10675\tHillary Clinton\t#mtp @meetthepress How is deleting emails -part of the government record -different from erasing parts of a tape? #nixon #p2 \tAGAINST\n",
            "10676\tHillary Clinton\t@JDSon78 @AndrewBroering AndrewWhyDoYouCareAboutWhatIThink? I DidNotRealizeThatIWasThisImportant. SirTweet AndrewIsAPaidTroll \tNONE\n",
            "10677\tHillary Clinton\tThe white male vote is solidly GOP. The black vote is solidly DEM.  That leaves white females and brown ppl. #FeelTheBern \tAGAINST\n",
            "10678\tHillary Clinton\t@nyinvesting big banker buds need to ratchet up their \"Hillary cares about the little people\" propaganda  \tAGAINST\n",
            "10679\tHillary Clinton\t@GOP Why should I believe you on this? The GOP leaders in congress won't fight Obama now!!! #tcot \tAGAINST\n",
            "10680\tHillary Clinton\t@RushetteNY @TwitchyTeam Hillary to press: \"Curtsy while you're thinking what to say, it saves time\" #throughthelookingglass  \tAGAINST\n",
            "10681\tHillary Clinton\t@GovtsTheProblem This is what I see: Make way 4 ur queen peasants! Don'ttouch or talk 2 her U filth! #NoHillary2016 #Benghazi  \tAGAINST\n",
            "10682\tHillary Clinton\t@CNNSotu @jaketapper - Can we get back to the issues? That's what #Bernie2016 wants to talk about. Not about \tAGAINST\n",
            "10683\tHillary Clinton\t@nytimes But throws a rope around reporters and free speech.  #HillaryInNH \tAGAINST\n",
            "10684\tHillary Clinton\t#IfIhadAdollarFor wondering, was I that stupid when I was a #Democrats? #Obama #2A #NoAmnesty #WakeUpAmerica \tAGAINST\n",
            "10685\tHillary Clinton\t@BeladonnaRogers @Chairmnoomowmow The compliant media allowed themeselves to b herded by a couple of strands of rope? Good sheep! \tAGAINST\n",
            "10686\tHillary Clinton\tThe #HillaryCampaignSong Top 20 will be revealed (and voting will resume) Monday morning at 10am PT! \tAGAINST\n",
            "10687\tHillary Clinton\t@HillaryforNH will u rope off the people too Hillary swine?  #uppers #uniteblue \tAGAINST\n",
            "10688\tHillary Clinton\t.@mite72 @PatVPeters NEITHER ONE!!!! Just making a funny! \tNONE\n",
            "10689\tHillary Clinton\t@LVNancy @incessantpatrio @bcwilliams92 Yes! #SoMuchUgly in #HillaryClinton, Hollow Acts Are Infamous! #WhyImNotVotingForHillary \tAGAINST\n",
            "10690\tHillary Clinton\t@WoodenThreat @incessantpatrio @bcwilliams92 that was fun, but it wont be if we have another FAKE #POTUS #WhyImNotVotingForHillary \tNONE\n",
            "10691\tHillary Clinton\tDoes #hillaryclinton lie and engage in cover-ups to do damage to the country or does she do it out of habit?  #tcot #uniteblue \tAGAINST\n",
            "10692\tHillary Clinton\tI find allowing the deaths of Americans in Benghazi to be more offensive than the name Redskins. #Benghazi #redskins \tAGAINST\n",
            "10693\tHillary Clinton\t@Conservativeind @cannoneerfour Lets hope!  She's a killer, liar and a coward! #WakeUpAmerica #MakeAmericaGreatAgain \tAGAINST\n",
            "10694\tHillary Clinton\t@DaGodfather907 @NahBabyNah If Jebb is our candidate, we will hand Hillary the keys to 1600?Penn Ave. #WakeUpAmerica \tAGAINST\n",
            "10695\tHillary Clinton\tThe ropes might keep people back now Hillary but You WILL answer to americans come debate time you coward. #tcot #RedNationRising \tAGAINST\n",
            "10696\tHillary Clinton\tRT @harrisongolden: \"So Clinton-esque,\" Brit Hume said of Hillary's email controversy. \"You never quite get the whole truth.\"> \tAGAINST\n",
            "10697\tHillary Clinton\tI think marriage is as it has always been, between a man and a woman. - @HillaryClinton  #MarriageEquaility #justsaying \tFAVOR\n",
            "10698\tHillary Clinton\t@HillaryClinton Pin the tail on the DONKEY!  That means you Hilldawg.  #BernieSanders  #Jeb2016 #Cruz2016 #Election2016  #Rubio \tAGAINST\n",
            "10699\tHillary Clinton\t@HillarityPress @Amedicinewoman 1.Food: #Benghazi 4 NeverAteAgain 2.Weather: #Benghazi WasFireHot 3.Pets: #Benghazi 4PetsMissThem \tAGAINST\n",
            "10700\tHillary Clinton\tI'm 72 yrs old and ever since I was 6 yrs old I wanted to live long enough to see a woman President - Jim from Monticello, IA \tFAVOR\n",
            "10701\tHillary Clinton\tWhat Are We Believing in?  BELIEVE IN VICTORY. Go for  #VICTORY2016  \tNONE\n",
            "10702\tHillary Clinton\tThe federal government did not create the states, the states created the federal government. Ronald Reagan #Federalism \tAGAINST\n",
            "10703\tHillary Clinton\t@tracieeeeee @Irishsmiles1966 @Chloecat317 @weknowwhatsbest THINK POSITIVELY! #OiP #Cruz2016 #MakeDCListen #NoRINOs #NoLibProgs \tAGAINST\n",
            "10704\tHillary Clinton\tCongratulations to our Women Soccer Team for just winning the World Cup against Japan 5-2, women rule ! #freeallfour \tNONE\n",
            "10705\tHillary Clinton\tTeam USA  showed the world what American women are capable of! Is Hillary next? #WWC2015 \tFAVOR\n",
            "10706\tHillary Clinton\t@HillaryClinton: Here's to fearless women chasing their goals. Congratulations, Team #USA! H \tFAVOR\n",
            "10707\tHillary Clinton\t@deeceejazz Do we really want to know what's under those pantsuits? Besides the black heart of evil. \tAGAINST\n",
            "10708\tHillary Clinton\t@HillaryClinton FUCK OFF CROTCH ROT BITCH  WE ALL KNOW WHAT YOU THINK ABOUT WOMEN AND RAPED GIRLS #HILLARYCLINTON #USA \tAGAINST\n",
            "10709\tHillary Clinton\tBeware of #Kochtrolls bashing our candidates. I will not bash #Hillary. She's my plan B, for gosh sakes. #Bernie2016 \tAGAINST\n",
            "10710\tHillary Clinton\t@Breaking911 Probably she made a promise to support gun rights to one citizen, while promising to ban guns to the other \tAGAINST\n",
            "10711\tHillary Clinton\t@nolyklibs Awww does #Killary think posing for that pic will make her look like a real human? @jlconnell66 #Benghazi #Shillary \tAGAINST\n",
            "10712\tHillary Clinton\t@danmericaCNN @GenGSPatton @danamericaIt looked like they were the ones tying the knots. @jlconnell66 #Killary \tAGAINST\n",
            "10713\tHillary Clinton\tRT @hamackey: RT @SlyDude3677: @msnbc  Republican Menu...pic.twitter.com/z4PH6VTJFl  \tAGAINST\n",
            "10714\tHillary Clinton\tThe press needs to get out of the way so the peasants can get a glimpse of her Highness. #morningjoe  \tAGAINST\n",
            "10715\tHillary Clinton\t@HillaryClinton had a duty to preserve ESI Now it's someone's duty to prosecute & sanction her Apparently \"duty\" is irrelevant \tAGAINST\n",
            "10716\tHillary Clinton\t@dougshelton749 @realDonaldTrump  #HRC would be an even bigger threat to America than #Obummer.   #WakeUpAmerica \tAGAINST\n",
            "10717\tHillary Clinton\t@AppSame: Queen @HillaryClinton Was asked What she thought about @realDonaldTrump comments on illegals She Said LET ME EAT PIE \tAGAINST\n",
            "10718\tHillary Clinton\t@dougshelton749   Let's hope her campaign unravels before Dec.  We can't have this liar as next President.  \tAGAINST\n",
            "10719\tHillary Clinton\t@dougshelton749  If @realDonaldTrump finds evidence, he will expose #HRC as the horrible candidate she is.  \tAGAINST\n",
            "10720\tHillary Clinton\t@dougshelton749 @realDonaldTrump  I'd be happy if that scandal brings her down.  There will be others...  \tAGAINST\n",
            "10721\tHillary Clinton\tRT @CattyHipster: Live today like it's your last day. But pay bills and dress appropriately just in case it isn't. #420 \tNONE\n",
            "10722\tHillary Clinton\t@TheJackOBrien @instapundit BOOM! I believe the 6th 'reporter' from the left has forgotten her mittens. #MediaStiffArmed \tAGAINST\n",
            "10723\tHillary Clinton\tThat's true, as long as one works hard, has a record of accomplishment and deserves it. @HillaryClinton NOT \tFAVOR\n",
            "10724\tHillary Clinton\tAKA Depends Day \"It all depends\" and Owebama's positions make you fill your Depends. @jjauthor @weknowwhatsbest \tNONE\n",
            "10725\tHillary Clinton\t#HillaryClinton wants to be elected (thinks she's entitled)to WORK 4 the PEOPLE, & yet, she wants nothing to do with them!#peons \tAGAINST\n",
            "10726\tHillary Clinton\t@WashTimes This is indefensible! One of the dumbest things I have ever seen a campaign do. Even the left was outraged by this.  \tNONE\n",
            "10727\tHillary Clinton\t@thehill Who's in charge of Hillary's campaign? Please get it under control and on message. #smh \tAGAINST\n",
            "10728\tHillary Clinton\t@tiffiwestcott  I got mine and I love it. \tNONE\n",
            "10729\tHillary Clinton\tEducation should not be a debt sentence! -Former State Representative Patricia Harper  #FellowsIA \tNONE\n",
            "10730\tHillary Clinton\tHillary Clinton is a devious & deceitful career politician. She is the Richard Nixon of our time. \tAGAINST\n",
            "10731\tHillary Clinton\tHRC is a war monger, every bit as bad as any Republican in the race, and probably worse than some. \tNONE\n",
            "10732\tHillary Clinton\tIt's interesting how many liberals are so brainwashed and anxious to mindlessly support a woman who isn't even liberal \tAGAINST\n",
            "10733\tHillary Clinton\tThe young Skinheads from yesterday's Aryan Nations has grown up to become the Tea Party of today. Same exact doctrine @msnbc  \tNONE\n",
            "10734\tHillary Clinton\tIf it's been 80+ days since you've done an interview,  can we assume you're not really running for president? \tAGAINST\n",
            "10735\tHillary Clinton\t@peddoc63 @Fr3333dom Seems the way we're going. Lord, I hope Bilderbergs don't pay for Hitlery like they did O. \tNONE\n",
            "10736\tHillary Clinton\tI dislike our idiots as much as I dislike theirs. \tNONE\n",
            "10737\tHillary Clinton\tTake care of your finances. Spend sensibly. Save for a rainy day. Live within your means. Resist greed. #Greece \tNONE\n",
            "10738\tHillary Clinton\t@politicalmath @BoboFromTexas doesn't matter. Nobody cares if the Clintons make mistakes as long as the checks keep coming. \tAGAINST\n",
            "10739\tHillary Clinton\tI don't know how well a socialist is gonna play with southern democrats. #BernieSanders \tAGAINST\n",
            "10740\tHillary Clinton\t@Slate @pinkbunny70 Buh-bye, Bernie. I agree w/most of your platform, but your gun stance is unacceptable. #ENDTHENRA \tNONE\n",
            "10741\tHillary Clinton\tBarrack Obama doesn't care about his own town! Where do you live? Think he cares about you?   #TheFive #NoSanctuaryCities #2A \tAGAINST\n",
            "10742\tHillary Clinton\tThe recent comments of #HillaryClinton sounded like it was #Netanyahu speaking. Doesn't bode well. \tAGAINST\n",
            "10743\tHillary Clinton\tThere's a special place in hell for those who complain more about Hillary than the scum we're fighting. #Obama \tAGAINST\n",
            "10744\tHillary Clinton\t@PantanoLaw Thanks for the follow, may God bless you and your family.  #freeallfour \tAGAINST\n",
            "10745\tHillary Clinton\tDana made this shirt w/ lots of #glitter! #awesome #decoration \tNONE\n",
            "10746\tHillary Clinton\t@Camilian1Sabel Amen to that, everybody has to pay their way, no welfare either.  #freeallfour \tAGAINST\n",
            "10747\tHillary Clinton\tWait...... you said \"BILL COSBY?\"  Oh, I'm sorry, I thought you said \"BILL CLINTON!\"  #uniteblue #ReadyForHillary \tAGAINST\n",
            "10748\tHillary Clinton\tRhodham Hood: It takes a village to  community organize wealth redistribution Obama-style.   \tNONE\n",
            "10749\tHillary Clinton\tI just don't think we need an old white guy in the #WH - Who would his #VP be? voting for \tNONE\n",
            "10750\tHillary Clinton\tSO ANYWAYS WHAT DID HE SAY? ANYTHING ABOUT VOTING FOR ME? #OBAMA #ISIS #ISIL \tAGAINST\n",
            "10751\tHillary Clinton\tWHAT IS \"THE THREAD OF VIOLIN EXTREMISM?\" #OBAMA #ISIS #ISIL #tcot #Elocution \tAGAINST\n",
            "10752\tHillary Clinton\tRight now every liberal in America is feeling hopeful. We have GREAT Prez candidates. #UniteBlue #FeelTheBern \tAGAINST\n",
            "10753\tHillary Clinton\t@TGowdySC Your committee has NOTHING!, 4 other committees found NOTHING! UR wasting our money on a witch hunt. #HillaryClinton \tAGAINST\n",
            "10754\tHillary Clinton\t@Reince This is very credible! Good work! America is desperately in need of good leadership. #VoteGOP #NoHillary \tAGAINST\n",
            "10755\tHillary Clinton\t@AdamSmith_USA Nice video. GOOD Luck WITH it. \tNONE\n",
            "10756\tHillary Clinton\t@HillaryClinton @HillaryforNH hope to see her in NC soon \tFAVOR\n",
            "10757\tHillary Clinton\tI'm going to miss the 5pm interview so I'm depending on you all to live tweet it. Haha \tNONE\n",
            "10758\tHillary Clinton\tWhile I like Bernie as much as the next liberal, if we nominate him we could actually lose to some RWNJ \tAGAINST\n",
            "10759\tHillary Clinton\tWondering if my Hilary 2016 sticker will affect my popularity at the shooting range... #firstdate \tNONE\n",
            "10760\tHillary Clinton\t@AdamSmith_USA because clearly @HillaryClinton is a champion for us all. \tFAVOR\n",
            "10761\tHillary Clinton\t@SenSanders bashes Obama job numbers.Calling it a lie. #istandwithPresidentObama #VoteBlue2016 #HillaryClinton #Democrats \tAGAINST\n",
            "10762\tHillary Clinton\tjust saw ad about @marcorubio being tough on #iran it made my brain hurt #Election2016 #politics \tNONE\n",
            "10763\tHillary Clinton\t@MarkSoveign won't happen again. Hillary's coattails will help all democrats. Take back senate, Keep WH! Make history again! \tAGAINST\n",
            "10764\tHillary Clinton\t@HillaryClinton now can add #ropegate to her long list of \"accomplishments #hillaryforprison2016 #entertainment \tAGAINST\n",
            "10765\tHillary Clinton\tTea Party Nation, Tea Party group listed by Southern Poverty Law Center as hate group. The Tea Party is The NEW Aryan Nations \tNONE\n",
            "10766\tHillary Clinton\tIt's time that we move from good words to good works, from sound bites to sound solutions.--@HillaryClinton #ReadyForHillary \tAGAINST\n",
            "10767\tHillary Clinton\t.@politicoroger It is 2015. You and the other high minded media are not more important than then story. Have a seat. \tNONE\n",
            "10768\tHillary Clinton\t@irritatedwoman She lied under oath before, why trust her to speak the truth now? \tAGAINST\n",
            "10769\tHillary Clinton\tTrue Christians follow Mathew, Mark, Luke and John. GOP-Tea Party anti-Christians follow Hannity Limbaugh, O'Reilly and Palin \tAGAINST\n",
            "10770\tHillary Clinton\t@HillaryClinton the @DalaiLama speaks of women in leadership roles bringing about a more compassionate world. #potus \tAGAINST\n",
            "10771\tHillary Clinton\t@HillaryforNV Many thanks for the follow! \tFAVOR\n",
            "10772\tHillary Clinton\t@gabriellahope_ @HillaryClinton Does the general public trust her enough to be President? Don't think so. \tAGAINST\n",
            "10773\tHillary Clinton\tBased on the long lines, I thought it was free burrito day at Pancheros but it was actually Hillary! #ReadyForHillary \tAGAINST\n",
            "10774\tHillary Clinton\tI've been called many things, quitter is not one of them -@HillaryClinton in Iowa City Public Library #HillaryforIA \tAGAINST\n",
            "10775\tHillary Clinton\t@HillaryClinton condemns anti-Israel boycotts as 'counter-productive' \tAGAINST\n",
            "10776\tHillary Clinton\tHave full faith in @HillaryClinton's campaign. #strategy #politics \tFAVOR\n",
            "10777\tHillary Clinton\tAmazing, inspiring speech&question session in Iowa City from @HillaryClinton .Her answers on education&health care were clear. \tAGAINST\n",
            "10778\tHillary Clinton\t@OutnumberedFNC: Hillary chooses Brianna Keilar for her first interview. What can we expect? \tAGAINST\n",
            "10779\tHillary Clinton\tAnyone who knows or whiteness bigotry & does nothing is just as guilty 4 not doing anything morningjoe #UniteBIue \tNONE\n",
            "10780\tHillary Clinton\t@trayNTP Why doesn't he run as a Socialist? Then he can hit Obama anytime he wants. Otherwise, it's just not done. #Bernie \tAGAINST\n",
            "10781\tHillary Clinton\t@OutnumberedFNC: Hillary chooses Brianna Keilar for her first interview. What can we expect? Disgusting slobbering over her. \tAGAINST\n",
            "10782\tHillary Clinton\tMy whole day is revolving around @HillaryClinton 's interview with @brikeilarcnn on @CNN and I'm okay with that! \tAGAINST\n",
            "10783\tHillary Clinton\t@LeighAnnKopans can I get your pattern for this cross stitch? I want to make my own! #pride \tNONE\n",
            "10784\tHillary Clinton\tHillary Clinton Accomplishment of the Day: extended full military health benefits to reservists and National Guard members. \tAGAINST\n",
            "10785\tHillary Clinton\tIf @HillaryClinton becomes president I'm not leaving the country I will just go \"undocumented. \tAGAINST\n",
            "10786\tHillary Clinton\t7 years ago this month #POTUS released his groundbreaking First Americans tribal policy platform. You're up #Election2016 \tNONE\n",
            "10787\tHillary Clinton\t@kwrcrow Probably for the same reason bho has not ...& @SpeakerBoehner is one of them @GOP @HouseGOP @seanhannity  #StopBush \tNONE\n",
            "10788\tHillary Clinton\t#HillaryClinton just cannot accept the fact that #America does not like her. #HillaryonCNN #BernieSanders \tAGAINST\n",
            "10789\tHillary Clinton\t@HillaryClinton is plain amazing, humble, smart and confident! Let's get it Mrs. President! #HillaryClinton \tAGAINST\n",
            "10790\tHillary Clinton\t@thehill Great now Hillary knows how the american people feel about the majority of politicians including her \tAGAINST\n",
            "10791\tHillary Clinton\tShe's smarter and works harder . Empty accusations,inferences,gossip and rumors are rubbish. \tAGAINST\n",
            "10792\tHillary Clinton\t@MedvedSHOW   wow.  So shrill. Hating Hillary as badly as you hate homeless, transgenders, and people who ride trains \tAGAINST\n",
            "10793\tHillary Clinton\t@kasie I do! And I had an invitation to their beta test before they even officially launched. #HillaryLies \tAGAINST\n",
            "10794\tHillary Clinton\t@CNN @jimsciutto Good i'view #Brianna. #Hillary NOT responsible 4 slander/libel-lies r indefensible. WILL be next #POTUS. \tAGAINST\n",
            "10795\tHillary Clinton\tEither way, @HillaryClinton rises above the media chatter every time. That's one reason why I admire and respect her so much. \tFAVOR\n",
            "10796\tHillary Clinton\t@TwitchyTeam ...and then she'll turn around and treat them like dogs. #RopeLine #SitUbuSitGoodDog \tAGAINST\n",
            "10797\tHillary Clinton\tObama is 'opportunist,' Hillary Clinton no different just 'more militant' - Chomsky #TruthBeTold #notmypresident \tAGAINST\n",
            "10798\tHillary Clinton\t@USATODAY @HillaryClinton how about finding her a #pathtoJAIL #DONOTPASSGO do collect any Any more of #WeThePeople s \tAGAINST\n",
            "10799\tHillary Clinton\t@AC360 of course she is disappointed. Hillary only approves of lying to Americans. #WakeUpAmerica #pjnet \tAGAINST\n",
            "10800\tHillary Clinton\tTrying 2 unfollow every twit who isn't going 2 vote if their candidate doesn't make it to the general.  #FeelTheBern   #SCOTUS \tNONE\n",
            "10801\tHillary Clinton\tROFLMAO! 2012 @GOP couldnt kiss enough of #DonaldTrump ass! Now GOP cant run fast enough. #tcot #uniteblue #Bernie2016 \tAGAINST\n",
            "10802\tHillary Clinton\t@HillaryClinton made me proud today!  Nothing like reinforcing what I already knew!  \tFAVOR\n",
            "10803\tHillary Clinton\t@N_Fatale @bayareahausfrau ILLEGAL IMMIGRATION IS GOOD FOR THE ECONOMY AND GOOD FOR OUR CHILDREN #tcot \tAGAINST\n",
            "10804\tHillary Clinton\t@HillaryClinton great job on @CNN interview today.  Fuck stupid MSM. Go \tAGAINST\n",
            "10805\tHillary Clinton\tHillary upset GOP candidates didn't respond to Trump's illegal imm comments immediately-yet we're still waiting for her emails. \tAGAINST\n",
            "10806\tHillary Clinton\t@HillaryClinton Many of us r near ruin! #SaveTheMiddleClass #PresidentHillaryClinton #StopOutSourcing \tAGAINST\n",
            "10807\tHillary Clinton\tAmerica has no tolerance for cheaters and liars in the White House. #NoBillary #Women4GOP #PresidentialElection2016 \tAGAINST\n",
            "10808\tHillary Clinton\t@HillaryClinton Will #BillClinton assault #MonicaLewinsky on her birthday? #liberals #HillaryClinton \tAGAINST\n",
            "10809\tHillary Clinton\tIf Hillary wins next year it'll be the first time two presidents have had sex with each other \tAGAINST\n",
            "10810\tHillary Clinton\tPresident Jimmy Carter:  There's no doubt Hillary will get the nomination. And when she does I'll be happy to support her \tAGAINST\n",
            "10811\tHillary Clinton\t@StarCoreOne02 @DrMartyFox Is it still 1992? We must be watching Back To The Future 10.0 \tNONE\n",
            "10812\tHillary Clinton\t.@thehill umm.  Yyyeaaaaah. Sure they do. \tNONE\n",
            "10813\tHillary Clinton\t@JedediahBila u must be counting the lies like sheep ..... \tAGAINST\n",
            "10814\tHillary Clinton\tTechnology has exposed more bad politicians than bad cops....Where Is Our Server Hillary? #CNN \tAGAINST\n",
            "10815\tHillary Clinton\tFree and Equal in dignity and rights. \tAGAINST\n",
            "10816\tHillary Clinton\t@CheerUpKaci @tmacGA70 It's the Clinton history of scandalous behavior.  #Integrity knows no sex. #HillaryonCNN \tAGAINST\n",
            "10817\tHillary Clinton\tEntire campaign platform for @HillaryClinton seems to be... \"I'm Hillary Clinton\".  #norecord #nosubstance #tcot #PJNET \tAGAINST\n",
            "10818\tHillary Clinton\tImagine @JoeBiden runs for POTUS. Without a doubt a strong & popularly likable candidate against the Clinton. ------- \tAGAINST\n",
            "10819\tHillary Clinton\tA lot of #GOPHaters for #Hillary - so funny because she is beating them all at 40% \tAGAINST\n",
            "10820\tHillary Clinton\tSUCCESS:  @HillaryClinton said she's receiving a constant barrage of attacks from \"the Right.\"  Great job, guys. Keep it up! \tAGAINST\n",
            "10821\tHillary Clinton\tDo you Progressives know how dangerously close you are to suppressing free speech? Stop it.   #inners  #readyforhillary \tAGAINST\n",
            "10822\tHillary Clinton\t#Democrats and #Obama reduce OUR Army by 40,000   MEANWHILE   Has increased IRS to 100,000  #HillaryClinton #Hillary \tAGAINST\n",
            "10823\tHillary Clinton\t@CNNPolitics @PoliticalAnt @moody this is beautiful #oops \tNONE\n",
            "10824\tHillary Clinton\t#NoHillary2016 & her #PredatorRat, too. MT \"@steve0423: We need to get these stickers up nationwide! #tcot #RedNationRising \tAGAINST\n",
            "10825\tHillary Clinton\t@forewit @HillaryClinton is a degenerate liar who will do, say, cheat, delete, anything to get another squat at 1600 Penn Ave. \tAGAINST\n",
            "10826\tHillary Clinton\t@Reince Hardly a hard-hitting interview like with GOP candidates. Did CNN preclear its questions with her campaign in advance?? \tAGAINST\n",
            "10827\tHillary Clinton\tDemocrats want power for themselves. Republicans will give YOU the power! #Election2016 \tNONE\n",
            "10828\tHillary Clinton\tDad while watching the news:  Politics is just show business for ugly people #HowAboutNo \tNONE\n",
            "10829\tHillary Clinton\t.@thedailybeast such a waste of space #CrackingCeilings \tNONE\n",
            "10830\tHillary Clinton\t@KrownRoyaleNY @jjauthor Bad for her is good for the U.S. @jlconnell66 #Killary \tAGAINST\n",
            "10831\tHillary Clinton\tRT @JohnFugelsang: They should just make the GOP primaries a reality game show called \"Who Wants To Get Beat Up By A Girl? \tAGAINST\n",
            "10832\tHillary Clinton\t@csham21 @EstadodeSats Thank you so much for supportive #Freedom4Cuba RTs! #WakeUpAmerica #Cuba #TodosMarchamos \tAGAINST\n",
            "10833\tHillary Clinton\tCan't #UniteBlue, RT LindaSuhler: Hillary:People Trust Me, Blames 'Constant Barrage of Attacks' By the Right #delusional #WakeUpA... \tAGAINST\n",
            "10834\tHillary Clinton\t@M_E_Adams if a Demonrat were to win I'd prefer Sanders over Killary. \tAGAINST\n",
            "10835\tHillary Clinton\t@jschau11 wow!!! i can halp too!! #OBAMASUCKS #BLOWUPISIS #NOIRS #NOSHARIAUSA #NOAMNESTY #DAMNTHAT140  #USARULES...#ILOVETHIS #(:) \tAGAINST\n",
            "10836\tHillary Clinton\t#WhatILearnedToday @HillaryClinton already admitted to having at least 2 devices, more lies, it never stops \tAGAINST\n",
            "10837\tHillary Clinton\t@DesireeAaron @HillaryClinton  Sheets Clinton Ya got to love it #HillaryonCNN #HillaryClinton \tFAVOR\n",
            "10838\tHillary Clinton\t.@jaketapper The way @HillaryClinton keeps lying I swear her father's real last name is Geppetto. #TCOT #WakeUpAmerica \tAGAINST\n",
            "10839\tHillary Clinton\tIt's a beautiful day for phone banking at the Hill House on 1529 Richland Street! Join us tonight at 6PM! @HillaryforSC \tFAVOR\n",
            "10840\tHillary Clinton\t@ahbrees @TODAYshow  Attack? More like the daily liberal media defend Hillary and her lies!! \tAGAINST\n",
            "10841\tHillary Clinton\t@DeatonCAPT Simple. Govt benefits. Surprised it's only 42%. Must be some dependents who want off welfare. \tNONE\n",
            "10842\tHillary Clinton\t@stylistkavin Amazing how much they sound like Republicans! ; ) #ITrustHillary \tAGAINST\n",
            "10843\tHillary Clinton\t@pdg811 Didn't realize I was in a Republican echo chamber of faux scandals! Ask Gowdy to #Releasethetranscript  #ITrustHillary \tAGAINST\n",
            "10844\tHillary Clinton\tHillary Clinton has amassed $329 million in her career (3 of her top 5 donors are Citigroup, Goldman & JP Morgan). #Bernie2016 \tAGAINST\n",
            "10845\tHillary Clinton\t#HillaryonCNN   The wicked person flees when no one is chasing them - Proverbs  \tAGAINST\n",
            "10846\tHillary Clinton\t@Scott_R_Ellis the reason she struggles to appear genuine is she is not a genuine person. Actions speak louder than words.  \tAGAINST\n",
            "10847\tHillary Clinton\t@Levee_Breaks  The stench of low tide.is lasting NO! ===> \tNONE\n",
            "10848\tHillary Clinton\t@CNNPolitics @JDiamond1 that's so ridiculous to treat people like that. They are doing their jobs. \tNONE\n",
            "10849\tHillary Clinton\tHilarity of the day: Hillary said she went 'above and beyond' in transparency. Really? What about the 30k deleted emails? \tAGAINST\n",
            "10850\tHillary Clinton\t@HillaryClinton Wow, #HillaryClinton looks very fat in that pants suit. #liberals #tlot #Democrats \tAGAINST\n",
            "10851\tHillary Clinton\t@HillaryClinton interview was ridiculous!! She's such a liar! \tAGAINST\n",
            "10852\tHillary Clinton\tEvery time the republicans move to the middle, the liberals move the middle further to the left. \tNONE\n",
            "10853\tHillary Clinton\t.@HillaryClinton blames her lack of trust among the populace on @GOP, forgetting that she's a lying, conniving, murderous, cheat. \tAGAINST\n",
            "10854\tHillary Clinton\tHillary has sacrificed more Ambassadors, told more lies, hid and destroyed more evidence... The beat goes on,,, @McSadie \tAGAINST\n",
            "10855\tHillary Clinton\t@thehill : Women deserve a better candidate for the HIGH HONOR if first woman President: We ALL do! #WhyI'mNotVotingForHillary \tAGAINST\n",
            "10856\tHillary Clinton\tA circus Act such as Donald Trump is short term entertainment. Soon to be canceled. \tNONE\n",
            "10857\tHillary Clinton\t@churstauthor Thanks for the follow Charles, may God bless you and your family !  #freeallfour \tNONE\n",
            "10858\tHillary Clinton\t@alison_rambles @RickCanton @ResistTyranny @RotNScoundrel @LeahR77 @LeahRBoss @RedStateJake  Because I have Grand Children!  \tAGAINST\n",
            "10859\tHillary Clinton\tIf it weren't for her marriage, Hillary would unknown. Thanks a lot, Bill.  RT @MangyLover #HIllaryClinton #WeDontTrustYouHillary \tAGAINST\n",
            "10860\tHillary Clinton\t@TajMagruder  Facetious much? Had me going there. \tNONE\n",
            "10861\tHillary Clinton\t@realDonaldTrump has my vote! The truth will set you free and we need transparency in Washington now more than ever! \tAGAINST\n",
            "10862\tHillary Clinton\t.@HillaryClinton is a liar & corrupt.  Period. End of story.  #criminal #liar #hillaryforprison #uppers #tcot \tAGAINST\n",
            "10863\tHillary Clinton\tRepublicans in the White House will make America great again! #Trump #educateyourself #boycottlibralmedia \tAGAINST\n",
            "10864\tHillary Clinton\t@AndreaTantaros Clinton privilege transcends white privilege, rock star privilege, NFL privilege & intergalactic alien privilege. \tAGAINST\n",
            "10865\tHillary Clinton\tHillary has learned The Blame Game well from Obama - she blames GOP for everything! \tAGAINST\n",
            "10866\tHillary Clinton\twhen i get married to my partner i want @HillaryClinton to be my maid of honor!  #govote #girlpower #lovewins \tFAVOR\n",
            "10867\tHillary Clinton\tHey!!! If anyone wants to help with the Hillary camp at Charlotte pride, let me know!!! #nc #pride #lgbt \tFAVOR\n",
            "10868\tHillary Clinton\tAre we so desperate in this country to seriously consider a 60+ woman as president? \tAGAINST\n",
            "10869\tHillary Clinton\t@JOEROWE409 @ScotsFyre Hillaey Clinton can't help but lie...it's who she really is. \tAGAINST\n",
            "10870\tHillary Clinton\tHillary \"We came, we saw, he [Gaddaffi] died\" psychopath Clinton. #HillaryonCNN #Nothanks \tAGAINST\n",
            "10871\tHillary Clinton\tIt bugs me when some people seek to invalidate centrist Democrats. I prefer a bigger tent. \tAGAINST\n",
            "10872\tHillary Clinton\tJoin the Hillary team now and come to the Jefferson County phone bank tomorrow from 6-8 at Bliss Studio in Fairfield! \tAGAINST\n",
            "10873\tHillary Clinton\tMining is where all the money is but our \"Leader\" says otherwise #ArrestObama #RedNationRising #OperationBendOver #NoSanctuary \tNONE\n",
            "10874\tHillary Clinton\tI wish #OliviaPope could run @HillaryClinton 's campaign... #Scandal #livisreal \tAGAINST\n",
            "10875\tHillary Clinton\tLiberal's, why ARE you so intolerant?!? Why were your parents so intolerant? And their parents? #UniteBlue \tAGAINST\n",
            "10876\tHillary Clinton\t@CNN One would hope everyone would be fired up over such a blatant lie \tNONE\n",
            "10877\tHillary Clinton\tHillary gave her first big interview. Did she talk about the issues? Did she rally the left? Nope. Total dud. #Bernie2016 \tAGAINST\n",
            "10878\tHillary Clinton\t#Clintonemails are just a prelude of what her presidency could be if elected, a myrad of scandals @GOP @FloridaGOP @marcorubio \tAGAINST\n",
            "10879\tHillary Clinton\t@CNN and CNN proved they are not a legitimate news organization by not calling her out about all her lies. #JournalismIsDead \tAGAINST\n",
            "10880\tHillary Clinton\tWe stand with the great #Baltimore mayor! Fire all the Crooks in Uniform! @MayorSRB #FreddieGray #hannity @donlemon #BlueWall \tNONE\n",
            "10881\tHillary Clinton\tHRC is delusional in addition to being a pathological liar.  1%er to the extreme.  \tAGAINST\n",
            "10882\tHillary Clinton\tThis is the 3rd time in U.S. that Republicans has a vacuum of presidential leadership. \tAGAINST\n",
            "10883\tHillary Clinton\t'Hilary is not electable' then you stand no chance @realDonaldTrump #carnivalbarker \tAGAINST\n",
            "10884\tHillary Clinton\tIf Hillary Clinton is elected president in 2016, this nation will surely experience unprecedented destruction. \tAGAINST\n",
            "10885\tHillary Clinton\t@HillaryClinton : \"Change religious beliefs\" to accommodate the violence of abortion?! #WhyI'mNotVotingForHillary \tAGAINST\n",
            "10886\tHillary Clinton\tVoting Republican in 2016 gets you so much more than a free cellphone! #Election2016 \tNONE\n",
            "10887\tHillary Clinton\t@HillaryClinton had a Legal obligation to prevent the destruction (preserve) Gov't & related documents (email). She didn't. \tAGAINST\n",
            "10888\tHillary Clinton\t@3_Card_Monty : I believe the title would be \"First Lord\". Let THAT sink in!! #PJNET \tAGAINST\n",
            "10889\tHillary Clinton\t@Independent Maybe it's his last name? Or maybe he's a bonafide racist with a militia membership. Lol. #Tattoos \tNONE\n",
            "10890\tHillary Clinton\tYou know, when you talk bad about Hillary, in a sense, you're talking bad about me. \tFAVOR\n",
            "10891\tHillary Clinton\tI will give the Jewish state all the support to vanquish Hamas & if that means killing 200,000 Gazans, than so be it. - \tAGAINST\n",
            "10892\tHillary Clinton\tWhy did you lie about the #Benghazi subpoena? @HillaryClinton  No wonder no one trusts you.  \tAGAINST\n",
            "10893\tHillary Clinton\t@JoanOfArgghh I won't use the c-word, so I'll just say that everything Clinton does is a \"cunning stunt\". #HillaryonCNN \tAGAINST\n",
            "10894\tHillary Clinton\tControlling #illegalimmigration is Now Racist According to @ChrisCuomo #NewDayCNN  Let's Bash #Trump ALL Day AGAIN #morningjoe \tNONE\n",
            "10895\tHillary Clinton\tVow today to fight the #FirstFamilyOfCorruption .@billclinton  .@hillaryclinton & keep her out of office #independents #tcot \tAGAINST\n",
            "10896\tHillary Clinton\tDuring ClintonNo.1 prez stint all we heard was 'right wing conspiracy' -it's starting again \tAGAINST\n",
            "10897\tHillary Clinton\tJeb Bush says Americans should work longer hours. I'll do just that... TO ELECT HILLARY CLINTON! \tFAVOR\n",
            "10898\tHillary Clinton\t@AC360 asked @realDonaldTrump the tough questions.  Too bad @CNN didn't ask @HillaryClinton the tough questions.  \tAGAINST\n",
            "10899\tHillary Clinton\t@HillaryClinton : Women deserve a better candidate for the HIGH HONOR of first woman President. We ALL do! \tFAVOR\n",
            "10900\tHillary Clinton\t@HillaryNews #GoKatie Ted you're not going to be President! #HillaryAllTheWay #GayMarriageisLegal #LGBT #GLAAD #PFLAG  \tAGAINST\n",
            "10901\tHillary Clinton\tI stand with @HillaryClinton I know she is for women, poor,children, middle class and GUN CONTROL. \tAGAINST\n",
            "10902\tHillary Clinton\t@NoahCRothman \"Everything I did was permitted.\" -HRC. \"If God is dead, all things are permitted\" -Dostoyevsky.  #tcot \tAGAINST\n",
            "10903\tHillary Clinton\t#EpicLiberalFail Hilary lied about Banghazi and is caught on audio biahahaha #p2 #uniteblue #libcrib #libtards \tAGAINST\n",
            "10904\tHillary Clinton\tEnjoyed @jamiaw article on feminism + @hillaryclinton.We are building campaign that engages ppl through an intersectional lens \tAGAINST\n",
            "10905\tHillary Clinton\tGW Bush gives $100K speech to wounded vets...then sells uranium to Russia. Oh wait. \tAGAINST\n",
            "10906\tHillary Clinton\t@_Holly_Renee I want to fav this tweet....cause it's hilarious. But I give no support to #HillaryClinton \tAGAINST\n",
            "10907\tHillary Clinton\tGOP Busted Trey Gowdy proved their #Benghazi hearings are politically motivated when he leaked documents to the press  \tAGAINST\n",
            "10908\tHillary Clinton\t@Chairmnoomowmow @DrMartyFox I'm on team \"Anyone other than Hillary \tAGAINST\n",
            "10909\tHillary Clinton\t@HillaryClinton Are those women #BillClinton's next targets for assault? #MonicaLewinsky #WarOnWomen #HillaryClinton #tlot \tAGAINST\n",
            "10910\tHillary Clinton\tTrey Gowdy proved their #Benghazi hearings are politically motivated when he leaked documents to the press   \tAGAINST\n",
            "10911\tHillary Clinton\tyou can't bitch at me for donating to Dems.  Only way to get business done with them is to grease the skids #bribe #paytoplay \tAGAINST\n",
            "10912\tHillary Clinton\tPeople should and do trust me.  -woman who also denied getting a subpoena Trey Gowdy served her before she deleted emails \tAGAINST\n",
            "10913\tHillary Clinton\t@iaaronmitch Right now I think we're all sending special thanks to Donald Trump. \tNONE\n",
            "10914\tHillary Clinton\t@peddoc63 @steph93065 @ChrisHollyMusic she's needs an Orange pantsuit! Permanently! #hillaryforprison #wakeupamerica #pjnet \tAGAINST\n",
            "10915\tHillary Clinton\they @HillaryClinton when you LIED about the lack of a subpoena...you REALLY thought you wouldn't get caught? #LIAR #Corruptocrat \tAGAINST\n",
            "10916\tHillary Clinton\t@HillaryClinton lies just for the fun of it, its CRAZY!!!!! #NoHillary #WhyImNotVotingForHillary \tAGAINST\n",
            "10917\tHillary Clinton\t@murphymike @blakehounshell @ScottFConroy let's see jebs emails from 2000 when he helped his idiot brother steal the presidency \tAGAINST\n",
            "10918\tHillary Clinton\tI BLOCKED 2 Liberals Today!..A Very Good Thursday! #GODBLESSTHEUSA #HardCoreAmericanConservative #2A #NRA #ArticleV  #NoMoreBushes \tAGAINST\n",
            "10919\tHillary Clinton\t@rhhhhh380 What we need to do is support all Republicans and criticize the opposition. \tAGAINST\n",
            "10920\tHillary Clinton\t@JessicaAndSandr I have 2 words for u  #Benghazi  #whitewater. She's morally questionable. We as women should demand better \tAGAINST\n",
            "10921\tHillary Clinton\t@Westxgal @irisflower33: This money will buy the Anti-American Libs including \tAGAINST\n",
            "10922\tHillary Clinton\t@HillaryClinton Hillary is a Directioner! This is awesome! :-) They need to sing at your Inauguration! \tAGAINST\n",
            "10923\tHillary Clinton\tOk now Latino are deciding who is going to be president of the US #Jeb2016 #DonaldTrump #Sanders2016 # \tNONE\n",
            "10924\tHillary Clinton\tOnly @theDemocrats want #crimigrants running amok in U.S. Cities.   #CancerIsProgressive \tAGAINST\n",
            "10925\tHillary Clinton\t@LeahR77 @HillaryClinton the unethical lying granny strikes again.  No charisma, no character, no accomplishments, no warmth \tAGAINST\n",
            "10926\tHillary Clinton\tHey Hillary Clinton...How's things working out on #Servergate? Bury enough evidence yet?    #tcot \tAGAINST\n",
            "10927\tHillary Clinton\tDidn't take long for Clinton lackey @PaulBegala to play the \"crazy\" card. So predictable \tAGAINST\n",
            "10928\tHillary Clinton\tI dont understand the people that bash Donald Trump but take Hillary Clinton seriously \tAGAINST\n",
            "10929\tHillary Clinton\tDid you hear the answer Hillary gave to a reporter when they asked a question?!?   Neither have I.  \tAGAINST\n",
            "10930\tHillary Clinton\tHillarity claims no subpoenas, get put in her place with photographic evidence... So trustworthy... #WhatILearnedToday \tAGAINST\n",
            "10931\tHillary Clinton\tHillary has flipped yet again, and is now pro-sanctuary cities. \tAGAINST\n",
            "10932\tHillary Clinton\tHillary says people should and do trust her, phew wee I am glad she finally got that issue behind her. \tAGAINST\n",
            "10933\tHillary Clinton\t@LMdonney @HillaryClinton Thank you Carol 4your support and work in pursuit of electing @HillaryClinton POTUS.  #ITrustHillary \tAGAINST\n",
            "10934\tHillary Clinton\tPondering why virtually all of my female friends, regardless of party, say they find Hillary annoying. \tAGAINST\n",
            "10935\tHillary Clinton\t@HillaryClinton @TheDemocrats How many Xanax does this wretched bitch need to sleep at night? \tAGAINST\n",
            "10936\tHillary Clinton\tHillary Clinton is the only one who can turn this country around we don't need another man in the office. #endsexism \tAGAINST\n",
            "10937\tHillary Clinton\tRepublican on facebook said :If it comes down to a choice between Donald Trump and Hillary,  I'm not voting! \tAGAINST\n",
            "10938\tHillary Clinton\tAt the end of the day, support the candidate w/best chance of beating the progressive democrat.  Don't stay home.  #UniteRight \tNONE\n",
            "10939\tHillary Clinton\t@sgtis0905 @UnPoliticalPrty Never forget @emaleroland #Benghazi Shackle the criminal element \tAGAINST\n",
            "10940\tHillary Clinton\tOne wonders, if your Government ignores the law, the rest of us can too right?  Just say no to  \tAGAINST\n",
            "10941\tHillary Clinton\tIt just depends on what the  definition of the word \"subponea\" is...  #subponea \tAGAINST\n",
            "10942\tHillary Clinton\tSpitting on clergy.  Burning the American flag.  Shaming American ideology.  It's Obama's America, and @HillaryClinton loves it.   \tAGAINST\n",
            "10943\tHillary Clinton\t@donnabrazile @DougHeye So this woman does one thing to help. She's GOP - she's, ultimately, the enemy - don't doubt it \tAGAINST\n",
            "10944\tHillary Clinton\t@MarkBratlien Hi Mark, thank you so much for your follow, may God bless you and yours.  #freeallfour \tAGAINST\n",
            "10945\tHillary Clinton\t@szabosolicitors Thanks for the follow counselor, may God bless you and your family !  #freeallfour \tAGAINST\n",
            "10946\tHillary Clinton\t@jjauthor Janie, I am honored to be followed by you, thank you and God bless you.  #freeallfour \tAGAINST\n",
            "10947\tHillary Clinton\t@FaithWarJournal Thank You for the follow, may God bless you all !  #freeallfour \tAGAINST\n",
            "10948\tHillary Clinton\t@lylafmills Simple. A revolution Two Independence Days And a clean slate. #2ndamendment #REMEMBERBENGHAZI2016 #PATRIOTSWILLRISE \tAGAINST\n",
            "10949\tHillary Clinton\tSo over 20 million government employees got their private info stolen. Has anyone checked @HillaryClinton server?  #2016 #Fail \tAGAINST\n",
            "10950\tHillary Clinton\tThe rebel flag flew off the pole & pulled trigger on gun that fired by itself  liberal dementia growing  daily #2a #rebelflag \tNONE\n",
            "10951\tHillary Clinton\t@TheAtlantic cause  #Hillary Clinton is a LYING THEIVING CUNT  \tAGAINST\n",
            "10952\tHillary Clinton\t@billodoux Thanks for the follow, that his by far the cutest avatar I have seen, God bless you all ! #freealfour \tNONE\n",
            "10953\tHillary Clinton\tProud of @HillaryClinton for supporting stronger gun control measures. #ReadyForHillary \tFAVOR\n",
            "10954\tHillary Clinton\tSo @HillaryClinton received a Subpoena to Testify & She ignored it! Is Hillary above The Law Now?  \tAGAINST\n",
            "10955\tHillary Clinton\tI'm conservative but I must admit I'd rather see @SenSanders as president than Mrs. Clinton. #stillvotingGOP #politics \tAGAINST\n",
            "10956\tHillary Clinton\t@Braidleigh 2016 is the due year for possible revolution.  The water has yet to boil over. #BetOnRed #PatriotsWillRise \tNONE\n",
            "10957\tHillary Clinton\t@SaysMissy HRC takes us Americans for mindless fools!! How insulting! #PJNET #OiP \tAGAINST\n",
            "10958\tHillary Clinton\t@BadgerGeno @kreichert27 @jackbahlman Too busy protesting :) #LoveForAll #BackdoorBadgers \tNONE\n",
            "10959\tHillary Clinton\tChelsea and her bitch mother #HillaryClinton should of committed suicide and spare the world of their hideous pasty face \tAGAINST\n",
            "10960\tHillary Clinton\tWouldn't be surprise that it comes to light that Chelsea's husband cheats on her. #HillaryClinton \tAGAINST\n",
            "10961\tHillary Clinton\tWouldn't be surprise that it comes to light that Chelsea's husband cheats on her like her Bill did on Hillary. #HillaryClinton \tAGAINST\n",
            "10962\tHillary Clinton\tThe blacks cant admit that O is a failure. No, we dont need another affirmative action president #Obama #communism \tNONE\n",
            "10963\tHillary Clinton\t<<I'm just going to be my own little self and kind of keep going along and saying what I believe in!!1!! >> #tcot \tAGAINST\n",
            "10964\tHillary Clinton\tI think that everything she says is a lie.   I mean EVERYTHING.   I don't even think her name is Hillary.  #WakeUpAmerica \tAGAINST\n",
            "10965\tHillary Clinton\t.@HillaryClinton Looking 4ward 2 hearing your Economic Agenda on Monday July13. WOW a candidate talking Specifics & not Rhetoric! \tAGAINST\n",
            "10966\tHillary Clinton\t@mataharikrishna I'm loving it too! Draw that contrast!!! \tNONE\n",
            "10967\tHillary Clinton\t@finneyk Can't stand @msnbc anymore, but hope @HillaryClinton will go on the @maddow Show! This needs to happen!! \tAGAINST\n",
            "10968\tHillary Clinton\tHillary can't create jobs! Last time she had a job to do, she outsourced it to Monica Lewinsky. \tAGAINST\n",
            "10969\tHillary Clinton\tIt's amazing to me how if you want a secure border & a legal process to immigration that makes sense, it means you are racist. \tNONE\n",
            "10970\tLegalization of Abortion\tNeed a ProLife R.E. Agent? - Support a ProLife Group (U-choose) at NoCost ProLifeRealEstate@Yahoo.com \tAGAINST\n",
            "10971\tLegalization of Abortion\tWhere is the childcare program @joanburton which you said would be in place? #loneparents #7istooyoung \tAGAINST\n",
            "10972\tLegalization of Abortion\tI get several requests with petitions to save whales but never to stop the slaughter of babies in the wombs of mothers. #abortion. \tAGAINST\n",
            "10973\tLegalization of Abortion\twe must always see others as Christ sees us,we must see God in all things&remeber 2 look past sin #RomanCatholic \tAGAINST\n",
            "10974\tLegalization of Abortion\tPRAYERS FOR BABIES Urgent prayer one in Lexington KY&two in Dallas TX&in Chattanooga TN  Life begins at conception  \tAGAINST\n",
            "10975\tLegalization of Abortion\tI do not want to bring a child into this dangerous patriarchy. But I want to feel pregnancy as an experience #PregnancyForAll \tAGAINST\n",
            "10976\tLegalization of Abortion\tI have a right to identify as pregnant and have an abortion. Having an abortion confirms my power of choice. #PregnancyForAll \tAGAINST\n",
            "10977\tLegalization of Abortion\tIn so many ways to Christians right here in America we already ARE the \"Great Satan\" #GayMarriage #Drugs #WakeUpAmerica \tAGAINST\n",
            "10978\tLegalization of Abortion\tPray for the Navy yard. God please keep the casualties minimal.   #1A #2A #NRA #COS #CCOT #TGDN #PJNET  #WAKEUPAMERICA \tAGAINST\n",
            "10979\tLegalization of Abortion\tI #DenounceHarper because his religious ties are responsible for the #MarchForLife anti-choice rallies on Parliament Hill. \tAGAINST\n",
            "10980\tLegalization of Abortion\tThe government has given no explanation of why the law was changed #macedonia #HRCtte \tAGAINST\n",
            "10981\tLegalization of Abortion\tThe government has not been able to point to any improved health outcomes for women #law #macedonia #HRCtte \tFAVOR\n",
            "10982\tLegalization of Abortion\t#ICCPR report does not cite any reasons for the changes in the legislation regulating. #macedonia #law # \tAGAINST\n",
            "10983\tLegalization of Abortion\tThose who deny women who've been raped abortion are the same ppl who tell rape victims they asked for it. #rape \tAGAINST\n",
            "10984\tLegalization of Abortion\t@notmuchelse Giving birth is not pushing women toward death. \tFAVOR\n",
            "10985\tLegalization of Abortion\tI am about to deck these 2 bitches in the fucking mouth.  #1A #2A #NRA #COS #CCOT #TGDN #PJNET  #WAKEUPAMERICA \tAGAINST\n",
            "10986\tLegalization of Abortion\tIf u come 2 this country 4 bettwr life fucking adapt 2 USA WAYS #1A #2A #NRA #COS #CCOT #TGDN #PJNET  #WAKEUPAMERICA \tAGAINST\n",
            "10987\tLegalization of Abortion\tIt's undeniable that conception may also be the birth of a soul unto life itself. Why mess with that? \tAGAINST\n",
            "10988\tLegalization of Abortion\tWhy would I want to make choices about my own body, when a congressman could do it for me?  #ConversationsWithAlex \tFAVOR\n",
            "10989\tLegalization of Abortion\tDoes the Gay Community support Abortion? #ProLifeYouth #LGBTPrideMonth \tAGAINST\n",
            "10990\tLegalization of Abortion\tIt's sad to see so many people getting their values from Hollywood rather than the Holy Scriptures.  #ProLifeYouth \tAGAINST\n",
            "10991\tLegalization of Abortion\tThe idea that a \"fetus\" isn't human is outrageous, I mean what else would it be? A dog? A dragon? The unborn are HUMAN BEINGS! \tAGAINST\n",
            "10992\tLegalization of Abortion\t@prolife_wife You can say that again! #AbortionIsMurder #AllLivesMatter #ProLifeYouth \tAGAINST\n",
            "10993\tLegalization of Abortion\t@__Porky @P226_Sig @_HankRearden @jrmadmen @aemdee who is for it. I'm not. But am for a women's right to her own body. \tFAVOR\n",
            "10994\tLegalization of Abortion\tit's not that i don't want to be at work. it's that i rather be asleep. \tNONE\n",
            "10995\tLegalization of Abortion\tAnti choice laws are sexist because they only effect women*.   \tFAVOR\n",
            "10996\tLegalization of Abortion\tSo anti-choice laws are telling these women they're incapable and shouldn't make decisions that involve their own body.   \tFAVOR\n",
            "10997\tLegalization of Abortion\tLike how can you sit there and even go through with the process \tAGAINST\n",
            "10998\tLegalization of Abortion\tFair IS fair if U believe an unborn child has no right to life, then UR saying I can decide if you do?? \tAGAINST\n",
            "10999\tLegalization of Abortion\t@MichestBlogSpot: Postinor is popularly  used for?  #MrChocho_BabyOKoko \tAGAINST\n",
            "11000\tLegalization of Abortion\t#FF #Patriot --> PigsWalkUpright.  Thanks 4 following back!! #Truth #Liberty #Justice #ProIsrael #2A #RiseUpAmerica #ProudAmerican \tNONE\n",
            "11001\tLegalization of Abortion\tHow many location-efficient, #affordablehousing units could the NYC metro (pop. 23M) create if it built over all of its cemeteries? \tNONE\n",
            "11002\tLegalization of Abortion\t@nytimes while you are at it, eliminate all drugs, cars, planes, food, electricity, and anything else that MAY cause a death. \tFAVOR\n",
            "11003\tLegalization of Abortion\tNot all women want to have or bear children, and that is okay  \tFAVOR\n",
            "11004\tLegalization of Abortion\tMeanwhile, @JustinTrudeau wants to waste your money to kill innocent children in the womb. #dangerous #hypocrite #noChoice \tAGAINST\n",
            "11005\tLegalization of Abortion\tIf we are pronounced dead when our heart stops, why are we not pronounced alive when our heart starts? \tAGAINST\n",
            "11006\tLegalization of Abortion\t89% of abortions occur at the 12th week or before #letstalkabortion \tAGAINST\n",
            "11007\tLegalization of Abortion\t1.2% of abortions happen at 21 weeks+  (these are only exceptions) #letstalkabortion \tAGAINST\n",
            "11008\tLegalization of Abortion\t#NothingMoreAmericanThan unjustified homicide of the unborn in \tAGAINST\n",
            "11009\tLegalization of Abortion\tGenerate belief in quality existence for everyone especially children in that community.Kittington2016 \tAGAINST\n",
            "11010\tLegalization of Abortion\tWhen Declaration of Independence was adopted, abortion was illegal in all 13 colonies. #txlege \tAGAINST\n",
            "11011\tLegalization of Abortion\tI'm really pissed off by vaccines mandates. It's not ok to force parents to inject their kids when there might be consequences. \tFAVOR\n",
            "11012\tLegalization of Abortion\tPlease vote against the anti-choice amendment to the Scotland Bill on Monday @KevinBrennanMP - Thanks! #abortionrights \tFAVOR\n",
            "11013\tLegalization of Abortion\t@notmuchelse But of course today one doesn't have to be responsible You can kill your child instead! \tAGAINST\n",
            "11014\tLegalization of Abortion\tThose who wonder what they would have done had they lived at the time of some terrible injustice now know the answer -P. Hitchens \tAGAINST\n",
            "11015\tLegalization of Abortion\tDamn, interesting news when you find out you were almost a product of abortion \tFAVOR\n",
            "11016\tLegalization of Abortion\tReading law cases on abortion rulings from the past 100 years is exhausting! #research #workhard #work #publichealth \tAGAINST\n",
            "11017\tLegalization of Abortion\tEvery1 needs 2 c @Rick_Reyna & @rallysforchrist's movie #TheRallyLA. It's life transforming. #drugs #forgive #SWBC2015 #Salvation \tAGAINST\n",
            "11018\tLegalization of Abortion\t@VeronicaCoffin @Fingersflying the irony of Margaret Sanger wanting to rid the world of blacks. \tNONE\n",
            "11019\tLegalization of Abortion\t#rally4life Motherhood is for some much-wanted,for others it is not.It should be by choice, not by force. Respect women's choices \tFAVOR\n",
            "11020\tLegalization of Abortion\tI hope you all either enjoy the rugby or enjoy not enjoying the rugby \tNONE\n",
            "11021\tLegalization of Abortion\tEn route to Parnell Square for the rally for life!!  #everylifematters \tAGAINST\n",
            "11022\tLegalization of Abortion\t@Independent_ie No one has 5he right to tell any person what they should do with their body \tFAVOR\n",
            "11023\tLegalization of Abortion\t@ProWomanChoice @BuhayIpaglaban people like you are exactly what is wrong with our society. #ProCONTRACEPTION #unapologetic  \tFAVOR\n",
            "11024\tLegalization of Abortion\tA bundle of cells feels more pain than a fully grown women? no. \tFAVOR\n",
            "11025\tLegalization of Abortion\tpro-choicers are basically tryna fight oppression with more  oppression . #feminist \tAGAINST\n",
            "11026\tLegalization of Abortion\t#rally4life more like rally for people who think they have the right to authorise other people's decisions \tNONE\n",
            "11027\tLegalization of Abortion\tAs a man, the only body I should have a say in is my own. #repealthe8th #rally4life \tAGAINST\n",
            "11028\tLegalization of Abortion\tWish I could be at the #rallyforlife counter protest. Women are people. Fetuses are clumps of cells. End of story. #ireland \tFAVOR\n",
            "11029\tLegalization of Abortion\t#rally4life because if they don't want an abortion, then no one can have the choice  \tAGAINST\n",
            "11030\tLegalization of Abortion\t@MikeDury And don't forget, now \"Private clubs\" and organizations. AKA ~> #GirlScouts & \tNONE\n",
            "11031\tLegalization of Abortion\tSo you're at the #rally4life? Tell me more about how #antichoice laws kill 47,000 women A YEAR! Very \"#prolife\" uh? #REpealThe8th \tFAVOR\n",
            "11032\tLegalization of Abortion\tSolidarity with all at the counter #rally4life - Ireland won't be equal until women have full control of our bodies #repealthe8th \tFAVOR\n",
            "11033\tLegalization of Abortion\tThis #rally4life shit! How people support it I'll never understand. \tAGAINST\n",
            "11034\tLegalization of Abortion\tDear to who it may concern;\"YOU stand up for my right to live.   #Baby #murder #RightToLife #unborn #womensrights #legal \tAGAINST\n",
            "11035\tLegalization of Abortion\tAmandaKayHowell: Dear to who it may concern;\"YOU stand up for my right to live.   #Baby #murder #RightToLife #unborn #wo... \tAGAINST\n",
            "11036\tLegalization of Abortion\t@PrevailChris Sexual Assault is Epidemic.. Not just in Military, Colleges, Universities. Fight 2 Stop this Crime=Less Need 4 \tNONE\n",
            "11037\tLegalization of Abortion\tThe #rally4life  shows yet again what little support these people have.  #repealthe8th \tNONE\n",
            "11038\tLegalization of Abortion\tCPCs in this town of 5000: 2. #goddamn \tNONE\n",
            "11039\tLegalization of Abortion\tA prochoice advocate but circumcise ur baby? Fucking hypocrite! #circumcision #humanrights \tAGAINST\n",
            "11040\tLegalization of Abortion\tI think a woman should have the choice of what to do with HER BODY.. But, what do I know? Im only a woman sure \tFAVOR\n",
            "11041\tLegalization of Abortion\tThere is nothing sadder than pro-life young women. I can't help but pity the fools. #repealthe8th \tAGAINST\n",
            "11042\tLegalization of Abortion\t@JaxLeSigh @ProWomanChoice u dont know using #NaturalFamilyPlanning will not have the same effect as birth spacing? \tFAVOR\n",
            "11043\tLegalization of Abortion\t@JaxLeSigh @ProWomanChoice  ur not aware that using #NaturalFamilyPlanning will have d same effect as birth spacing? \tAGAINST\n",
            "11044\tLegalization of Abortion\t@BuhayIpaglaban @blueskies366 Remember that there is no \"murder\" involed in #abortion. I am #ProContraception for LESS #abortion. \tAGAINST\n",
            "11045\tLegalization of Abortion\t@BuhayIpaglaban @blueskies366 thank you again to show that you are AGAINST CONTRACEPTION. \"#Prolife\" = a code word for #misogyny. \tAGAINST\n",
            "11046\tLegalization of Abortion\t.@BuhayIpaglaban perhaps you want to go to the fertility clinics & rescue them all. How many can you fit in your womb. #clowncar \tAGAINST\n",
            "11047\tLegalization of Abortion\t@BuhayIpaglaban @_msthirdward @blueskies366 \"Natural\" family planning isn't \"planning\" at all since it just doesn't work. \tAGAINST\n",
            "11048\tLegalization of Abortion\t@BuhayIpaglaban @blueskies366 There is no \"#abortion\" involved in taking the pill honey. #womenshealth #abortifacient #fail \tAGAINST\n",
            "11049\tLegalization of Abortion\t@BuhayIpaglaban @blueskies366 The culture of death is \"#prolife\" who deny pregnant people healthcare. \tFAVOR\n",
            "11050\tLegalization of Abortion\t@BuhayIpaglaban Bullshit multiplied by bullshit is still bullshit. \tNONE\n",
            "11051\tLegalization of Abortion\tHappy July 4th- freedom day! Let liberty ring out! #freedom #Faith #Jesus #REVIVAL #Life #tcot \tAGAINST\n",
            "11052\tLegalization of Abortion\t@Stephen_C_Ward  What are they doing with acid signs oh yeah their all tripping #lsd  \tNONE\n",
            "11053\tLegalization of Abortion\t@_msthirdward @BuhayIpaglaban @blueskies366 It's never been about \"life\" has it? \"#Prolife\" are OK with women dying. \tFAVOR\n",
            "11054\tLegalization of Abortion\t@BuhayIpaglaban @laurawrpie @_msthirdward @blueskies366 I'm totally cool with this image. Was the fetus unviable? Health at risk? \tAGAINST\n",
            "11055\tLegalization of Abortion\t@BuhayIpaglaban @_msthirdward @laurawrpie Who defends murder here? I haven't heard anyone defending the killing of human beings. \tAGAINST\n",
            "11056\tLegalization of Abortion\tI just unfollowed someone because they tweeted about being pro-life \tFAVOR\n",
            "11057\tLegalization of Abortion\tRT @freesafelegal: \"Why does the government not hold a referendum on abortion?\" asks UN CESCR Mbr Pillay #UNIRL \tAGAINST\n",
            "11058\tLegalization of Abortion\tLeftist, Progressives love 2lie & claim they believe in God, but if they do they would never support #gaymarriage #Obamacare \tAGAINST\n",
            "11059\tLegalization of Abortion\tI'll celebrate #IndependenceDay when EVERYONE in this country is equally free & not living in fear & poverty! #EqualityForAll #p2 \tNONE\n",
            "11060\tLegalization of Abortion\t@violencehurts @WomenCanSee The unborn also have rights #defendthe8th \tAGAINST\n",
            "11061\tLegalization of Abortion\t@violencehurts @WomenCanSee The most fundamental right of them all, the right to life, is also a right of the unborn. \tAGAINST\n",
            "11062\tLegalization of Abortion\tEvery year I see #rally4life ads & think 'that sounds great!' Stop tricking me into thinking you want sth positive! #repealthe8th \tNONE\n",
            "11063\tLegalization of Abortion\t#DefentThe8th? Why would I defend something that kills people? Remember #Savita, killed by Irish \"#prolife\" laws? #RepealThe8th \tAGAINST\n",
            "11064\tLegalization of Abortion\tOf course an embryo is a person! If it were a puppy there'd be no desire to abort it. \tAGAINST\n",
            "11065\tLegalization of Abortion\tIf it's not a person then why do women get invitro? To have a gold fish? \tFAVOR\n",
            "11066\tLegalization of Abortion\tThere should be no law or funding which justifies the murder of innocent life.   #CCOT #pjnet \tAGAINST\n",
            "11067\tLegalization of Abortion\tIn 1776 we killed the conservatives, freed ourselves from that crap #rightwing #Christian #ChurchState #Tyranny. #Uniteblue #tcot \tNONE\n",
            "11068\tLegalization of Abortion\tCompromising on #sin gets easier as time goes on. Oh yeah, it didn't just start! #sexual-impurity #WakeUpAmerica \tAGAINST\n",
            "11069\tLegalization of Abortion\tAntiChoice laws say women can't make their own decisions  \tFAVOR\n",
            "11070\tLegalization of Abortion\tThere's no place for selfishness when you talk about a human life. Everyone matters! #quotes #truelovewaits #parenting #humanrights \tAGAINST\n",
            "11071\tLegalization of Abortion\t@Jizismyname can't wait to see you on @heyqweentv #JizIsMyName #ElectronicaDrugDealer #Jiz  \tNONE\n",
            "11072\tLegalization of Abortion\t@FaceTheNation @nytimes where is #SilencedDiscourse for @TheDemocrats #Divisions on #SchoolChoice #Taxes #DoubleStandard #Biased \tNONE\n",
            "11073\tLegalization of Abortion\t@Mediaite @CNN where is #SilencedDiscourse for @TheDemocrats questions on #Divisions #SchoolChoice #Taxes #DoubleStandard #Biased \tNONE\n",
            "11074\tLegalization of Abortion\tThe most horrific violence in America is the war on babies. \tAGAINST\n",
            "11075\tLegalization of Abortion\tIf the Pope gave a flying fuck about the poor on his home continent, he'd let them have abortion and birth control. \tAGAINST\n",
            "11076\tLegalization of Abortion\tA much needed 3 days with these guys @rory3burke @Im_Brady missed @JimmahTwittah but what a weekend \tNONE\n",
            "11077\tLegalization of Abortion\tif truth is a micro aggression 2 the left Why is name calling by the left not a mega hypocrisy? #UniteBlue #LibCrib #maddow \tNONE\n",
            "11078\tLegalization of Abortion\tIf #Freewill is good enough for your #god it should be good enough for you. \tAGAINST\n",
            "11079\tLegalization of Abortion\tHi @HillaryClinton while you are campaigning, 3000 innocent lives were killed by your pals #rednationrising #uniteblue \tAGAINST\n",
            "11080\tLegalization of Abortion\tWhy are Tumblr feminists so territorial? Pro-lifers can't even voice their opinions without being attacked. #ProLifeProblems \tAGAINST\n",
            "11081\tLegalization of Abortion\tThe sanctity of human life is not a woman's issue. #antifeminism \tAGAINST\n",
            "11082\tLegalization of Abortion\t@denisemourges @RepThomasMassie I know! I'm the only perfect :-) candidate. #ProCivilLiberties #ProBusiness #ProWorker #ProPeace \tNONE\n",
            "11083\tLegalization of Abortion\tNext time just keep the baby   \tAGAINST\n",
            "11084\tLegalization of Abortion\tPeople don't care about things that don't effect men which is the same reason it's sexist we don't cover birth control  \tFAVOR\n",
            "11085\tLegalization of Abortion\tThe point is BODILY AUTONOMY. A born child can rely on other people, and can LIVE by itself   \tFAVOR\n",
            "11086\tLegalization of Abortion\t@ConnectCatholic The justification of abortion is rooted in selfishness & fear & they come from lack of faith & self centeredness \tAGAINST\n",
            "11087\tLegalization of Abortion\tAbortionists and their supporters are the REAL misogynists! #Catholic #Christian #progressive #liberal \tAGAINST\n",
            "11088\tLegalization of Abortion\tSome babies die by chance, none should die by choice! \tAGAINST\n",
            "11089\tLegalization of Abortion\t@BaronTrader @DynaMoChen  Margret Sangers Looking a little rough!!!! \tNONE\n",
            "11090\tLegalization of Abortion\tI would never expect an 11 year old girl to have to carry a pregnancy to term \tFAVOR\n",
            "11091\tLegalization of Abortion\tMonk's Hobbit is back in Twitter. #Catholics \tNONE\n",
            "11092\tLegalization of Abortion\t@BuresLynn @sallykohn @CoFemale Kohn is also anti-human rights, anti-social justice, anti-peace, pro-violence.  \tAGAINST\n",
            "11093\tLegalization of Abortion\tI wonder if #antichoice ever wonder if the pregnant #teen they denied accurate #SexED to could have been the one to cure cancer. \tFAVOR\n",
            "11094\tLegalization of Abortion\tToday is a great because we are alive. \tNONE\n",
            "11095\tLegalization of Abortion\t@meamhere It isn't going to happen. The LW and the RW have too many differences. #ForeignPolicy #HealthCareLegislation #Economics \tNONE\n",
            "11096\tLegalization of Abortion\t@Fungirl3part2 repent wen u commit a grave act like murder of a baby did u #abort ur baby?yes? then YOU repent! #hell s 4 eternity \tAGAINST\n",
            "11097\tLegalization of Abortion\tHelping achieve repro. justice 1 step @ a time. #abfunds #love #compassion #abortionrights #nnaf \tAGAINST\n",
            "11098\tLegalization of Abortion\t@LifeSite Right, where are the pre-born women's rights? #allLivesMatter #equalRights \tFAVOR\n",
            "11099\tLegalization of Abortion\tI will fight for the unborn! \tAGAINST\n",
            "11100\tLegalization of Abortion\t@nosilentsprings And an even worse place from which to make medical decisions FOR OTHER PEOPLE #mybodymychoice #notyours #notgovt \tAGAINST\n",
            "11101\tLegalization of Abortion\t#Fiona Bruce wants a government that forces women to have children, and then refuses to financially help them. #bodyautonomy \tFAVOR\n",
            "11102\tLegalization of Abortion\t@thejournal_ie sad this is what has to be done for women in need \tFAVOR\n",
            "11103\tLegalization of Abortion\tLiberals say I need more tolerance. I say screw tolerating murder.                                #AbortionKills #ToleranceIsDeath \tAGAINST\n",
            "11104\tLegalization of Abortion\tJust been having rather horrible discussion with @Tim_Hallan - reminder that we have a long way to go. #HumanRights #healthcare \tAGAINST\n",
            "11105\tLegalization of Abortion\t@ProWomanChoice @laurawrpie @JaxLeSigh both r #human. 1e u abuse with misinformation (#women) n d other u kill by #baby \tAGAINST\n",
            "11106\tLegalization of Abortion\t@BuhayIpaglaban @laurawrpie @JaxLeSigh Like I said I'm glad this medical procedure is around so that pregnant people stay healthy. \tFAVOR\n",
            "11107\tLegalization of Abortion\t@BuhayIpaglaban @laurawrpie Every time I \"discuss\" with \"#prolife\" it reaffirms my belief that #antichoice are complete idiots. \tAGAINST\n",
            "11108\tLegalization of Abortion\tYes. Antis just don't make sense.  #WarOnWomen \tAGAINST\n",
            "11109\tLegalization of Abortion\tWomen ARE capable of making decisions \tFAVOR\n",
            "11110\tLegalization of Abortion\t@laurawrpie @ProWomanChoice d real question is. do u even research d side effects of abortion and contraceptives? #KnowYourFacts \tAGAINST\n",
            "11111\tLegalization of Abortion\t@paradiselost_17 @ArguDaz @Brainman365 @PolarVan @yetigcreature Yes, an occasional hypocrite. I support #MarriageEquaility & abhor \tNONE\n",
            "11112\tLegalization of Abortion\tOh you dont like that Im Pro-choice.  Pftt. Dont try to force me to be pro-life. Fuck off   #sorrynotsorry \tAGAINST\n",
            "11113\tLegalization of Abortion\tWatch out for censorship in your news and media! #politicalrevolution #immigration #RedNationRising #Constitution #CorruptMedia \tNONE\n",
            "11114\tLegalization of Abortion\tNot sure where I stand on God and religion.  Still, don't need to be a Christian or religious to be against abortion.  #evil \tAGAINST\n",
            "11115\tLegalization of Abortion\t#antichoice NEVER try to police men over sex, but punishing women puts  them into a frenzy. \tFAVOR\n",
            "11116\tLegalization of Abortion\tTo run outside? To run inside? \tAGAINST\n",
            "11117\tLegalization of Abortion\tAnti choice laws only effect women.  People don't care about things that don't effect men \tFAVOR\n",
            "11118\tLegalization of Abortion\tPeople with a uterus can be pro choice. People who have been pregnant can be pro choice. People who lost a child can be prochoice \tFAVOR\n",
            "11119\tLegalization of Abortion\tYou can't give the \"death penalty\" to something not living sentient or autonomous #WarOnWomen #roe42 #reprohealth \tAGAINST\n",
            "11120\tLegalization of Abortion\t@knowj @kalenjordan @benmarks @MageTalk not ashamed to say it's me. I'm not in favor of enc itself as not banning enc modules. \tNONE\n",
            "11121\tLegalization of Abortion\t@ShowTruth if they made it illegal, people would use coat hangers, and your photos would really be messed up. #letdoctorsdoit \tNONE\n",
            "11122\tLegalization of Abortion\tAbortion is genocide - I don't think you know what genocide means.  #ygk \tAGAINST\n",
            "11123\tLegalization of Abortion\tYea, let's make a woman suffer 18 years and raise a child with an unfit parent who hates it because of \"morality\". \tFAVOR\n",
            "11124\tLegalization of Abortion\tPro-life laws only effect women so anti choicers are fine with these laws because the laws are only hurting are females  \tFAVOR\n",
            "11125\tLegalization of Abortion\tAnti-choice laws are entirely men controlling women  \tFAVOR\n",
            "11126\tLegalization of Abortion\tA fetus is not living, breathing, born, sentient, or autonomous which is why the pregnant woman's choice matters more \tFAVOR\n",
            "11127\tLegalization of Abortion\tWhat about in cases of rape \tFAVOR\n",
            "11128\tLegalization of Abortion\tOnly one can have bodily autonomy \tFAVOR\n",
            "11129\tLegalization of Abortion\tAntis don't care because the only people the laws are hurting are females and they don't care about things that don't effect men \tFAVOR\n",
            "11130\tLegalization of Abortion\tLike 96% of antis don't care about breathing viable persons, and 100% care about embryos more \tAGAINST\n",
            "11131\tLegalization of Abortion\tAnti choice laws are sexist because they ignore the fact that men abandon their pregnant partners & those men face no punishment  \tFAVOR\n",
            "11132\tLegalization of Abortion\tThis is the same reason it's sexist that we don't cover women's birth control. Any issue that primarily effects women is ignored \tFAVOR\n",
            "11133\tLegalization of Abortion\tWoman's Heartbreaking Letter to Father of Baby She Aborted: \"I'm So Very Sorry - LifeNews. Please pray for the men hurt by abortion \tAGAINST\n",
            "11134\tLegalization of Abortion\t@kingstonpolice @ShowTruth \"Freedom of Expression? Does that mean that I can display pornography in public if I am against it? \tAGAINST\n",
            "11135\tLegalization of Abortion\tWe declare that all people have worth and value even if the whole world calls them \"unwanted\"! \tAGAINST\n",
            "11136\tLegalization of Abortion\tI'm kind of scared for the elderly in our country. In a few years, we'll be aborting them too. #americathesocialist \tAGAINST\n",
            "11137\tLegalization of Abortion\tFYI: Whoopi Goldberg is a feminist hero for her six abortions. #WomenAgainstFeminism \tAGAINST\n",
            "11138\tLegalization of Abortion\tObama Administration sends 5.6 million dollars to \tNONE\n",
            "11139\tLegalization of Abortion\tWhere's the most dangerous place for a child? In the hands of an ISIS terrorist? Almost. Inside their mother's womb #MiddleAmerica \tAGAINST\n",
            "11140\tLegalization of Abortion\t@ShowTruth YOU CAN'T HANDLE THE TRUTH! People will always do it no matter the laws. #letdoctorsdoit \tNONE\n",
            "11141\tLegalization of Abortion\t@XaviPereda @HillaryClinton sorry Hilary but I'm #southern and don't bleed that #rainbow #BleedRed #america #southwillriseagain \tNONE\n",
            "11142\tLegalization of Abortion\tWhy do people think it's ok to get an abortion...  What the fuck is wrong with you? What if your mom aborted you, you sick fuck! \tFAVOR\n",
            "11143\tLegalization of Abortion\t@ShowTruth Get out of my city. #ygk \tNONE\n",
            "11144\tLegalization of Abortion\t.@JessieLosch There is no such thing as a \"safe & alive\" abortion because every abortion that goes as intended leaves >= 1 dead \tAGAINST\n",
            "11145\tLegalization of Abortion\t@SenSchumer You sponsored the religious freedom bill. What is this bill that allows killing full term babies in NY? #tcot \tAGAINST\n",
            "11146\tLegalization of Abortion\t@AndySwan lol.  I don't know about that.  #schoolprayer #GovtEndorsementOfHeterosexualMarriage \tNONE\n",
            "11147\tLegalization of Abortion\t@JonathaASwift @TomAdams9999 They  are BOTH alive & human from conception Just earlier phase of life's continuum! @chooseliferacer \tAGAINST\n",
            "11148\tLegalization of Abortion\tNot your uterus, not your choice--from conception on, it really is THAT simple! #fem2gen #YesAllWomen \tAGAINST\n",
            "11149\tLegalization of Abortion\tC7German: Heaven is our Goal,  life is our conquest  #socialmedia #technology #catholic \tAGAINST\n",
            "11150\tLegalization of Abortion\t@NBCLA #SB128 isn't opposed merely b/c it's against God's will (as if we're neanderthals). It's murder. Like \tAGAINST\n",
            "11151\tLegalization of Abortion\tPro-Choice=Pro-Life. Anti-Choice=Anti-Life. Don't play righteous when you're advocating the endangerment of women. #womensrights \tFAVOR\n",
            "11152\tLegalization of Abortion\tIt is not Pro-Life if you ignore life of the pregnant woman; that includes physical/mental health.IsProLife \tFAVOR\n",
            "11153\tLegalization of Abortion\t@marcmaron @amyschumer @JuddApatow Are you a triceratops or tricerabottom? #arethosehornsyourewearing \tNONE\n",
            "11154\tLegalization of Abortion\t@paigeymadisonn: 12. something you hate.  People who don't believe abortion should be kept safe and sterile. \tAGAINST\n",
            "11155\tLegalization of Abortion\tWould you rather have women taking dangerous concoctions to induce abortions or know they are getting a safe & legal one? \tFAVOR\n",
            "11156\tLegalization of Abortion\t@Cody_Fulk92 @ntfem @brettzawesome Actually, child-murder is far worse these days. We live in more savage times. \tAGAINST\n",
            "11157\tLegalization of Abortion\t.@JohnTory since when did Toronto become a weak city? Bullied by stone-age cab companies that block traffic illegally. #TO4Uber \tNONE\n",
            "11158\tLegalization of Abortion\tI #DenounceHarper for refusing to include family planning in foreign aid even though spending $1 could save $6 #wherestheFP \tAGAINST\n",
            "11159\tLegalization of Abortion\tLooking forward to the protest today. I can't be there long but I hope my signs will. #Kingston #protesters \tNONE\n",
            "11160\tLegalization of Abortion\tOur #TruthTour continues in #CarletonPlace as we show the graphic truth of abortion 2 traffic & pedestrians! #ShowTheTruth #onpoli \tAGAINST\n",
            "11161\tLegalization of Abortion\tIt very simple .. Let women choose.. #repealthe8th #notacriminal \tFAVOR\n",
            "11162\tLegalization of Abortion\tI cannot believe there are still people in this century who opposed to women having rights over their own bodies! #disgusted \tFAVOR\n",
            "11163\tLegalization of Abortion\tSocieties that put to death the weak and vulnerable are more violent. #Nazis #streetgangs #Communists #AssistedSuicide \tAGAINST\n",
            "11164\tLegalization of Abortion\tRT @GuyForChrist: God is the author of life and nobody has the right to take it. \tAGAINST\n",
            "11165\tLegalization of Abortion\t@WomanMDsGuide I thought they wanted less unwed mommas and less abortion. #confused #tcot #feminism \tAGAINST\n",
            "11166\tLegalization of Abortion\tThe teen pregnancy rate has declined 51 percent, and the teen birth rate is down 57 percent. \tAGAINST\n",
            "11167\tLegalization of Abortion\tWe need more public funding for birth control, condoms and abortions, especially abortions. #budget2015 #Election2016 \tAGAINST\n",
            "11168\tLegalization of Abortion\tI will visit PEI when all women can get a lawful medical abortion on the island. #Cdnpoli #peipoli #womensrights \tFAVOR\n",
            "11169\tLegalization of Abortion\tPRAISE REPORT Two babies savedOne in Dallas TX&in Charlotte NC  If we put forth effort with prayer- miracle's happen  \tAGAINST\n",
            "11170\tLegalization of Abortion\t@WBCBowie NY pastors need to call their State Senators and stop this barbaric bill!istorture \tAGAINST\n",
            "11171\tLegalization of Abortion\tI support @GovMikeHuckabee because I want to see Planned Parenthood gone. \tAGAINST\n",
            "11172\tLegalization of Abortion\t@BernieSanders if men were the ones that got preganant this would be a non issue in America #Bernie2016 #WomensRights #Solidarity \tFAVOR\n",
            "11173\tLegalization of Abortion\tDEAR PROABORTS: Using BAD grammar and FILTHY language and INTIMIDATION makes you look ignorant, inept and desperate. #GodWins \tNONE\n",
            "11174\tLegalization of Abortion\tOur #TruthTour cont' in the @CityOttawa as we show the humanity of the unborn & inhumanity of abortion! #cdnpoli #Ottawa #onpoli \tAGAINST\n",
            "11175\tLegalization of Abortion\tGood thing I don't live in Kingston woulda started a riot by now with this 'pro-life' protest \tAGAINST\n",
            "11176\tLegalization of Abortion\tSo Ariana Grande hates America & Americans? She's not alone #SCOTUS #HILLARY #OBAMA #DEMOCRATS #ACLU #NAACP #HAMAS #ISIS \tNONE\n",
            "11177\tLegalization of Abortion\tWe must love our neighbor as being made in the image of God and as an object of His love. ~ Saint Vincent de Paul \tAGAINST\n",
            "11178\tLegalization of Abortion\t@micknugent What nonsense is this colleague of yours writing about?? #everylifematters \tNONE\n",
            "11179\tLegalization of Abortion\t@notmuchelse & purely physical enjoyment with no responsibility attached \tNONE\n",
            "11180\tLegalization of Abortion\t@eilistweets  Surprised? A poll sponsored by biased @AmnestyIreland was always going to give a pro-abortion result #repealthe8th \tAGAINST\n",
            "11181\tLegalization of Abortion\t@notmuchelse And accepting with love any children arising from Union of marriage or at least taking responsibility for life created \tAGAINST\n",
            "11182\tLegalization of Abortion\tLiving in a pub isnt all that good when your friends turn into alcoholics @jbrowne_94  #refresher #smurf #noonewillunderstand \tNONE\n",
            "11183\tLegalization of Abortion\tI can think of a thousand things more important than Keith Olbermann. #SanctuaryCities #IRSscandal #Benghazi #Bergdahl #USDebt \tNONE\n",
            "11184\tLegalization of Abortion\t@notmuchelse Then make sure Udon't get pregnant. And don't KILL your child if you do! You are the mom RESPONSIBLE 4child's life! \tAGAINST\n",
            "11185\tLegalization of Abortion\tWomen have outgrown the common housewife stigma long ago \tFAVOR\n",
            "11186\tLegalization of Abortion\t@djred678 : My views are my own. #AllLivesMatter #PrebornLivesMatter #AbortionIsViolence #Whyi'mNotVotingForHillary \tAGAINST\n",
            "11187\tLegalization of Abortion\tPro Choice? Just choose to kill yourself after your baby is born. \tAGAINST\n",
            "11188\tLegalization of Abortion\t@mistyaiya Just saw your review of @chadkultgen's book at Amazon. I have to say I totally agree with you. A sick marketing ploy. \tNONE\n",
            "11189\tLegalization of Abortion\tBasically this documentary is \"You kill babies so we're going to kill you\" Lol the irony of pro-lifers. #aftertiller \tAGAINST\n",
            "11190\tLegalization of Abortion\t#populationcontrol = controlling the incoming generations. that's why there's #demographicwinter  #epicfail  #philippines #rhlaw. \tNONE\n",
            "11191\tLegalization of Abortion\t@bradfischetti just wanted to say that I appreciate the pro life stance. A lot of celebrities are afraid to show a bold stance #LFO \tAGAINST\n",
            "11192\tLegalization of Abortion\t'Snarck' - a snarky hack who puts down ordinary folk who dares question their pontifical commentaries  \tAGAINST\n",
            "11193\tLegalization of Abortion\tDear America: If only a 3D ultrasound picture could evoke the same emotional response. #lifeisprecious \tAGAINST\n",
            "11194\tLegalization of Abortion\tThere weren't any volunteers outside abortion clinic when she had her abortion bcs there aren't enough of us. Can you join us? 2/2 \tAGAINST\n",
            "11195\tLegalization of Abortion\t#HDR - top set up in the Warm up area @HuddsCriterium ... Chilling and chatting with @GabzCullaigh before the racing. #Topriders \tNONE\n",
            "11196\tLegalization of Abortion\t@BuhayIpaglaban So you've blown right past the whole \"women stopped dying after RvW\" thing. #prolifelie #hashtagitall \tFAVOR\n",
            "11197\tLegalization of Abortion\t@GBPstaff 1999 Meet the Press admitted to being Very Pro-Choice even with late term & Partial Birth Abortions.  He's sick!  \tAGAINST\n",
            "11198\tLegalization of Abortion\tFor great is thy mercy toward me; & thou hast delivered my soul from an evil place. Amen #Christian \tAGAINST\n",
            "11199\tLegalization of Abortion\t@notmuchelse It is no less your child before or after birth. One continuum of life. \tAGAINST\n",
            "11200\tLegalization of Abortion\tThese dems' lack of compassion for unborn babies who receive prenatal diagnoses is appalling #theyfeelpain \tAGAINST\n",
            "11201\tLegalization of Abortion\tPRAYERS FOR BABIES Three babies in urgent need of prayer and intervention in Dallas TX  And another in Montgomery AL  \tAGAINST\n",
            "11202\tLegalization of Abortion\t@notmuchelse NO new human individual formed at conception! Full complement of human chromosomes unique individual DNA and alive. \tAGAINST\n",
            "11203\tLegalization of Abortion\tFYI: Unborn babies diagnosed with a disability in the womb can feel pain just as much as a baby without a diagnosis #theyfeelpain \tAGAINST\n",
            "11204\tLegalization of Abortion\t,@CoraSherlock When is Ms C case you've been promising happening? When'll a court be asked adjudicate her claims? #repealthe8th \tAGAINST\n",
            "11205\tLegalization of Abortion\tasked a protester-u'll fund the moms?Yes-So #announced it in DT #hamont-yo ppl #NoAbortion=these ppl wth picz will pay 4yo' kids \tAGAINST\n",
            "11206\tLegalization of Abortion\tCongrats to my friends at @SBAList and @WRTL for their commitment in getting Pain-Capable Act passed. #wiright #theyfeelpain \tAGAINST\n",
            "11207\tLegalization of Abortion\tHow can someone be calling for abortion in a speech and end it with \"God bless America\"? #righttolife \tAGAINST\n",
            "11208\tLegalization of Abortion\t@HillaryClinton #gop as whole party has backwards ideas on #immigration #votingrights #womensright #civilrights. #healthcare #dapa \tFAVOR\n",
            "11209\tLegalization of Abortion\t@irritatedwoman I don't know about you, but I didn't vote for the GOP to capitulate to the Dems. #AllLivesMatter \tNONE\n",
            "11210\tLegalization of Abortion\tWas at the planned parenthood protest in #fitchburg today with the image of Our Lady of America #catholic \tAGAINST\n",
            "11211\tLegalization of Abortion\t@notmuchelse Don't get pregnant! Make sure you don't get pregnant if you'd just kill your child if you do! @chooseliferacer \tAGAINST\n",
            "11212\tLegalization of Abortion\tI am Nazi Holocaust survivor and I say that Abortion is America's Holocaust! -Sibylle Heidrich von Campe #holocaust \tAGAINST\n",
            "11213\tLegalization of Abortion\t@FeministSpag @1310edhand @1310news we do care about the hurt inflicted upon preborn children through #abortion. #TruthTour #Ottawa \tAGAINST\n",
            "11214\tLegalization of Abortion\t@JaxLeSigh Evidence proves that morbidity & mortality rates of legal abortion r a lot higher dan carrying pregnancy 2 term #teens \tAGAINST\n",
            "11215\tLegalization of Abortion\tRT DavidHarris707: MathewsJeanne Thank you 4 your very #kind RT. God Bless You #Patriot. #babies matter \tAGAINST\n",
            "11216\tLegalization of Abortion\tMathewsJeanne Thank you 4 your very #kind RT. God Bless You #Patriot. #babies matter \tAGAINST\n",
            "11217\tLegalization of Abortion\tLord Jesus,Touch my life with your saving power, heal and restore me to      fullnessof life. \tAGAINST\n",
            "11218\tLegalization of Abortion\tI'm against abortion, gay marriage, AND Donald Trump for President. #gaymarriage #DonaldTrump \tAGAINST\n",
            "11219\tLegalization of Abortion\tHail (Mary), full of grace! The Lord is with you. (Luke 1:28) \tAGAINST\n",
            "11220\tLegalization of Abortion\tyou can't say you support women's rights but be against abortion \tFAVOR\n",
            "11221\tLegalization of Abortion\tNatural family planning isn't \"planning\" at all since it just doesn't work. \tFAVOR\n",
            "11222\tLegalization of Abortion\tRT @RandForeman: It's so easy to be Pro-Choice, especially when you're not the one getting your skull crushed. \tAGAINST\n",
            "11223\tLegalization of Abortion\t#ChildrensCentre's in the #UK have stay & play sessions for very young / single parents  #childcare #parenting \tAGAINST\n",
            "11224\tLegalization of Abortion\t@LibertyBleeds every one in Congress should attend an abortion procedure especially partial birth that they VOTE FOR #ccot #tcot \tAGAINST\n",
            "11225\tLegalization of Abortion\t@RickSantorum: I don't *believe* life begins at conception--I *know* life begins at conception. #nrlc2015 \tAGAINST\n",
            "11226\tLegalization of Abortion\tBefore I formed you in the womb I knew you, before you were born I set you apart - Jeremiah 1:5 #Godislove #youareloved \tAGAINST\n",
            "11227\tLegalization of Abortion\tSo the #Democrats tore down their OWN #ConfederateFlag NOW if they get rid of THEIR #KKK #blackpanthers #alsharpton #hate \tNONE\n",
            "11228\tLegalization of Abortion\t@DaRealMonieLove or these dumb anti-abortion #showthetruth assholes who sit on Canadian streets with inaccurate disturbing pics! \tAGAINST\n",
            "11229\tLegalization of Abortion\tI was an accidental baby and as far as I know, my parents were happy to have me. #thanksmom \tAGAINST\n",
            "11230\tLegalization of Abortion\tFallopians 3:16 \"Not your fuckin' pregnancy - not your fuckin' business!\"  \tAGAINST\n",
            "11231\tLegalization of Abortion\tBabies are humans to support the prolife movement \tAGAINST\n",
            "11232\tLegalization of Abortion\t@ShowTruth You're truly unwelcome here. Please leave.  #ygk \tNONE\n",
            "11233\tLegalization of Abortion\tBeing a Democrat is never having to say you're sorry... #Slavery #Segregation #KKK \tNONE\n",
            "11234\tLegalization of Abortion\t@ubiquity75 @Aaron_Hamm well said. Men are playing political football with women's right to have control over our bodies. #fail \tFAVOR\n",
            "11235\tLegalization of Abortion\t@toby_dorena Pregnant people have more than heartbeats. They have feelings, and the ability to make decisions about their health. \tFAVOR\n",
            "11236\tLegalization of Abortion\t@FactsVsOpinion these poor souls won't be anything in the future @PPact encouraged women to murder babies. #BlackLivesMatter \tAGAINST\n",
            "11237\tLegalization of Abortion\tIn Turkey at ze momento, just got internet and started reading @BarrettWeed 's tweets, literally just KILLING IT!!  \tNONE\n",
            "11238\tLegalization of Abortion\t@JujuChangABC abortions should never be illegal. It should be the pregnant person's choice. Especially if that person was rape \tAGAINST\n",
            "11239\tLegalization of Abortion\t@laurawrpie protect them by informing #HIV s acquired by having sex even wen using #condoms HIGH #RISK of acquiring it #teens \tAGAINST\n",
            "11240\tLegalization of Abortion\t@laurawrpie what do u call #teens hu got #pregnant even while ingesting contraceptives? success? Can a chaste girl get pregnant? \tFAVOR\n",
            "11241\tLegalization of Abortion\t@DrottM I'm curious Mary are you a meat eater and an animal hide wearer? \tNONE\n",
            "11242\tLegalization of Abortion\t@gaz_dance I'm good like this. I've always been \tNONE\n",
            "11243\tLegalization of Abortion\tThe beauty of the morning seems ruined knowing abortion clinics open soon. Another day of 900+ lives lost to @PPact & friends.      \tFAVOR\n",
            "11244\tLegalization of Abortion\t@cbrangel so, you support the choice of wether or not you'd like to kill someone? Would you kill a born baby? \tAGAINST\n",
            "11245\tLegalization of Abortion\t@MetalheadMonty @tom_six I followed him before I watched human centipede 3.....i now hope never makes another film again \tNONE\n",
            "11246\tLegalization of Abortion\tFor he who avenges blood remembers, he does not ignore the cry of the afflicted. ~ Ps 9:12 #comequicklyLordJesus \tAGAINST\n",
            "11247\tLegalization of Abortion\tLife is sacred on all levels. Abortion does not compute with my philosophy. Kate Mulgrew @TheKateMulgrew (Red on #OITNB ) \tAGAINST\n",
            "11248\tLegalization of Abortion\t@ravensymone U refer to \"WE\" which =\"YOU\" & a minority of idiots who support #suicide #murder  #death #iLLegalAliens #RavenSymone \tAGAINST\n",
            "11249\tLegalization of Abortion\tAl Robertson's mom #DuckDynasty  chose life as an unwed 16 year old. \tAGAINST\n"
          ],
          "name": "stdout"
        }
      ]
    }
  ]
}